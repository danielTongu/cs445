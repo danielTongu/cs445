{
 "cells": [
  {
   "cell_type": "markdown",
   "id": "31d23bf7",
   "metadata": {},
   "source": [
    "# World Happiness\n",
    "**Team:** Data Optimists  \n",
    "**Dataset:** Kaggle World Happiness Report 2021  \n",
    "**Source:** https://www.kaggle.com/ajaypalsinghlo/world-happiness-report-2021\n",
    "\n",
    "\n",
    "\n",
    "--------------\n",
    "### Introduction and Data loading\n",
    "\n",
    "--------------\n",
    "\n",
    "The **World Happiness Report** is a landmark survey of the state of global happiness, ranking countries by how happy their citizens perceive themselves to be.\n",
    "\n",
    "Drawing on data from the Gallup World Poll and other sources, the report evaluates well-being using a variety of social, economic, and health-related factors, including GDP per capita, social support, healthy life expectancy, freedom, generosity, and perceptions of corruption.\n",
    "\n",
    "We chose this dataset because it provides a unique, multidimensional view of human well-being across the globe. \n",
    "Unlike traditional economic or health datasets, the World Happiness Report integrates subjective measures of life satisfaction with objective indicators, offering a holistic perspective on what drives happiness at both the individual and societal levels. \n",
    "\n",
    "Its annual publication and global coverage make it a rich resource for exploring trends, disparities, and the impact of policy and culture on quality of life.\n",
    "\n",
    "Analyzing this data is significant for several reasons:\n",
    "\n",
    "- **Policy Insights:** Understanding the drivers of happiness can inform better policy decisions, targeting not just economic growth but also social cohesion, health, and governance.\n",
    "- **Global Comparisons:** The dataset enables meaningful comparisons between countries and regions, highlighting best practices and areas for improvement.\n",
    "- **Temporal Trends:** With data spanning multiple years, we can examine how happiness evolves over time and in response to global events.\n",
    "- **Interdisciplinary Value:** The report bridges economics, psychology, sociology, and public health, making it valuable for a wide range of research and practical applications.\n",
    "\n",
    "By visualizing and analyzing this dataset, we aim to uncover patterns and insights that can contribute to a deeper understanding of well-being worldwide, and inspire data-driven approaches to improving happiness at scale."
   ]
  },
  {
   "cell_type": "code",
   "execution_count": 89,
   "id": "490fb5a9",
   "metadata": {},
   "outputs": [],
   "source": [
    "import pandas as pd\n",
    "import numpy as np\n",
    "import plotly.express as px\n",
    "import plotly.graph_objects as go\n",
    "from sklearn.cluster import DBSCAN\n",
    "from sklearn.linear_model import LinearRegression\n",
    "from math import pi\n",
    "import zipfile\n",
    "import warnings\n",
    "\n",
    "warnings.filterwarnings('ignore')\n",
    "\n",
    "\n",
    "\n",
    "# Define global font configuration\n",
    "import plotly.io as pio\n",
    "pio.templates[\"custom\"] = pio.templates[\"plotly\"].update(\n",
    "    layout={\n",
    "        \"font\": {\n",
    "            \"family\": \"Times New Roman\",\n",
    "            \"size\": 14\n",
    "        }\n",
    "    }\n",
    ")\n",
    "\n",
    "# Apply this template globally\n",
    "pio.templates.default = \"custom\"\n",
    "\n",
    "# ==================== DATA LOADING & PREPARATION ====================\n",
    "\n",
    "# Load datasets\n",
    "with zipfile.ZipFile('world-happiness-report.zip') as z:\n",
    "    with z.open('world-happiness-report/world-happiness-report.csv') as f:\n",
    "        df_all = pd.read_csv(f)\n",
    "    with z.open('world-happiness-report/world-happiness-report-2021.csv') as g:\n",
    "         df_2021 = pd.read_csv(g)\n",
    "\n",
    "# Standardize column names\n",
    "df_2021.columns = df_2021.columns.str.lower().str.replace(' ', '_')\n",
    "df_all.columns = df_all.columns.str.lower().str.replace(' ', '_')\n",
    "\n",
    "# Column mapping for consistency\n",
    "column_mapping = {\n",
    "    'country_name': 'country',\n",
    "    'life_ladder': 'happiness_score',\n",
    "    'ladder_score': 'happiness_score',\n",
    "    'regional_indicator': 'region'\n",
    "}\n",
    "\n",
    "df_2021.rename(columns=column_mapping, inplace=True)\n",
    "df_all.rename(columns=column_mapping, inplace=True)\n",
    "\n",
    "# Find GDP column (handles different naming conventions)\n",
    "gdp_col = None\n",
    "for col in df_2021.columns:\n",
    "    if 'gdp' in col.lower() and 'capita' in col.lower():\n",
    "        gdp_col = col\n",
    "        df_2021.rename(columns={col: 'gdp_per_capita'}, inplace=True)\n",
    "        break\n",
    "\n",
    "# Merge regional data\n",
    "region_map = df_2021[[\"country\", \"region\"]].drop_duplicates()\n",
    "df_all = df_all.merge(region_map, on=\"country\", how=\"left\")"
   ]
  },
  {
   "cell_type": "code",
   "execution_count": 90,
   "id": "284eca4c",
   "metadata": {},
   "outputs": [
    {
     "data": {
      "text/html": [
       "<div>\n",
       "<style scoped>\n",
       "    .dataframe tbody tr th:only-of-type {\n",
       "        vertical-align: middle;\n",
       "    }\n",
       "\n",
       "    .dataframe tbody tr th {\n",
       "        vertical-align: top;\n",
       "    }\n",
       "\n",
       "    .dataframe thead th {\n",
       "        text-align: right;\n",
       "    }\n",
       "</style>\n",
       "<table border=\"1\" class=\"dataframe\">\n",
       "  <thead>\n",
       "    <tr style=\"text-align: right;\">\n",
       "      <th></th>\n",
       "      <th>country</th>\n",
       "      <th>region</th>\n",
       "      <th>happiness_score</th>\n",
       "      <th>gdp_per_capita</th>\n",
       "      <th>social_support</th>\n",
       "      <th>healthy_life_expectancy</th>\n",
       "    </tr>\n",
       "  </thead>\n",
       "  <tbody>\n",
       "    <tr>\n",
       "      <th>0</th>\n",
       "      <td>Finland</td>\n",
       "      <td>Western Europe</td>\n",
       "      <td>7.842</td>\n",
       "      <td>10.775</td>\n",
       "      <td>0.954</td>\n",
       "      <td>72.0</td>\n",
       "    </tr>\n",
       "    <tr>\n",
       "      <th>1</th>\n",
       "      <td>Denmark</td>\n",
       "      <td>Western Europe</td>\n",
       "      <td>7.620</td>\n",
       "      <td>10.933</td>\n",
       "      <td>0.954</td>\n",
       "      <td>72.7</td>\n",
       "    </tr>\n",
       "    <tr>\n",
       "      <th>2</th>\n",
       "      <td>Switzerland</td>\n",
       "      <td>Western Europe</td>\n",
       "      <td>7.571</td>\n",
       "      <td>11.117</td>\n",
       "      <td>0.942</td>\n",
       "      <td>74.4</td>\n",
       "    </tr>\n",
       "    <tr>\n",
       "      <th>3</th>\n",
       "      <td>Iceland</td>\n",
       "      <td>Western Europe</td>\n",
       "      <td>7.554</td>\n",
       "      <td>10.878</td>\n",
       "      <td>0.983</td>\n",
       "      <td>73.0</td>\n",
       "    </tr>\n",
       "    <tr>\n",
       "      <th>4</th>\n",
       "      <td>Netherlands</td>\n",
       "      <td>Western Europe</td>\n",
       "      <td>7.464</td>\n",
       "      <td>10.932</td>\n",
       "      <td>0.942</td>\n",
       "      <td>72.4</td>\n",
       "    </tr>\n",
       "  </tbody>\n",
       "</table>\n",
       "</div>"
      ],
      "text/plain": [
       "       country          region  happiness_score  gdp_per_capita  \\\n",
       "0      Finland  Western Europe            7.842          10.775   \n",
       "1      Denmark  Western Europe            7.620          10.933   \n",
       "2  Switzerland  Western Europe            7.571          11.117   \n",
       "3      Iceland  Western Europe            7.554          10.878   \n",
       "4  Netherlands  Western Europe            7.464          10.932   \n",
       "\n",
       "   social_support  healthy_life_expectancy  \n",
       "0           0.954                     72.0  \n",
       "1           0.954                     72.7  \n",
       "2           0.942                     74.4  \n",
       "3           0.983                     73.0  \n",
       "4           0.942                     72.4  "
      ]
     },
     "execution_count": 90,
     "metadata": {},
     "output_type": "execute_result"
    }
   ],
   "source": [
    "# Display a preview of sample columns from df_2021\n",
    "sample_columns = [\"country\", \"region\", \"happiness_score\", \"gdp_per_capita\", \"social_support\", \"healthy_life_expectancy\"]\n",
    "df_2021[sample_columns].head()"
   ]
  },
  {
   "cell_type": "markdown",
   "id": "05f68778",
   "metadata": {},
   "source": [
    "#### Creating Income Tiers Based on GDP per Capita\n",
    "\n",
    "- To enable richer analysis and visualization, we categorize each country into an \"income tier\" based on its GDP per capita. \n",
    "\n",
    "- This allows us to compare happiness and other factors across economic strata, not just by country or region. \n",
    "\n",
    "- We use quantile-based binning (`qcut`) to divide countries into four groups: Low, Medium, High, and Very High income. \n",
    "\n",
    "- This approach ensures each tier contains a roughly equal number of countries, making comparisons fair and meaningful.\n",
    "\n",
    "- If there are too few valid GDP values or an error occurs, we fall back to manual quantile binning.\n"
   ]
  },
  {
   "cell_type": "code",
   "execution_count": 91,
   "id": "72e53ff9",
   "metadata": {},
   "outputs": [
    {
     "name": "stdout",
     "output_type": "stream",
     "text": [
      "Income tiers successfully created!\n"
     ]
    }
   ],
   "source": [
    "# ==================== INCOME TIER ====================\n",
    "\n",
    "if 'gdp_per_capita' in df_2021.columns:\n",
    "    try:\n",
    "        # Convert to numeric and clean\n",
    "        gdp_clean = pd.to_numeric(df_2021['gdp_per_capita'], errors='coerce').dropna()\n",
    "        \n",
    "        if len(gdp_clean) >= 4:\n",
    "            # Convert to basic Python list (always 1D)\n",
    "            gdp_data = gdp_clean.tolist()\n",
    "            \n",
    "            # Perform qcut with absolute 1D guarantee\n",
    "            tiers = pd.qcut(\n",
    "                gdp_data,\n",
    "                q=4,\n",
    "                labels=['Low', 'Medium', 'High', 'Very High'],\n",
    "                duplicates='drop'\n",
    "            )\n",
    "            \n",
    "            # Assign back to dataframe\n",
    "            df_2021['income_tier'] = pd.Series(tiers, index=gdp_clean.index)\n",
    "            print(\"Income tiers successfully created!\")\n",
    "        else:\n",
    "            print(f\"Warning: Only {len(gdp_clean)} valid GDP values (need ≥4)\")\n",
    "    except Exception as e:\n",
    "        print(f\"Income tier fallback: Using manual quantiles\")\n",
    "        quantiles = gdp_clean.quantile([0, 0.25, 0.5, 0.75, 1.0])\n",
    "        df_2021['income_tier'] = pd.cut(\n",
    "            df_2021['gdp_per_capita'],\n",
    "            bins=quantiles,\n",
    "            labels=['Low', 'Medium', 'High', 'Very High'],\n",
    "            include_lowest=True\n",
    "        )"
   ]
  },
  {
   "cell_type": "markdown",
   "id": "e4cd9431",
   "metadata": {},
   "source": [
    "---------\n",
    "# Overview\n",
    "\n",
    "---------"
   ]
  },
  {
   "cell_type": "markdown",
   "id": "543e1e8f",
   "metadata": {},
   "source": [
    "This section provides a high-level summary of the World Happiness Report dataset and the analytical approach used in this notebook. Here, we introduce the main variables, describe the structure of the data, and outline the key steps taken to prepare it for analysis.\n",
    "\n",
    "- **Dataset:** The World Happiness Report combines survey-based happiness scores with a range of economic, social, and health indicators for countries worldwide.\n",
    "- **Key Variables:** Includes happiness score, GDP per capita, social support, healthy life expectancy, freedom to make life choices, generosity, and perceptions of corruption.\n",
    "- **Data Preparation:** The data was cleaned, standardized, and merged to ensure consistency across years and regions. Countries were also categorized into income tiers for deeper analysis.\n",
    "- **Purpose:** This overview sets the stage for exploring global happiness patterns, regional differences, and the factors that drive well-being across the world."
   ]
  },
  {
   "cell_type": "code",
   "execution_count": 92,
   "id": "8da0336f",
   "metadata": {},
   "outputs": [
    {
     "data": {
      "application/vnd.plotly.v1+json": {
       "config": {
        "plotlyServerURL": "https://plot.ly"
       },
       "data": [
        {
         "coloraxis": "coloraxis",
         "geo": "geo",
         "hovertemplate": "year=2008<br>country=%{location}<br>happiness_score=%{z}<extra></extra>",
         "locationmode": "country names",
         "locations": [
          "Afghanistan",
          "Argentina",
          "Armenia",
          "Australia",
          "Austria",
          "Azerbaijan",
          "Bangladesh",
          "Belarus",
          "Belgium",
          "Benin",
          "Bolivia",
          "Botswana",
          "Brazil",
          "Burkina Faso",
          "Burundi",
          "Cambodia",
          "Cameroon",
          "Canada",
          "Chad",
          "Chile",
          "China",
          "Colombia",
          "Congo (Brazzaville)",
          "Costa Rica",
          "Denmark",
          "Djibouti",
          "Dominican Republic",
          "Ecuador",
          "Egypt",
          "El Salvador",
          "Estonia",
          "Finland",
          "France",
          "Georgia",
          "Germany",
          "Ghana",
          "Guatemala",
          "Haiti",
          "Honduras",
          "Hong Kong S.A.R. of China",
          "Iceland",
          "India",
          "Indonesia",
          "Iran",
          "Iraq",
          "Ireland",
          "Israel",
          "Italy",
          "Japan",
          "Jordan",
          "Kazakhstan",
          "Kenya",
          "Kosovo",
          "Kyrgyzstan",
          "Laos",
          "Latvia",
          "Lebanon",
          "Liberia",
          "Lithuania",
          "Madagascar",
          "Malaysia",
          "Mali",
          "Mauritania",
          "Mexico",
          "Moldova",
          "Mongolia",
          "Mozambique",
          "Nepal",
          "Netherlands",
          "New Zealand",
          "Nicaragua",
          "Niger",
          "Nigeria",
          "Norway",
          "Pakistan",
          "Palestinian Territories",
          "Panama",
          "Paraguay",
          "Peru",
          "Philippines",
          "Portugal",
          "Russia",
          "Rwanda",
          "Saudi Arabia",
          "Senegal",
          "Sierra Leone",
          "Singapore",
          "South Africa",
          "South Korea",
          "Spain",
          "Sri Lanka",
          "Sweden",
          "Syria",
          "Taiwan Province of China",
          "Tajikistan",
          "Tanzania",
          "Thailand",
          "Togo",
          "Trinidad and Tobago",
          "Turkey",
          "Uganda",
          "Ukraine",
          "United Kingdom",
          "United States",
          "Uruguay",
          "Uzbekistan",
          "Venezuela",
          "Vietnam",
          "Zambia",
          "Zimbabwe"
         ],
         "name": "",
         "type": "choropleth",
         "z": [
          3.724,
          5.961,
          4.652,
          7.254,
          7.181,
          4.817,
          5.052,
          5.463,
          7.117,
          3.667,
          5.298,
          5.451,
          6.691,
          3.846,
          3.563,
          4.462,
          4.292,
          7.486,
          4.632,
          5.789,
          4.846,
          6.168,
          3.82,
          6.851,
          7.971,
          5.009,
          4.842,
          5.297,
          4.632,
          5.191,
          5.452,
          7.671,
          7.008,
          4.156,
          6.522,
          4.965,
          6.414,
          3.846,
          5.42,
          5.137,
          6.888,
          5.146,
          4.815,
          5.129,
          4.59,
          7.568,
          7.261,
          6.78,
          5.911,
          4.93,
          5.886,
          4.015,
          5.522,
          4.737,
          5.044,
          5.145,
          4.595,
          4.221,
          5.554,
          4.64,
          5.807,
          4.115,
          4.248,
          6.829,
          5.503,
          4.493,
          4.654,
          4.441,
          7.631,
          7.381,
          5.104,
          4.236,
          4.939,
          7.632,
          4.414,
          4.386,
          6.931,
          5.57,
          5.129,
          4.589,
          5.717,
          5.619,
          4.363,
          6.811,
          4.683,
          2.997,
          6.642,
          5.346,
          5.39,
          7.294,
          4.431,
          7.516,
          5.323,
          5.548,
          5.064,
          4.385,
          5.636,
          2.808,
          6.696,
          5.118,
          4.569,
          5.172,
          6.986,
          7.28,
          5.664,
          5.311,
          6.258,
          5.48,
          4.73,
          3.174
         ]
        }
       ],
       "frames": [
        {
         "data": [
          {
           "coloraxis": "coloraxis",
           "geo": "geo",
           "hovertemplate": "year=2008<br>country=%{location}<br>happiness_score=%{z}<extra></extra>",
           "locationmode": "country names",
           "locations": [
            "Afghanistan",
            "Argentina",
            "Armenia",
            "Australia",
            "Austria",
            "Azerbaijan",
            "Bangladesh",
            "Belarus",
            "Belgium",
            "Benin",
            "Bolivia",
            "Botswana",
            "Brazil",
            "Burkina Faso",
            "Burundi",
            "Cambodia",
            "Cameroon",
            "Canada",
            "Chad",
            "Chile",
            "China",
            "Colombia",
            "Congo (Brazzaville)",
            "Costa Rica",
            "Denmark",
            "Djibouti",
            "Dominican Republic",
            "Ecuador",
            "Egypt",
            "El Salvador",
            "Estonia",
            "Finland",
            "France",
            "Georgia",
            "Germany",
            "Ghana",
            "Guatemala",
            "Haiti",
            "Honduras",
            "Hong Kong S.A.R. of China",
            "Iceland",
            "India",
            "Indonesia",
            "Iran",
            "Iraq",
            "Ireland",
            "Israel",
            "Italy",
            "Japan",
            "Jordan",
            "Kazakhstan",
            "Kenya",
            "Kosovo",
            "Kyrgyzstan",
            "Laos",
            "Latvia",
            "Lebanon",
            "Liberia",
            "Lithuania",
            "Madagascar",
            "Malaysia",
            "Mali",
            "Mauritania",
            "Mexico",
            "Moldova",
            "Mongolia",
            "Mozambique",
            "Nepal",
            "Netherlands",
            "New Zealand",
            "Nicaragua",
            "Niger",
            "Nigeria",
            "Norway",
            "Pakistan",
            "Palestinian Territories",
            "Panama",
            "Paraguay",
            "Peru",
            "Philippines",
            "Portugal",
            "Russia",
            "Rwanda",
            "Saudi Arabia",
            "Senegal",
            "Sierra Leone",
            "Singapore",
            "South Africa",
            "South Korea",
            "Spain",
            "Sri Lanka",
            "Sweden",
            "Syria",
            "Taiwan Province of China",
            "Tajikistan",
            "Tanzania",
            "Thailand",
            "Togo",
            "Trinidad and Tobago",
            "Turkey",
            "Uganda",
            "Ukraine",
            "United Kingdom",
            "United States",
            "Uruguay",
            "Uzbekistan",
            "Venezuela",
            "Vietnam",
            "Zambia",
            "Zimbabwe"
           ],
           "name": "",
           "type": "choropleth",
           "z": [
            3.724,
            5.961,
            4.652,
            7.254,
            7.181,
            4.817,
            5.052,
            5.463,
            7.117,
            3.667,
            5.298,
            5.451,
            6.691,
            3.846,
            3.563,
            4.462,
            4.292,
            7.486,
            4.632,
            5.789,
            4.846,
            6.168,
            3.82,
            6.851,
            7.971,
            5.009,
            4.842,
            5.297,
            4.632,
            5.191,
            5.452,
            7.671,
            7.008,
            4.156,
            6.522,
            4.965,
            6.414,
            3.846,
            5.42,
            5.137,
            6.888,
            5.146,
            4.815,
            5.129,
            4.59,
            7.568,
            7.261,
            6.78,
            5.911,
            4.93,
            5.886,
            4.015,
            5.522,
            4.737,
            5.044,
            5.145,
            4.595,
            4.221,
            5.554,
            4.64,
            5.807,
            4.115,
            4.248,
            6.829,
            5.503,
            4.493,
            4.654,
            4.441,
            7.631,
            7.381,
            5.104,
            4.236,
            4.939,
            7.632,
            4.414,
            4.386,
            6.931,
            5.57,
            5.129,
            4.589,
            5.717,
            5.619,
            4.363,
            6.811,
            4.683,
            2.997,
            6.642,
            5.346,
            5.39,
            7.294,
            4.431,
            7.516,
            5.323,
            5.548,
            5.064,
            4.385,
            5.636,
            2.808,
            6.696,
            5.118,
            4.569,
            5.172,
            6.986,
            7.28,
            5.664,
            5.311,
            6.258,
            5.48,
            4.73,
            3.174
           ]
          }
         ],
         "name": "2008"
        },
        {
         "data": [
          {
           "coloraxis": "coloraxis",
           "geo": "geo",
           "hovertemplate": "year=2009<br>country=%{location}<br>happiness_score=%{z}<extra></extra>",
           "locationmode": "country names",
           "locations": [
            "Afghanistan",
            "Albania",
            "Argentina",
            "Armenia",
            "Azerbaijan",
            "Bahrain",
            "Bangladesh",
            "Belarus",
            "Bolivia",
            "Bosnia and Herzegovina",
            "Brazil",
            "Burundi",
            "Cambodia",
            "Cameroon",
            "Canada",
            "Chad",
            "Chile",
            "China",
            "Colombia",
            "Comoros",
            "Congo (Kinshasa)",
            "Costa Rica",
            "Croatia",
            "Cyprus",
            "Denmark",
            "Djibouti",
            "Dominican Republic",
            "Ecuador",
            "Egypt",
            "El Salvador",
            "Estonia",
            "France",
            "Georgia",
            "Germany",
            "Ghana",
            "Greece",
            "Guatemala",
            "Honduras",
            "Hong Kong S.A.R. of China",
            "Hungary",
            "India",
            "Indonesia",
            "Iraq",
            "Ireland",
            "Israel",
            "Italy",
            "Ivory Coast",
            "Japan",
            "Jordan",
            "Kazakhstan",
            "Kenya",
            "Kosovo",
            "Kuwait",
            "Kyrgyzstan",
            "Latvia",
            "Lebanon",
            "Lithuania",
            "Luxembourg",
            "Malawi",
            "Malaysia",
            "Mali",
            "Malta",
            "Mauritania",
            "Mexico",
            "Moldova",
            "Montenegro",
            "Nepal",
            "Nicaragua",
            "Niger",
            "Nigeria",
            "North Macedonia",
            "Pakistan",
            "Palestinian Territories",
            "Panama",
            "Paraguay",
            "Peru",
            "Philippines",
            "Poland",
            "Qatar",
            "Romania",
            "Russia",
            "Rwanda",
            "Saudi Arabia",
            "Senegal",
            "Serbia",
            "Singapore",
            "Slovenia",
            "Somaliland region",
            "South Africa",
            "South Korea",
            "Spain",
            "Sri Lanka",
            "Sudan",
            "Sweden",
            "Switzerland",
            "Syria",
            "Tajikistan",
            "Tanzania",
            "Thailand",
            "Tunisia",
            "Turkey",
            "Turkmenistan",
            "Uganda",
            "Ukraine",
            "United Arab Emirates",
            "United Kingdom",
            "United States",
            "Uruguay",
            "Uzbekistan",
            "Venezuela",
            "Vietnam",
            "Yemen",
            "Zambia",
            "Zimbabwe"
           ],
           "name": "",
           "type": "choropleth",
           "z": [
            4.402,
            5.485,
            6.424,
            4.178,
            4.574,
            5.701,
            5.083,
            5.564,
            6.086,
            4.963,
            7.001,
            3.792,
            4.111,
            4.741,
            7.488,
            3.639,
            6.494,
            4.454,
            6.272,
            3.476,
            3.984,
            7.615,
            5.433,
            6.833,
            7.683,
            4.906,
            5.432,
            6.022,
            5.066,
            6.839,
            5.138,
            6.283,
            3.801,
            6.641,
            4.198,
            6.039,
            6.452,
            6.033,
            5.397,
            4.895,
            4.522,
            5.472,
            4.775,
            7.046,
            7.353,
            6.334,
            4.197,
            5.845,
            6,
            5.383,
            4.27,
            5.891,
            6.585,
            5.069,
            4.669,
            5.206,
            5.467,
            6.958,
            5.148,
            5.385,
            3.977,
            6.328,
            4.5,
            6.963,
            5.554,
            4.801,
            4.917,
            5.353,
            4.267,
            4.98,
            4.428,
            5.208,
            4.47,
            7.034,
            5.576,
            5.519,
            4.88,
            5.772,
            6.418,
            5.368,
            5.158,
            4.03,
            6.148,
            4.335,
            4.38,
            6.145,
            5.83,
            4.991,
            5.218,
            5.648,
            6.199,
            4.212,
            4.455,
            7.266,
            7.525,
            4.979,
            4.575,
            3.408,
            5.476,
            5.025,
            5.213,
            6.568,
            4.612,
            5.166,
            6.866,
            6.907,
            7.158,
            6.296,
            5.261,
            7.189,
            5.304,
            4.809,
            5.26,
            4.056
           ]
          }
         ],
         "name": "2009"
        },
        {
         "data": [
          {
           "coloraxis": "coloraxis",
           "geo": "geo",
           "hovertemplate": "year=2010<br>country=%{location}<br>happiness_score=%{z}<extra></extra>",
           "locationmode": "country names",
           "locations": [
            "Afghanistan",
            "Albania",
            "Algeria",
            "Argentina",
            "Armenia",
            "Australia",
            "Austria",
            "Azerbaijan",
            "Bahrain",
            "Bangladesh",
            "Belarus",
            "Belgium",
            "Bolivia",
            "Bosnia and Herzegovina",
            "Botswana",
            "Brazil",
            "Bulgaria",
            "Burkina Faso",
            "Cambodia",
            "Cameroon",
            "Canada",
            "Central African Republic",
            "Chad",
            "Chile",
            "China",
            "Colombia",
            "Comoros",
            "Costa Rica",
            "Croatia",
            "Cyprus",
            "Czech Republic",
            "Denmark",
            "Djibouti",
            "Dominican Republic",
            "Ecuador",
            "Egypt",
            "El Salvador",
            "Finland",
            "France",
            "Georgia",
            "Germany",
            "Ghana",
            "Greece",
            "Guatemala",
            "Haiti",
            "Honduras",
            "Hong Kong S.A.R. of China",
            "Hungary",
            "India",
            "Indonesia",
            "Iraq",
            "Ireland",
            "Israel",
            "Italy",
            "Japan",
            "Jordan",
            "Kazakhstan",
            "Kenya",
            "Kosovo",
            "Kuwait",
            "Kyrgyzstan",
            "Lebanon",
            "Liberia",
            "Lithuania",
            "Luxembourg",
            "Malaysia",
            "Mali",
            "Malta",
            "Mauritania",
            "Mexico",
            "Moldova",
            "Mongolia",
            "Montenegro",
            "Morocco",
            "Nepal",
            "Netherlands",
            "New Zealand",
            "Nicaragua",
            "Niger",
            "Nigeria",
            "North Macedonia",
            "Pakistan",
            "Palestinian Territories",
            "Panama",
            "Paraguay",
            "Peru",
            "Philippines",
            "Poland",
            "Portugal",
            "Qatar",
            "Romania",
            "Russia",
            "Saudi Arabia",
            "Senegal",
            "Serbia",
            "Sierra Leone",
            "Singapore",
            "Slovakia",
            "Slovenia",
            "Somaliland region",
            "South Africa",
            "South Korea",
            "Spain",
            "Sri Lanka",
            "Sudan",
            "Sweden",
            "Syria",
            "Taiwan Province of China",
            "Tajikistan",
            "Tanzania",
            "Thailand",
            "Tunisia",
            "Turkey",
            "Uganda",
            "Ukraine",
            "United Arab Emirates",
            "United Kingdom",
            "United States",
            "Uruguay",
            "Uzbekistan",
            "Venezuela",
            "Vietnam",
            "Yemen",
            "Zimbabwe"
           ],
           "name": "",
           "type": "choropleth",
           "z": [
            4.758,
            5.269,
            5.464,
            6.441,
            4.368,
            7.45,
            7.303,
            4.219,
            5.937,
            4.858,
            5.526,
            6.854,
            5.781,
            4.669,
            3.553,
            6.837,
            3.912,
            4.036,
            4.141,
            4.554,
            7.65,
            3.568,
            3.743,
            6.636,
            4.653,
            6.408,
            3.812,
            7.271,
            5.596,
            6.387,
            6.25,
            7.771,
            5.006,
            4.735,
            5.838,
            4.669,
            6.74,
            7.393,
            6.798,
            4.102,
            6.725,
            4.606,
            5.84,
            6.29,
            3.766,
            5.866,
            5.643,
            4.725,
            4.989,
            5.457,
            5.065,
            7.257,
            7.359,
            6.354,
            6.057,
            5.57,
            5.514,
            4.256,
            5.177,
            6.798,
            4.996,
            5.032,
            4.196,
            5.066,
            7.097,
            5.58,
            3.762,
            5.774,
            4.772,
            6.802,
            5.59,
            4.586,
            5.455,
            4.383,
            4.35,
            7.502,
            7.224,
            5.687,
            4.101,
            4.76,
            4.18,
            5.786,
            4.703,
            7.321,
            5.841,
            5.613,
            4.942,
            5.887,
            5.095,
            6.85,
            4.909,
            5.385,
            6.307,
            4.372,
            4.461,
            4.134,
            6.531,
            6.052,
            6.083,
            4.657,
            4.652,
            6.116,
            6.188,
            3.977,
            4.435,
            7.496,
            4.465,
            6.229,
            4.381,
            3.229,
            6.217,
            5.131,
            5.49,
            4.193,
            5.058,
            7.097,
            7.029,
            7.164,
            6.062,
            5.095,
            7.478,
            5.296,
            4.35,
            4.682
           ]
          }
         ],
         "name": "2010"
        },
        {
         "data": [
          {
           "coloraxis": "coloraxis",
           "geo": "geo",
           "hovertemplate": "year=2011<br>country=%{location}<br>happiness_score=%{z}<extra></extra>",
           "locationmode": "country names",
           "locations": [
            "Afghanistan",
            "Albania",
            "Algeria",
            "Angola",
            "Argentina",
            "Armenia",
            "Australia",
            "Austria",
            "Azerbaijan",
            "Bahrain",
            "Bangladesh",
            "Belarus",
            "Belgium",
            "Benin",
            "Bolivia",
            "Bosnia and Herzegovina",
            "Botswana",
            "Brazil",
            "Bulgaria",
            "Burkina Faso",
            "Burundi",
            "Cambodia",
            "Cameroon",
            "Canada",
            "Central African Republic",
            "Chad",
            "Chile",
            "China",
            "Colombia",
            "Comoros",
            "Congo (Brazzaville)",
            "Congo (Kinshasa)",
            "Costa Rica",
            "Croatia",
            "Cyprus",
            "Czech Republic",
            "Denmark",
            "Djibouti",
            "Dominican Republic",
            "Ecuador",
            "Egypt",
            "El Salvador",
            "Estonia",
            "Finland",
            "France",
            "Gabon",
            "Georgia",
            "Germany",
            "Ghana",
            "Greece",
            "Guatemala",
            "Guinea",
            "Haiti",
            "Honduras",
            "Hong Kong S.A.R. of China",
            "Hungary",
            "India",
            "Indonesia",
            "Iran",
            "Iraq",
            "Ireland",
            "Israel",
            "Italy",
            "Jamaica",
            "Japan",
            "Jordan",
            "Kazakhstan",
            "Kenya",
            "Kosovo",
            "Kuwait",
            "Kyrgyzstan",
            "Laos",
            "Latvia",
            "Lebanon",
            "Lesotho",
            "Lithuania",
            "Luxembourg",
            "Madagascar",
            "Malawi",
            "Malaysia",
            "Mali",
            "Malta",
            "Mauritania",
            "Mauritius",
            "Mexico",
            "Moldova",
            "Mongolia",
            "Montenegro",
            "Morocco",
            "Mozambique",
            "Nepal",
            "Netherlands",
            "New Zealand",
            "Nicaragua",
            "Niger",
            "North Macedonia",
            "Oman",
            "Pakistan",
            "Palestinian Territories",
            "Panama",
            "Paraguay",
            "Peru",
            "Philippines",
            "Poland",
            "Portugal",
            "Qatar",
            "Romania",
            "Russia",
            "Rwanda",
            "Saudi Arabia",
            "Senegal",
            "Serbia",
            "Sierra Leone",
            "Singapore",
            "Slovakia",
            "Slovenia",
            "Somaliland region",
            "South Africa",
            "South Korea",
            "Spain",
            "Sri Lanka",
            "Sudan",
            "Swaziland",
            "Sweden",
            "Syria",
            "Taiwan Province of China",
            "Tajikistan",
            "Tanzania",
            "Thailand",
            "Togo",
            "Trinidad and Tobago",
            "Tunisia",
            "Turkey",
            "Turkmenistan",
            "Uganda",
            "Ukraine",
            "United Arab Emirates",
            "United Kingdom",
            "United States",
            "Uruguay",
            "Uzbekistan",
            "Venezuela",
            "Vietnam",
            "Yemen",
            "Zambia",
            "Zimbabwe"
           ],
           "name": "",
           "type": "choropleth",
           "z": [
            3.832,
            5.867,
            5.317,
            5.589,
            6.776,
            4.26,
            7.406,
            7.471,
            4.68,
            4.824,
            4.986,
            5.225,
            7.111,
            3.87,
            5.779,
            4.995,
            3.52,
            7.038,
            3.875,
            4.785,
            3.706,
            4.161,
            4.434,
            7.426,
            3.678,
            4.393,
            6.526,
            5.037,
            6.464,
            3.838,
            4.51,
            4.517,
            7.229,
            5.385,
            6.69,
            6.331,
            7.788,
            4.369,
            5.397,
            5.795,
            4.174,
            4.741,
            5.487,
            7.354,
            6.959,
            4.255,
            4.203,
            6.621,
            5.608,
            5.372,
            5.743,
            4.045,
            4.845,
            4.961,
            5.474,
            4.918,
            4.635,
            5.173,
            4.768,
            4.725,
            7.007,
            7.433,
            6.057,
            5.374,
            6.263,
            5.539,
            5.736,
            4.405,
            4.86,
            6.378,
            4.921,
            4.704,
            4.967,
            5.188,
            4.898,
            5.432,
            7.101,
            4.381,
            3.946,
            5.786,
            4.667,
            6.155,
            4.785,
            5.477,
            6.91,
            5.792,
            5.031,
            5.223,
            5.085,
            4.971,
            3.809,
            7.564,
            7.191,
            5.386,
            4.556,
            4.898,
            6.853,
            5.267,
            4.751,
            7.248,
            5.677,
            5.892,
            4.994,
            5.646,
            5.22,
            6.592,
            5.023,
            5.389,
            4.097,
            6.7,
            3.834,
            4.815,
            4.502,
            6.561,
            5.945,
            6.036,
            4.931,
            4.931,
            6.947,
            6.518,
            4.181,
            4.314,
            4.867,
            7.382,
            4.038,
            6.309,
            4.263,
            4.074,
            6.664,
            2.936,
            6.519,
            4.876,
            5.272,
            5.792,
            4.826,
            5.083,
            7.119,
            6.869,
            7.115,
            6.554,
            5.739,
            6.58,
            5.767,
            3.746,
            4.999,
            4.846
           ]
          }
         ],
         "name": "2011"
        },
        {
         "data": [
          {
           "coloraxis": "coloraxis",
           "geo": "geo",
           "hovertemplate": "year=2012<br>country=%{location}<br>happiness_score=%{z}<extra></extra>",
           "locationmode": "country names",
           "locations": [
            "Afghanistan",
            "Albania",
            "Algeria",
            "Angola",
            "Argentina",
            "Armenia",
            "Australia",
            "Austria",
            "Azerbaijan",
            "Bahrain",
            "Bangladesh",
            "Belarus",
            "Belgium",
            "Benin",
            "Bolivia",
            "Bosnia and Herzegovina",
            "Botswana",
            "Brazil",
            "Bulgaria",
            "Burkina Faso",
            "Cambodia",
            "Cameroon",
            "Canada",
            "Chad",
            "Chile",
            "China",
            "Colombia",
            "Comoros",
            "Congo (Brazzaville)",
            "Congo (Kinshasa)",
            "Costa Rica",
            "Croatia",
            "Cyprus",
            "Czech Republic",
            "Denmark",
            "Dominican Republic",
            "Ecuador",
            "Egypt",
            "El Salvador",
            "Estonia",
            "Ethiopia",
            "Finland",
            "France",
            "Gabon",
            "Georgia",
            "Germany",
            "Ghana",
            "Greece",
            "Guatemala",
            "Guinea",
            "Haiti",
            "Honduras",
            "Hong Kong S.A.R. of China",
            "Hungary",
            "Iceland",
            "India",
            "Indonesia",
            "Iran",
            "Iraq",
            "Ireland",
            "Israel",
            "Italy",
            "Japan",
            "Jordan",
            "Kazakhstan",
            "Kenya",
            "Kosovo",
            "Kuwait",
            "Kyrgyzstan",
            "Laos",
            "Latvia",
            "Lebanon",
            "Libya",
            "Lithuania",
            "Luxembourg",
            "Madagascar",
            "Malawi",
            "Malaysia",
            "Mali",
            "Malta",
            "Mauritania",
            "Mexico",
            "Moldova",
            "Mongolia",
            "Montenegro",
            "Morocco",
            "Myanmar",
            "Nepal",
            "Netherlands",
            "New Zealand",
            "Nicaragua",
            "Niger",
            "Nigeria",
            "North Cyprus",
            "North Macedonia",
            "Norway",
            "Pakistan",
            "Palestinian Territories",
            "Panama",
            "Paraguay",
            "Peru",
            "Philippines",
            "Poland",
            "Portugal",
            "Qatar",
            "Romania",
            "Russia",
            "Rwanda",
            "Saudi Arabia",
            "Senegal",
            "Serbia",
            "Slovakia",
            "Slovenia",
            "Somaliland region",
            "South Africa",
            "South Korea",
            "Spain",
            "Sri Lanka",
            "Sudan",
            "Suriname",
            "Sweden",
            "Switzerland",
            "Syria",
            "Taiwan Province of China",
            "Tajikistan",
            "Tanzania",
            "Thailand",
            "Tunisia",
            "Turkey",
            "Turkmenistan",
            "Uganda",
            "Ukraine",
            "United Arab Emirates",
            "United Kingdom",
            "United States",
            "Uruguay",
            "Uzbekistan",
            "Venezuela",
            "Vietnam",
            "Yemen",
            "Zambia",
            "Zimbabwe"
           ],
           "name": "",
           "type": "choropleth",
           "z": [
            3.783,
            5.51,
            5.605,
            4.36,
            6.468,
            4.32,
            7.196,
            7.401,
            4.911,
            5.027,
            4.724,
            5.749,
            6.935,
            3.193,
            6.019,
            4.773,
            4.836,
            6.66,
            4.222,
            3.955,
            3.899,
            4.245,
            7.415,
            4.033,
            6.599,
            5.095,
            6.375,
            3.956,
            3.919,
            4.639,
            7.272,
            6.028,
            6.181,
            6.334,
            7.52,
            4.753,
            5.961,
            4.204,
            5.934,
            5.364,
            4.561,
            7.42,
            6.649,
            3.972,
            4.254,
            6.702,
            5.057,
            5.096,
            5.856,
            3.652,
            4.413,
            4.602,
            5.484,
            4.683,
            7.591,
            4.72,
            5.368,
            4.609,
            4.66,
            6.965,
            7.111,
            5.839,
            5.968,
            5.132,
            5.759,
            4.547,
            5.64,
            6.221,
            5.208,
            4.876,
            5.125,
            4.573,
            5.754,
            5.771,
            6.964,
            3.551,
            4.279,
            5.914,
            4.313,
            5.963,
            4.673,
            7.32,
            5.996,
            4.885,
            5.219,
            4.97,
            4.439,
            4.233,
            7.471,
            7.25,
            5.448,
            3.798,
            5.493,
            5.463,
            4.64,
            7.678,
            5.132,
            4.647,
            6.86,
            5.82,
            5.825,
            5.002,
            5.876,
            4.994,
            6.611,
            5.167,
            5.621,
            3.333,
            6.396,
            3.669,
            5.155,
            5.911,
            6.063,
            5.057,
            5.134,
            6.003,
            6.291,
            4.225,
            4.55,
            6.269,
            7.56,
            7.776,
            3.164,
            6.126,
            4.497,
            4.007,
            6.3,
            4.464,
            5.309,
            5.464,
            4.309,
            5.03,
            7.218,
            6.881,
            7.026,
            6.45,
            6.019,
            7.067,
            5.535,
            4.061,
            5.013,
            4.955
           ]
          }
         ],
         "name": "2012"
        },
        {
         "data": [
          {
           "coloraxis": "coloraxis",
           "geo": "geo",
           "hovertemplate": "year=2013<br>country=%{location}<br>happiness_score=%{z}<extra></extra>",
           "locationmode": "country names",
           "locations": [
            "Afghanistan",
            "Albania",
            "Angola",
            "Argentina",
            "Armenia",
            "Australia",
            "Austria",
            "Azerbaijan",
            "Bahrain",
            "Bangladesh",
            "Belarus",
            "Belgium",
            "Benin",
            "Bhutan",
            "Bolivia",
            "Bosnia and Herzegovina",
            "Botswana",
            "Brazil",
            "Bulgaria",
            "Burkina Faso",
            "Cambodia",
            "Cameroon",
            "Canada",
            "Chad",
            "Chile",
            "China",
            "Colombia",
            "Congo (Brazzaville)",
            "Congo (Kinshasa)",
            "Costa Rica",
            "Croatia",
            "Cyprus",
            "Czech Republic",
            "Denmark",
            "Dominican Republic",
            "Ecuador",
            "Egypt",
            "El Salvador",
            "Estonia",
            "Ethiopia",
            "Finland",
            "France",
            "Gabon",
            "Georgia",
            "Germany",
            "Ghana",
            "Greece",
            "Guatemala",
            "Guinea",
            "Haiti",
            "Honduras",
            "Hungary",
            "Iceland",
            "India",
            "Indonesia",
            "Iran",
            "Iraq",
            "Ireland",
            "Israel",
            "Italy",
            "Ivory Coast",
            "Jamaica",
            "Japan",
            "Jordan",
            "Kazakhstan",
            "Kenya",
            "Kosovo",
            "Kuwait",
            "Kyrgyzstan",
            "Latvia",
            "Lebanon",
            "Lithuania",
            "Luxembourg",
            "Madagascar",
            "Malawi",
            "Malaysia",
            "Mali",
            "Malta",
            "Mauritania",
            "Mexico",
            "Moldova",
            "Mongolia",
            "Montenegro",
            "Morocco",
            "Myanmar",
            "Nepal",
            "Netherlands",
            "New Zealand",
            "Nicaragua",
            "Niger",
            "Nigeria",
            "North Cyprus",
            "North Macedonia",
            "Pakistan",
            "Palestinian Territories",
            "Panama",
            "Paraguay",
            "Peru",
            "Philippines",
            "Poland",
            "Portugal",
            "Romania",
            "Russia",
            "Rwanda",
            "Saudi Arabia",
            "Senegal",
            "Serbia",
            "Sierra Leone",
            "Singapore",
            "Slovakia",
            "Slovenia",
            "South Africa",
            "South Korea",
            "Spain",
            "Sri Lanka",
            "Sweden",
            "Syria",
            "Taiwan Province of China",
            "Tajikistan",
            "Tanzania",
            "Thailand",
            "Trinidad and Tobago",
            "Tunisia",
            "Turkey",
            "Turkmenistan",
            "Uganda",
            "Ukraine",
            "United Arab Emirates",
            "United Kingdom",
            "United States",
            "Uruguay",
            "Uzbekistan",
            "Venezuela",
            "Vietnam",
            "Yemen",
            "Zambia",
            "Zimbabwe"
           ],
           "name": "",
           "type": "choropleth",
           "z": [
            3.572,
            4.551,
            3.937,
            6.582,
            4.277,
            7.364,
            7.499,
            5.481,
            6.69,
            4.66,
            5.876,
            7.104,
            3.479,
            5.569,
            5.767,
            5.124,
            4.128,
            7.14,
            3.993,
            3.326,
            3.674,
            4.271,
            7.594,
            3.508,
            6.74,
            5.241,
            6.607,
            3.955,
            4.497,
            7.158,
            5.885,
            5.439,
            6.698,
            7.589,
            5.016,
            6.019,
            3.559,
            6.325,
            5.367,
            4.445,
            7.445,
            6.667,
            3.8,
            4.349,
            6.965,
            4.965,
            4.72,
            5.985,
            3.902,
            4.622,
            4.713,
            4.914,
            7.501,
            4.428,
            5.292,
            5.14,
            4.725,
            6.76,
            7.321,
            6.009,
            3.739,
            5.709,
            5.959,
            5.172,
            5.835,
            3.795,
            6.126,
            6.48,
            5.402,
            5.07,
            4.983,
            5.596,
            7.131,
            3.816,
            4.035,
            5.77,
            3.676,
            6.38,
            4.199,
            7.443,
            5.756,
            4.913,
            5.074,
            5.142,
            4.176,
            4.605,
            7.407,
            7.28,
            5.772,
            3.716,
            4.818,
            5.567,
            5.186,
            5.138,
            4.844,
            6.866,
            5.936,
            5.783,
            4.977,
            5.746,
            5.158,
            5.082,
            5.537,
            3.466,
            6.495,
            3.647,
            5.102,
            4.514,
            6.533,
            5.937,
            5.975,
            3.661,
            5.959,
            6.15,
            4.365,
            7.434,
            2.688,
            6.34,
            4.967,
            3.852,
            6.231,
            6.168,
            5.246,
            4.888,
            5.392,
            3.71,
            4.711,
            6.621,
            6.918,
            7.249,
            6.444,
            5.94,
            6.553,
            5.023,
            4.218,
            5.244,
            4.69
           ]
          }
         ],
         "name": "2013"
        },
        {
         "data": [
          {
           "coloraxis": "coloraxis",
           "geo": "geo",
           "hovertemplate": "year=2014<br>country=%{location}<br>happiness_score=%{z}<extra></extra>",
           "locationmode": "country names",
           "locations": [
            "Afghanistan",
            "Albania",
            "Algeria",
            "Angola",
            "Argentina",
            "Armenia",
            "Australia",
            "Austria",
            "Azerbaijan",
            "Bahrain",
            "Bangladesh",
            "Belarus",
            "Belgium",
            "Belize",
            "Benin",
            "Bhutan",
            "Bolivia",
            "Bosnia and Herzegovina",
            "Botswana",
            "Brazil",
            "Bulgaria",
            "Burkina Faso",
            "Burundi",
            "Cambodia",
            "Cameroon",
            "Canada",
            "Chad",
            "Chile",
            "China",
            "Colombia",
            "Congo (Brazzaville)",
            "Congo (Kinshasa)",
            "Costa Rica",
            "Croatia",
            "Cyprus",
            "Czech Republic",
            "Denmark",
            "Dominican Republic",
            "Ecuador",
            "Egypt",
            "El Salvador",
            "Estonia",
            "Ethiopia",
            "Finland",
            "France",
            "Gabon",
            "Georgia",
            "Germany",
            "Ghana",
            "Greece",
            "Guatemala",
            "Guinea",
            "Haiti",
            "Honduras",
            "Hong Kong S.A.R. of China",
            "Hungary",
            "India",
            "Indonesia",
            "Iran",
            "Iraq",
            "Ireland",
            "Israel",
            "Italy",
            "Ivory Coast",
            "Jamaica",
            "Japan",
            "Jordan",
            "Kazakhstan",
            "Kenya",
            "Kosovo",
            "Kuwait",
            "Kyrgyzstan",
            "Latvia",
            "Lebanon",
            "Liberia",
            "Lithuania",
            "Luxembourg",
            "Madagascar",
            "Malawi",
            "Malaysia",
            "Mali",
            "Malta",
            "Mauritania",
            "Mauritius",
            "Mexico",
            "Moldova",
            "Mongolia",
            "Montenegro",
            "Myanmar",
            "Namibia",
            "Nepal",
            "Netherlands",
            "New Zealand",
            "Nicaragua",
            "Niger",
            "North Cyprus",
            "North Macedonia",
            "Norway",
            "Pakistan",
            "Palestinian Territories",
            "Panama",
            "Paraguay",
            "Peru",
            "Philippines",
            "Poland",
            "Portugal",
            "Romania",
            "Russia",
            "Rwanda",
            "Saudi Arabia",
            "Senegal",
            "Serbia",
            "Sierra Leone",
            "Singapore",
            "Slovakia",
            "Slovenia",
            "Somalia",
            "South Africa",
            "South Korea",
            "South Sudan",
            "Spain",
            "Sri Lanka",
            "Sudan",
            "Sweden",
            "Switzerland",
            "Taiwan Province of China",
            "Tajikistan",
            "Tanzania",
            "Thailand",
            "Togo",
            "Tunisia",
            "Turkey",
            "Turkmenistan",
            "Uganda",
            "Ukraine",
            "United Arab Emirates",
            "United Kingdom",
            "United States",
            "Uruguay",
            "Uzbekistan",
            "Venezuela",
            "Vietnam",
            "Yemen",
            "Zambia",
            "Zimbabwe"
           ],
           "name": "",
           "type": "choropleth",
           "z": [
            3.131,
            4.814,
            6.355,
            3.795,
            6.671,
            4.453,
            7.289,
            6.95,
            5.252,
            6.165,
            4.636,
            5.812,
            6.855,
            5.956,
            3.347,
            4.939,
            5.865,
            5.249,
            4.031,
            6.981,
            4.438,
            3.481,
            2.905,
            3.883,
            4.24,
            7.304,
            3.46,
            6.844,
            5.196,
            6.449,
            4.056,
            4.414,
            7.247,
            5.381,
            5.627,
            6.484,
            7.508,
            5.387,
            5.946,
            4.885,
            5.857,
            5.556,
            4.507,
            7.385,
            6.467,
            3.918,
            4.288,
            6.984,
            3.86,
            4.756,
            6.536,
            3.412,
            3.889,
            5.056,
            5.458,
            5.181,
            4.424,
            5.597,
            4.682,
            4.542,
            7.018,
            7.401,
            6.027,
            3.57,
            5.311,
            5.923,
            5.333,
            5.97,
            4.905,
            5,
            6.18,
            5.252,
            5.729,
            5.233,
            4.571,
            6.126,
            6.891,
            3.676,
            4.563,
            5.963,
            3.975,
            6.452,
            4.483,
            5.648,
            6.68,
            5.917,
            4.825,
            5.283,
            4.786,
            4.574,
            4.975,
            7.321,
            7.306,
            6.275,
            4.181,
            5.786,
            5.204,
            7.444,
            5.436,
            4.722,
            6.631,
            5.119,
            5.866,
            5.313,
            5.75,
            5.127,
            5.727,
            6.037,
            3.596,
            6.278,
            4.395,
            5.113,
            4.5,
            7.062,
            6.139,
            5.678,
            5.528,
            4.828,
            5.801,
            3.832,
            6.456,
            4.268,
            4.139,
            7.239,
            7.493,
            6.363,
            4.896,
            3.483,
            6.985,
            2.839,
            4.764,
            5.58,
            5.787,
            3.77,
            4.297,
            6.54,
            6.758,
            7.151,
            6.561,
            6.049,
            6.136,
            5.085,
            3.968,
            4.346,
            4.184
           ]
          }
         ],
         "name": "2014"
        },
        {
         "data": [
          {
           "coloraxis": "coloraxis",
           "geo": "geo",
           "hovertemplate": "year=2015<br>country=%{location}<br>happiness_score=%{z}<extra></extra>",
           "locationmode": "country names",
           "locations": [
            "Afghanistan",
            "Albania",
            "Argentina",
            "Armenia",
            "Australia",
            "Austria",
            "Azerbaijan",
            "Bahrain",
            "Bangladesh",
            "Belarus",
            "Belgium",
            "Benin",
            "Bhutan",
            "Bolivia",
            "Bosnia and Herzegovina",
            "Botswana",
            "Brazil",
            "Bulgaria",
            "Burkina Faso",
            "Cambodia",
            "Cameroon",
            "Canada",
            "Chad",
            "Chile",
            "China",
            "Colombia",
            "Congo (Brazzaville)",
            "Congo (Kinshasa)",
            "Costa Rica",
            "Croatia",
            "Cyprus",
            "Czech Republic",
            "Denmark",
            "Dominican Republic",
            "Ecuador",
            "Egypt",
            "El Salvador",
            "Estonia",
            "Ethiopia",
            "Finland",
            "France",
            "Gabon",
            "Georgia",
            "Germany",
            "Ghana",
            "Greece",
            "Guatemala",
            "Guinea",
            "Haiti",
            "Honduras",
            "Hungary",
            "Iceland",
            "India",
            "Indonesia",
            "Iran",
            "Iraq",
            "Ireland",
            "Israel",
            "Italy",
            "Ivory Coast",
            "Japan",
            "Jordan",
            "Kazakhstan",
            "Kenya",
            "Kosovo",
            "Kuwait",
            "Kyrgyzstan",
            "Latvia",
            "Lebanon",
            "Liberia",
            "Libya",
            "Lithuania",
            "Luxembourg",
            "Madagascar",
            "Malawi",
            "Malaysia",
            "Mali",
            "Malta",
            "Mauritania",
            "Mexico",
            "Moldova",
            "Mongolia",
            "Montenegro",
            "Morocco",
            "Mozambique",
            "Myanmar",
            "Nepal",
            "Netherlands",
            "New Zealand",
            "Nicaragua",
            "Niger",
            "Nigeria",
            "North Cyprus",
            "North Macedonia",
            "Norway",
            "Pakistan",
            "Palestinian Territories",
            "Panama",
            "Paraguay",
            "Peru",
            "Philippines",
            "Poland",
            "Portugal",
            "Qatar",
            "Romania",
            "Russia",
            "Rwanda",
            "Saudi Arabia",
            "Senegal",
            "Serbia",
            "Sierra Leone",
            "Singapore",
            "Slovakia",
            "Slovenia",
            "Somalia",
            "South Africa",
            "South Korea",
            "South Sudan",
            "Spain",
            "Sri Lanka",
            "Sweden",
            "Switzerland",
            "Syria",
            "Taiwan Province of China",
            "Tajikistan",
            "Tanzania",
            "Thailand",
            "Togo",
            "Tunisia",
            "Turkey",
            "Turkmenistan",
            "Uganda",
            "Ukraine",
            "United Arab Emirates",
            "United Kingdom",
            "United States",
            "Uruguay",
            "Uzbekistan",
            "Venezuela",
            "Vietnam",
            "Yemen",
            "Zambia",
            "Zimbabwe"
           ],
           "name": "",
           "type": "choropleth",
           "z": [
            3.983,
            4.607,
            6.697,
            4.348,
            7.309,
            7.076,
            5.147,
            6.007,
            4.633,
            5.719,
            6.904,
            3.625,
            5.082,
            5.834,
            5.117,
            3.762,
            6.547,
            4.865,
            4.419,
            4.162,
            5.038,
            7.413,
            4.323,
            6.533,
            5.304,
            6.388,
            4.691,
            3.903,
            6.854,
            5.205,
            5.439,
            6.608,
            7.514,
            5.062,
            5.964,
            4.763,
            6.018,
            5.629,
            4.573,
            7.448,
            6.358,
            4.661,
            4.122,
            7.037,
            3.986,
            5.623,
            6.465,
            3.505,
            3.57,
            4.845,
            5.344,
            7.498,
            4.342,
            5.043,
            4.75,
            4.493,
            6.83,
            7.079,
            5.848,
            4.445,
            5.88,
            5.405,
            5.95,
            4.358,
            5.077,
            6.146,
            4.905,
            5.881,
            5.172,
            2.702,
            5.615,
            5.711,
            6.702,
            3.593,
            3.868,
            6.322,
            4.582,
            6.613,
            3.923,
            6.236,
            6.017,
            4.983,
            5.125,
            5.163,
            4.55,
            4.224,
            4.812,
            7.324,
            7.418,
            5.924,
            3.671,
            4.933,
            5.843,
            4.976,
            7.603,
            4.823,
            4.695,
            6.606,
            5.56,
            5.577,
            5.547,
            6.007,
            5.081,
            6.375,
            5.777,
            5.996,
            3.483,
            6.345,
            4.617,
            5.318,
            4.909,
            6.62,
            6.162,
            5.741,
            5.354,
            4.887,
            5.78,
            4.071,
            6.381,
            4.612,
            7.289,
            7.572,
            3.462,
            6.45,
            5.124,
            3.661,
            6.202,
            3.768,
            5.132,
            5.514,
            5.791,
            4.238,
            3.965,
            6.568,
            6.515,
            6.864,
            6.628,
            5.972,
            5.569,
            5.076,
            2.983,
            4.843,
            3.703
           ]
          }
         ],
         "name": "2015"
        },
        {
         "data": [
          {
           "coloraxis": "coloraxis",
           "geo": "geo",
           "hovertemplate": "year=2016<br>country=%{location}<br>happiness_score=%{z}<extra></extra>",
           "locationmode": "country names",
           "locations": [
            "Afghanistan",
            "Albania",
            "Algeria",
            "Argentina",
            "Armenia",
            "Australia",
            "Austria",
            "Azerbaijan",
            "Bahrain",
            "Bangladesh",
            "Belarus",
            "Belgium",
            "Benin",
            "Bolivia",
            "Bosnia and Herzegovina",
            "Botswana",
            "Brazil",
            "Bulgaria",
            "Burkina Faso",
            "Cambodia",
            "Cameroon",
            "Canada",
            "Central African Republic",
            "Chad",
            "Chile",
            "China",
            "Colombia",
            "Congo (Brazzaville)",
            "Congo (Kinshasa)",
            "Costa Rica",
            "Croatia",
            "Cyprus",
            "Czech Republic",
            "Denmark",
            "Dominican Republic",
            "Ecuador",
            "Egypt",
            "El Salvador",
            "Estonia",
            "Ethiopia",
            "Finland",
            "France",
            "Gabon",
            "Georgia",
            "Germany",
            "Ghana",
            "Greece",
            "Guatemala",
            "Guinea",
            "Haiti",
            "Honduras",
            "Hong Kong S.A.R. of China",
            "Hungary",
            "Iceland",
            "India",
            "Indonesia",
            "Iran",
            "Iraq",
            "Ireland",
            "Israel",
            "Italy",
            "Ivory Coast",
            "Japan",
            "Jordan",
            "Kazakhstan",
            "Kenya",
            "Kosovo",
            "Kuwait",
            "Kyrgyzstan",
            "Latvia",
            "Lebanon",
            "Lesotho",
            "Liberia",
            "Libya",
            "Lithuania",
            "Luxembourg",
            "Madagascar",
            "Malawi",
            "Mali",
            "Malta",
            "Mauritania",
            "Mauritius",
            "Mexico",
            "Moldova",
            "Mongolia",
            "Montenegro",
            "Morocco",
            "Myanmar",
            "Nepal",
            "Netherlands",
            "New Zealand",
            "Nicaragua",
            "Niger",
            "Nigeria",
            "North Cyprus",
            "North Macedonia",
            "Norway",
            "Pakistan",
            "Palestinian Territories",
            "Panama",
            "Paraguay",
            "Peru",
            "Philippines",
            "Poland",
            "Portugal",
            "Romania",
            "Russia",
            "Rwanda",
            "Saudi Arabia",
            "Senegal",
            "Serbia",
            "Sierra Leone",
            "Singapore",
            "Slovakia",
            "Slovenia",
            "Somalia",
            "South Africa",
            "South Korea",
            "South Sudan",
            "Spain",
            "Sweden",
            "Switzerland",
            "Taiwan Province of China",
            "Tajikistan",
            "Tanzania",
            "Thailand",
            "Togo",
            "Tunisia",
            "Turkey",
            "Turkmenistan",
            "Uganda",
            "Ukraine",
            "United Arab Emirates",
            "United Kingdom",
            "United States",
            "Uruguay",
            "Uzbekistan",
            "Venezuela",
            "Vietnam",
            "Yemen",
            "Zambia",
            "Zimbabwe"
           ],
           "name": "",
           "type": "choropleth",
           "z": [
            4.22,
            4.511,
            5.341,
            6.427,
            4.325,
            7.25,
            7.048,
            5.304,
            6.17,
            4.556,
            5.178,
            6.949,
            4.007,
            5.77,
            5.181,
            3.499,
            6.375,
            4.838,
            4.206,
            4.461,
            4.816,
            7.245,
            2.693,
            4.029,
            6.579,
            5.325,
            6.234,
            4.119,
            4.522,
            7.136,
            5.417,
            5.795,
            6.736,
            7.558,
            5.239,
            6.115,
            4.557,
            6.14,
            5.65,
            4.298,
            7.66,
            6.475,
            4.832,
            4.448,
            6.874,
            4.514,
            5.303,
            6.359,
            3.603,
            3.352,
            5.648,
            5.498,
            5.449,
            7.51,
            4.179,
            5.136,
            4.653,
            4.413,
            7.041,
            7.159,
            5.955,
            4.543,
            5.955,
            5.271,
            5.534,
            4.396,
            5.759,
            5.947,
            4.857,
            5.94,
            5.271,
            3.808,
            3.355,
            5.434,
            5.866,
            6.967,
            3.663,
            3.476,
            4.016,
            6.591,
            4.472,
            5.61,
            6.824,
            5.578,
            5.057,
            5.304,
            5.386,
            4.623,
            5.1,
            7.541,
            7.226,
            6.013,
            4.235,
            5.22,
            5.827,
            5.346,
            7.596,
            5.549,
            4.907,
            6.118,
            5.801,
            5.701,
            5.431,
            6.162,
            5.447,
            5.969,
            5.855,
            3.333,
            6.474,
            4.595,
            5.753,
            4.733,
            6.033,
            5.993,
            5.937,
            4.668,
            4.77,
            5.971,
            2.888,
            6.319,
            7.369,
            7.459,
            6.513,
            5.104,
            2.903,
            6.074,
            3.879,
            4.521,
            5.326,
            5.887,
            4.233,
            4.029,
            6.831,
            6.824,
            6.804,
            6.171,
            5.893,
            4.041,
            5.062,
            3.826,
            4.348,
            3.735
           ]
          }
         ],
         "name": "2016"
        },
        {
         "data": [
          {
           "coloraxis": "coloraxis",
           "geo": "geo",
           "hovertemplate": "year=2017<br>country=%{location}<br>happiness_score=%{z}<extra></extra>",
           "locationmode": "country names",
           "locations": [
            "Afghanistan",
            "Albania",
            "Algeria",
            "Argentina",
            "Armenia",
            "Australia",
            "Austria",
            "Azerbaijan",
            "Bahrain",
            "Bangladesh",
            "Belarus",
            "Belgium",
            "Benin",
            "Bolivia",
            "Bosnia and Herzegovina",
            "Botswana",
            "Brazil",
            "Bulgaria",
            "Burkina Faso",
            "Cambodia",
            "Cameroon",
            "Canada",
            "Central African Republic",
            "Chad",
            "Chile",
            "China",
            "Colombia",
            "Congo (Brazzaville)",
            "Congo (Kinshasa)",
            "Costa Rica",
            "Croatia",
            "Cyprus",
            "Czech Republic",
            "Denmark",
            "Dominican Republic",
            "Ecuador",
            "Egypt",
            "El Salvador",
            "Estonia",
            "Ethiopia",
            "Finland",
            "France",
            "Gabon",
            "Gambia",
            "Georgia",
            "Germany",
            "Ghana",
            "Greece",
            "Guatemala",
            "Guinea",
            "Haiti",
            "Honduras",
            "Hong Kong S.A.R. of China",
            "Hungary",
            "Iceland",
            "India",
            "Indonesia",
            "Iran",
            "Iraq",
            "Ireland",
            "Israel",
            "Italy",
            "Ivory Coast",
            "Jamaica",
            "Japan",
            "Jordan",
            "Kazakhstan",
            "Kenya",
            "Kosovo",
            "Kuwait",
            "Kyrgyzstan",
            "Laos",
            "Latvia",
            "Lebanon",
            "Lesotho",
            "Liberia",
            "Libya",
            "Lithuania",
            "Luxembourg",
            "Madagascar",
            "Malawi",
            "Mali",
            "Malta",
            "Mauritania",
            "Mauritius",
            "Mexico",
            "Moldova",
            "Mongolia",
            "Montenegro",
            "Morocco",
            "Mozambique",
            "Myanmar",
            "Namibia",
            "Nepal",
            "Netherlands",
            "New Zealand",
            "Nicaragua",
            "Niger",
            "Nigeria",
            "North Macedonia",
            "Norway",
            "Pakistan",
            "Palestinian Territories",
            "Panama",
            "Paraguay",
            "Peru",
            "Philippines",
            "Poland",
            "Portugal",
            "Romania",
            "Russia",
            "Rwanda",
            "Saudi Arabia",
            "Senegal",
            "Serbia",
            "Sierra Leone",
            "Singapore",
            "Slovakia",
            "Slovenia",
            "South Africa",
            "South Korea",
            "South Sudan",
            "Spain",
            "Sri Lanka",
            "Sweden",
            "Switzerland",
            "Taiwan Province of China",
            "Tajikistan",
            "Tanzania",
            "Thailand",
            "Togo",
            "Trinidad and Tobago",
            "Tunisia",
            "Turkey",
            "Turkmenistan",
            "Uganda",
            "Ukraine",
            "United Arab Emirates",
            "United Kingdom",
            "United States",
            "Uruguay",
            "Uzbekistan",
            "Venezuela",
            "Vietnam",
            "Yemen",
            "Zambia",
            "Zimbabwe"
           ],
           "name": "",
           "type": "choropleth",
           "z": [
            2.662,
            4.64,
            5.249,
            6.039,
            4.288,
            7.257,
            7.294,
            5.152,
            6.227,
            4.31,
            5.553,
            6.928,
            4.853,
            5.651,
            5.09,
            3.505,
            6.333,
            5.097,
            4.647,
            4.586,
            5.074,
            7.415,
            3.476,
            4.559,
            6.32,
            5.099,
            6.157,
            4.884,
            4.311,
            7.225,
            5.343,
            6.062,
            6.79,
            7.594,
            5.605,
            5.84,
            3.929,
            6.339,
            5.938,
            4.18,
            7.788,
            6.635,
            4.782,
            4.118,
            4.451,
            7.074,
            5.481,
            5.148,
            6.325,
            4.874,
            3.824,
            6.02,
            5.362,
            6.065,
            7.476,
            4.046,
            5.098,
            4.717,
            4.462,
            7.06,
            7.331,
            6.199,
            5.038,
            5.89,
            5.911,
            4.808,
            5.882,
            4.476,
            6.149,
            6.094,
            5.63,
            4.623,
            5.978,
            5.154,
            3.795,
            4.424,
            5.647,
            6.273,
            7.061,
            4.079,
            3.417,
            4.742,
            6.676,
            4.678,
            6.174,
            6.41,
            5.326,
            5.334,
            5.615,
            5.312,
            4.28,
            4.154,
            4.441,
            4.737,
            7.459,
            7.327,
            6.476,
            4.616,
            5.322,
            5.234,
            7.579,
            5.831,
            4.628,
            6.568,
            5.713,
            5.711,
            5.594,
            6.201,
            5.711,
            6.09,
            5.579,
            3.108,
            6.294,
            4.683,
            5.122,
            4.09,
            6.378,
            6.366,
            6.167,
            4.514,
            5.874,
            2.817,
            6.23,
            4.331,
            7.287,
            7.474,
            6.359,
            5.829,
            3.347,
            5.939,
            4.361,
            6.192,
            4.124,
            5.607,
            5.229,
            4.001,
            4.311,
            7.039,
            7.103,
            6.992,
            6.336,
            6.421,
            5.071,
            5.175,
            3.254,
            3.933,
            3.638
           ]
          }
         ],
         "name": "2017"
        },
        {
         "data": [
          {
           "coloraxis": "coloraxis",
           "geo": "geo",
           "hovertemplate": "year=2018<br>country=%{location}<br>happiness_score=%{z}<extra></extra>",
           "locationmode": "country names",
           "locations": [
            "Afghanistan",
            "Albania",
            "Algeria",
            "Argentina",
            "Armenia",
            "Australia",
            "Austria",
            "Azerbaijan",
            "Bangladesh",
            "Belarus",
            "Belgium",
            "Benin",
            "Bolivia",
            "Bosnia and Herzegovina",
            "Botswana",
            "Brazil",
            "Bulgaria",
            "Burkina Faso",
            "Burundi",
            "Cambodia",
            "Cameroon",
            "Canada",
            "Chad",
            "Chile",
            "China",
            "Colombia",
            "Comoros",
            "Congo (Brazzaville)",
            "Costa Rica",
            "Croatia",
            "Cyprus",
            "Czech Republic",
            "Denmark",
            "Dominican Republic",
            "Ecuador",
            "Egypt",
            "El Salvador",
            "Estonia",
            "Ethiopia",
            "Finland",
            "France",
            "Gabon",
            "Gambia",
            "Georgia",
            "Germany",
            "Ghana",
            "Greece",
            "Guatemala",
            "Guinea",
            "Haiti",
            "Honduras",
            "Hungary",
            "India",
            "Indonesia",
            "Iran",
            "Iraq",
            "Ireland",
            "Israel",
            "Italy",
            "Ivory Coast",
            "Japan",
            "Jordan",
            "Kazakhstan",
            "Kenya",
            "Kosovo",
            "Kyrgyzstan",
            "Laos",
            "Latvia",
            "Lebanon",
            "Liberia",
            "Libya",
            "Lithuania",
            "Luxembourg",
            "Madagascar",
            "Malawi",
            "Malaysia",
            "Maldives",
            "Mali",
            "Malta",
            "Mauritania",
            "Mauritius",
            "Mexico",
            "Moldova",
            "Mongolia",
            "Montenegro",
            "Morocco",
            "Mozambique",
            "Myanmar",
            "Namibia",
            "Nepal",
            "Netherlands",
            "New Zealand",
            "Nicaragua",
            "Niger",
            "Nigeria",
            "North Cyprus",
            "North Macedonia",
            "Norway",
            "Pakistan",
            "Palestinian Territories",
            "Panama",
            "Peru",
            "Philippines",
            "Poland",
            "Portugal",
            "Romania",
            "Russia",
            "Rwanda",
            "Saudi Arabia",
            "Senegal",
            "Serbia",
            "Sierra Leone",
            "Singapore",
            "Slovakia",
            "Slovenia",
            "South Africa",
            "South Korea",
            "Spain",
            "Sri Lanka",
            "Swaziland",
            "Sweden",
            "Switzerland",
            "Taiwan Province of China",
            "Tajikistan",
            "Tanzania",
            "Thailand",
            "Togo",
            "Tunisia",
            "Turkey",
            "Turkmenistan",
            "Uganda",
            "Ukraine",
            "United Arab Emirates",
            "United Kingdom",
            "United States",
            "Uruguay",
            "Uzbekistan",
            "Venezuela",
            "Vietnam",
            "Yemen",
            "Zambia",
            "Zimbabwe"
           ],
           "name": "",
           "type": "choropleth",
           "z": [
            2.694,
            5.004,
            5.043,
            5.793,
            5.062,
            7.177,
            7.396,
            5.168,
            4.499,
            5.234,
            6.892,
            5.82,
            5.916,
            5.887,
            3.461,
            6.191,
            5.099,
            4.927,
            3.775,
            5.122,
            5.251,
            7.175,
            4.486,
            6.436,
            5.131,
            5.984,
            3.973,
            5.49,
            7.141,
            5.536,
            6.276,
            7.034,
            7.649,
            5.433,
            6.128,
            4.005,
            6.241,
            6.091,
            4.379,
            7.858,
            6.666,
            4.783,
            4.922,
            4.659,
            7.118,
            5.004,
            5.409,
            6.627,
            5.252,
            3.615,
            5.908,
            5.936,
            3.818,
            5.34,
            4.278,
            4.886,
            6.962,
            6.927,
            6.517,
            5.268,
            5.794,
            4.639,
            6.008,
            4.656,
            6.392,
            5.297,
            4.859,
            5.901,
            5.167,
            4.135,
            5.494,
            6.309,
            7.243,
            4.071,
            3.335,
            5.339,
            5.198,
            4.416,
            6.91,
            4.314,
            5.882,
            6.55,
            5.682,
            5.465,
            5.65,
            4.897,
            4.654,
            4.411,
            4.834,
            4.91,
            7.463,
            7.37,
            5.819,
            5.164,
            5.252,
            5.608,
            5.24,
            7.444,
            5.472,
            4.554,
            6.281,
            5.68,
            5.869,
            6.111,
            5.92,
            6.151,
            5.514,
            3.561,
            6.356,
            4.769,
            5.936,
            4.306,
            6.375,
            6.235,
            6.249,
            4.884,
            5.84,
            6.513,
            4.435,
            4.212,
            7.375,
            7.509,
            6.467,
            5.497,
            3.445,
            6.012,
            4.023,
            4.741,
            5.186,
            4.621,
            4.322,
            4.662,
            6.604,
            7.233,
            6.883,
            6.372,
            6.205,
            5.006,
            5.296,
            3.058,
            4.041,
            3.616
           ]
          }
         ],
         "name": "2018"
        },
        {
         "data": [
          {
           "coloraxis": "coloraxis",
           "geo": "geo",
           "hovertemplate": "year=2019<br>country=%{location}<br>happiness_score=%{z}<extra></extra>",
           "locationmode": "country names",
           "locations": [
            "Afghanistan",
            "Albania",
            "Algeria",
            "Argentina",
            "Armenia",
            "Australia",
            "Austria",
            "Azerbaijan",
            "Bahrain",
            "Bangladesh",
            "Belarus",
            "Belgium",
            "Benin",
            "Bolivia",
            "Bosnia and Herzegovina",
            "Botswana",
            "Brazil",
            "Bulgaria",
            "Burkina Faso",
            "Cambodia",
            "Cameroon",
            "Canada",
            "Chad",
            "Chile",
            "China",
            "Colombia",
            "Comoros",
            "Congo (Brazzaville)",
            "Costa Rica",
            "Croatia",
            "Cyprus",
            "Denmark",
            "Dominican Republic",
            "Ecuador",
            "Egypt",
            "El Salvador",
            "Estonia",
            "Ethiopia",
            "Finland",
            "France",
            "Gabon",
            "Gambia",
            "Georgia",
            "Germany",
            "Ghana",
            "Greece",
            "Guatemala",
            "Guinea",
            "Honduras",
            "Hong Kong S.A.R. of China",
            "Hungary",
            "Iceland",
            "India",
            "Indonesia",
            "Iran",
            "Ireland",
            "Israel",
            "Italy",
            "Ivory Coast",
            "Jamaica",
            "Japan",
            "Jordan",
            "Kazakhstan",
            "Kenya",
            "Kosovo",
            "Kuwait",
            "Kyrgyzstan",
            "Laos",
            "Latvia",
            "Lebanon",
            "Lesotho",
            "Liberia",
            "Libya",
            "Lithuania",
            "Luxembourg",
            "Madagascar",
            "Malawi",
            "Malaysia",
            "Mali",
            "Malta",
            "Mauritania",
            "Mauritius",
            "Mexico",
            "Moldova",
            "Mongolia",
            "Montenegro",
            "Morocco",
            "Mozambique",
            "Myanmar",
            "Namibia",
            "Nepal",
            "Netherlands",
            "New Zealand",
            "Nicaragua",
            "Niger",
            "Nigeria",
            "North Cyprus",
            "North Macedonia",
            "Norway",
            "Pakistan",
            "Palestinian Territories",
            "Panama",
            "Paraguay",
            "Peru",
            "Philippines",
            "Poland",
            "Portugal",
            "Romania",
            "Russia",
            "Rwanda",
            "Saudi Arabia",
            "Senegal",
            "Serbia",
            "Sierra Leone",
            "Singapore",
            "Slovakia",
            "Slovenia",
            "South Africa",
            "South Korea",
            "Spain",
            "Sri Lanka",
            "Swaziland",
            "Sweden",
            "Switzerland",
            "Taiwan Province of China",
            "Tajikistan",
            "Tanzania",
            "Thailand",
            "Togo",
            "Tunisia",
            "Turkey",
            "Turkmenistan",
            "Uganda",
            "Ukraine",
            "United Arab Emirates",
            "United Kingdom",
            "United States",
            "Uruguay",
            "Uzbekistan",
            "Venezuela",
            "Vietnam",
            "Yemen",
            "Zambia",
            "Zimbabwe"
           ],
           "name": "",
           "type": "choropleth",
           "z": [
            2.375,
            4.995,
            4.745,
            6.086,
            5.488,
            7.234,
            7.195,
            5.173,
            7.098,
            5.114,
            5.821,
            6.772,
            4.976,
            5.674,
            6.016,
            3.471,
            6.451,
            5.108,
            4.741,
            4.998,
            4.937,
            7.109,
            4.251,
            5.942,
            5.144,
            6.35,
            4.609,
            5.213,
            6.998,
            5.626,
            6.137,
            7.693,
            6.004,
            5.809,
            4.328,
            6.455,
            6.035,
            4.1,
            7.78,
            6.69,
            4.914,
            5.164,
            4.892,
            7.035,
            4.967,
            5.952,
            6.262,
            4.768,
            5.93,
            5.659,
            6,
            7.533,
            3.249,
            5.347,
            5.006,
            7.255,
            7.332,
            6.445,
            5.392,
            6.309,
            5.908,
            4.453,
            6.272,
            4.619,
            6.425,
            6.106,
            5.685,
            5.197,
            5.97,
            4.024,
            3.512,
            5.121,
            5.33,
            6.064,
            7.404,
            4.339,
            3.869,
            5.428,
            4.988,
            6.733,
            4.153,
            6.241,
            6.432,
            5.803,
            5.563,
            5.386,
            5.057,
            4.932,
            4.434,
            4.436,
            5.449,
            7.425,
            7.205,
            6.113,
            5.004,
            4.356,
            5.467,
            5.015,
            7.442,
            4.443,
            4.483,
            6.086,
            5.653,
            5.999,
            6.268,
            6.242,
            6.095,
            6.13,
            5.441,
            3.268,
            6.561,
            5.489,
            6.241,
            3.447,
            6.378,
            6.243,
            6.665,
            5.035,
            5.903,
            6.457,
            4.213,
            4.396,
            7.398,
            7.694,
            6.537,
            5.464,
            3.64,
            6.022,
            4.179,
            4.315,
            4.872,
            5.474,
            4.948,
            4.702,
            6.711,
            7.157,
            6.944,
            6.6,
            6.154,
            5.081,
            5.467,
            4.197,
            3.307,
            2.694
           ]
          }
         ],
         "name": "2019"
        },
        {
         "data": [
          {
           "coloraxis": "coloraxis",
           "geo": "geo",
           "hovertemplate": "year=2020<br>country=%{location}<br>happiness_score=%{z}<extra></extra>",
           "locationmode": "country names",
           "locations": [
            "Albania",
            "Argentina",
            "Australia",
            "Austria",
            "Bahrain",
            "Bangladesh",
            "Belgium",
            "Benin",
            "Bolivia",
            "Bosnia and Herzegovina",
            "Brazil",
            "Bulgaria",
            "Cambodia",
            "Cameroon",
            "Canada",
            "Chile",
            "China",
            "Colombia",
            "Croatia",
            "Cyprus",
            "Czech Republic",
            "Denmark",
            "Dominican Republic",
            "Ecuador",
            "Egypt",
            "El Salvador",
            "Estonia",
            "Ethiopia",
            "Finland",
            "France",
            "Georgia",
            "Germany",
            "Ghana",
            "Greece",
            "Hong Kong S.A.R. of China",
            "Hungary",
            "Iceland",
            "India",
            "Iran",
            "Iraq",
            "Ireland",
            "Israel",
            "Italy",
            "Ivory Coast",
            "Japan",
            "Jordan",
            "Kazakhstan",
            "Kenya",
            "Kosovo",
            "Kyrgyzstan",
            "Laos",
            "Latvia",
            "Lithuania",
            "Malta",
            "Mauritius",
            "Mexico",
            "Moldova",
            "Mongolia",
            "Montenegro",
            "Morocco",
            "Myanmar",
            "Namibia",
            "Netherlands",
            "New Zealand",
            "Nigeria",
            "North Macedonia",
            "Norway",
            "Philippines",
            "Poland",
            "Portugal",
            "Russia",
            "Saudi Arabia",
            "Serbia",
            "Slovakia",
            "Slovenia",
            "South Africa",
            "South Korea",
            "Spain",
            "Sweden",
            "Switzerland",
            "Taiwan Province of China",
            "Tajikistan",
            "Tanzania",
            "Thailand",
            "Tunisia",
            "Turkey",
            "Uganda",
            "Ukraine",
            "United Arab Emirates",
            "United Kingdom",
            "United States",
            "Uruguay",
            "Venezuela",
            "Zambia",
            "Zimbabwe"
           ],
           "name": "",
           "type": "choropleth",
           "z": [
            5.365,
            5.901,
            7.137,
            7.213,
            6.173,
            5.28,
            6.839,
            4.408,
            5.559,
            5.516,
            6.11,
            5.598,
            4.377,
            5.241,
            7.025,
            6.151,
            5.771,
            5.709,
            6.508,
            6.26,
            6.897,
            7.515,
            5.168,
            5.354,
            4.472,
            5.462,
            6.453,
            4.549,
            7.889,
            6.714,
            5.123,
            7.312,
            5.319,
            5.788,
            5.295,
            6.038,
            7.575,
            4.225,
            4.865,
            4.785,
            7.035,
            7.195,
            6.488,
            5.257,
            6.118,
            4.094,
            6.168,
            4.547,
            6.294,
            6.25,
            5.284,
            6.229,
            6.391,
            6.157,
            6.015,
            5.964,
            5.812,
            6.011,
            5.722,
            4.803,
            4.431,
            4.451,
            7.504,
            7.257,
            5.503,
            5.054,
            7.29,
            5.08,
            6.139,
            5.768,
            5.495,
            6.56,
            6.042,
            6.519,
            6.462,
            4.947,
            5.793,
            6.502,
            7.314,
            7.508,
            6.751,
            5.373,
            3.786,
            5.885,
            4.731,
            4.862,
            4.641,
            5.27,
            6.458,
            6.798,
            7.028,
            6.31,
            4.574,
            4.838,
            3.16
           ]
          }
         ],
         "name": "2020"
        }
       ],
       "layout": {
        "coloraxis": {
         "colorbar": {
          "title": {
           "text": "happiness_score"
          }
         },
         "colorscale": [
          [
           0,
           "#0d0887"
          ],
          [
           0.1111111111111111,
           "#46039f"
          ],
          [
           0.2222222222222222,
           "#7201a8"
          ],
          [
           0.3333333333333333,
           "#9c179e"
          ],
          [
           0.4444444444444444,
           "#bd3786"
          ],
          [
           0.5555555555555556,
           "#d8576b"
          ],
          [
           0.6666666666666666,
           "#ed7953"
          ],
          [
           0.7777777777777778,
           "#fb9f3a"
          ],
          [
           0.8888888888888888,
           "#fdca26"
          ],
          [
           1,
           "#f0f921"
          ]
         ]
        },
        "geo": {
         "center": {},
         "domain": {
          "x": [
           0,
           1
          ],
          "y": [
           0,
           1
          ]
         }
        },
        "height": 700,
        "legend": {
         "tracegroupgap": 0
        },
        "sliders": [
         {
          "active": 0,
          "currentvalue": {
           "prefix": "year="
          },
          "len": 0.9,
          "pad": {
           "b": 10,
           "t": 60
          },
          "steps": [
           {
            "args": [
             [
              "2008"
             ],
             {
              "frame": {
               "duration": 0,
               "redraw": true
              },
              "fromcurrent": true,
              "mode": "immediate",
              "transition": {
               "duration": 0,
               "easing": "linear"
              }
             }
            ],
            "label": "2008",
            "method": "animate"
           },
           {
            "args": [
             [
              "2009"
             ],
             {
              "frame": {
               "duration": 0,
               "redraw": true
              },
              "fromcurrent": true,
              "mode": "immediate",
              "transition": {
               "duration": 0,
               "easing": "linear"
              }
             }
            ],
            "label": "2009",
            "method": "animate"
           },
           {
            "args": [
             [
              "2010"
             ],
             {
              "frame": {
               "duration": 0,
               "redraw": true
              },
              "fromcurrent": true,
              "mode": "immediate",
              "transition": {
               "duration": 0,
               "easing": "linear"
              }
             }
            ],
            "label": "2010",
            "method": "animate"
           },
           {
            "args": [
             [
              "2011"
             ],
             {
              "frame": {
               "duration": 0,
               "redraw": true
              },
              "fromcurrent": true,
              "mode": "immediate",
              "transition": {
               "duration": 0,
               "easing": "linear"
              }
             }
            ],
            "label": "2011",
            "method": "animate"
           },
           {
            "args": [
             [
              "2012"
             ],
             {
              "frame": {
               "duration": 0,
               "redraw": true
              },
              "fromcurrent": true,
              "mode": "immediate",
              "transition": {
               "duration": 0,
               "easing": "linear"
              }
             }
            ],
            "label": "2012",
            "method": "animate"
           },
           {
            "args": [
             [
              "2013"
             ],
             {
              "frame": {
               "duration": 0,
               "redraw": true
              },
              "fromcurrent": true,
              "mode": "immediate",
              "transition": {
               "duration": 0,
               "easing": "linear"
              }
             }
            ],
            "label": "2013",
            "method": "animate"
           },
           {
            "args": [
             [
              "2014"
             ],
             {
              "frame": {
               "duration": 0,
               "redraw": true
              },
              "fromcurrent": true,
              "mode": "immediate",
              "transition": {
               "duration": 0,
               "easing": "linear"
              }
             }
            ],
            "label": "2014",
            "method": "animate"
           },
           {
            "args": [
             [
              "2015"
             ],
             {
              "frame": {
               "duration": 0,
               "redraw": true
              },
              "fromcurrent": true,
              "mode": "immediate",
              "transition": {
               "duration": 0,
               "easing": "linear"
              }
             }
            ],
            "label": "2015",
            "method": "animate"
           },
           {
            "args": [
             [
              "2016"
             ],
             {
              "frame": {
               "duration": 0,
               "redraw": true
              },
              "fromcurrent": true,
              "mode": "immediate",
              "transition": {
               "duration": 0,
               "easing": "linear"
              }
             }
            ],
            "label": "2016",
            "method": "animate"
           },
           {
            "args": [
             [
              "2017"
             ],
             {
              "frame": {
               "duration": 0,
               "redraw": true
              },
              "fromcurrent": true,
              "mode": "immediate",
              "transition": {
               "duration": 0,
               "easing": "linear"
              }
             }
            ],
            "label": "2017",
            "method": "animate"
           },
           {
            "args": [
             [
              "2018"
             ],
             {
              "frame": {
               "duration": 0,
               "redraw": true
              },
              "fromcurrent": true,
              "mode": "immediate",
              "transition": {
               "duration": 0,
               "easing": "linear"
              }
             }
            ],
            "label": "2018",
            "method": "animate"
           },
           {
            "args": [
             [
              "2019"
             ],
             {
              "frame": {
               "duration": 0,
               "redraw": true
              },
              "fromcurrent": true,
              "mode": "immediate",
              "transition": {
               "duration": 0,
               "easing": "linear"
              }
             }
            ],
            "label": "2019",
            "method": "animate"
           },
           {
            "args": [
             [
              "2020"
             ],
             {
              "frame": {
               "duration": 0,
               "redraw": true
              },
              "fromcurrent": true,
              "mode": "immediate",
              "transition": {
               "duration": 0,
               "easing": "linear"
              }
             }
            ],
            "label": "2020",
            "method": "animate"
           }
          ],
          "x": 0.1,
          "xanchor": "left",
          "y": 0,
          "yanchor": "top"
         }
        ],
        "template": {
         "data": {
          "bar": [
           {
            "error_x": {
             "color": "#2a3f5f"
            },
            "error_y": {
             "color": "#2a3f5f"
            },
            "marker": {
             "line": {
              "color": "#E5ECF6",
              "width": 0.5
             },
             "pattern": {
              "fillmode": "overlay",
              "size": 10,
              "solidity": 0.2
             }
            },
            "type": "bar"
           }
          ],
          "barpolar": [
           {
            "marker": {
             "line": {
              "color": "#E5ECF6",
              "width": 0.5
             },
             "pattern": {
              "fillmode": "overlay",
              "size": 10,
              "solidity": 0.2
             }
            },
            "type": "barpolar"
           }
          ],
          "carpet": [
           {
            "aaxis": {
             "endlinecolor": "#2a3f5f",
             "gridcolor": "white",
             "linecolor": "white",
             "minorgridcolor": "white",
             "startlinecolor": "#2a3f5f"
            },
            "baxis": {
             "endlinecolor": "#2a3f5f",
             "gridcolor": "white",
             "linecolor": "white",
             "minorgridcolor": "white",
             "startlinecolor": "#2a3f5f"
            },
            "type": "carpet"
           }
          ],
          "choropleth": [
           {
            "colorbar": {
             "outlinewidth": 0,
             "ticks": ""
            },
            "type": "choropleth"
           }
          ],
          "contour": [
           {
            "colorbar": {
             "outlinewidth": 0,
             "ticks": ""
            },
            "colorscale": [
             [
              0,
              "#0d0887"
             ],
             [
              0.1111111111111111,
              "#46039f"
             ],
             [
              0.2222222222222222,
              "#7201a8"
             ],
             [
              0.3333333333333333,
              "#9c179e"
             ],
             [
              0.4444444444444444,
              "#bd3786"
             ],
             [
              0.5555555555555556,
              "#d8576b"
             ],
             [
              0.6666666666666666,
              "#ed7953"
             ],
             [
              0.7777777777777778,
              "#fb9f3a"
             ],
             [
              0.8888888888888888,
              "#fdca26"
             ],
             [
              1,
              "#f0f921"
             ]
            ],
            "type": "contour"
           }
          ],
          "contourcarpet": [
           {
            "colorbar": {
             "outlinewidth": 0,
             "ticks": ""
            },
            "type": "contourcarpet"
           }
          ],
          "heatmap": [
           {
            "colorbar": {
             "outlinewidth": 0,
             "ticks": ""
            },
            "colorscale": [
             [
              0,
              "#0d0887"
             ],
             [
              0.1111111111111111,
              "#46039f"
             ],
             [
              0.2222222222222222,
              "#7201a8"
             ],
             [
              0.3333333333333333,
              "#9c179e"
             ],
             [
              0.4444444444444444,
              "#bd3786"
             ],
             [
              0.5555555555555556,
              "#d8576b"
             ],
             [
              0.6666666666666666,
              "#ed7953"
             ],
             [
              0.7777777777777778,
              "#fb9f3a"
             ],
             [
              0.8888888888888888,
              "#fdca26"
             ],
             [
              1,
              "#f0f921"
             ]
            ],
            "type": "heatmap"
           }
          ],
          "heatmapgl": [
           {
            "colorbar": {
             "outlinewidth": 0,
             "ticks": ""
            },
            "colorscale": [
             [
              0,
              "#0d0887"
             ],
             [
              0.1111111111111111,
              "#46039f"
             ],
             [
              0.2222222222222222,
              "#7201a8"
             ],
             [
              0.3333333333333333,
              "#9c179e"
             ],
             [
              0.4444444444444444,
              "#bd3786"
             ],
             [
              0.5555555555555556,
              "#d8576b"
             ],
             [
              0.6666666666666666,
              "#ed7953"
             ],
             [
              0.7777777777777778,
              "#fb9f3a"
             ],
             [
              0.8888888888888888,
              "#fdca26"
             ],
             [
              1,
              "#f0f921"
             ]
            ],
            "type": "heatmapgl"
           }
          ],
          "histogram": [
           {
            "marker": {
             "pattern": {
              "fillmode": "overlay",
              "size": 10,
              "solidity": 0.2
             }
            },
            "type": "histogram"
           }
          ],
          "histogram2d": [
           {
            "colorbar": {
             "outlinewidth": 0,
             "ticks": ""
            },
            "colorscale": [
             [
              0,
              "#0d0887"
             ],
             [
              0.1111111111111111,
              "#46039f"
             ],
             [
              0.2222222222222222,
              "#7201a8"
             ],
             [
              0.3333333333333333,
              "#9c179e"
             ],
             [
              0.4444444444444444,
              "#bd3786"
             ],
             [
              0.5555555555555556,
              "#d8576b"
             ],
             [
              0.6666666666666666,
              "#ed7953"
             ],
             [
              0.7777777777777778,
              "#fb9f3a"
             ],
             [
              0.8888888888888888,
              "#fdca26"
             ],
             [
              1,
              "#f0f921"
             ]
            ],
            "type": "histogram2d"
           }
          ],
          "histogram2dcontour": [
           {
            "colorbar": {
             "outlinewidth": 0,
             "ticks": ""
            },
            "colorscale": [
             [
              0,
              "#0d0887"
             ],
             [
              0.1111111111111111,
              "#46039f"
             ],
             [
              0.2222222222222222,
              "#7201a8"
             ],
             [
              0.3333333333333333,
              "#9c179e"
             ],
             [
              0.4444444444444444,
              "#bd3786"
             ],
             [
              0.5555555555555556,
              "#d8576b"
             ],
             [
              0.6666666666666666,
              "#ed7953"
             ],
             [
              0.7777777777777778,
              "#fb9f3a"
             ],
             [
              0.8888888888888888,
              "#fdca26"
             ],
             [
              1,
              "#f0f921"
             ]
            ],
            "type": "histogram2dcontour"
           }
          ],
          "mesh3d": [
           {
            "colorbar": {
             "outlinewidth": 0,
             "ticks": ""
            },
            "type": "mesh3d"
           }
          ],
          "parcoords": [
           {
            "line": {
             "colorbar": {
              "outlinewidth": 0,
              "ticks": ""
             }
            },
            "type": "parcoords"
           }
          ],
          "pie": [
           {
            "automargin": true,
            "type": "pie"
           }
          ],
          "scatter": [
           {
            "fillpattern": {
             "fillmode": "overlay",
             "size": 10,
             "solidity": 0.2
            },
            "type": "scatter"
           }
          ],
          "scatter3d": [
           {
            "line": {
             "colorbar": {
              "outlinewidth": 0,
              "ticks": ""
             }
            },
            "marker": {
             "colorbar": {
              "outlinewidth": 0,
              "ticks": ""
             }
            },
            "type": "scatter3d"
           }
          ],
          "scattercarpet": [
           {
            "marker": {
             "colorbar": {
              "outlinewidth": 0,
              "ticks": ""
             }
            },
            "type": "scattercarpet"
           }
          ],
          "scattergeo": [
           {
            "marker": {
             "colorbar": {
              "outlinewidth": 0,
              "ticks": ""
             }
            },
            "type": "scattergeo"
           }
          ],
          "scattergl": [
           {
            "marker": {
             "colorbar": {
              "outlinewidth": 0,
              "ticks": ""
             }
            },
            "type": "scattergl"
           }
          ],
          "scattermapbox": [
           {
            "marker": {
             "colorbar": {
              "outlinewidth": 0,
              "ticks": ""
             }
            },
            "type": "scattermapbox"
           }
          ],
          "scatterpolar": [
           {
            "marker": {
             "colorbar": {
              "outlinewidth": 0,
              "ticks": ""
             }
            },
            "type": "scatterpolar"
           }
          ],
          "scatterpolargl": [
           {
            "marker": {
             "colorbar": {
              "outlinewidth": 0,
              "ticks": ""
             }
            },
            "type": "scatterpolargl"
           }
          ],
          "scatterternary": [
           {
            "marker": {
             "colorbar": {
              "outlinewidth": 0,
              "ticks": ""
             }
            },
            "type": "scatterternary"
           }
          ],
          "surface": [
           {
            "colorbar": {
             "outlinewidth": 0,
             "ticks": ""
            },
            "colorscale": [
             [
              0,
              "#0d0887"
             ],
             [
              0.1111111111111111,
              "#46039f"
             ],
             [
              0.2222222222222222,
              "#7201a8"
             ],
             [
              0.3333333333333333,
              "#9c179e"
             ],
             [
              0.4444444444444444,
              "#bd3786"
             ],
             [
              0.5555555555555556,
              "#d8576b"
             ],
             [
              0.6666666666666666,
              "#ed7953"
             ],
             [
              0.7777777777777778,
              "#fb9f3a"
             ],
             [
              0.8888888888888888,
              "#fdca26"
             ],
             [
              1,
              "#f0f921"
             ]
            ],
            "type": "surface"
           }
          ],
          "table": [
           {
            "cells": {
             "fill": {
              "color": "#EBF0F8"
             },
             "line": {
              "color": "white"
             }
            },
            "header": {
             "fill": {
              "color": "#C8D4E3"
             },
             "line": {
              "color": "white"
             }
            },
            "type": "table"
           }
          ]
         },
         "layout": {
          "annotationdefaults": {
           "arrowcolor": "#2a3f5f",
           "arrowhead": 0,
           "arrowwidth": 1
          },
          "autotypenumbers": "strict",
          "coloraxis": {
           "colorbar": {
            "outlinewidth": 0,
            "ticks": ""
           }
          },
          "colorscale": {
           "diverging": [
            [
             0,
             "#8e0152"
            ],
            [
             0.1,
             "#c51b7d"
            ],
            [
             0.2,
             "#de77ae"
            ],
            [
             0.3,
             "#f1b6da"
            ],
            [
             0.4,
             "#fde0ef"
            ],
            [
             0.5,
             "#f7f7f7"
            ],
            [
             0.6,
             "#e6f5d0"
            ],
            [
             0.7,
             "#b8e186"
            ],
            [
             0.8,
             "#7fbc41"
            ],
            [
             0.9,
             "#4d9221"
            ],
            [
             1,
             "#276419"
            ]
           ],
           "sequential": [
            [
             0,
             "#0d0887"
            ],
            [
             0.1111111111111111,
             "#46039f"
            ],
            [
             0.2222222222222222,
             "#7201a8"
            ],
            [
             0.3333333333333333,
             "#9c179e"
            ],
            [
             0.4444444444444444,
             "#bd3786"
            ],
            [
             0.5555555555555556,
             "#d8576b"
            ],
            [
             0.6666666666666666,
             "#ed7953"
            ],
            [
             0.7777777777777778,
             "#fb9f3a"
            ],
            [
             0.8888888888888888,
             "#fdca26"
            ],
            [
             1,
             "#f0f921"
            ]
           ],
           "sequentialminus": [
            [
             0,
             "#0d0887"
            ],
            [
             0.1111111111111111,
             "#46039f"
            ],
            [
             0.2222222222222222,
             "#7201a8"
            ],
            [
             0.3333333333333333,
             "#9c179e"
            ],
            [
             0.4444444444444444,
             "#bd3786"
            ],
            [
             0.5555555555555556,
             "#d8576b"
            ],
            [
             0.6666666666666666,
             "#ed7953"
            ],
            [
             0.7777777777777778,
             "#fb9f3a"
            ],
            [
             0.8888888888888888,
             "#fdca26"
            ],
            [
             1,
             "#f0f921"
            ]
           ]
          },
          "colorway": [
           "#636efa",
           "#EF553B",
           "#00cc96",
           "#ab63fa",
           "#FFA15A",
           "#19d3f3",
           "#FF6692",
           "#B6E880",
           "#FF97FF",
           "#FECB52"
          ],
          "font": {
           "color": "#2a3f5f",
           "family": "Times New Roman",
           "size": 14
          },
          "geo": {
           "bgcolor": "white",
           "lakecolor": "white",
           "landcolor": "#E5ECF6",
           "showlakes": true,
           "showland": true,
           "subunitcolor": "white"
          },
          "hoverlabel": {
           "align": "left"
          },
          "hovermode": "closest",
          "mapbox": {
           "style": "light"
          },
          "paper_bgcolor": "white",
          "plot_bgcolor": "#E5ECF6",
          "polar": {
           "angularaxis": {
            "gridcolor": "white",
            "linecolor": "white",
            "ticks": ""
           },
           "bgcolor": "#E5ECF6",
           "radialaxis": {
            "gridcolor": "white",
            "linecolor": "white",
            "ticks": ""
           }
          },
          "scene": {
           "xaxis": {
            "backgroundcolor": "#E5ECF6",
            "gridcolor": "white",
            "gridwidth": 2,
            "linecolor": "white",
            "showbackground": true,
            "ticks": "",
            "zerolinecolor": "white"
           },
           "yaxis": {
            "backgroundcolor": "#E5ECF6",
            "gridcolor": "white",
            "gridwidth": 2,
            "linecolor": "white",
            "showbackground": true,
            "ticks": "",
            "zerolinecolor": "white"
           },
           "zaxis": {
            "backgroundcolor": "#E5ECF6",
            "gridcolor": "white",
            "gridwidth": 2,
            "linecolor": "white",
            "showbackground": true,
            "ticks": "",
            "zerolinecolor": "white"
           }
          },
          "shapedefaults": {
           "line": {
            "color": "#2a3f5f"
           }
          },
          "ternary": {
           "aaxis": {
            "gridcolor": "white",
            "linecolor": "white",
            "ticks": ""
           },
           "baxis": {
            "gridcolor": "white",
            "linecolor": "white",
            "ticks": ""
           },
           "bgcolor": "#E5ECF6",
           "caxis": {
            "gridcolor": "white",
            "linecolor": "white",
            "ticks": ""
           }
          },
          "title": {
           "x": 0.05
          },
          "xaxis": {
           "automargin": true,
           "gridcolor": "white",
           "linecolor": "white",
           "ticks": "",
           "title": {
            "standoff": 15
           },
           "zerolinecolor": "white",
           "zerolinewidth": 2
          },
          "yaxis": {
           "automargin": true,
           "gridcolor": "white",
           "linecolor": "white",
           "ticks": "",
           "title": {
            "standoff": 15
           },
           "zerolinecolor": "white",
           "zerolinewidth": 2
          }
         }
        },
        "title": {
         "text": "Global Happiness Over Time (2008-2021)"
        },
        "updatemenus": [
         {
          "buttons": [
           {
            "args": [
             null,
             {
              "frame": {
               "duration": 500,
               "redraw": true
              },
              "fromcurrent": true,
              "mode": "immediate",
              "transition": {
               "duration": 500,
               "easing": "linear"
              }
             }
            ],
            "label": "&#9654;",
            "method": "animate"
           },
           {
            "args": [
             [
              null
             ],
             {
              "frame": {
               "duration": 0,
               "redraw": true
              },
              "fromcurrent": true,
              "mode": "immediate",
              "transition": {
               "duration": 0,
               "easing": "linear"
              }
             }
            ],
            "label": "&#9724;",
            "method": "animate"
           }
          ],
          "direction": "left",
          "pad": {
           "r": 10,
           "t": 70
          },
          "showactive": false,
          "type": "buttons",
          "x": 0.1,
          "xanchor": "right",
          "y": 0,
          "yanchor": "top"
         }
        ],
        "width": 1200
       }
      }
     },
     "metadata": {},
     "output_type": "display_data"
    }
   ],
   "source": [
    "# Animated Happiness Over Time (larger size)\n",
    "if all(col in df_all.columns for col in [\"country\", \"year\", \"happiness_score\"]):\n",
    "    df_anim = df_all[(df_all[\"year\"] >= 2008) & (df_all[\"year\"] <= 2022)][[\"country\", \"year\", \"happiness_score\"]].dropna()\n",
    "    fig2 = px.choropleth(\n",
    "        df_anim,\n",
    "        locations=\"country\",\n",
    "        locationmode=\"country names\",\n",
    "        color=\"happiness_score\",\n",
    "        animation_frame=\"year\",\n",
    "        title=\"Global Happiness Over Time (2008-2021)\",\n",
    "        color_continuous_scale=\"Plasma\",\n",
    "        width=1200,\n",
    "        height=700\n",
    "    )\n",
    "    fig2.show()"
   ]
  },
  {
   "cell_type": "markdown",
   "id": "056fa759",
   "metadata": {},
   "source": [
    "------\n",
    "# 1. Regional Contributions\n",
    "------"
   ]
  },
  {
   "cell_type": "markdown",
   "id": "19aa9432",
   "metadata": {},
   "source": [
    "## Regional Contributors: Understanding Regional Patterns in Happiness\n",
    "\n",
    "The \"Regional Contributors\" section explores how happiness scores and their underlying factors vary across different regions of the world. This analysis helps us identify not only which regions are the happiest, but also the unique social, economic, and cultural drivers behind these patterns.\n",
    "\n",
    "### Key Visualizations\n",
    "\n",
    "- **Boxplot of Happiness by Region:**  \n",
    "    This plot shows the distribution of happiness scores within each region. It highlights both the median happiness and the spread (inequality) within regions, revealing which areas have consistently high or low happiness and where disparities are greatest.\n",
    "\n",
    "- **Treemap of Regional and Country Contributions:**  \n",
    "    The treemap visualizes the hierarchical structure of happiness, starting from regions and drilling down to individual countries. The size and color of each box represent the happiness score, making it easy to spot regional leaders and laggards.\n",
    "\n",
    "### Insights from the Analysis\n",
    "\n",
    "- **Regional Differences:**  \n",
    "    Western Europe and North America & ANZ (Australia and New Zealand) consistently rank at the top, with high median happiness and relatively low internal disparities. Sub-Saharan Africa and South Asia, on the other hand, tend to have lower average scores and greater variability.\n",
    "\n",
    "- **Drivers of Regional Happiness:**  \n",
    "    The factors contributing to happiness—such as GDP per capita, social support, and healthy life expectancy—also vary by region. Wealthier regions benefit from higher economic security and stronger social networks, while regions with lower scores often face challenges related to governance, health, or economic instability.\n",
    "\n",
    "- **Inequality Within Regions:**  \n",
    "    The boxplot reveals that some regions, like Latin America and the Caribbean, have a wide range of happiness scores, indicating significant differences between countries within the same region.\n",
    "\n",
    "- **Policy Implications:**  \n",
    "    Understanding regional contributors allows policymakers to tailor interventions. For example, boosting social support may be more effective in some regions, while improving governance or health infrastructure could be key elsewhere.\n",
    "\n",
    "### Why Regional Analysis Matters\n",
    "\n",
    "- **Contextual Understanding:**  \n",
    "    Happiness is not determined by a single factor but by a combination of influences that differ by region. Regional analysis uncovers these nuances.\n",
    "\n",
    "- **Benchmarking and Best Practices:**  \n",
    "    By comparing regions, we can identify successful policies and cultural practices that could be adapted elsewhere.\n",
    "\n",
    "- **Targeted Solutions:**  \n",
    "    Recognizing regional strengths and weaknesses enables more effective, context-sensitive strategies to improve well-being.\n",
    "\n",
    "---\n",
    "\n",
    "**In summary:**  \n",
    "The regional contributors section provides a comprehensive look at how happiness is distributed around the world, what drives these differences, and how this knowledge can inform better policy and societal outcomes."
   ]
  },
  {
   "cell_type": "code",
   "execution_count": 93,
   "id": "7e40ea93",
   "metadata": {},
   "outputs": [
    {
     "data": {
      "application/vnd.plotly.v1+json": {
       "config": {
        "plotlyServerURL": "https://plot.ly"
       },
       "data": [
        {
         "alignmentgroup": "True",
         "hovertemplate": "region=%{x}<br>happiness_score=%{y}<extra></extra>",
         "legendgroup": "",
         "marker": {
          "color": "#636efa"
         },
         "name": "",
         "notched": false,
         "offsetgroup": "",
         "orientation": "v",
         "showlegend": false,
         "type": "box",
         "x": [
          "Western Europe",
          "Western Europe",
          "Western Europe",
          "Western Europe",
          "Western Europe",
          "Western Europe",
          "Western Europe",
          "Western Europe",
          "North America and ANZ",
          "Western Europe",
          "North America and ANZ",
          "Middle East and North Africa",
          "Western Europe",
          "North America and ANZ",
          "Western Europe",
          "Latin America and Caribbean",
          "Western Europe",
          "Central and Eastern Europe",
          "North America and ANZ",
          "Western Europe",
          "Western Europe",
          "Middle East and North Africa",
          "Western Europe",
          "East Asia",
          "Middle East and North Africa",
          "Middle East and North Africa",
          "Western Europe",
          "Western Europe",
          "Central and Eastern Europe",
          "Latin America and Caribbean",
          "Latin America and Caribbean",
          "Southeast Asia",
          "Central and Eastern Europe",
          "Central and Eastern Europe",
          "Latin America and Caribbean",
          "Latin America and Caribbean",
          "Latin America and Caribbean",
          "Central and Eastern Europe",
          "Western Europe",
          "Central and Eastern Europe",
          "Latin America and Caribbean",
          "Commonwealth of Independent States",
          "Latin America and Caribbean",
          "Central and Eastern Europe",
          "Commonwealth of Independent States",
          "Central and Eastern Europe",
          "Middle East and North Africa",
          "Central and Eastern Europe",
          "Latin America and Caribbean",
          "Sub-Saharan Africa",
          "Central and Eastern Europe",
          "Latin America and Caribbean",
          "Central and Eastern Europe",
          "Southeast Asia",
          "Latin America and Caribbean",
          "East Asia",
          "Latin America and Caribbean",
          "Western Europe",
          "Latin America and Caribbean",
          "Central and Eastern Europe",
          "Southeast Asia",
          "East Asia",
          "Latin America and Caribbean",
          "Central and Eastern Europe",
          "Commonwealth of Independent States",
          "Latin America and Caribbean",
          "Commonwealth of Independent States",
          "Western Europe",
          "Latin America and Caribbean",
          "East Asia",
          "Latin America and Caribbean",
          "Central and Eastern Europe",
          "Latin America and Caribbean",
          "Western Europe",
          "Commonwealth of Independent States",
          "Commonwealth of Independent States",
          "East Asia",
          "Commonwealth of Independent States",
          "Southeast Asia",
          "Middle East and North Africa",
          "Southeast Asia",
          "Southeast Asia",
          "Sub-Saharan Africa",
          "East Asia",
          "Sub-Saharan Africa",
          "Commonwealth of Independent States",
          "South Asia",
          "Central and Eastern Europe",
          "South Asia",
          "Commonwealth of Independent States",
          "Sub-Saharan Africa",
          "Sub-Saharan Africa",
          "Central and Eastern Europe",
          "Central and Eastern Europe",
          "Sub-Saharan Africa",
          "Sub-Saharan Africa",
          "Commonwealth of Independent States",
          "Sub-Saharan Africa",
          "Sub-Saharan Africa",
          "Southeast Asia",
          "South Asia",
          "Sub-Saharan Africa",
          "Sub-Saharan Africa",
          "Middle East and North Africa",
          "South Asia",
          "Middle East and North Africa",
          "Latin America and Caribbean",
          "Commonwealth of Independent States",
          "Middle East and North Africa",
          "Commonwealth of Independent States",
          "Middle East and North Africa",
          "Sub-Saharan Africa",
          "Sub-Saharan Africa",
          "Southeast Asia",
          "Sub-Saharan Africa",
          "Sub-Saharan Africa",
          "Sub-Saharan Africa",
          "Middle East and North Africa",
          "Sub-Saharan Africa",
          "Sub-Saharan Africa",
          "Sub-Saharan Africa",
          "Middle East and North Africa",
          "Middle East and North Africa",
          "Sub-Saharan Africa",
          "Middle East and North Africa",
          "Southeast Asia",
          "Middle East and North Africa",
          "Sub-Saharan Africa",
          "South Asia",
          "Sub-Saharan Africa",
          "Sub-Saharan Africa",
          "Middle East and North Africa",
          "Sub-Saharan Africa",
          "Sub-Saharan Africa",
          "Sub-Saharan Africa",
          "Sub-Saharan Africa",
          "Sub-Saharan Africa",
          "Sub-Saharan Africa",
          "South Asia",
          "Sub-Saharan Africa",
          "Middle East and North Africa",
          "Sub-Saharan Africa",
          "Latin America and Caribbean",
          "Sub-Saharan Africa",
          "Sub-Saharan Africa",
          "Sub-Saharan Africa",
          "Sub-Saharan Africa",
          "Sub-Saharan Africa",
          "South Asia"
         ],
         "x0": " ",
         "xaxis": "x",
         "y": [
          7.842,
          7.62,
          7.571,
          7.554,
          7.464,
          7.392,
          7.363,
          7.324,
          7.277,
          7.268,
          7.183,
          7.157,
          7.155,
          7.103,
          7.085,
          7.069,
          7.064,
          6.965,
          6.951,
          6.834,
          6.69,
          6.647,
          6.602,
          6.584,
          6.561,
          6.494,
          6.491,
          6.483,
          6.461,
          6.435,
          6.431,
          6.377,
          6.372,
          6.331,
          6.33,
          6.317,
          6.309,
          6.255,
          6.223,
          6.189,
          6.18,
          6.179,
          6.172,
          6.166,
          6.152,
          6.14,
          6.106,
          6.078,
          6.061,
          6.049,
          6.032,
          6.012,
          5.992,
          5.985,
          5.972,
          5.94,
          5.929,
          5.929,
          5.919,
          5.882,
          5.88,
          5.845,
          5.84,
          5.813,
          5.766,
          5.764,
          5.744,
          5.723,
          5.716,
          5.677,
          5.653,
          5.581,
          5.545,
          5.536,
          5.534,
          5.477,
          5.477,
          5.466,
          5.411,
          5.41,
          5.384,
          5.345,
          5.342,
          5.339,
          5.306,
          5.283,
          5.269,
          5.266,
          5.198,
          5.171,
          5.142,
          5.132,
          5.117,
          5.101,
          5.088,
          5.074,
          5.066,
          5.051,
          5.045,
          5.03,
          5.025,
          4.984,
          4.956,
          4.948,
          4.934,
          4.918,
          4.892,
          4.891,
          4.887,
          4.875,
          4.854,
          4.852,
          4.834,
          4.83,
          4.794,
          4.759,
          4.723,
          4.721,
          4.636,
          4.625,
          4.607,
          4.596,
          4.584,
          4.574,
          4.517,
          4.426,
          4.395,
          4.355,
          4.325,
          4.308,
          4.289,
          4.283,
          4.275,
          4.227,
          4.208,
          4.107,
          4.073,
          3.849,
          3.819,
          3.775,
          3.658,
          3.623,
          3.615,
          3.6,
          3.512,
          3.467,
          3.415,
          3.145,
          2.523
         ],
         "y0": " ",
         "yaxis": "y"
        }
       ],
       "layout": {
        "boxmode": "group",
        "height": 700,
        "legend": {
         "tracegroupgap": 0
        },
        "template": {
         "data": {
          "bar": [
           {
            "error_x": {
             "color": "#2a3f5f"
            },
            "error_y": {
             "color": "#2a3f5f"
            },
            "marker": {
             "line": {
              "color": "#E5ECF6",
              "width": 0.5
             },
             "pattern": {
              "fillmode": "overlay",
              "size": 10,
              "solidity": 0.2
             }
            },
            "type": "bar"
           }
          ],
          "barpolar": [
           {
            "marker": {
             "line": {
              "color": "#E5ECF6",
              "width": 0.5
             },
             "pattern": {
              "fillmode": "overlay",
              "size": 10,
              "solidity": 0.2
             }
            },
            "type": "barpolar"
           }
          ],
          "carpet": [
           {
            "aaxis": {
             "endlinecolor": "#2a3f5f",
             "gridcolor": "white",
             "linecolor": "white",
             "minorgridcolor": "white",
             "startlinecolor": "#2a3f5f"
            },
            "baxis": {
             "endlinecolor": "#2a3f5f",
             "gridcolor": "white",
             "linecolor": "white",
             "minorgridcolor": "white",
             "startlinecolor": "#2a3f5f"
            },
            "type": "carpet"
           }
          ],
          "choropleth": [
           {
            "colorbar": {
             "outlinewidth": 0,
             "ticks": ""
            },
            "type": "choropleth"
           }
          ],
          "contour": [
           {
            "colorbar": {
             "outlinewidth": 0,
             "ticks": ""
            },
            "colorscale": [
             [
              0,
              "#0d0887"
             ],
             [
              0.1111111111111111,
              "#46039f"
             ],
             [
              0.2222222222222222,
              "#7201a8"
             ],
             [
              0.3333333333333333,
              "#9c179e"
             ],
             [
              0.4444444444444444,
              "#bd3786"
             ],
             [
              0.5555555555555556,
              "#d8576b"
             ],
             [
              0.6666666666666666,
              "#ed7953"
             ],
             [
              0.7777777777777778,
              "#fb9f3a"
             ],
             [
              0.8888888888888888,
              "#fdca26"
             ],
             [
              1,
              "#f0f921"
             ]
            ],
            "type": "contour"
           }
          ],
          "contourcarpet": [
           {
            "colorbar": {
             "outlinewidth": 0,
             "ticks": ""
            },
            "type": "contourcarpet"
           }
          ],
          "heatmap": [
           {
            "colorbar": {
             "outlinewidth": 0,
             "ticks": ""
            },
            "colorscale": [
             [
              0,
              "#0d0887"
             ],
             [
              0.1111111111111111,
              "#46039f"
             ],
             [
              0.2222222222222222,
              "#7201a8"
             ],
             [
              0.3333333333333333,
              "#9c179e"
             ],
             [
              0.4444444444444444,
              "#bd3786"
             ],
             [
              0.5555555555555556,
              "#d8576b"
             ],
             [
              0.6666666666666666,
              "#ed7953"
             ],
             [
              0.7777777777777778,
              "#fb9f3a"
             ],
             [
              0.8888888888888888,
              "#fdca26"
             ],
             [
              1,
              "#f0f921"
             ]
            ],
            "type": "heatmap"
           }
          ],
          "heatmapgl": [
           {
            "colorbar": {
             "outlinewidth": 0,
             "ticks": ""
            },
            "colorscale": [
             [
              0,
              "#0d0887"
             ],
             [
              0.1111111111111111,
              "#46039f"
             ],
             [
              0.2222222222222222,
              "#7201a8"
             ],
             [
              0.3333333333333333,
              "#9c179e"
             ],
             [
              0.4444444444444444,
              "#bd3786"
             ],
             [
              0.5555555555555556,
              "#d8576b"
             ],
             [
              0.6666666666666666,
              "#ed7953"
             ],
             [
              0.7777777777777778,
              "#fb9f3a"
             ],
             [
              0.8888888888888888,
              "#fdca26"
             ],
             [
              1,
              "#f0f921"
             ]
            ],
            "type": "heatmapgl"
           }
          ],
          "histogram": [
           {
            "marker": {
             "pattern": {
              "fillmode": "overlay",
              "size": 10,
              "solidity": 0.2
             }
            },
            "type": "histogram"
           }
          ],
          "histogram2d": [
           {
            "colorbar": {
             "outlinewidth": 0,
             "ticks": ""
            },
            "colorscale": [
             [
              0,
              "#0d0887"
             ],
             [
              0.1111111111111111,
              "#46039f"
             ],
             [
              0.2222222222222222,
              "#7201a8"
             ],
             [
              0.3333333333333333,
              "#9c179e"
             ],
             [
              0.4444444444444444,
              "#bd3786"
             ],
             [
              0.5555555555555556,
              "#d8576b"
             ],
             [
              0.6666666666666666,
              "#ed7953"
             ],
             [
              0.7777777777777778,
              "#fb9f3a"
             ],
             [
              0.8888888888888888,
              "#fdca26"
             ],
             [
              1,
              "#f0f921"
             ]
            ],
            "type": "histogram2d"
           }
          ],
          "histogram2dcontour": [
           {
            "colorbar": {
             "outlinewidth": 0,
             "ticks": ""
            },
            "colorscale": [
             [
              0,
              "#0d0887"
             ],
             [
              0.1111111111111111,
              "#46039f"
             ],
             [
              0.2222222222222222,
              "#7201a8"
             ],
             [
              0.3333333333333333,
              "#9c179e"
             ],
             [
              0.4444444444444444,
              "#bd3786"
             ],
             [
              0.5555555555555556,
              "#d8576b"
             ],
             [
              0.6666666666666666,
              "#ed7953"
             ],
             [
              0.7777777777777778,
              "#fb9f3a"
             ],
             [
              0.8888888888888888,
              "#fdca26"
             ],
             [
              1,
              "#f0f921"
             ]
            ],
            "type": "histogram2dcontour"
           }
          ],
          "mesh3d": [
           {
            "colorbar": {
             "outlinewidth": 0,
             "ticks": ""
            },
            "type": "mesh3d"
           }
          ],
          "parcoords": [
           {
            "line": {
             "colorbar": {
              "outlinewidth": 0,
              "ticks": ""
             }
            },
            "type": "parcoords"
           }
          ],
          "pie": [
           {
            "automargin": true,
            "type": "pie"
           }
          ],
          "scatter": [
           {
            "fillpattern": {
             "fillmode": "overlay",
             "size": 10,
             "solidity": 0.2
            },
            "type": "scatter"
           }
          ],
          "scatter3d": [
           {
            "line": {
             "colorbar": {
              "outlinewidth": 0,
              "ticks": ""
             }
            },
            "marker": {
             "colorbar": {
              "outlinewidth": 0,
              "ticks": ""
             }
            },
            "type": "scatter3d"
           }
          ],
          "scattercarpet": [
           {
            "marker": {
             "colorbar": {
              "outlinewidth": 0,
              "ticks": ""
             }
            },
            "type": "scattercarpet"
           }
          ],
          "scattergeo": [
           {
            "marker": {
             "colorbar": {
              "outlinewidth": 0,
              "ticks": ""
             }
            },
            "type": "scattergeo"
           }
          ],
          "scattergl": [
           {
            "marker": {
             "colorbar": {
              "outlinewidth": 0,
              "ticks": ""
             }
            },
            "type": "scattergl"
           }
          ],
          "scattermapbox": [
           {
            "marker": {
             "colorbar": {
              "outlinewidth": 0,
              "ticks": ""
             }
            },
            "type": "scattermapbox"
           }
          ],
          "scatterpolar": [
           {
            "marker": {
             "colorbar": {
              "outlinewidth": 0,
              "ticks": ""
             }
            },
            "type": "scatterpolar"
           }
          ],
          "scatterpolargl": [
           {
            "marker": {
             "colorbar": {
              "outlinewidth": 0,
              "ticks": ""
             }
            },
            "type": "scatterpolargl"
           }
          ],
          "scatterternary": [
           {
            "marker": {
             "colorbar": {
              "outlinewidth": 0,
              "ticks": ""
             }
            },
            "type": "scatterternary"
           }
          ],
          "surface": [
           {
            "colorbar": {
             "outlinewidth": 0,
             "ticks": ""
            },
            "colorscale": [
             [
              0,
              "#0d0887"
             ],
             [
              0.1111111111111111,
              "#46039f"
             ],
             [
              0.2222222222222222,
              "#7201a8"
             ],
             [
              0.3333333333333333,
              "#9c179e"
             ],
             [
              0.4444444444444444,
              "#bd3786"
             ],
             [
              0.5555555555555556,
              "#d8576b"
             ],
             [
              0.6666666666666666,
              "#ed7953"
             ],
             [
              0.7777777777777778,
              "#fb9f3a"
             ],
             [
              0.8888888888888888,
              "#fdca26"
             ],
             [
              1,
              "#f0f921"
             ]
            ],
            "type": "surface"
           }
          ],
          "table": [
           {
            "cells": {
             "fill": {
              "color": "#EBF0F8"
             },
             "line": {
              "color": "white"
             }
            },
            "header": {
             "fill": {
              "color": "#C8D4E3"
             },
             "line": {
              "color": "white"
             }
            },
            "type": "table"
           }
          ]
         },
         "layout": {
          "annotationdefaults": {
           "arrowcolor": "#2a3f5f",
           "arrowhead": 0,
           "arrowwidth": 1
          },
          "autotypenumbers": "strict",
          "coloraxis": {
           "colorbar": {
            "outlinewidth": 0,
            "ticks": ""
           }
          },
          "colorscale": {
           "diverging": [
            [
             0,
             "#8e0152"
            ],
            [
             0.1,
             "#c51b7d"
            ],
            [
             0.2,
             "#de77ae"
            ],
            [
             0.3,
             "#f1b6da"
            ],
            [
             0.4,
             "#fde0ef"
            ],
            [
             0.5,
             "#f7f7f7"
            ],
            [
             0.6,
             "#e6f5d0"
            ],
            [
             0.7,
             "#b8e186"
            ],
            [
             0.8,
             "#7fbc41"
            ],
            [
             0.9,
             "#4d9221"
            ],
            [
             1,
             "#276419"
            ]
           ],
           "sequential": [
            [
             0,
             "#0d0887"
            ],
            [
             0.1111111111111111,
             "#46039f"
            ],
            [
             0.2222222222222222,
             "#7201a8"
            ],
            [
             0.3333333333333333,
             "#9c179e"
            ],
            [
             0.4444444444444444,
             "#bd3786"
            ],
            [
             0.5555555555555556,
             "#d8576b"
            ],
            [
             0.6666666666666666,
             "#ed7953"
            ],
            [
             0.7777777777777778,
             "#fb9f3a"
            ],
            [
             0.8888888888888888,
             "#fdca26"
            ],
            [
             1,
             "#f0f921"
            ]
           ],
           "sequentialminus": [
            [
             0,
             "#0d0887"
            ],
            [
             0.1111111111111111,
             "#46039f"
            ],
            [
             0.2222222222222222,
             "#7201a8"
            ],
            [
             0.3333333333333333,
             "#9c179e"
            ],
            [
             0.4444444444444444,
             "#bd3786"
            ],
            [
             0.5555555555555556,
             "#d8576b"
            ],
            [
             0.6666666666666666,
             "#ed7953"
            ],
            [
             0.7777777777777778,
             "#fb9f3a"
            ],
            [
             0.8888888888888888,
             "#fdca26"
            ],
            [
             1,
             "#f0f921"
            ]
           ]
          },
          "colorway": [
           "#636efa",
           "#EF553B",
           "#00cc96",
           "#ab63fa",
           "#FFA15A",
           "#19d3f3",
           "#FF6692",
           "#B6E880",
           "#FF97FF",
           "#FECB52"
          ],
          "font": {
           "color": "#2a3f5f",
           "family": "Times New Roman",
           "size": 14
          },
          "geo": {
           "bgcolor": "white",
           "lakecolor": "white",
           "landcolor": "#E5ECF6",
           "showlakes": true,
           "showland": true,
           "subunitcolor": "white"
          },
          "hoverlabel": {
           "align": "left"
          },
          "hovermode": "closest",
          "mapbox": {
           "style": "light"
          },
          "paper_bgcolor": "white",
          "plot_bgcolor": "#E5ECF6",
          "polar": {
           "angularaxis": {
            "gridcolor": "white",
            "linecolor": "white",
            "ticks": ""
           },
           "bgcolor": "#E5ECF6",
           "radialaxis": {
            "gridcolor": "white",
            "linecolor": "white",
            "ticks": ""
           }
          },
          "scene": {
           "xaxis": {
            "backgroundcolor": "#E5ECF6",
            "gridcolor": "white",
            "gridwidth": 2,
            "linecolor": "white",
            "showbackground": true,
            "ticks": "",
            "zerolinecolor": "white"
           },
           "yaxis": {
            "backgroundcolor": "#E5ECF6",
            "gridcolor": "white",
            "gridwidth": 2,
            "linecolor": "white",
            "showbackground": true,
            "ticks": "",
            "zerolinecolor": "white"
           },
           "zaxis": {
            "backgroundcolor": "#E5ECF6",
            "gridcolor": "white",
            "gridwidth": 2,
            "linecolor": "white",
            "showbackground": true,
            "ticks": "",
            "zerolinecolor": "white"
           }
          },
          "shapedefaults": {
           "line": {
            "color": "#2a3f5f"
           }
          },
          "ternary": {
           "aaxis": {
            "gridcolor": "white",
            "linecolor": "white",
            "ticks": ""
           },
           "baxis": {
            "gridcolor": "white",
            "linecolor": "white",
            "ticks": ""
           },
           "bgcolor": "#E5ECF6",
           "caxis": {
            "gridcolor": "white",
            "linecolor": "white",
            "ticks": ""
           }
          },
          "title": {
           "x": 0.05
          },
          "xaxis": {
           "automargin": true,
           "gridcolor": "white",
           "linecolor": "white",
           "ticks": "",
           "title": {
            "standoff": 15
           },
           "zerolinecolor": "white",
           "zerolinewidth": 2
          },
          "yaxis": {
           "automargin": true,
           "gridcolor": "white",
           "linecolor": "white",
           "ticks": "",
           "title": {
            "standoff": 15
           },
           "zerolinecolor": "white",
           "zerolinewidth": 2
          }
         }
        },
        "title": {
         "text": "Happiness Score Distribution by Region"
        },
        "width": 1200,
        "xaxis": {
         "anchor": "y",
         "domain": [
          0,
          1
         ],
         "title": {
          "text": "region"
         }
        },
        "yaxis": {
         "anchor": "x",
         "domain": [
          0,
          1
         ],
         "title": {
          "text": "happiness_score"
         }
        }
       }
      }
     },
     "metadata": {},
     "output_type": "display_data"
    }
   ],
   "source": [
    "# Regional Distribution (larger size)\n",
    "if all(col in df_2021.columns for col in [\"region\", \"happiness_score\"]):\n",
    "    fig5 = px.box(\n",
    "        df_2021,\n",
    "        x=\"region\",\n",
    "        y=\"happiness_score\",\n",
    "        title=\"Happiness Score Distribution by Region\",\n",
    "        width=1200,\n",
    "        height=700\n",
    "    )\n",
    "    fig5.show()"
   ]
  },
  {
   "cell_type": "code",
   "execution_count": 94,
   "id": "515925a3",
   "metadata": {},
   "outputs": [
    {
     "data": {
      "application/vnd.plotly.v1+json": {
       "config": {
        "plotlyServerURL": "https://plot.ly"
       },
       "data": [
        {
         "branchvalues": "total",
         "domain": {
          "x": [
           0,
           1
          ],
          "y": [
           0,
           1
          ]
         },
         "hovertemplate": "labels=%{label}<br>happiness_score=%{value}<br>parent=%{parent}<br>id=%{id}<extra></extra>",
         "ids": [
          "South Asia/Afghanistan",
          "Central and Eastern Europe/Albania",
          "Middle East and North Africa/Algeria",
          "Latin America and Caribbean/Argentina",
          "Commonwealth of Independent States/Armenia",
          "North America and ANZ/Australia",
          "Western Europe/Austria",
          "Commonwealth of Independent States/Azerbaijan",
          "Middle East and North Africa/Bahrain",
          "South Asia/Bangladesh",
          "Commonwealth of Independent States/Belarus",
          "Western Europe/Belgium",
          "Sub-Saharan Africa/Benin",
          "Latin America and Caribbean/Bolivia",
          "Central and Eastern Europe/Bosnia and Herzegovina",
          "Sub-Saharan Africa/Botswana",
          "Latin America and Caribbean/Brazil",
          "Central and Eastern Europe/Bulgaria",
          "Sub-Saharan Africa/Burkina Faso",
          "Sub-Saharan Africa/Burundi",
          "Southeast Asia/Cambodia",
          "Sub-Saharan Africa/Cameroon",
          "North America and ANZ/Canada",
          "Sub-Saharan Africa/Chad",
          "Latin America and Caribbean/Chile",
          "East Asia/China",
          "Latin America and Caribbean/Colombia",
          "Sub-Saharan Africa/Comoros",
          "Sub-Saharan Africa/Congo (Brazzaville)",
          "Latin America and Caribbean/Costa Rica",
          "Central and Eastern Europe/Croatia",
          "Western Europe/Cyprus",
          "Central and Eastern Europe/Czech Republic",
          "Western Europe/Denmark",
          "Latin America and Caribbean/Dominican Republic",
          "Latin America and Caribbean/Ecuador",
          "Middle East and North Africa/Egypt",
          "Latin America and Caribbean/El Salvador",
          "Central and Eastern Europe/Estonia",
          "Sub-Saharan Africa/Ethiopia",
          "Western Europe/Finland",
          "Western Europe/France",
          "Sub-Saharan Africa/Gabon",
          "Sub-Saharan Africa/Gambia",
          "Commonwealth of Independent States/Georgia",
          "Western Europe/Germany",
          "Sub-Saharan Africa/Ghana",
          "Western Europe/Greece",
          "Latin America and Caribbean/Guatemala",
          "Sub-Saharan Africa/Guinea",
          "Latin America and Caribbean/Haiti",
          "Latin America and Caribbean/Honduras",
          "East Asia/Hong Kong S.A.R. of China",
          "Central and Eastern Europe/Hungary",
          "Western Europe/Iceland",
          "South Asia/India",
          "Southeast Asia/Indonesia",
          "Middle East and North Africa/Iran",
          "Middle East and North Africa/Iraq",
          "Western Europe/Ireland",
          "Middle East and North Africa/Israel",
          "Western Europe/Italy",
          "Sub-Saharan Africa/Ivory Coast",
          "Latin America and Caribbean/Jamaica",
          "East Asia/Japan",
          "Middle East and North Africa/Jordan",
          "Commonwealth of Independent States/Kazakhstan",
          "Sub-Saharan Africa/Kenya",
          "Central and Eastern Europe/Kosovo",
          "Middle East and North Africa/Kuwait",
          "Commonwealth of Independent States/Kyrgyzstan",
          "Southeast Asia/Laos",
          "Central and Eastern Europe/Latvia",
          "Middle East and North Africa/Lebanon",
          "Sub-Saharan Africa/Lesotho",
          "Sub-Saharan Africa/Liberia",
          "Middle East and North Africa/Libya",
          "Central and Eastern Europe/Lithuania",
          "Western Europe/Luxembourg",
          "Sub-Saharan Africa/Madagascar",
          "Sub-Saharan Africa/Malawi",
          "Southeast Asia/Malaysia",
          "South Asia/Maldives",
          "Sub-Saharan Africa/Mali",
          "Western Europe/Malta",
          "Sub-Saharan Africa/Mauritania",
          "Sub-Saharan Africa/Mauritius",
          "Latin America and Caribbean/Mexico",
          "Commonwealth of Independent States/Moldova",
          "East Asia/Mongolia",
          "Central and Eastern Europe/Montenegro",
          "Middle East and North Africa/Morocco",
          "Sub-Saharan Africa/Mozambique",
          "Southeast Asia/Myanmar",
          "Sub-Saharan Africa/Namibia",
          "South Asia/Nepal",
          "Western Europe/Netherlands",
          "North America and ANZ/New Zealand",
          "Latin America and Caribbean/Nicaragua",
          "Sub-Saharan Africa/Niger",
          "Sub-Saharan Africa/Nigeria",
          "Western Europe/North Cyprus",
          "Central and Eastern Europe/North Macedonia",
          "Western Europe/Norway",
          "South Asia/Pakistan",
          "Middle East and North Africa/Palestinian Territories",
          "Latin America and Caribbean/Panama",
          "Latin America and Caribbean/Paraguay",
          "Latin America and Caribbean/Peru",
          "Southeast Asia/Philippines",
          "Central and Eastern Europe/Poland",
          "Western Europe/Portugal",
          "Central and Eastern Europe/Romania",
          "Commonwealth of Independent States/Russia",
          "Sub-Saharan Africa/Rwanda",
          "Middle East and North Africa/Saudi Arabia",
          "Sub-Saharan Africa/Senegal",
          "Central and Eastern Europe/Serbia",
          "Sub-Saharan Africa/Sierra Leone",
          "Southeast Asia/Singapore",
          "Central and Eastern Europe/Slovakia",
          "Central and Eastern Europe/Slovenia",
          "Sub-Saharan Africa/South Africa",
          "East Asia/South Korea",
          "Western Europe/Spain",
          "South Asia/Sri Lanka",
          "Sub-Saharan Africa/Swaziland",
          "Western Europe/Sweden",
          "Western Europe/Switzerland",
          "East Asia/Taiwan Province of China",
          "Commonwealth of Independent States/Tajikistan",
          "Sub-Saharan Africa/Tanzania",
          "Southeast Asia/Thailand",
          "Sub-Saharan Africa/Togo",
          "Middle East and North Africa/Tunisia",
          "Middle East and North Africa/Turkey",
          "Commonwealth of Independent States/Turkmenistan",
          "Sub-Saharan Africa/Uganda",
          "Commonwealth of Independent States/Ukraine",
          "Middle East and North Africa/United Arab Emirates",
          "Western Europe/United Kingdom",
          "North America and ANZ/United States",
          "Latin America and Caribbean/Uruguay",
          "Commonwealth of Independent States/Uzbekistan",
          "Latin America and Caribbean/Venezuela",
          "Southeast Asia/Vietnam",
          "Middle East and North Africa/Yemen",
          "Sub-Saharan Africa/Zambia",
          "Sub-Saharan Africa/Zimbabwe",
          "Central and Eastern Europe",
          "Commonwealth of Independent States",
          "East Asia",
          "Latin America and Caribbean",
          "Middle East and North Africa",
          "North America and ANZ",
          "South Asia",
          "Southeast Asia",
          "Sub-Saharan Africa",
          "Western Europe"
         ],
         "labels": [
          "Afghanistan",
          "Albania",
          "Algeria",
          "Argentina",
          "Armenia",
          "Australia",
          "Austria",
          "Azerbaijan",
          "Bahrain",
          "Bangladesh",
          "Belarus",
          "Belgium",
          "Benin",
          "Bolivia",
          "Bosnia and Herzegovina",
          "Botswana",
          "Brazil",
          "Bulgaria",
          "Burkina Faso",
          "Burundi",
          "Cambodia",
          "Cameroon",
          "Canada",
          "Chad",
          "Chile",
          "China",
          "Colombia",
          "Comoros",
          "Congo (Brazzaville)",
          "Costa Rica",
          "Croatia",
          "Cyprus",
          "Czech Republic",
          "Denmark",
          "Dominican Republic",
          "Ecuador",
          "Egypt",
          "El Salvador",
          "Estonia",
          "Ethiopia",
          "Finland",
          "France",
          "Gabon",
          "Gambia",
          "Georgia",
          "Germany",
          "Ghana",
          "Greece",
          "Guatemala",
          "Guinea",
          "Haiti",
          "Honduras",
          "Hong Kong S.A.R. of China",
          "Hungary",
          "Iceland",
          "India",
          "Indonesia",
          "Iran",
          "Iraq",
          "Ireland",
          "Israel",
          "Italy",
          "Ivory Coast",
          "Jamaica",
          "Japan",
          "Jordan",
          "Kazakhstan",
          "Kenya",
          "Kosovo",
          "Kuwait",
          "Kyrgyzstan",
          "Laos",
          "Latvia",
          "Lebanon",
          "Lesotho",
          "Liberia",
          "Libya",
          "Lithuania",
          "Luxembourg",
          "Madagascar",
          "Malawi",
          "Malaysia",
          "Maldives",
          "Mali",
          "Malta",
          "Mauritania",
          "Mauritius",
          "Mexico",
          "Moldova",
          "Mongolia",
          "Montenegro",
          "Morocco",
          "Mozambique",
          "Myanmar",
          "Namibia",
          "Nepal",
          "Netherlands",
          "New Zealand",
          "Nicaragua",
          "Niger",
          "Nigeria",
          "North Cyprus",
          "North Macedonia",
          "Norway",
          "Pakistan",
          "Palestinian Territories",
          "Panama",
          "Paraguay",
          "Peru",
          "Philippines",
          "Poland",
          "Portugal",
          "Romania",
          "Russia",
          "Rwanda",
          "Saudi Arabia",
          "Senegal",
          "Serbia",
          "Sierra Leone",
          "Singapore",
          "Slovakia",
          "Slovenia",
          "South Africa",
          "South Korea",
          "Spain",
          "Sri Lanka",
          "Swaziland",
          "Sweden",
          "Switzerland",
          "Taiwan Province of China",
          "Tajikistan",
          "Tanzania",
          "Thailand",
          "Togo",
          "Tunisia",
          "Turkey",
          "Turkmenistan",
          "Uganda",
          "Ukraine",
          "United Arab Emirates",
          "United Kingdom",
          "United States",
          "Uruguay",
          "Uzbekistan",
          "Venezuela",
          "Vietnam",
          "Yemen",
          "Zambia",
          "Zimbabwe",
          "Central and Eastern Europe",
          "Commonwealth of Independent States",
          "East Asia",
          "Latin America and Caribbean",
          "Middle East and North Africa",
          "North America and ANZ",
          "South Asia",
          "Southeast Asia",
          "Sub-Saharan Africa",
          "Western Europe"
         ],
         "name": "",
         "parents": [
          "South Asia",
          "Central and Eastern Europe",
          "Middle East and North Africa",
          "Latin America and Caribbean",
          "Commonwealth of Independent States",
          "North America and ANZ",
          "Western Europe",
          "Commonwealth of Independent States",
          "Middle East and North Africa",
          "South Asia",
          "Commonwealth of Independent States",
          "Western Europe",
          "Sub-Saharan Africa",
          "Latin America and Caribbean",
          "Central and Eastern Europe",
          "Sub-Saharan Africa",
          "Latin America and Caribbean",
          "Central and Eastern Europe",
          "Sub-Saharan Africa",
          "Sub-Saharan Africa",
          "Southeast Asia",
          "Sub-Saharan Africa",
          "North America and ANZ",
          "Sub-Saharan Africa",
          "Latin America and Caribbean",
          "East Asia",
          "Latin America and Caribbean",
          "Sub-Saharan Africa",
          "Sub-Saharan Africa",
          "Latin America and Caribbean",
          "Central and Eastern Europe",
          "Western Europe",
          "Central and Eastern Europe",
          "Western Europe",
          "Latin America and Caribbean",
          "Latin America and Caribbean",
          "Middle East and North Africa",
          "Latin America and Caribbean",
          "Central and Eastern Europe",
          "Sub-Saharan Africa",
          "Western Europe",
          "Western Europe",
          "Sub-Saharan Africa",
          "Sub-Saharan Africa",
          "Commonwealth of Independent States",
          "Western Europe",
          "Sub-Saharan Africa",
          "Western Europe",
          "Latin America and Caribbean",
          "Sub-Saharan Africa",
          "Latin America and Caribbean",
          "Latin America and Caribbean",
          "East Asia",
          "Central and Eastern Europe",
          "Western Europe",
          "South Asia",
          "Southeast Asia",
          "Middle East and North Africa",
          "Middle East and North Africa",
          "Western Europe",
          "Middle East and North Africa",
          "Western Europe",
          "Sub-Saharan Africa",
          "Latin America and Caribbean",
          "East Asia",
          "Middle East and North Africa",
          "Commonwealth of Independent States",
          "Sub-Saharan Africa",
          "Central and Eastern Europe",
          "Middle East and North Africa",
          "Commonwealth of Independent States",
          "Southeast Asia",
          "Central and Eastern Europe",
          "Middle East and North Africa",
          "Sub-Saharan Africa",
          "Sub-Saharan Africa",
          "Middle East and North Africa",
          "Central and Eastern Europe",
          "Western Europe",
          "Sub-Saharan Africa",
          "Sub-Saharan Africa",
          "Southeast Asia",
          "South Asia",
          "Sub-Saharan Africa",
          "Western Europe",
          "Sub-Saharan Africa",
          "Sub-Saharan Africa",
          "Latin America and Caribbean",
          "Commonwealth of Independent States",
          "East Asia",
          "Central and Eastern Europe",
          "Middle East and North Africa",
          "Sub-Saharan Africa",
          "Southeast Asia",
          "Sub-Saharan Africa",
          "South Asia",
          "Western Europe",
          "North America and ANZ",
          "Latin America and Caribbean",
          "Sub-Saharan Africa",
          "Sub-Saharan Africa",
          "Western Europe",
          "Central and Eastern Europe",
          "Western Europe",
          "South Asia",
          "Middle East and North Africa",
          "Latin America and Caribbean",
          "Latin America and Caribbean",
          "Latin America and Caribbean",
          "Southeast Asia",
          "Central and Eastern Europe",
          "Western Europe",
          "Central and Eastern Europe",
          "Commonwealth of Independent States",
          "Sub-Saharan Africa",
          "Middle East and North Africa",
          "Sub-Saharan Africa",
          "Central and Eastern Europe",
          "Sub-Saharan Africa",
          "Southeast Asia",
          "Central and Eastern Europe",
          "Central and Eastern Europe",
          "Sub-Saharan Africa",
          "East Asia",
          "Western Europe",
          "South Asia",
          "Sub-Saharan Africa",
          "Western Europe",
          "Western Europe",
          "East Asia",
          "Commonwealth of Independent States",
          "Sub-Saharan Africa",
          "Southeast Asia",
          "Sub-Saharan Africa",
          "Middle East and North Africa",
          "Middle East and North Africa",
          "Commonwealth of Independent States",
          "Sub-Saharan Africa",
          "Commonwealth of Independent States",
          "Middle East and North Africa",
          "Western Europe",
          "North America and ANZ",
          "Latin America and Caribbean",
          "Commonwealth of Independent States",
          "Latin America and Caribbean",
          "Southeast Asia",
          "Middle East and North Africa",
          "Sub-Saharan Africa",
          "Sub-Saharan Africa",
          "",
          "",
          "",
          "",
          "",
          "",
          "",
          "",
          "",
          ""
         ],
         "type": "treemap",
         "values": [
          2.523,
          5.117,
          4.887,
          5.929,
          5.283,
          7.183,
          7.268,
          5.171,
          6.647,
          5.025,
          5.534,
          6.834,
          5.045,
          5.716,
          5.813,
          3.467,
          6.33,
          5.266,
          4.834,
          3.775,
          4.83,
          5.142,
          7.103,
          4.355,
          6.172,
          5.339,
          6.012,
          4.289,
          5.342,
          7.069,
          5.882,
          6.223,
          6.965,
          7.62,
          5.545,
          5.764,
          4.283,
          6.061,
          6.189,
          4.275,
          7.842,
          6.69,
          4.852,
          5.051,
          4.891,
          7.155,
          5.088,
          5.723,
          6.435,
          4.984,
          3.615,
          5.919,
          5.477,
          5.992,
          7.554,
          3.819,
          5.345,
          4.721,
          4.854,
          7.085,
          7.157,
          6.483,
          5.306,
          6.309,
          5.94,
          4.395,
          6.152,
          4.607,
          6.372,
          6.106,
          5.744,
          5.03,
          6.032,
          4.584,
          3.512,
          4.625,
          5.41,
          6.255,
          7.324,
          4.208,
          3.6,
          5.384,
          5.198,
          4.723,
          6.602,
          4.227,
          6.049,
          6.317,
          5.766,
          5.677,
          5.581,
          4.918,
          4.794,
          4.426,
          4.574,
          5.269,
          7.464,
          7.277,
          5.972,
          5.074,
          4.759,
          5.536,
          5.101,
          7.392,
          4.934,
          4.517,
          6.18,
          5.653,
          5.84,
          5.88,
          6.166,
          5.929,
          6.14,
          5.477,
          3.415,
          6.494,
          5.132,
          6.078,
          3.849,
          6.377,
          6.331,
          6.461,
          4.956,
          5.845,
          6.491,
          4.325,
          4.308,
          7.363,
          7.571,
          6.584,
          5.466,
          3.623,
          5.985,
          4.107,
          4.596,
          4.948,
          5.066,
          4.636,
          4.875,
          6.561,
          7.064,
          6.951,
          6.431,
          6.179,
          4.892,
          5.411,
          3.658,
          4.073,
          3.145,
          101.741,
          65.604,
          34.862,
          118.161,
          88.736,
          28.514,
          31.093,
          48.668,
          161.80100000000002,
          145.213
         ]
        }
       ],
       "layout": {
        "height": 700,
        "legend": {
         "tracegroupgap": 0
        },
        "template": {
         "data": {
          "bar": [
           {
            "error_x": {
             "color": "#2a3f5f"
            },
            "error_y": {
             "color": "#2a3f5f"
            },
            "marker": {
             "line": {
              "color": "#E5ECF6",
              "width": 0.5
             },
             "pattern": {
              "fillmode": "overlay",
              "size": 10,
              "solidity": 0.2
             }
            },
            "type": "bar"
           }
          ],
          "barpolar": [
           {
            "marker": {
             "line": {
              "color": "#E5ECF6",
              "width": 0.5
             },
             "pattern": {
              "fillmode": "overlay",
              "size": 10,
              "solidity": 0.2
             }
            },
            "type": "barpolar"
           }
          ],
          "carpet": [
           {
            "aaxis": {
             "endlinecolor": "#2a3f5f",
             "gridcolor": "white",
             "linecolor": "white",
             "minorgridcolor": "white",
             "startlinecolor": "#2a3f5f"
            },
            "baxis": {
             "endlinecolor": "#2a3f5f",
             "gridcolor": "white",
             "linecolor": "white",
             "minorgridcolor": "white",
             "startlinecolor": "#2a3f5f"
            },
            "type": "carpet"
           }
          ],
          "choropleth": [
           {
            "colorbar": {
             "outlinewidth": 0,
             "ticks": ""
            },
            "type": "choropleth"
           }
          ],
          "contour": [
           {
            "colorbar": {
             "outlinewidth": 0,
             "ticks": ""
            },
            "colorscale": [
             [
              0,
              "#0d0887"
             ],
             [
              0.1111111111111111,
              "#46039f"
             ],
             [
              0.2222222222222222,
              "#7201a8"
             ],
             [
              0.3333333333333333,
              "#9c179e"
             ],
             [
              0.4444444444444444,
              "#bd3786"
             ],
             [
              0.5555555555555556,
              "#d8576b"
             ],
             [
              0.6666666666666666,
              "#ed7953"
             ],
             [
              0.7777777777777778,
              "#fb9f3a"
             ],
             [
              0.8888888888888888,
              "#fdca26"
             ],
             [
              1,
              "#f0f921"
             ]
            ],
            "type": "contour"
           }
          ],
          "contourcarpet": [
           {
            "colorbar": {
             "outlinewidth": 0,
             "ticks": ""
            },
            "type": "contourcarpet"
           }
          ],
          "heatmap": [
           {
            "colorbar": {
             "outlinewidth": 0,
             "ticks": ""
            },
            "colorscale": [
             [
              0,
              "#0d0887"
             ],
             [
              0.1111111111111111,
              "#46039f"
             ],
             [
              0.2222222222222222,
              "#7201a8"
             ],
             [
              0.3333333333333333,
              "#9c179e"
             ],
             [
              0.4444444444444444,
              "#bd3786"
             ],
             [
              0.5555555555555556,
              "#d8576b"
             ],
             [
              0.6666666666666666,
              "#ed7953"
             ],
             [
              0.7777777777777778,
              "#fb9f3a"
             ],
             [
              0.8888888888888888,
              "#fdca26"
             ],
             [
              1,
              "#f0f921"
             ]
            ],
            "type": "heatmap"
           }
          ],
          "heatmapgl": [
           {
            "colorbar": {
             "outlinewidth": 0,
             "ticks": ""
            },
            "colorscale": [
             [
              0,
              "#0d0887"
             ],
             [
              0.1111111111111111,
              "#46039f"
             ],
             [
              0.2222222222222222,
              "#7201a8"
             ],
             [
              0.3333333333333333,
              "#9c179e"
             ],
             [
              0.4444444444444444,
              "#bd3786"
             ],
             [
              0.5555555555555556,
              "#d8576b"
             ],
             [
              0.6666666666666666,
              "#ed7953"
             ],
             [
              0.7777777777777778,
              "#fb9f3a"
             ],
             [
              0.8888888888888888,
              "#fdca26"
             ],
             [
              1,
              "#f0f921"
             ]
            ],
            "type": "heatmapgl"
           }
          ],
          "histogram": [
           {
            "marker": {
             "pattern": {
              "fillmode": "overlay",
              "size": 10,
              "solidity": 0.2
             }
            },
            "type": "histogram"
           }
          ],
          "histogram2d": [
           {
            "colorbar": {
             "outlinewidth": 0,
             "ticks": ""
            },
            "colorscale": [
             [
              0,
              "#0d0887"
             ],
             [
              0.1111111111111111,
              "#46039f"
             ],
             [
              0.2222222222222222,
              "#7201a8"
             ],
             [
              0.3333333333333333,
              "#9c179e"
             ],
             [
              0.4444444444444444,
              "#bd3786"
             ],
             [
              0.5555555555555556,
              "#d8576b"
             ],
             [
              0.6666666666666666,
              "#ed7953"
             ],
             [
              0.7777777777777778,
              "#fb9f3a"
             ],
             [
              0.8888888888888888,
              "#fdca26"
             ],
             [
              1,
              "#f0f921"
             ]
            ],
            "type": "histogram2d"
           }
          ],
          "histogram2dcontour": [
           {
            "colorbar": {
             "outlinewidth": 0,
             "ticks": ""
            },
            "colorscale": [
             [
              0,
              "#0d0887"
             ],
             [
              0.1111111111111111,
              "#46039f"
             ],
             [
              0.2222222222222222,
              "#7201a8"
             ],
             [
              0.3333333333333333,
              "#9c179e"
             ],
             [
              0.4444444444444444,
              "#bd3786"
             ],
             [
              0.5555555555555556,
              "#d8576b"
             ],
             [
              0.6666666666666666,
              "#ed7953"
             ],
             [
              0.7777777777777778,
              "#fb9f3a"
             ],
             [
              0.8888888888888888,
              "#fdca26"
             ],
             [
              1,
              "#f0f921"
             ]
            ],
            "type": "histogram2dcontour"
           }
          ],
          "mesh3d": [
           {
            "colorbar": {
             "outlinewidth": 0,
             "ticks": ""
            },
            "type": "mesh3d"
           }
          ],
          "parcoords": [
           {
            "line": {
             "colorbar": {
              "outlinewidth": 0,
              "ticks": ""
             }
            },
            "type": "parcoords"
           }
          ],
          "pie": [
           {
            "automargin": true,
            "type": "pie"
           }
          ],
          "scatter": [
           {
            "fillpattern": {
             "fillmode": "overlay",
             "size": 10,
             "solidity": 0.2
            },
            "type": "scatter"
           }
          ],
          "scatter3d": [
           {
            "line": {
             "colorbar": {
              "outlinewidth": 0,
              "ticks": ""
             }
            },
            "marker": {
             "colorbar": {
              "outlinewidth": 0,
              "ticks": ""
             }
            },
            "type": "scatter3d"
           }
          ],
          "scattercarpet": [
           {
            "marker": {
             "colorbar": {
              "outlinewidth": 0,
              "ticks": ""
             }
            },
            "type": "scattercarpet"
           }
          ],
          "scattergeo": [
           {
            "marker": {
             "colorbar": {
              "outlinewidth": 0,
              "ticks": ""
             }
            },
            "type": "scattergeo"
           }
          ],
          "scattergl": [
           {
            "marker": {
             "colorbar": {
              "outlinewidth": 0,
              "ticks": ""
             }
            },
            "type": "scattergl"
           }
          ],
          "scattermapbox": [
           {
            "marker": {
             "colorbar": {
              "outlinewidth": 0,
              "ticks": ""
             }
            },
            "type": "scattermapbox"
           }
          ],
          "scatterpolar": [
           {
            "marker": {
             "colorbar": {
              "outlinewidth": 0,
              "ticks": ""
             }
            },
            "type": "scatterpolar"
           }
          ],
          "scatterpolargl": [
           {
            "marker": {
             "colorbar": {
              "outlinewidth": 0,
              "ticks": ""
             }
            },
            "type": "scatterpolargl"
           }
          ],
          "scatterternary": [
           {
            "marker": {
             "colorbar": {
              "outlinewidth": 0,
              "ticks": ""
             }
            },
            "type": "scatterternary"
           }
          ],
          "surface": [
           {
            "colorbar": {
             "outlinewidth": 0,
             "ticks": ""
            },
            "colorscale": [
             [
              0,
              "#0d0887"
             ],
             [
              0.1111111111111111,
              "#46039f"
             ],
             [
              0.2222222222222222,
              "#7201a8"
             ],
             [
              0.3333333333333333,
              "#9c179e"
             ],
             [
              0.4444444444444444,
              "#bd3786"
             ],
             [
              0.5555555555555556,
              "#d8576b"
             ],
             [
              0.6666666666666666,
              "#ed7953"
             ],
             [
              0.7777777777777778,
              "#fb9f3a"
             ],
             [
              0.8888888888888888,
              "#fdca26"
             ],
             [
              1,
              "#f0f921"
             ]
            ],
            "type": "surface"
           }
          ],
          "table": [
           {
            "cells": {
             "fill": {
              "color": "#EBF0F8"
             },
             "line": {
              "color": "white"
             }
            },
            "header": {
             "fill": {
              "color": "#C8D4E3"
             },
             "line": {
              "color": "white"
             }
            },
            "type": "table"
           }
          ]
         },
         "layout": {
          "annotationdefaults": {
           "arrowcolor": "#2a3f5f",
           "arrowhead": 0,
           "arrowwidth": 1
          },
          "autotypenumbers": "strict",
          "coloraxis": {
           "colorbar": {
            "outlinewidth": 0,
            "ticks": ""
           }
          },
          "colorscale": {
           "diverging": [
            [
             0,
             "#8e0152"
            ],
            [
             0.1,
             "#c51b7d"
            ],
            [
             0.2,
             "#de77ae"
            ],
            [
             0.3,
             "#f1b6da"
            ],
            [
             0.4,
             "#fde0ef"
            ],
            [
             0.5,
             "#f7f7f7"
            ],
            [
             0.6,
             "#e6f5d0"
            ],
            [
             0.7,
             "#b8e186"
            ],
            [
             0.8,
             "#7fbc41"
            ],
            [
             0.9,
             "#4d9221"
            ],
            [
             1,
             "#276419"
            ]
           ],
           "sequential": [
            [
             0,
             "#0d0887"
            ],
            [
             0.1111111111111111,
             "#46039f"
            ],
            [
             0.2222222222222222,
             "#7201a8"
            ],
            [
             0.3333333333333333,
             "#9c179e"
            ],
            [
             0.4444444444444444,
             "#bd3786"
            ],
            [
             0.5555555555555556,
             "#d8576b"
            ],
            [
             0.6666666666666666,
             "#ed7953"
            ],
            [
             0.7777777777777778,
             "#fb9f3a"
            ],
            [
             0.8888888888888888,
             "#fdca26"
            ],
            [
             1,
             "#f0f921"
            ]
           ],
           "sequentialminus": [
            [
             0,
             "#0d0887"
            ],
            [
             0.1111111111111111,
             "#46039f"
            ],
            [
             0.2222222222222222,
             "#7201a8"
            ],
            [
             0.3333333333333333,
             "#9c179e"
            ],
            [
             0.4444444444444444,
             "#bd3786"
            ],
            [
             0.5555555555555556,
             "#d8576b"
            ],
            [
             0.6666666666666666,
             "#ed7953"
            ],
            [
             0.7777777777777778,
             "#fb9f3a"
            ],
            [
             0.8888888888888888,
             "#fdca26"
            ],
            [
             1,
             "#f0f921"
            ]
           ]
          },
          "colorway": [
           "#636efa",
           "#EF553B",
           "#00cc96",
           "#ab63fa",
           "#FFA15A",
           "#19d3f3",
           "#FF6692",
           "#B6E880",
           "#FF97FF",
           "#FECB52"
          ],
          "font": {
           "color": "#2a3f5f",
           "family": "Times New Roman",
           "size": 14
          },
          "geo": {
           "bgcolor": "white",
           "lakecolor": "white",
           "landcolor": "#E5ECF6",
           "showlakes": true,
           "showland": true,
           "subunitcolor": "white"
          },
          "hoverlabel": {
           "align": "left"
          },
          "hovermode": "closest",
          "mapbox": {
           "style": "light"
          },
          "paper_bgcolor": "white",
          "plot_bgcolor": "#E5ECF6",
          "polar": {
           "angularaxis": {
            "gridcolor": "white",
            "linecolor": "white",
            "ticks": ""
           },
           "bgcolor": "#E5ECF6",
           "radialaxis": {
            "gridcolor": "white",
            "linecolor": "white",
            "ticks": ""
           }
          },
          "scene": {
           "xaxis": {
            "backgroundcolor": "#E5ECF6",
            "gridcolor": "white",
            "gridwidth": 2,
            "linecolor": "white",
            "showbackground": true,
            "ticks": "",
            "zerolinecolor": "white"
           },
           "yaxis": {
            "backgroundcolor": "#E5ECF6",
            "gridcolor": "white",
            "gridwidth": 2,
            "linecolor": "white",
            "showbackground": true,
            "ticks": "",
            "zerolinecolor": "white"
           },
           "zaxis": {
            "backgroundcolor": "#E5ECF6",
            "gridcolor": "white",
            "gridwidth": 2,
            "linecolor": "white",
            "showbackground": true,
            "ticks": "",
            "zerolinecolor": "white"
           }
          },
          "shapedefaults": {
           "line": {
            "color": "#2a3f5f"
           }
          },
          "ternary": {
           "aaxis": {
            "gridcolor": "white",
            "linecolor": "white",
            "ticks": ""
           },
           "baxis": {
            "gridcolor": "white",
            "linecolor": "white",
            "ticks": ""
           },
           "bgcolor": "#E5ECF6",
           "caxis": {
            "gridcolor": "white",
            "linecolor": "white",
            "ticks": ""
           }
          },
          "title": {
           "x": 0.05
          },
          "xaxis": {
           "automargin": true,
           "gridcolor": "white",
           "linecolor": "white",
           "ticks": "",
           "title": {
            "standoff": 15
           },
           "zerolinecolor": "white",
           "zerolinewidth": 2
          },
          "yaxis": {
           "automargin": true,
           "gridcolor": "white",
           "linecolor": "white",
           "ticks": "",
           "title": {
            "standoff": 15
           },
           "zerolinecolor": "white",
           "zerolinewidth": 2
          }
         }
        },
        "title": {
         "text": "Region and Country Happiness Contribution"
        },
        "width": 1200
       }
      }
     },
     "metadata": {},
     "output_type": "display_data"
    }
   ],
   "source": [
    "# Treemap (larger size)\n",
    "if all(col in df_2021.columns for col in [\"region\", \"country\", \"happiness_score\"]):\n",
    "    fig9 = px.treemap(\n",
    "        df_2021,\n",
    "        path=[\"region\", \"country\"],\n",
    "        values=\"happiness_score\",\n",
    "        title=\"Region and Country Happiness Contribution\",\n",
    "        width=1200,\n",
    "        height=700\n",
    "    )\n",
    "    fig9.show()"
   ]
  },
  {
   "cell_type": "markdown",
   "id": "73cb7fb5",
   "metadata": {},
   "source": [
    "-----\n",
    "# 2. Happiness Factors, in general\n",
    "----- "
   ]
  },
  {
   "cell_type": "markdown",
   "id": "76df1fb7",
   "metadata": {},
   "source": [
    "### Understanding the Main Factors Behind Happiness\n",
    "\n",
    "The World Happiness Report evaluates well-being using a set of key factors, each representing a different dimension of what contributes to life satisfaction. Here’s a detailed look at each:\n",
    "\n",
    "##### 1. **GDP per Capita**\n",
    "- **What it measures:** The economic output per person, adjusted for purchasing power.\n",
    "- **Why it matters:** Higher income generally provides greater access to resources, security, and opportunities, which can improve quality of life. However, the effect of income on happiness tends to diminish at higher levels.\n",
    "\n",
    "##### 2. **Social Support**\n",
    "- **What it measures:** The extent to which people feel they have someone to count on in times of trouble.\n",
    "- **Why it matters:** Strong social networks and supportive relationships are consistently linked to higher well-being, resilience, and lower stress.\n",
    "\n",
    "##### 3. **Healthy Life Expectancy**\n",
    "- **What it measures:** The average number of years a person can expect to live in good health.\n",
    "- **Why it matters:** Good health is foundational to happiness, enabling people to pursue goals, enjoy life, and participate in society.\n",
    "\n",
    "##### 4. **Freedom to Make Life Choices**\n",
    "- **What it measures:** The perceived freedom individuals have to make important life decisions.\n",
    "- **Why it matters:** Autonomy and the ability to shape one’s own life are crucial for well-being and personal fulfillment.\n",
    "\n",
    "##### 5. **Generosity**\n",
    "- **What it measures:** The tendency of people to donate to charity or help others.\n",
    "- **Why it matters:** Acts of kindness and generosity can foster social bonds and a sense of purpose, though the impact varies by culture and context.\n",
    "\n",
    "##### 6. **Perceptions of Corruption**\n",
    "- **What it measures:** The degree to which people believe corruption is widespread in government and business.\n",
    "- **Why it matters:** Trust in institutions and fairness in society are important for collective well-being. High corruption undermines trust and can lead to dissatisfaction.\n",
    "\n",
    "#### #7. **Happiness Score (Life Ladder)**\n",
    "- **What it measures:** An individual’s self-reported assessment of their life, typically on a scale from 0 (worst) to 10 (best).\n",
    "- **Why it matters:** This is the primary outcome variable, reflecting overall life satisfaction as perceived by individuals.\n",
    "\n",
    "---\n",
    "\n",
    "**Interplay of Factors:**  \n",
    "No single factor fully explains happiness. Instead, these dimensions interact—economic security, social support, health, freedom, generosity, and trust together shape the overall well-being of societies. The relative importance of each factor can vary by country, culture, and over time."
   ]
  },
  {
   "cell_type": "code",
   "execution_count": 95,
   "id": "008f7d3d",
   "metadata": {},
   "outputs": [
    {
     "data": {
      "application/vnd.plotly.v1+json": {
       "config": {
        "plotlyServerURL": "https://plot.ly"
       },
       "data": [
        {
         "dimensions": [
          {
           "label": "gdp_per_capita",
           "values": [
            10.775,
            10.933,
            11.117,
            10.878,
            10.932,
            11.053,
            10.867,
            11.647,
            10.643,
            10.906,
            10.796,
            10.575,
            10.873,
            10.776,
            11.342,
            9.88,
            10.707,
            10.556,
            11.023,
            10.823,
            10.704,
            10.669,
            10.674,
            10.871,
            11.085,
            10.743,
            10.571,
            10.623,
            10.529,
            9.053,
            9.966,
            11.488,
            9.318,
            10.369,
            9.577,
            9.859,
            9.186,
            10.499,
            10.576,
            10.481,
            10.35,
            8.836,
            10.071,
            10.382,
            10.155,
            10.284,
            10.817,
            9.787,
            9.054,
            10.008,
            10.315,
            9.557,
            10.358,
            9.805,
            8.62,
            10.611,
            9.962,
            10.421,
            8.648,
            10.217,
            9.076,
            10.651,
            9.458,
            9.59,
            9.454,
            9.313,
            8.538,
            10.279,
            9.046,
            9.4,
            9.448,
            9.94,
            9.802,
            10.576,
            9.853,
            10.189,
            11,
            8.091,
            8.973,
            9.622,
            10.238,
            9.365,
            8.117,
            9.673,
            8.551,
            9.487,
            8.12,
            10.016,
            9.826,
            9.569,
            8.189,
            8.118,
            9.52,
            9.693,
            8.58,
            7.098,
            9.629,
            7.686,
            8.087,
            8.947,
            8.454,
            7.838,
            9.403,
            10.24,
            8.458,
            8.903,
            9.073,
            9.585,
            9.342,
            9.436,
            9.24,
            9.603,
            7.678,
            8.36,
            7.158,
            8.533,
            7.744,
            9.584,
            7.677,
            7.288,
            8.361,
            9.266,
            9.626,
            9.161,
            8.485,
            8.541,
            9.182,
            7.364,
            9.47,
            9.065,
            8.031,
            9.367,
            7.694,
            8.542,
            7.396,
            7.362,
            8.145,
            7.434,
            8.755,
            6.635,
            7.578,
            7.876,
            7.477,
            6.958,
            7.926,
            9.782,
            7.676,
            7.943,
            7.695
           ]
          },
          {
           "label": "social_support",
           "values": [
            0.954,
            0.954,
            0.942,
            0.983,
            0.942,
            0.954,
            0.934,
            0.908,
            0.948,
            0.934,
            0.94,
            0.939,
            0.903,
            0.926,
            0.947,
            0.891,
            0.934,
            0.947,
            0.92,
            0.906,
            0.942,
            0.862,
            0.931,
            0.898,
            0.844,
            0.891,
            0.932,
            0.88,
            0.948,
            0.813,
            0.925,
            0.915,
            0.821,
            0.936,
            0.882,
            0.831,
            0.877,
            0.935,
            0.802,
            0.941,
            0.896,
            0.918,
            0.882,
            0.898,
            0.952,
            0.832,
            0.843,
            0.873,
            0.762,
            0.905,
            0.927,
            0.847,
            0.943,
            0.888,
            0.864,
            0.884,
            0.898,
            0.879,
            0.812,
            0.924,
            0.83,
            0.799,
            0.832,
            0.87,
            0.857,
            0.821,
            0.893,
            0.823,
            0.81,
            0.935,
            0.893,
            0.858,
            0.853,
            0.82,
            0.91,
            0.903,
            0.836,
            0.86,
            0.85,
            0.827,
            0.817,
            0.811,
            0.636,
            0.811,
            0.644,
            0.799,
            0.774,
            0.931,
            0.913,
            0.836,
            0.71,
            0.71,
            0.697,
            0.805,
            0.727,
            0.641,
            0.983,
            0.69,
            0.489,
            0.728,
            0.693,
            0.639,
            0.86,
            0.822,
            0.651,
            0.56,
            0.861,
            0.671,
            0.802,
            0.888,
            0.746,
            0.776,
            0.672,
            0.765,
            0.744,
            0.74,
            0.724,
            0.71,
            0.781,
            0.72,
            0.688,
            0.691,
            0.848,
            0.818,
            0.826,
            0.779,
            0.767,
            0.619,
            0.827,
            0.77,
            0.626,
            0.75,
            0.764,
            0.795,
            0.686,
            0.569,
            0.708,
            0.63,
            0.603,
            0.49,
            0.832,
            0.702,
            0.54,
            0.537,
            0.787,
            0.784,
            0.552,
            0.75,
            0.463
           ]
          },
          {
           "label": "healthy_life_expectancy",
           "values": [
            72,
            72.7,
            74.4,
            73,
            72.4,
            73.3,
            72.7,
            72.6,
            73.4,
            73.3,
            73.9,
            73.503,
            72.5,
            73.8,
            72.4,
            71.4,
            72.5,
            70.807,
            68.2,
            72.199,
            74,
            69.495,
            72.2,
            69.6,
            67.333,
            66.603,
            74.7,
            73.8,
            71.4,
            64.958,
            69.1,
            76.953,
            63.813,
            69.201,
            66.601,
            68.597,
            67.5,
            67.906,
            73.898,
            68.8,
            69.652,
            65.255,
            70,
            69.702,
            65.2,
            67.355,
            66.9,
            68.6,
            66.402,
            66.701,
            67.1,
            68.001,
            68,
            67.401,
            67.657,
            75.1,
            69,
            72.6,
            67.3,
            70.799,
            62,
            73.9,
            68.25,
            68.098,
            65.699,
            68.8,
            64.401,
            72.6,
            63.901,
            62.5,
            65.9,
            68.699,
            66.102,
            73.898,
            66.253,
            64.703,
            76.82,
            64.281,
            68.034,
            62.3,
            67.102,
            62.236,
            58.221,
            69.593,
            50.114,
            67.055,
            64.233,
            67,
            70.6,
            65.656,
            53.515,
            59.802,
            68.999,
            65.474,
            57.586,
            53.78,
            62.409,
            55.16,
            54.713,
            58.968,
            64.8,
            55.008,
            56.904,
            67.199,
            58.709,
            66.208,
            66.7,
            64.3,
            66.005,
            64.902,
            60.583,
            59.962,
            54.151,
            62,
            54.706,
            50.102,
            51.969,
            66.3,
            56.101,
            56.498,
            60.704,
            67.201,
            67.355,
            56.799,
            62.25,
            59.302,
            67,
            48.478,
            67.299,
            50.833,
            57.349,
            61.998,
            59,
            57.161,
            59.305,
            54.914,
            55.809,
            51.651,
            60.633,
            53.4,
            57.122,
            57.999,
            55.7,
            57.948,
            48.7,
            59.269,
            61.4,
            56.201,
            52.493
           ]
          },
          {
           "label": "freedom_to_make_life_choices",
           "values": [
            0.949,
            0.946,
            0.919,
            0.955,
            0.913,
            0.96,
            0.945,
            0.907,
            0.929,
            0.908,
            0.914,
            0.8,
            0.875,
            0.915,
            0.879,
            0.934,
            0.859,
            0.858,
            0.837,
            0.783,
            0.822,
            0.925,
            0.927,
            0.784,
            0.932,
            0.877,
            0.761,
            0.693,
            0.949,
            0.906,
            0.896,
            0.927,
            0.869,
            0.766,
            0.804,
            0.862,
            0.89,
            0.773,
            0.763,
            0.909,
            0.872,
            0.97,
            0.742,
            0.841,
            0.853,
            0.845,
            0.867,
            0.778,
            0.888,
            0.867,
            0.715,
            0.837,
            0.755,
            0.884,
            0.836,
            0.796,
            0.828,
            0.892,
            0.857,
            0.754,
            0.917,
            0.672,
            0.822,
            0.706,
            0.822,
            0.842,
            0.935,
            0.582,
            0.875,
            0.708,
            0.876,
            0.708,
            0.86,
            0.795,
            0.65,
            0.718,
            0.717,
            0.832,
            0.94,
            0.771,
            0.895,
            0.873,
            0.695,
            0.904,
            0.741,
            0.825,
            0.782,
            0.788,
            0.854,
            0.814,
            0.731,
            0.695,
            0.785,
            0.751,
            0.807,
            0.806,
            0.877,
            0.697,
            0.757,
            0.91,
            0.877,
            0.697,
            0.749,
            0.576,
            0.726,
            0.774,
            0.615,
            0.783,
            0.48,
            0.724,
            0.63,
            0.731,
            0.695,
            0.959,
            0.882,
            0.737,
            0.697,
            0.608,
            0.709,
            0.735,
            0.779,
            0.656,
            0.525,
            0.719,
            0.653,
            0.876,
            0.755,
            0.579,
            0.841,
            0.647,
            0.548,
            0.749,
            0.752,
            0.561,
            0.552,
            0.619,
            0.782,
            0.717,
            0.893,
            0.626,
            0.602,
            0.833,
            0.593,
            0.78,
            0.715,
            0.824,
            0.897,
            0.677,
            0.382
           ]
          },
          {
           "label": "generosity",
           "values": [
            -0.098,
            0.03,
            0.025,
            0.16,
            0.175,
            0.093,
            0.086,
            -0.034,
            0.134,
            0.042,
            0.159,
            0.031,
            0.011,
            0.089,
            0.077,
            -0.126,
            0.233,
            -0.208,
            0.098,
            -0.153,
            -0.147,
            0.089,
            0.133,
            -0.07,
            0.074,
            -0.149,
            -0.081,
            -0.084,
            -0.101,
            -0.038,
            -0.092,
            -0.018,
            0.257,
            -0.124,
            -0.071,
            -0.147,
            -0.137,
            -0.203,
            -0.015,
            -0.106,
            -0.166,
            0.311,
            -0.044,
            -0.165,
            -0.069,
            -0.219,
            -0.104,
            0.002,
            -0.11,
            -0.054,
            -0.162,
            -0.135,
            -0.186,
            0.287,
            0.02,
            -0.258,
            -0.182,
            -0.244,
            0.081,
            -0.118,
            -0.097,
            -0.083,
            -0.154,
            0.113,
            -0.079,
            -0.124,
            0.119,
            -0.288,
            -0.077,
            0.116,
            0.028,
            -0.034,
            -0.133,
            0.012,
            -0.18,
            -0.111,
            0.067,
            -0.056,
            -0.098,
            -0.087,
            0.125,
            0.542,
            -0.068,
            -0.146,
            -0.016,
            -0.168,
            0.152,
            -0.096,
            0.024,
            -0.223,
            0.026,
            -0.046,
            -0.03,
            0.038,
            0.123,
            0.018,
            0.273,
            0.424,
            -0.034,
            0.123,
            -0.041,
            0.095,
            -0.067,
            -0.139,
            0.098,
            -0.236,
            -0.169,
            -0.238,
            -0.067,
            -0.011,
            -0.053,
            -0.2,
            -0.009,
            0.034,
            0.061,
            0.037,
            -0.036,
            0.218,
            0.122,
            0.05,
            0.287,
            -0.201,
            -0.073,
            -0.149,
            -0.163,
            0.509,
            -0.167,
            0.041,
            0.079,
            -0.185,
            0.082,
            -0.182,
            0.082,
            -0.106,
            -0.005,
            0.032,
            0.061,
            0.084,
            0.089,
            -0.024,
            -0.147,
            0.183,
            0.422,
            0.038,
            -0.131,
            -0.246,
            0.061,
            -0.047,
            -0.102
           ]
          },
          {
           "label": "perceptions_of_corruption",
           "values": [
            0.186,
            0.179,
            0.292,
            0.673,
            0.338,
            0.27,
            0.237,
            0.386,
            0.242,
            0.481,
            0.442,
            0.753,
            0.46,
            0.415,
            0.363,
            0.809,
            0.459,
            0.868,
            0.698,
            0.646,
            0.571,
            0.722,
            0.653,
            0.721,
            0.589,
            0.684,
            0.745,
            0.866,
            0.806,
            0.775,
            0.59,
            0.082,
            0.917,
            0.911,
            0.756,
            0.799,
            0.884,
            0.826,
            0.844,
            0.527,
            0.856,
            0.515,
            0.83,
            0.735,
            0.733,
            0.938,
            0.736,
            0.835,
            0.688,
            0.789,
            0.8,
            0.841,
            0.876,
            0.895,
            0.664,
            0.638,
            0.834,
            0.887,
            0.809,
            0.939,
            0.742,
            0.727,
            0.891,
            0.931,
            0.918,
            0.843,
            0.908,
            0.823,
            0.839,
            0.856,
            0.882,
            0.812,
            0.714,
            0.626,
            0.627,
            0.845,
            0.403,
            0.553,
            0.796,
            0.667,
            0.839,
            0.867,
            0.745,
            0.755,
            0.794,
            0.629,
            0.727,
            0.932,
            0.825,
            0.506,
            0.848,
            0.801,
            0.901,
            0.905,
            0.848,
            0.693,
            0.888,
            0.746,
            0.661,
            0.658,
            0.682,
            0.766,
            0.86,
            0.776,
            0.787,
            0.801,
            0.827,
            0.655,
            0.752,
            0.924,
            0.875,
            0.84,
            0.748,
            0.843,
            0.684,
            0.878,
            0.827,
            0.714,
            0.855,
            0.85,
            0.825,
            0.87,
            0.898,
            0.847,
            0.821,
            0.66,
            0.705,
            0.807,
            0.863,
            0.708,
            0.781,
            0.795,
            0.761,
            0.731,
            0.803,
            0.772,
            0.823,
            0.866,
            0.774,
            0.607,
            0.8,
            0.577,
            0.721,
            0.729,
            0.915,
            0.801,
            0.167,
            0.821,
            0.924
           ]
          },
          {
           "label": "happiness_score",
           "values": [
            7.842,
            7.62,
            7.571,
            7.554,
            7.464,
            7.392,
            7.363,
            7.324,
            7.277,
            7.268,
            7.183,
            7.157,
            7.155,
            7.103,
            7.085,
            7.069,
            7.064,
            6.965,
            6.951,
            6.834,
            6.69,
            6.647,
            6.602,
            6.584,
            6.561,
            6.494,
            6.491,
            6.483,
            6.461,
            6.435,
            6.431,
            6.377,
            6.372,
            6.331,
            6.33,
            6.317,
            6.309,
            6.255,
            6.223,
            6.189,
            6.18,
            6.179,
            6.172,
            6.166,
            6.152,
            6.14,
            6.106,
            6.078,
            6.061,
            6.049,
            6.032,
            6.012,
            5.992,
            5.985,
            5.972,
            5.94,
            5.929,
            5.929,
            5.919,
            5.882,
            5.88,
            5.845,
            5.84,
            5.813,
            5.766,
            5.764,
            5.744,
            5.723,
            5.716,
            5.677,
            5.653,
            5.581,
            5.545,
            5.536,
            5.534,
            5.477,
            5.477,
            5.466,
            5.411,
            5.41,
            5.384,
            5.345,
            5.342,
            5.339,
            5.306,
            5.283,
            5.269,
            5.266,
            5.198,
            5.171,
            5.142,
            5.132,
            5.117,
            5.101,
            5.088,
            5.074,
            5.066,
            5.051,
            5.045,
            5.03,
            5.025,
            4.984,
            4.956,
            4.948,
            4.934,
            4.918,
            4.892,
            4.891,
            4.887,
            4.875,
            4.854,
            4.852,
            4.834,
            4.83,
            4.794,
            4.759,
            4.723,
            4.721,
            4.636,
            4.625,
            4.607,
            4.596,
            4.584,
            4.574,
            4.517,
            4.426,
            4.395,
            4.355,
            4.325,
            4.308,
            4.289,
            4.283,
            4.275,
            4.227,
            4.208,
            4.107,
            4.073,
            3.849,
            3.819,
            3.775,
            3.658,
            3.623,
            3.615,
            3.6,
            3.512,
            3.467,
            3.415,
            3.145,
            2.523
           ]
          }
         ],
         "domain": {
          "x": [
           0,
           1
          ],
          "y": [
           0,
           1
          ]
         },
         "line": {
          "color": [
           7.842,
           7.62,
           7.571,
           7.554,
           7.464,
           7.392,
           7.363,
           7.324,
           7.277,
           7.268,
           7.183,
           7.157,
           7.155,
           7.103,
           7.085,
           7.069,
           7.064,
           6.965,
           6.951,
           6.834,
           6.69,
           6.647,
           6.602,
           6.584,
           6.561,
           6.494,
           6.491,
           6.483,
           6.461,
           6.435,
           6.431,
           6.377,
           6.372,
           6.331,
           6.33,
           6.317,
           6.309,
           6.255,
           6.223,
           6.189,
           6.18,
           6.179,
           6.172,
           6.166,
           6.152,
           6.14,
           6.106,
           6.078,
           6.061,
           6.049,
           6.032,
           6.012,
           5.992,
           5.985,
           5.972,
           5.94,
           5.929,
           5.929,
           5.919,
           5.882,
           5.88,
           5.845,
           5.84,
           5.813,
           5.766,
           5.764,
           5.744,
           5.723,
           5.716,
           5.677,
           5.653,
           5.581,
           5.545,
           5.536,
           5.534,
           5.477,
           5.477,
           5.466,
           5.411,
           5.41,
           5.384,
           5.345,
           5.342,
           5.339,
           5.306,
           5.283,
           5.269,
           5.266,
           5.198,
           5.171,
           5.142,
           5.132,
           5.117,
           5.101,
           5.088,
           5.074,
           5.066,
           5.051,
           5.045,
           5.03,
           5.025,
           4.984,
           4.956,
           4.948,
           4.934,
           4.918,
           4.892,
           4.891,
           4.887,
           4.875,
           4.854,
           4.852,
           4.834,
           4.83,
           4.794,
           4.759,
           4.723,
           4.721,
           4.636,
           4.625,
           4.607,
           4.596,
           4.584,
           4.574,
           4.517,
           4.426,
           4.395,
           4.355,
           4.325,
           4.308,
           4.289,
           4.283,
           4.275,
           4.227,
           4.208,
           4.107,
           4.073,
           3.849,
           3.819,
           3.775,
           3.658,
           3.623,
           3.615,
           3.6,
           3.512,
           3.467,
           3.415,
           3.145,
           2.523
          ],
          "coloraxis": "coloraxis"
         },
         "name": "",
         "type": "parcoords"
        }
       ],
       "layout": {
        "coloraxis": {
         "colorbar": {
          "title": {
           "text": "happiness_score"
          }
         },
         "colorscale": [
          [
           0,
           "rgb(0, 147, 146)"
          ],
          [
           0.16666666666666666,
           "rgb(114, 170, 161)"
          ],
          [
           0.3333333333333333,
           "rgb(177, 199, 179)"
          ],
          [
           0.5,
           "rgb(241, 234, 200)"
          ],
          [
           0.6666666666666666,
           "rgb(229, 185, 173)"
          ],
          [
           0.8333333333333334,
           "rgb(217, 137, 148)"
          ],
          [
           1,
           "rgb(208, 88, 126)"
          ]
         ]
        },
        "height": 700,
        "legend": {
         "tracegroupgap": 0
        },
        "template": {
         "data": {
          "bar": [
           {
            "error_x": {
             "color": "#2a3f5f"
            },
            "error_y": {
             "color": "#2a3f5f"
            },
            "marker": {
             "line": {
              "color": "#E5ECF6",
              "width": 0.5
             },
             "pattern": {
              "fillmode": "overlay",
              "size": 10,
              "solidity": 0.2
             }
            },
            "type": "bar"
           }
          ],
          "barpolar": [
           {
            "marker": {
             "line": {
              "color": "#E5ECF6",
              "width": 0.5
             },
             "pattern": {
              "fillmode": "overlay",
              "size": 10,
              "solidity": 0.2
             }
            },
            "type": "barpolar"
           }
          ],
          "carpet": [
           {
            "aaxis": {
             "endlinecolor": "#2a3f5f",
             "gridcolor": "white",
             "linecolor": "white",
             "minorgridcolor": "white",
             "startlinecolor": "#2a3f5f"
            },
            "baxis": {
             "endlinecolor": "#2a3f5f",
             "gridcolor": "white",
             "linecolor": "white",
             "minorgridcolor": "white",
             "startlinecolor": "#2a3f5f"
            },
            "type": "carpet"
           }
          ],
          "choropleth": [
           {
            "colorbar": {
             "outlinewidth": 0,
             "ticks": ""
            },
            "type": "choropleth"
           }
          ],
          "contour": [
           {
            "colorbar": {
             "outlinewidth": 0,
             "ticks": ""
            },
            "colorscale": [
             [
              0,
              "#0d0887"
             ],
             [
              0.1111111111111111,
              "#46039f"
             ],
             [
              0.2222222222222222,
              "#7201a8"
             ],
             [
              0.3333333333333333,
              "#9c179e"
             ],
             [
              0.4444444444444444,
              "#bd3786"
             ],
             [
              0.5555555555555556,
              "#d8576b"
             ],
             [
              0.6666666666666666,
              "#ed7953"
             ],
             [
              0.7777777777777778,
              "#fb9f3a"
             ],
             [
              0.8888888888888888,
              "#fdca26"
             ],
             [
              1,
              "#f0f921"
             ]
            ],
            "type": "contour"
           }
          ],
          "contourcarpet": [
           {
            "colorbar": {
             "outlinewidth": 0,
             "ticks": ""
            },
            "type": "contourcarpet"
           }
          ],
          "heatmap": [
           {
            "colorbar": {
             "outlinewidth": 0,
             "ticks": ""
            },
            "colorscale": [
             [
              0,
              "#0d0887"
             ],
             [
              0.1111111111111111,
              "#46039f"
             ],
             [
              0.2222222222222222,
              "#7201a8"
             ],
             [
              0.3333333333333333,
              "#9c179e"
             ],
             [
              0.4444444444444444,
              "#bd3786"
             ],
             [
              0.5555555555555556,
              "#d8576b"
             ],
             [
              0.6666666666666666,
              "#ed7953"
             ],
             [
              0.7777777777777778,
              "#fb9f3a"
             ],
             [
              0.8888888888888888,
              "#fdca26"
             ],
             [
              1,
              "#f0f921"
             ]
            ],
            "type": "heatmap"
           }
          ],
          "heatmapgl": [
           {
            "colorbar": {
             "outlinewidth": 0,
             "ticks": ""
            },
            "colorscale": [
             [
              0,
              "#0d0887"
             ],
             [
              0.1111111111111111,
              "#46039f"
             ],
             [
              0.2222222222222222,
              "#7201a8"
             ],
             [
              0.3333333333333333,
              "#9c179e"
             ],
             [
              0.4444444444444444,
              "#bd3786"
             ],
             [
              0.5555555555555556,
              "#d8576b"
             ],
             [
              0.6666666666666666,
              "#ed7953"
             ],
             [
              0.7777777777777778,
              "#fb9f3a"
             ],
             [
              0.8888888888888888,
              "#fdca26"
             ],
             [
              1,
              "#f0f921"
             ]
            ],
            "type": "heatmapgl"
           }
          ],
          "histogram": [
           {
            "marker": {
             "pattern": {
              "fillmode": "overlay",
              "size": 10,
              "solidity": 0.2
             }
            },
            "type": "histogram"
           }
          ],
          "histogram2d": [
           {
            "colorbar": {
             "outlinewidth": 0,
             "ticks": ""
            },
            "colorscale": [
             [
              0,
              "#0d0887"
             ],
             [
              0.1111111111111111,
              "#46039f"
             ],
             [
              0.2222222222222222,
              "#7201a8"
             ],
             [
              0.3333333333333333,
              "#9c179e"
             ],
             [
              0.4444444444444444,
              "#bd3786"
             ],
             [
              0.5555555555555556,
              "#d8576b"
             ],
             [
              0.6666666666666666,
              "#ed7953"
             ],
             [
              0.7777777777777778,
              "#fb9f3a"
             ],
             [
              0.8888888888888888,
              "#fdca26"
             ],
             [
              1,
              "#f0f921"
             ]
            ],
            "type": "histogram2d"
           }
          ],
          "histogram2dcontour": [
           {
            "colorbar": {
             "outlinewidth": 0,
             "ticks": ""
            },
            "colorscale": [
             [
              0,
              "#0d0887"
             ],
             [
              0.1111111111111111,
              "#46039f"
             ],
             [
              0.2222222222222222,
              "#7201a8"
             ],
             [
              0.3333333333333333,
              "#9c179e"
             ],
             [
              0.4444444444444444,
              "#bd3786"
             ],
             [
              0.5555555555555556,
              "#d8576b"
             ],
             [
              0.6666666666666666,
              "#ed7953"
             ],
             [
              0.7777777777777778,
              "#fb9f3a"
             ],
             [
              0.8888888888888888,
              "#fdca26"
             ],
             [
              1,
              "#f0f921"
             ]
            ],
            "type": "histogram2dcontour"
           }
          ],
          "mesh3d": [
           {
            "colorbar": {
             "outlinewidth": 0,
             "ticks": ""
            },
            "type": "mesh3d"
           }
          ],
          "parcoords": [
           {
            "line": {
             "colorbar": {
              "outlinewidth": 0,
              "ticks": ""
             }
            },
            "type": "parcoords"
           }
          ],
          "pie": [
           {
            "automargin": true,
            "type": "pie"
           }
          ],
          "scatter": [
           {
            "fillpattern": {
             "fillmode": "overlay",
             "size": 10,
             "solidity": 0.2
            },
            "type": "scatter"
           }
          ],
          "scatter3d": [
           {
            "line": {
             "colorbar": {
              "outlinewidth": 0,
              "ticks": ""
             }
            },
            "marker": {
             "colorbar": {
              "outlinewidth": 0,
              "ticks": ""
             }
            },
            "type": "scatter3d"
           }
          ],
          "scattercarpet": [
           {
            "marker": {
             "colorbar": {
              "outlinewidth": 0,
              "ticks": ""
             }
            },
            "type": "scattercarpet"
           }
          ],
          "scattergeo": [
           {
            "marker": {
             "colorbar": {
              "outlinewidth": 0,
              "ticks": ""
             }
            },
            "type": "scattergeo"
           }
          ],
          "scattergl": [
           {
            "marker": {
             "colorbar": {
              "outlinewidth": 0,
              "ticks": ""
             }
            },
            "type": "scattergl"
           }
          ],
          "scattermapbox": [
           {
            "marker": {
             "colorbar": {
              "outlinewidth": 0,
              "ticks": ""
             }
            },
            "type": "scattermapbox"
           }
          ],
          "scatterpolar": [
           {
            "marker": {
             "colorbar": {
              "outlinewidth": 0,
              "ticks": ""
             }
            },
            "type": "scatterpolar"
           }
          ],
          "scatterpolargl": [
           {
            "marker": {
             "colorbar": {
              "outlinewidth": 0,
              "ticks": ""
             }
            },
            "type": "scatterpolargl"
           }
          ],
          "scatterternary": [
           {
            "marker": {
             "colorbar": {
              "outlinewidth": 0,
              "ticks": ""
             }
            },
            "type": "scatterternary"
           }
          ],
          "surface": [
           {
            "colorbar": {
             "outlinewidth": 0,
             "ticks": ""
            },
            "colorscale": [
             [
              0,
              "#0d0887"
             ],
             [
              0.1111111111111111,
              "#46039f"
             ],
             [
              0.2222222222222222,
              "#7201a8"
             ],
             [
              0.3333333333333333,
              "#9c179e"
             ],
             [
              0.4444444444444444,
              "#bd3786"
             ],
             [
              0.5555555555555556,
              "#d8576b"
             ],
             [
              0.6666666666666666,
              "#ed7953"
             ],
             [
              0.7777777777777778,
              "#fb9f3a"
             ],
             [
              0.8888888888888888,
              "#fdca26"
             ],
             [
              1,
              "#f0f921"
             ]
            ],
            "type": "surface"
           }
          ],
          "table": [
           {
            "cells": {
             "fill": {
              "color": "#EBF0F8"
             },
             "line": {
              "color": "white"
             }
            },
            "header": {
             "fill": {
              "color": "#C8D4E3"
             },
             "line": {
              "color": "white"
             }
            },
            "type": "table"
           }
          ]
         },
         "layout": {
          "annotationdefaults": {
           "arrowcolor": "#2a3f5f",
           "arrowhead": 0,
           "arrowwidth": 1
          },
          "autotypenumbers": "strict",
          "coloraxis": {
           "colorbar": {
            "outlinewidth": 0,
            "ticks": ""
           }
          },
          "colorscale": {
           "diverging": [
            [
             0,
             "#8e0152"
            ],
            [
             0.1,
             "#c51b7d"
            ],
            [
             0.2,
             "#de77ae"
            ],
            [
             0.3,
             "#f1b6da"
            ],
            [
             0.4,
             "#fde0ef"
            ],
            [
             0.5,
             "#f7f7f7"
            ],
            [
             0.6,
             "#e6f5d0"
            ],
            [
             0.7,
             "#b8e186"
            ],
            [
             0.8,
             "#7fbc41"
            ],
            [
             0.9,
             "#4d9221"
            ],
            [
             1,
             "#276419"
            ]
           ],
           "sequential": [
            [
             0,
             "#0d0887"
            ],
            [
             0.1111111111111111,
             "#46039f"
            ],
            [
             0.2222222222222222,
             "#7201a8"
            ],
            [
             0.3333333333333333,
             "#9c179e"
            ],
            [
             0.4444444444444444,
             "#bd3786"
            ],
            [
             0.5555555555555556,
             "#d8576b"
            ],
            [
             0.6666666666666666,
             "#ed7953"
            ],
            [
             0.7777777777777778,
             "#fb9f3a"
            ],
            [
             0.8888888888888888,
             "#fdca26"
            ],
            [
             1,
             "#f0f921"
            ]
           ],
           "sequentialminus": [
            [
             0,
             "#0d0887"
            ],
            [
             0.1111111111111111,
             "#46039f"
            ],
            [
             0.2222222222222222,
             "#7201a8"
            ],
            [
             0.3333333333333333,
             "#9c179e"
            ],
            [
             0.4444444444444444,
             "#bd3786"
            ],
            [
             0.5555555555555556,
             "#d8576b"
            ],
            [
             0.6666666666666666,
             "#ed7953"
            ],
            [
             0.7777777777777778,
             "#fb9f3a"
            ],
            [
             0.8888888888888888,
             "#fdca26"
            ],
            [
             1,
             "#f0f921"
            ]
           ]
          },
          "colorway": [
           "#636efa",
           "#EF553B",
           "#00cc96",
           "#ab63fa",
           "#FFA15A",
           "#19d3f3",
           "#FF6692",
           "#B6E880",
           "#FF97FF",
           "#FECB52"
          ],
          "font": {
           "color": "#2a3f5f",
           "family": "Times New Roman",
           "size": 14
          },
          "geo": {
           "bgcolor": "white",
           "lakecolor": "white",
           "landcolor": "#E5ECF6",
           "showlakes": true,
           "showland": true,
           "subunitcolor": "white"
          },
          "hoverlabel": {
           "align": "left"
          },
          "hovermode": "closest",
          "mapbox": {
           "style": "light"
          },
          "paper_bgcolor": "white",
          "plot_bgcolor": "#E5ECF6",
          "polar": {
           "angularaxis": {
            "gridcolor": "white",
            "linecolor": "white",
            "ticks": ""
           },
           "bgcolor": "#E5ECF6",
           "radialaxis": {
            "gridcolor": "white",
            "linecolor": "white",
            "ticks": ""
           }
          },
          "scene": {
           "xaxis": {
            "backgroundcolor": "#E5ECF6",
            "gridcolor": "white",
            "gridwidth": 2,
            "linecolor": "white",
            "showbackground": true,
            "ticks": "",
            "zerolinecolor": "white"
           },
           "yaxis": {
            "backgroundcolor": "#E5ECF6",
            "gridcolor": "white",
            "gridwidth": 2,
            "linecolor": "white",
            "showbackground": true,
            "ticks": "",
            "zerolinecolor": "white"
           },
           "zaxis": {
            "backgroundcolor": "#E5ECF6",
            "gridcolor": "white",
            "gridwidth": 2,
            "linecolor": "white",
            "showbackground": true,
            "ticks": "",
            "zerolinecolor": "white"
           }
          },
          "shapedefaults": {
           "line": {
            "color": "#2a3f5f"
           }
          },
          "ternary": {
           "aaxis": {
            "gridcolor": "white",
            "linecolor": "white",
            "ticks": ""
           },
           "baxis": {
            "gridcolor": "white",
            "linecolor": "white",
            "ticks": ""
           },
           "bgcolor": "#E5ECF6",
           "caxis": {
            "gridcolor": "white",
            "linecolor": "white",
            "ticks": ""
           }
          },
          "title": {
           "x": 0.05
          },
          "xaxis": {
           "automargin": true,
           "gridcolor": "white",
           "linecolor": "white",
           "ticks": "",
           "title": {
            "standoff": 15
           },
           "zerolinecolor": "white",
           "zerolinewidth": 2
          },
          "yaxis": {
           "automargin": true,
           "gridcolor": "white",
           "linecolor": "white",
           "ticks": "",
           "title": {
            "standoff": 15
           },
           "zerolinecolor": "white",
           "zerolinewidth": 2
          }
         }
        },
        "title": {
         "text": "Multidimensional View of Happiness Factors"
        },
        "width": 1200
       }
      }
     },
     "metadata": {},
     "output_type": "display_data"
    }
   ],
   "source": [
    "# PARALLEL COORDINATES PLOT\n",
    "if all(col in df_2021.columns for col in [\"happiness_score\", \"gdp_per_capita\"]):\n",
    "    try:\n",
    "        # Define and validate metrics\n",
    "        possible_metrics = [\n",
    "            \"gdp_per_capita\",\n",
    "            \"social_support\",\n",
    "            \"healthy_life_expectancy\",\n",
    "            \"freedom_to_make_life_choices\",\n",
    "            \"generosity\",\n",
    "            \"perceptions_of_corruption\",\n",
    "            \"happiness_score\"\n",
    "        ]\n",
    "        available_metrics = [m for m in possible_metrics if m in df_2021.columns]\n",
    "        \n",
    "        if len(available_metrics) >= 2:\n",
    "            # Create clean numeric dataframe with explicit 1D columns\n",
    "            plot_data = df_2021[available_metrics].copy()\n",
    "            for col in available_metrics:\n",
    "                plot_data[col] = pd.to_numeric(plot_data[col], errors='coerce')\n",
    "            plot_data = plot_data.dropna()\n",
    "            \n",
    "            if len(plot_data) > 0:\n",
    "                fig10 = px.parallel_coordinates(\n",
    "                    plot_data,\n",
    "                    dimensions=available_metrics,\n",
    "                    color=\"happiness_score\",\n",
    "                    color_continuous_scale=\"Tealrose\",\n",
    "                    title=\"Multidimensional View of Happiness Factors\",\n",
    "                    width=1200,\n",
    "                    height=700\n",
    "                )\n",
    "                fig10.show()\n",
    "            else:\n",
    "                print(\"Parallel coordinates: No valid data after cleaning\")\n",
    "        else:\n",
    "            print(f\"Parallel coordinates: Need at least 2 metrics, found {len(available_metrics)}\")\n",
    "    except Exception as e:\n",
    "        print(f\"Parallel coordinates visualization failed: {str(e)}\")"
   ]
  },
  {
   "cell_type": "code",
   "execution_count": 96,
   "id": "72999362",
   "metadata": {},
   "outputs": [
    {
     "data": {
      "application/vnd.plotly.v1+json": {
       "config": {
        "plotlyServerURL": "https://plot.ly"
       },
       "data": [
        {
         "alignmentgroup": "True",
         "hovertemplate": "variable=explained_by:_log_gdp_per_capita<br>country=%{x}<br>value=%{y}<extra></extra>",
         "legendgroup": "explained_by:_log_gdp_per_capita",
         "marker": {
          "color": "#636efa",
          "pattern": {
           "shape": ""
          }
         },
         "name": "explained_by:_log_gdp_per_capita",
         "offsetgroup": "explained_by:_log_gdp_per_capita",
         "orientation": "v",
         "showlegend": true,
         "textposition": "auto",
         "type": "bar",
         "x": [
          "Finland",
          "Denmark",
          "Switzerland",
          "Iceland",
          "Netherlands",
          "Norway",
          "Sweden",
          "Luxembourg",
          "New Zealand",
          "Austria"
         ],
         "xaxis": "x",
         "y": [
          1.446,
          1.502,
          1.566,
          1.482,
          1.501,
          1.543,
          1.478,
          1.751,
          1.4,
          1.492
         ],
         "yaxis": "y"
        },
        {
         "alignmentgroup": "True",
         "hovertemplate": "variable=explained_by:_social_support<br>country=%{x}<br>value=%{y}<extra></extra>",
         "legendgroup": "explained_by:_social_support",
         "marker": {
          "color": "#EF553B",
          "pattern": {
           "shape": ""
          }
         },
         "name": "explained_by:_social_support",
         "offsetgroup": "explained_by:_social_support",
         "orientation": "v",
         "showlegend": true,
         "textposition": "auto",
         "type": "bar",
         "x": [
          "Finland",
          "Denmark",
          "Switzerland",
          "Iceland",
          "Netherlands",
          "Norway",
          "Sweden",
          "Luxembourg",
          "New Zealand",
          "Austria"
         ],
         "xaxis": "x",
         "y": [
          1.106,
          1.108,
          1.079,
          1.172,
          1.079,
          1.108,
          1.062,
          1.003,
          1.094,
          1.062
         ],
         "yaxis": "y"
        },
        {
         "alignmentgroup": "True",
         "hovertemplate": "variable=explained_by:_healthy_life_expectancy<br>country=%{x}<br>value=%{y}<extra></extra>",
         "legendgroup": "explained_by:_healthy_life_expectancy",
         "marker": {
          "color": "#00cc96",
          "pattern": {
           "shape": ""
          }
         },
         "name": "explained_by:_healthy_life_expectancy",
         "offsetgroup": "explained_by:_healthy_life_expectancy",
         "orientation": "v",
         "showlegend": true,
         "textposition": "auto",
         "type": "bar",
         "x": [
          "Finland",
          "Denmark",
          "Switzerland",
          "Iceland",
          "Netherlands",
          "Norway",
          "Sweden",
          "Luxembourg",
          "New Zealand",
          "Austria"
         ],
         "xaxis": "x",
         "y": [
          0.741,
          0.763,
          0.816,
          0.772,
          0.753,
          0.782,
          0.763,
          0.76,
          0.785,
          0.782
         ],
         "yaxis": "y"
        },
        {
         "alignmentgroup": "True",
         "hovertemplate": "variable=explained_by:_freedom_to_make_life_choices<br>country=%{x}<br>value=%{y}<extra></extra>",
         "legendgroup": "explained_by:_freedom_to_make_life_choices",
         "marker": {
          "color": "#ab63fa",
          "pattern": {
           "shape": ""
          }
         },
         "name": "explained_by:_freedom_to_make_life_choices",
         "offsetgroup": "explained_by:_freedom_to_make_life_choices",
         "orientation": "v",
         "showlegend": true,
         "textposition": "auto",
         "type": "bar",
         "x": [
          "Finland",
          "Denmark",
          "Switzerland",
          "Iceland",
          "Netherlands",
          "Norway",
          "Sweden",
          "Luxembourg",
          "New Zealand",
          "Austria"
         ],
         "xaxis": "x",
         "y": [
          0.691,
          0.686,
          0.653,
          0.698,
          0.647,
          0.703,
          0.685,
          0.639,
          0.665,
          0.64
         ],
         "yaxis": "y"
        },
        {
         "alignmentgroup": "True",
         "hovertemplate": "variable=explained_by:_generosity<br>country=%{x}<br>value=%{y}<extra></extra>",
         "legendgroup": "explained_by:_generosity",
         "marker": {
          "color": "#FFA15A",
          "pattern": {
           "shape": ""
          }
         },
         "name": "explained_by:_generosity",
         "offsetgroup": "explained_by:_generosity",
         "orientation": "v",
         "showlegend": true,
         "textposition": "auto",
         "type": "bar",
         "x": [
          "Finland",
          "Denmark",
          "Switzerland",
          "Iceland",
          "Netherlands",
          "Norway",
          "Sweden",
          "Luxembourg",
          "New Zealand",
          "Austria"
         ],
         "xaxis": "x",
         "y": [
          0.124,
          0.208,
          0.204,
          0.293,
          0.302,
          0.249,
          0.244,
          0.166,
          0.276,
          0.215
         ],
         "yaxis": "y"
        },
        {
         "alignmentgroup": "True",
         "hovertemplate": "variable=explained_by:_perceptions_of_corruption<br>country=%{x}<br>value=%{y}<extra></extra>",
         "legendgroup": "explained_by:_perceptions_of_corruption",
         "marker": {
          "color": "#19d3f3",
          "pattern": {
           "shape": ""
          }
         },
         "name": "explained_by:_perceptions_of_corruption",
         "offsetgroup": "explained_by:_perceptions_of_corruption",
         "orientation": "v",
         "showlegend": true,
         "textposition": "auto",
         "type": "bar",
         "x": [
          "Finland",
          "Denmark",
          "Switzerland",
          "Iceland",
          "Netherlands",
          "Norway",
          "Sweden",
          "Luxembourg",
          "New Zealand",
          "Austria"
         ],
         "xaxis": "x",
         "y": [
          0.481,
          0.485,
          0.413,
          0.17,
          0.384,
          0.427,
          0.448,
          0.353,
          0.445,
          0.292
         ],
         "yaxis": "y"
        }
       ],
       "layout": {
        "barmode": "stack",
        "height": 700,
        "legend": {
         "title": {
          "text": "variable"
         },
         "tracegroupgap": 0
        },
        "template": {
         "data": {
          "bar": [
           {
            "error_x": {
             "color": "#2a3f5f"
            },
            "error_y": {
             "color": "#2a3f5f"
            },
            "marker": {
             "line": {
              "color": "#E5ECF6",
              "width": 0.5
             },
             "pattern": {
              "fillmode": "overlay",
              "size": 10,
              "solidity": 0.2
             }
            },
            "type": "bar"
           }
          ],
          "barpolar": [
           {
            "marker": {
             "line": {
              "color": "#E5ECF6",
              "width": 0.5
             },
             "pattern": {
              "fillmode": "overlay",
              "size": 10,
              "solidity": 0.2
             }
            },
            "type": "barpolar"
           }
          ],
          "carpet": [
           {
            "aaxis": {
             "endlinecolor": "#2a3f5f",
             "gridcolor": "white",
             "linecolor": "white",
             "minorgridcolor": "white",
             "startlinecolor": "#2a3f5f"
            },
            "baxis": {
             "endlinecolor": "#2a3f5f",
             "gridcolor": "white",
             "linecolor": "white",
             "minorgridcolor": "white",
             "startlinecolor": "#2a3f5f"
            },
            "type": "carpet"
           }
          ],
          "choropleth": [
           {
            "colorbar": {
             "outlinewidth": 0,
             "ticks": ""
            },
            "type": "choropleth"
           }
          ],
          "contour": [
           {
            "colorbar": {
             "outlinewidth": 0,
             "ticks": ""
            },
            "colorscale": [
             [
              0,
              "#0d0887"
             ],
             [
              0.1111111111111111,
              "#46039f"
             ],
             [
              0.2222222222222222,
              "#7201a8"
             ],
             [
              0.3333333333333333,
              "#9c179e"
             ],
             [
              0.4444444444444444,
              "#bd3786"
             ],
             [
              0.5555555555555556,
              "#d8576b"
             ],
             [
              0.6666666666666666,
              "#ed7953"
             ],
             [
              0.7777777777777778,
              "#fb9f3a"
             ],
             [
              0.8888888888888888,
              "#fdca26"
             ],
             [
              1,
              "#f0f921"
             ]
            ],
            "type": "contour"
           }
          ],
          "contourcarpet": [
           {
            "colorbar": {
             "outlinewidth": 0,
             "ticks": ""
            },
            "type": "contourcarpet"
           }
          ],
          "heatmap": [
           {
            "colorbar": {
             "outlinewidth": 0,
             "ticks": ""
            },
            "colorscale": [
             [
              0,
              "#0d0887"
             ],
             [
              0.1111111111111111,
              "#46039f"
             ],
             [
              0.2222222222222222,
              "#7201a8"
             ],
             [
              0.3333333333333333,
              "#9c179e"
             ],
             [
              0.4444444444444444,
              "#bd3786"
             ],
             [
              0.5555555555555556,
              "#d8576b"
             ],
             [
              0.6666666666666666,
              "#ed7953"
             ],
             [
              0.7777777777777778,
              "#fb9f3a"
             ],
             [
              0.8888888888888888,
              "#fdca26"
             ],
             [
              1,
              "#f0f921"
             ]
            ],
            "type": "heatmap"
           }
          ],
          "heatmapgl": [
           {
            "colorbar": {
             "outlinewidth": 0,
             "ticks": ""
            },
            "colorscale": [
             [
              0,
              "#0d0887"
             ],
             [
              0.1111111111111111,
              "#46039f"
             ],
             [
              0.2222222222222222,
              "#7201a8"
             ],
             [
              0.3333333333333333,
              "#9c179e"
             ],
             [
              0.4444444444444444,
              "#bd3786"
             ],
             [
              0.5555555555555556,
              "#d8576b"
             ],
             [
              0.6666666666666666,
              "#ed7953"
             ],
             [
              0.7777777777777778,
              "#fb9f3a"
             ],
             [
              0.8888888888888888,
              "#fdca26"
             ],
             [
              1,
              "#f0f921"
             ]
            ],
            "type": "heatmapgl"
           }
          ],
          "histogram": [
           {
            "marker": {
             "pattern": {
              "fillmode": "overlay",
              "size": 10,
              "solidity": 0.2
             }
            },
            "type": "histogram"
           }
          ],
          "histogram2d": [
           {
            "colorbar": {
             "outlinewidth": 0,
             "ticks": ""
            },
            "colorscale": [
             [
              0,
              "#0d0887"
             ],
             [
              0.1111111111111111,
              "#46039f"
             ],
             [
              0.2222222222222222,
              "#7201a8"
             ],
             [
              0.3333333333333333,
              "#9c179e"
             ],
             [
              0.4444444444444444,
              "#bd3786"
             ],
             [
              0.5555555555555556,
              "#d8576b"
             ],
             [
              0.6666666666666666,
              "#ed7953"
             ],
             [
              0.7777777777777778,
              "#fb9f3a"
             ],
             [
              0.8888888888888888,
              "#fdca26"
             ],
             [
              1,
              "#f0f921"
             ]
            ],
            "type": "histogram2d"
           }
          ],
          "histogram2dcontour": [
           {
            "colorbar": {
             "outlinewidth": 0,
             "ticks": ""
            },
            "colorscale": [
             [
              0,
              "#0d0887"
             ],
             [
              0.1111111111111111,
              "#46039f"
             ],
             [
              0.2222222222222222,
              "#7201a8"
             ],
             [
              0.3333333333333333,
              "#9c179e"
             ],
             [
              0.4444444444444444,
              "#bd3786"
             ],
             [
              0.5555555555555556,
              "#d8576b"
             ],
             [
              0.6666666666666666,
              "#ed7953"
             ],
             [
              0.7777777777777778,
              "#fb9f3a"
             ],
             [
              0.8888888888888888,
              "#fdca26"
             ],
             [
              1,
              "#f0f921"
             ]
            ],
            "type": "histogram2dcontour"
           }
          ],
          "mesh3d": [
           {
            "colorbar": {
             "outlinewidth": 0,
             "ticks": ""
            },
            "type": "mesh3d"
           }
          ],
          "parcoords": [
           {
            "line": {
             "colorbar": {
              "outlinewidth": 0,
              "ticks": ""
             }
            },
            "type": "parcoords"
           }
          ],
          "pie": [
           {
            "automargin": true,
            "type": "pie"
           }
          ],
          "scatter": [
           {
            "fillpattern": {
             "fillmode": "overlay",
             "size": 10,
             "solidity": 0.2
            },
            "type": "scatter"
           }
          ],
          "scatter3d": [
           {
            "line": {
             "colorbar": {
              "outlinewidth": 0,
              "ticks": ""
             }
            },
            "marker": {
             "colorbar": {
              "outlinewidth": 0,
              "ticks": ""
             }
            },
            "type": "scatter3d"
           }
          ],
          "scattercarpet": [
           {
            "marker": {
             "colorbar": {
              "outlinewidth": 0,
              "ticks": ""
             }
            },
            "type": "scattercarpet"
           }
          ],
          "scattergeo": [
           {
            "marker": {
             "colorbar": {
              "outlinewidth": 0,
              "ticks": ""
             }
            },
            "type": "scattergeo"
           }
          ],
          "scattergl": [
           {
            "marker": {
             "colorbar": {
              "outlinewidth": 0,
              "ticks": ""
             }
            },
            "type": "scattergl"
           }
          ],
          "scattermapbox": [
           {
            "marker": {
             "colorbar": {
              "outlinewidth": 0,
              "ticks": ""
             }
            },
            "type": "scattermapbox"
           }
          ],
          "scatterpolar": [
           {
            "marker": {
             "colorbar": {
              "outlinewidth": 0,
              "ticks": ""
             }
            },
            "type": "scatterpolar"
           }
          ],
          "scatterpolargl": [
           {
            "marker": {
             "colorbar": {
              "outlinewidth": 0,
              "ticks": ""
             }
            },
            "type": "scatterpolargl"
           }
          ],
          "scatterternary": [
           {
            "marker": {
             "colorbar": {
              "outlinewidth": 0,
              "ticks": ""
             }
            },
            "type": "scatterternary"
           }
          ],
          "surface": [
           {
            "colorbar": {
             "outlinewidth": 0,
             "ticks": ""
            },
            "colorscale": [
             [
              0,
              "#0d0887"
             ],
             [
              0.1111111111111111,
              "#46039f"
             ],
             [
              0.2222222222222222,
              "#7201a8"
             ],
             [
              0.3333333333333333,
              "#9c179e"
             ],
             [
              0.4444444444444444,
              "#bd3786"
             ],
             [
              0.5555555555555556,
              "#d8576b"
             ],
             [
              0.6666666666666666,
              "#ed7953"
             ],
             [
              0.7777777777777778,
              "#fb9f3a"
             ],
             [
              0.8888888888888888,
              "#fdca26"
             ],
             [
              1,
              "#f0f921"
             ]
            ],
            "type": "surface"
           }
          ],
          "table": [
           {
            "cells": {
             "fill": {
              "color": "#EBF0F8"
             },
             "line": {
              "color": "white"
             }
            },
            "header": {
             "fill": {
              "color": "#C8D4E3"
             },
             "line": {
              "color": "white"
             }
            },
            "type": "table"
           }
          ]
         },
         "layout": {
          "annotationdefaults": {
           "arrowcolor": "#2a3f5f",
           "arrowhead": 0,
           "arrowwidth": 1
          },
          "autotypenumbers": "strict",
          "coloraxis": {
           "colorbar": {
            "outlinewidth": 0,
            "ticks": ""
           }
          },
          "colorscale": {
           "diverging": [
            [
             0,
             "#8e0152"
            ],
            [
             0.1,
             "#c51b7d"
            ],
            [
             0.2,
             "#de77ae"
            ],
            [
             0.3,
             "#f1b6da"
            ],
            [
             0.4,
             "#fde0ef"
            ],
            [
             0.5,
             "#f7f7f7"
            ],
            [
             0.6,
             "#e6f5d0"
            ],
            [
             0.7,
             "#b8e186"
            ],
            [
             0.8,
             "#7fbc41"
            ],
            [
             0.9,
             "#4d9221"
            ],
            [
             1,
             "#276419"
            ]
           ],
           "sequential": [
            [
             0,
             "#0d0887"
            ],
            [
             0.1111111111111111,
             "#46039f"
            ],
            [
             0.2222222222222222,
             "#7201a8"
            ],
            [
             0.3333333333333333,
             "#9c179e"
            ],
            [
             0.4444444444444444,
             "#bd3786"
            ],
            [
             0.5555555555555556,
             "#d8576b"
            ],
            [
             0.6666666666666666,
             "#ed7953"
            ],
            [
             0.7777777777777778,
             "#fb9f3a"
            ],
            [
             0.8888888888888888,
             "#fdca26"
            ],
            [
             1,
             "#f0f921"
            ]
           ],
           "sequentialminus": [
            [
             0,
             "#0d0887"
            ],
            [
             0.1111111111111111,
             "#46039f"
            ],
            [
             0.2222222222222222,
             "#7201a8"
            ],
            [
             0.3333333333333333,
             "#9c179e"
            ],
            [
             0.4444444444444444,
             "#bd3786"
            ],
            [
             0.5555555555555556,
             "#d8576b"
            ],
            [
             0.6666666666666666,
             "#ed7953"
            ],
            [
             0.7777777777777778,
             "#fb9f3a"
            ],
            [
             0.8888888888888888,
             "#fdca26"
            ],
            [
             1,
             "#f0f921"
            ]
           ]
          },
          "colorway": [
           "#636efa",
           "#EF553B",
           "#00cc96",
           "#ab63fa",
           "#FFA15A",
           "#19d3f3",
           "#FF6692",
           "#B6E880",
           "#FF97FF",
           "#FECB52"
          ],
          "font": {
           "color": "#2a3f5f",
           "family": "Times New Roman",
           "size": 14
          },
          "geo": {
           "bgcolor": "white",
           "lakecolor": "white",
           "landcolor": "#E5ECF6",
           "showlakes": true,
           "showland": true,
           "subunitcolor": "white"
          },
          "hoverlabel": {
           "align": "left"
          },
          "hovermode": "closest",
          "mapbox": {
           "style": "light"
          },
          "paper_bgcolor": "white",
          "plot_bgcolor": "#E5ECF6",
          "polar": {
           "angularaxis": {
            "gridcolor": "white",
            "linecolor": "white",
            "ticks": ""
           },
           "bgcolor": "#E5ECF6",
           "radialaxis": {
            "gridcolor": "white",
            "linecolor": "white",
            "ticks": ""
           }
          },
          "scene": {
           "xaxis": {
            "backgroundcolor": "#E5ECF6",
            "gridcolor": "white",
            "gridwidth": 2,
            "linecolor": "white",
            "showbackground": true,
            "ticks": "",
            "zerolinecolor": "white"
           },
           "yaxis": {
            "backgroundcolor": "#E5ECF6",
            "gridcolor": "white",
            "gridwidth": 2,
            "linecolor": "white",
            "showbackground": true,
            "ticks": "",
            "zerolinecolor": "white"
           },
           "zaxis": {
            "backgroundcolor": "#E5ECF6",
            "gridcolor": "white",
            "gridwidth": 2,
            "linecolor": "white",
            "showbackground": true,
            "ticks": "",
            "zerolinecolor": "white"
           }
          },
          "shapedefaults": {
           "line": {
            "color": "#2a3f5f"
           }
          },
          "ternary": {
           "aaxis": {
            "gridcolor": "white",
            "linecolor": "white",
            "ticks": ""
           },
           "baxis": {
            "gridcolor": "white",
            "linecolor": "white",
            "ticks": ""
           },
           "bgcolor": "#E5ECF6",
           "caxis": {
            "gridcolor": "white",
            "linecolor": "white",
            "ticks": ""
           }
          },
          "title": {
           "x": 0.05
          },
          "xaxis": {
           "automargin": true,
           "gridcolor": "white",
           "linecolor": "white",
           "ticks": "",
           "title": {
            "standoff": 15
           },
           "zerolinecolor": "white",
           "zerolinewidth": 2
          },
          "yaxis": {
           "automargin": true,
           "gridcolor": "white",
           "linecolor": "white",
           "ticks": "",
           "title": {
            "standoff": 15
           },
           "zerolinecolor": "white",
           "zerolinewidth": 2
          }
         }
        },
        "title": {
         "text": "Top 10 Countries: Contribution of Factors"
        },
        "width": 1200,
        "xaxis": {
         "anchor": "y",
         "domain": [
          0,
          1
         ],
         "title": {
          "text": "country"
         }
        },
        "yaxis": {
         "anchor": "x",
         "domain": [
          0,
          1
         ],
         "title": {
          "text": "value"
         }
        }
       }
      }
     },
     "metadata": {},
     "output_type": "display_data"
    }
   ],
   "source": [
    "# Top 10 Countries' Factor Contributions\n",
    "if all(col in df_2021.columns for col in [\"country\", \"happiness_score\"]):\n",
    "    factors = [c for c in df_2021.columns if 'explained_by:' in c]\n",
    "    if factors:\n",
    "        top_10 = df_2021.sort_values(\"happiness_score\", ascending=False).head(10)\n",
    "        fig3 = px.bar(top_10, x=\"country\", y=factors, \n",
    "                     title=\"Top 10 Countries: Contribution of Factors\", \n",
    "                     barmode=\"stack\",\n",
    "                     width=1200,\n",
    "        height=700)\n",
    "        fig3.show()"
   ]
  },
  {
   "cell_type": "code",
   "execution_count": 97,
   "id": "2a1384b3",
   "metadata": {},
   "outputs": [
    {
     "data": {
      "application/vnd.plotly.v1+json": {
       "config": {
        "plotlyServerURL": "https://plot.ly"
       },
       "data": [
        {
         "fillpattern": {
          "shape": ""
         },
         "hovertemplate": "variable=social_support<br>year=%{x}<br>value=%{y}<extra></extra>",
         "legendgroup": "social_support",
         "line": {
          "color": "#636efa"
         },
         "marker": {
          "symbol": "circle"
         },
         "mode": "lines",
         "name": "social_support",
         "orientation": "v",
         "showlegend": true,
         "stackgroup": "1",
         "type": "scatter",
         "x": [
          2005,
          2006,
          2007,
          2008,
          2009,
          2010,
          2011,
          2012,
          2013,
          2014,
          2015,
          2016,
          2017,
          2018,
          2019,
          2020
         ],
         "xaxis": "x",
         "y": [
          0.8974074074074074,
          0.835808988764045,
          0.80777,
          0.7843909090909091,
          0.819070796460177,
          0.8318666666666666,
          0.8028000000000001,
          0.8090633802816901,
          0.8065547445255474,
          0.8056408450704226,
          0.7982042253521127,
          0.8118943661971831,
          0.8051438356164383,
          0.8123450704225351,
          0.8167916666666666,
          0.8389157894736843
         ],
         "yaxis": "y"
        },
        {
         "fillpattern": {
          "shape": ""
         },
         "hovertemplate": "variable=freedom_to_make_life_choices<br>year=%{x}<br>value=%{y}<extra></extra>",
         "legendgroup": "freedom_to_make_life_choices",
         "line": {
          "color": "#EF553B"
         },
         "marker": {
          "symbol": "circle"
         },
         "mode": "lines",
         "name": "freedom_to_make_life_choices",
         "orientation": "v",
         "showlegend": true,
         "stackgroup": "1",
         "type": "scatter",
         "x": [
          2005,
          2006,
          2007,
          2008,
          2009,
          2010,
          2011,
          2012,
          2013,
          2014,
          2015,
          2016,
          2017,
          2018,
          2019,
          2020
         ],
         "xaxis": "x",
         "y": [
          0.82952,
          0.7304767441860465,
          0.6873366336633664,
          0.6883551401869159,
          0.6874017857142858,
          0.7082622950819673,
          0.7321862068965518,
          0.711241134751773,
          0.7278970588235294,
          0.7344565217391305,
          0.7486785714285714,
          0.7631571428571429,
          0.7806027397260275,
          0.783936170212766,
          0.7945524475524475,
          0.8177659574468086
         ],
         "yaxis": "y"
        },
        {
         "fillpattern": {
          "shape": ""
         },
         "hovertemplate": "variable=generosity<br>year=%{x}<br>value=%{y}<extra></extra>",
         "legendgroup": "generosity",
         "line": {
          "color": "#00cc96"
         },
         "marker": {
          "symbol": "circle"
         },
         "mode": "lines",
         "name": "generosity",
         "orientation": "v",
         "showlegend": true,
         "stackgroup": "1",
         "type": "scatter",
         "x": [
          2005,
          2006,
          2007,
          2008,
          2009,
          2010,
          2011,
          2012,
          2013,
          2014,
          2015,
          2016,
          2017,
          2018,
          2019,
          2020
         ],
         "xaxis": "x",
         "y": [
          0.256,
          0.00665432098765432,
          0.014833333333333334,
          0.021486238532110093,
          -0.005371681415929203,
          0.0033821138211382116,
          -0.014437499999999999,
          -0.0020601503759398506,
          -0.000157894736842105,
          0.02026086956521739,
          0.019690647482014385,
          0.0006956521739130437,
          -0.006565517241379309,
          -0.02308823529411765,
          -0.01989051094890511,
          -0.008011363636363638
         ],
         "yaxis": "y"
        }
       ],
       "layout": {
        "height": 700,
        "legend": {
         "title": {
          "text": "variable"
         },
         "tracegroupgap": 0
        },
        "template": {
         "data": {
          "bar": [
           {
            "error_x": {
             "color": "#2a3f5f"
            },
            "error_y": {
             "color": "#2a3f5f"
            },
            "marker": {
             "line": {
              "color": "#E5ECF6",
              "width": 0.5
             },
             "pattern": {
              "fillmode": "overlay",
              "size": 10,
              "solidity": 0.2
             }
            },
            "type": "bar"
           }
          ],
          "barpolar": [
           {
            "marker": {
             "line": {
              "color": "#E5ECF6",
              "width": 0.5
             },
             "pattern": {
              "fillmode": "overlay",
              "size": 10,
              "solidity": 0.2
             }
            },
            "type": "barpolar"
           }
          ],
          "carpet": [
           {
            "aaxis": {
             "endlinecolor": "#2a3f5f",
             "gridcolor": "white",
             "linecolor": "white",
             "minorgridcolor": "white",
             "startlinecolor": "#2a3f5f"
            },
            "baxis": {
             "endlinecolor": "#2a3f5f",
             "gridcolor": "white",
             "linecolor": "white",
             "minorgridcolor": "white",
             "startlinecolor": "#2a3f5f"
            },
            "type": "carpet"
           }
          ],
          "choropleth": [
           {
            "colorbar": {
             "outlinewidth": 0,
             "ticks": ""
            },
            "type": "choropleth"
           }
          ],
          "contour": [
           {
            "colorbar": {
             "outlinewidth": 0,
             "ticks": ""
            },
            "colorscale": [
             [
              0,
              "#0d0887"
             ],
             [
              0.1111111111111111,
              "#46039f"
             ],
             [
              0.2222222222222222,
              "#7201a8"
             ],
             [
              0.3333333333333333,
              "#9c179e"
             ],
             [
              0.4444444444444444,
              "#bd3786"
             ],
             [
              0.5555555555555556,
              "#d8576b"
             ],
             [
              0.6666666666666666,
              "#ed7953"
             ],
             [
              0.7777777777777778,
              "#fb9f3a"
             ],
             [
              0.8888888888888888,
              "#fdca26"
             ],
             [
              1,
              "#f0f921"
             ]
            ],
            "type": "contour"
           }
          ],
          "contourcarpet": [
           {
            "colorbar": {
             "outlinewidth": 0,
             "ticks": ""
            },
            "type": "contourcarpet"
           }
          ],
          "heatmap": [
           {
            "colorbar": {
             "outlinewidth": 0,
             "ticks": ""
            },
            "colorscale": [
             [
              0,
              "#0d0887"
             ],
             [
              0.1111111111111111,
              "#46039f"
             ],
             [
              0.2222222222222222,
              "#7201a8"
             ],
             [
              0.3333333333333333,
              "#9c179e"
             ],
             [
              0.4444444444444444,
              "#bd3786"
             ],
             [
              0.5555555555555556,
              "#d8576b"
             ],
             [
              0.6666666666666666,
              "#ed7953"
             ],
             [
              0.7777777777777778,
              "#fb9f3a"
             ],
             [
              0.8888888888888888,
              "#fdca26"
             ],
             [
              1,
              "#f0f921"
             ]
            ],
            "type": "heatmap"
           }
          ],
          "heatmapgl": [
           {
            "colorbar": {
             "outlinewidth": 0,
             "ticks": ""
            },
            "colorscale": [
             [
              0,
              "#0d0887"
             ],
             [
              0.1111111111111111,
              "#46039f"
             ],
             [
              0.2222222222222222,
              "#7201a8"
             ],
             [
              0.3333333333333333,
              "#9c179e"
             ],
             [
              0.4444444444444444,
              "#bd3786"
             ],
             [
              0.5555555555555556,
              "#d8576b"
             ],
             [
              0.6666666666666666,
              "#ed7953"
             ],
             [
              0.7777777777777778,
              "#fb9f3a"
             ],
             [
              0.8888888888888888,
              "#fdca26"
             ],
             [
              1,
              "#f0f921"
             ]
            ],
            "type": "heatmapgl"
           }
          ],
          "histogram": [
           {
            "marker": {
             "pattern": {
              "fillmode": "overlay",
              "size": 10,
              "solidity": 0.2
             }
            },
            "type": "histogram"
           }
          ],
          "histogram2d": [
           {
            "colorbar": {
             "outlinewidth": 0,
             "ticks": ""
            },
            "colorscale": [
             [
              0,
              "#0d0887"
             ],
             [
              0.1111111111111111,
              "#46039f"
             ],
             [
              0.2222222222222222,
              "#7201a8"
             ],
             [
              0.3333333333333333,
              "#9c179e"
             ],
             [
              0.4444444444444444,
              "#bd3786"
             ],
             [
              0.5555555555555556,
              "#d8576b"
             ],
             [
              0.6666666666666666,
              "#ed7953"
             ],
             [
              0.7777777777777778,
              "#fb9f3a"
             ],
             [
              0.8888888888888888,
              "#fdca26"
             ],
             [
              1,
              "#f0f921"
             ]
            ],
            "type": "histogram2d"
           }
          ],
          "histogram2dcontour": [
           {
            "colorbar": {
             "outlinewidth": 0,
             "ticks": ""
            },
            "colorscale": [
             [
              0,
              "#0d0887"
             ],
             [
              0.1111111111111111,
              "#46039f"
             ],
             [
              0.2222222222222222,
              "#7201a8"
             ],
             [
              0.3333333333333333,
              "#9c179e"
             ],
             [
              0.4444444444444444,
              "#bd3786"
             ],
             [
              0.5555555555555556,
              "#d8576b"
             ],
             [
              0.6666666666666666,
              "#ed7953"
             ],
             [
              0.7777777777777778,
              "#fb9f3a"
             ],
             [
              0.8888888888888888,
              "#fdca26"
             ],
             [
              1,
              "#f0f921"
             ]
            ],
            "type": "histogram2dcontour"
           }
          ],
          "mesh3d": [
           {
            "colorbar": {
             "outlinewidth": 0,
             "ticks": ""
            },
            "type": "mesh3d"
           }
          ],
          "parcoords": [
           {
            "line": {
             "colorbar": {
              "outlinewidth": 0,
              "ticks": ""
             }
            },
            "type": "parcoords"
           }
          ],
          "pie": [
           {
            "automargin": true,
            "type": "pie"
           }
          ],
          "scatter": [
           {
            "fillpattern": {
             "fillmode": "overlay",
             "size": 10,
             "solidity": 0.2
            },
            "type": "scatter"
           }
          ],
          "scatter3d": [
           {
            "line": {
             "colorbar": {
              "outlinewidth": 0,
              "ticks": ""
             }
            },
            "marker": {
             "colorbar": {
              "outlinewidth": 0,
              "ticks": ""
             }
            },
            "type": "scatter3d"
           }
          ],
          "scattercarpet": [
           {
            "marker": {
             "colorbar": {
              "outlinewidth": 0,
              "ticks": ""
             }
            },
            "type": "scattercarpet"
           }
          ],
          "scattergeo": [
           {
            "marker": {
             "colorbar": {
              "outlinewidth": 0,
              "ticks": ""
             }
            },
            "type": "scattergeo"
           }
          ],
          "scattergl": [
           {
            "marker": {
             "colorbar": {
              "outlinewidth": 0,
              "ticks": ""
             }
            },
            "type": "scattergl"
           }
          ],
          "scattermapbox": [
           {
            "marker": {
             "colorbar": {
              "outlinewidth": 0,
              "ticks": ""
             }
            },
            "type": "scattermapbox"
           }
          ],
          "scatterpolar": [
           {
            "marker": {
             "colorbar": {
              "outlinewidth": 0,
              "ticks": ""
             }
            },
            "type": "scatterpolar"
           }
          ],
          "scatterpolargl": [
           {
            "marker": {
             "colorbar": {
              "outlinewidth": 0,
              "ticks": ""
             }
            },
            "type": "scatterpolargl"
           }
          ],
          "scatterternary": [
           {
            "marker": {
             "colorbar": {
              "outlinewidth": 0,
              "ticks": ""
             }
            },
            "type": "scatterternary"
           }
          ],
          "surface": [
           {
            "colorbar": {
             "outlinewidth": 0,
             "ticks": ""
            },
            "colorscale": [
             [
              0,
              "#0d0887"
             ],
             [
              0.1111111111111111,
              "#46039f"
             ],
             [
              0.2222222222222222,
              "#7201a8"
             ],
             [
              0.3333333333333333,
              "#9c179e"
             ],
             [
              0.4444444444444444,
              "#bd3786"
             ],
             [
              0.5555555555555556,
              "#d8576b"
             ],
             [
              0.6666666666666666,
              "#ed7953"
             ],
             [
              0.7777777777777778,
              "#fb9f3a"
             ],
             [
              0.8888888888888888,
              "#fdca26"
             ],
             [
              1,
              "#f0f921"
             ]
            ],
            "type": "surface"
           }
          ],
          "table": [
           {
            "cells": {
             "fill": {
              "color": "#EBF0F8"
             },
             "line": {
              "color": "white"
             }
            },
            "header": {
             "fill": {
              "color": "#C8D4E3"
             },
             "line": {
              "color": "white"
             }
            },
            "type": "table"
           }
          ]
         },
         "layout": {
          "annotationdefaults": {
           "arrowcolor": "#2a3f5f",
           "arrowhead": 0,
           "arrowwidth": 1
          },
          "autotypenumbers": "strict",
          "coloraxis": {
           "colorbar": {
            "outlinewidth": 0,
            "ticks": ""
           }
          },
          "colorscale": {
           "diverging": [
            [
             0,
             "#8e0152"
            ],
            [
             0.1,
             "#c51b7d"
            ],
            [
             0.2,
             "#de77ae"
            ],
            [
             0.3,
             "#f1b6da"
            ],
            [
             0.4,
             "#fde0ef"
            ],
            [
             0.5,
             "#f7f7f7"
            ],
            [
             0.6,
             "#e6f5d0"
            ],
            [
             0.7,
             "#b8e186"
            ],
            [
             0.8,
             "#7fbc41"
            ],
            [
             0.9,
             "#4d9221"
            ],
            [
             1,
             "#276419"
            ]
           ],
           "sequential": [
            [
             0,
             "#0d0887"
            ],
            [
             0.1111111111111111,
             "#46039f"
            ],
            [
             0.2222222222222222,
             "#7201a8"
            ],
            [
             0.3333333333333333,
             "#9c179e"
            ],
            [
             0.4444444444444444,
             "#bd3786"
            ],
            [
             0.5555555555555556,
             "#d8576b"
            ],
            [
             0.6666666666666666,
             "#ed7953"
            ],
            [
             0.7777777777777778,
             "#fb9f3a"
            ],
            [
             0.8888888888888888,
             "#fdca26"
            ],
            [
             1,
             "#f0f921"
            ]
           ],
           "sequentialminus": [
            [
             0,
             "#0d0887"
            ],
            [
             0.1111111111111111,
             "#46039f"
            ],
            [
             0.2222222222222222,
             "#7201a8"
            ],
            [
             0.3333333333333333,
             "#9c179e"
            ],
            [
             0.4444444444444444,
             "#bd3786"
            ],
            [
             0.5555555555555556,
             "#d8576b"
            ],
            [
             0.6666666666666666,
             "#ed7953"
            ],
            [
             0.7777777777777778,
             "#fb9f3a"
            ],
            [
             0.8888888888888888,
             "#fdca26"
            ],
            [
             1,
             "#f0f921"
            ]
           ]
          },
          "colorway": [
           "#636efa",
           "#EF553B",
           "#00cc96",
           "#ab63fa",
           "#FFA15A",
           "#19d3f3",
           "#FF6692",
           "#B6E880",
           "#FF97FF",
           "#FECB52"
          ],
          "font": {
           "color": "#2a3f5f",
           "family": "Times New Roman",
           "size": 14
          },
          "geo": {
           "bgcolor": "white",
           "lakecolor": "white",
           "landcolor": "#E5ECF6",
           "showlakes": true,
           "showland": true,
           "subunitcolor": "white"
          },
          "hoverlabel": {
           "align": "left"
          },
          "hovermode": "closest",
          "mapbox": {
           "style": "light"
          },
          "paper_bgcolor": "white",
          "plot_bgcolor": "#E5ECF6",
          "polar": {
           "angularaxis": {
            "gridcolor": "white",
            "linecolor": "white",
            "ticks": ""
           },
           "bgcolor": "#E5ECF6",
           "radialaxis": {
            "gridcolor": "white",
            "linecolor": "white",
            "ticks": ""
           }
          },
          "scene": {
           "xaxis": {
            "backgroundcolor": "#E5ECF6",
            "gridcolor": "white",
            "gridwidth": 2,
            "linecolor": "white",
            "showbackground": true,
            "ticks": "",
            "zerolinecolor": "white"
           },
           "yaxis": {
            "backgroundcolor": "#E5ECF6",
            "gridcolor": "white",
            "gridwidth": 2,
            "linecolor": "white",
            "showbackground": true,
            "ticks": "",
            "zerolinecolor": "white"
           },
           "zaxis": {
            "backgroundcolor": "#E5ECF6",
            "gridcolor": "white",
            "gridwidth": 2,
            "linecolor": "white",
            "showbackground": true,
            "ticks": "",
            "zerolinecolor": "white"
           }
          },
          "shapedefaults": {
           "line": {
            "color": "#2a3f5f"
           }
          },
          "ternary": {
           "aaxis": {
            "gridcolor": "white",
            "linecolor": "white",
            "ticks": ""
           },
           "baxis": {
            "gridcolor": "white",
            "linecolor": "white",
            "ticks": ""
           },
           "bgcolor": "#E5ECF6",
           "caxis": {
            "gridcolor": "white",
            "linecolor": "white",
            "ticks": ""
           }
          },
          "title": {
           "x": 0.05
          },
          "xaxis": {
           "automargin": true,
           "gridcolor": "white",
           "linecolor": "white",
           "ticks": "",
           "title": {
            "standoff": 15
           },
           "zerolinecolor": "white",
           "zerolinewidth": 2
          },
          "yaxis": {
           "automargin": true,
           "gridcolor": "white",
           "linecolor": "white",
           "ticks": "",
           "title": {
            "standoff": 15
           },
           "zerolinecolor": "white",
           "zerolinewidth": 2
          }
         }
        },
        "title": {
         "text": "Changing Drivers of Happiness"
        },
        "width": 1200,
        "xaxis": {
         "anchor": "y",
         "domain": [
          0,
          1
         ],
         "title": {
          "text": "year"
         }
        },
        "yaxis": {
         "anchor": "x",
         "domain": [
          0,
          1
         ],
         "title": {
          "text": "value"
         }
        }
       }
      }
     },
     "metadata": {},
     "output_type": "display_data"
    }
   ],
   "source": [
    "# Factor Contribution Over Time\n",
    "if all(col in df_all.columns for col in ['year', 'social_support', 'freedom_to_make_life_choices', 'generosity']):\n",
    "    try:\n",
    "        factors = ['social_support', 'freedom_to_make_life_choices', 'generosity']\n",
    "        factors = [f for f in factors if f in df_all.columns]\n",
    "        if factors:\n",
    "            regional_factors = df_all.groupby('year')[factors].mean().reset_index()\n",
    "            fig22 = px.area(regional_factors, x='year', y=factors, \n",
    "                          title='Changing Drivers of Happiness',\n",
    "                          width=1200,\n",
    "        height=700)\n",
    "            fig22.show()\n",
    "    except Exception as e:\n",
    "        print(f\"Visualization 3b failed: {str(e)}\")"
   ]
  },
  {
   "cell_type": "code",
   "execution_count": 98,
   "id": "45b342d2",
   "metadata": {},
   "outputs": [
    {
     "data": {
      "application/vnd.plotly.v1+json": {
       "config": {
        "plotlyServerURL": "https://plot.ly"
       },
       "data": [
        {
         "coloraxis": "coloraxis",
         "hovertemplate": "x: %{x}<br>y: %{y}<br>color: %{z}<extra></extra>",
         "name": "0",
         "texttemplate": "%{z}",
         "type": "heatmap",
         "x": [
          "gdp_per_capita",
          "social_support",
          "healthy_life_expectancy",
          "freedom_to_make_life_choices",
          "generosity",
          "perceptions_of_corruption",
          "happiness_score"
         ],
         "xaxis": "x",
         "y": [
          "gdp_per_capita",
          "social_support",
          "healthy_life_expectancy",
          "freedom_to_make_life_choices",
          "generosity",
          "perceptions_of_corruption",
          "happiness_score"
         ],
         "yaxis": "y",
         "z": [
          [
           1,
           0.7852986839240533,
           0.859460624279272,
           0.43232348502131407,
           -0.19928639866393486,
           -0.34233741981567795,
           0.7897596965098929
          ],
          [
           0.7852986839240533,
           1,
           0.7232561311738969,
           0.48292976906760754,
           -0.11494585445893792,
           -0.2032069832768488,
           0.7568876453635001
          ],
          [
           0.859460624279272,
           0.7232561311738969,
           1,
           0.46149386993825614,
           -0.16175028008919015,
           -0.36437352741167817,
           0.7680994550105215
          ],
          [
           0.43232348502131407,
           0.48292976906760754,
           0.46149386993825614,
           1,
           0.1694373744816962,
           -0.40136296834281693,
           0.6077530656580247
          ],
          [
           -0.19928639866393486,
           -0.11494585445893792,
           -0.16175028008919015,
           0.1694373744816962,
           1,
           -0.163961728842522,
           -0.017799276922640512
          ],
          [
           -0.34233741981567795,
           -0.2032069832768488,
           -0.36437352741167817,
           -0.40136296834281693,
           -0.163961728842522,
           1,
           -0.4211399967385784
          ],
          [
           0.7897596965098929,
           0.7568876453635001,
           0.7680994550105215,
           0.6077530656580247,
           -0.017799276922640512,
           -0.4211399967385784,
           1
          ]
         ]
        }
       ],
       "layout": {
        "coloraxis": {
         "colorscale": [
          [
           0,
           "#0d0887"
          ],
          [
           0.1111111111111111,
           "#46039f"
          ],
          [
           0.2222222222222222,
           "#7201a8"
          ],
          [
           0.3333333333333333,
           "#9c179e"
          ],
          [
           0.4444444444444444,
           "#bd3786"
          ],
          [
           0.5555555555555556,
           "#d8576b"
          ],
          [
           0.6666666666666666,
           "#ed7953"
          ],
          [
           0.7777777777777778,
           "#fb9f3a"
          ],
          [
           0.8888888888888888,
           "#fdca26"
          ],
          [
           1,
           "#f0f921"
          ]
         ]
        },
        "height": 700,
        "template": {
         "data": {
          "bar": [
           {
            "error_x": {
             "color": "#2a3f5f"
            },
            "error_y": {
             "color": "#2a3f5f"
            },
            "marker": {
             "line": {
              "color": "#E5ECF6",
              "width": 0.5
             },
             "pattern": {
              "fillmode": "overlay",
              "size": 10,
              "solidity": 0.2
             }
            },
            "type": "bar"
           }
          ],
          "barpolar": [
           {
            "marker": {
             "line": {
              "color": "#E5ECF6",
              "width": 0.5
             },
             "pattern": {
              "fillmode": "overlay",
              "size": 10,
              "solidity": 0.2
             }
            },
            "type": "barpolar"
           }
          ],
          "carpet": [
           {
            "aaxis": {
             "endlinecolor": "#2a3f5f",
             "gridcolor": "white",
             "linecolor": "white",
             "minorgridcolor": "white",
             "startlinecolor": "#2a3f5f"
            },
            "baxis": {
             "endlinecolor": "#2a3f5f",
             "gridcolor": "white",
             "linecolor": "white",
             "minorgridcolor": "white",
             "startlinecolor": "#2a3f5f"
            },
            "type": "carpet"
           }
          ],
          "choropleth": [
           {
            "colorbar": {
             "outlinewidth": 0,
             "ticks": ""
            },
            "type": "choropleth"
           }
          ],
          "contour": [
           {
            "colorbar": {
             "outlinewidth": 0,
             "ticks": ""
            },
            "colorscale": [
             [
              0,
              "#0d0887"
             ],
             [
              0.1111111111111111,
              "#46039f"
             ],
             [
              0.2222222222222222,
              "#7201a8"
             ],
             [
              0.3333333333333333,
              "#9c179e"
             ],
             [
              0.4444444444444444,
              "#bd3786"
             ],
             [
              0.5555555555555556,
              "#d8576b"
             ],
             [
              0.6666666666666666,
              "#ed7953"
             ],
             [
              0.7777777777777778,
              "#fb9f3a"
             ],
             [
              0.8888888888888888,
              "#fdca26"
             ],
             [
              1,
              "#f0f921"
             ]
            ],
            "type": "contour"
           }
          ],
          "contourcarpet": [
           {
            "colorbar": {
             "outlinewidth": 0,
             "ticks": ""
            },
            "type": "contourcarpet"
           }
          ],
          "heatmap": [
           {
            "colorbar": {
             "outlinewidth": 0,
             "ticks": ""
            },
            "colorscale": [
             [
              0,
              "#0d0887"
             ],
             [
              0.1111111111111111,
              "#46039f"
             ],
             [
              0.2222222222222222,
              "#7201a8"
             ],
             [
              0.3333333333333333,
              "#9c179e"
             ],
             [
              0.4444444444444444,
              "#bd3786"
             ],
             [
              0.5555555555555556,
              "#d8576b"
             ],
             [
              0.6666666666666666,
              "#ed7953"
             ],
             [
              0.7777777777777778,
              "#fb9f3a"
             ],
             [
              0.8888888888888888,
              "#fdca26"
             ],
             [
              1,
              "#f0f921"
             ]
            ],
            "type": "heatmap"
           }
          ],
          "heatmapgl": [
           {
            "colorbar": {
             "outlinewidth": 0,
             "ticks": ""
            },
            "colorscale": [
             [
              0,
              "#0d0887"
             ],
             [
              0.1111111111111111,
              "#46039f"
             ],
             [
              0.2222222222222222,
              "#7201a8"
             ],
             [
              0.3333333333333333,
              "#9c179e"
             ],
             [
              0.4444444444444444,
              "#bd3786"
             ],
             [
              0.5555555555555556,
              "#d8576b"
             ],
             [
              0.6666666666666666,
              "#ed7953"
             ],
             [
              0.7777777777777778,
              "#fb9f3a"
             ],
             [
              0.8888888888888888,
              "#fdca26"
             ],
             [
              1,
              "#f0f921"
             ]
            ],
            "type": "heatmapgl"
           }
          ],
          "histogram": [
           {
            "marker": {
             "pattern": {
              "fillmode": "overlay",
              "size": 10,
              "solidity": 0.2
             }
            },
            "type": "histogram"
           }
          ],
          "histogram2d": [
           {
            "colorbar": {
             "outlinewidth": 0,
             "ticks": ""
            },
            "colorscale": [
             [
              0,
              "#0d0887"
             ],
             [
              0.1111111111111111,
              "#46039f"
             ],
             [
              0.2222222222222222,
              "#7201a8"
             ],
             [
              0.3333333333333333,
              "#9c179e"
             ],
             [
              0.4444444444444444,
              "#bd3786"
             ],
             [
              0.5555555555555556,
              "#d8576b"
             ],
             [
              0.6666666666666666,
              "#ed7953"
             ],
             [
              0.7777777777777778,
              "#fb9f3a"
             ],
             [
              0.8888888888888888,
              "#fdca26"
             ],
             [
              1,
              "#f0f921"
             ]
            ],
            "type": "histogram2d"
           }
          ],
          "histogram2dcontour": [
           {
            "colorbar": {
             "outlinewidth": 0,
             "ticks": ""
            },
            "colorscale": [
             [
              0,
              "#0d0887"
             ],
             [
              0.1111111111111111,
              "#46039f"
             ],
             [
              0.2222222222222222,
              "#7201a8"
             ],
             [
              0.3333333333333333,
              "#9c179e"
             ],
             [
              0.4444444444444444,
              "#bd3786"
             ],
             [
              0.5555555555555556,
              "#d8576b"
             ],
             [
              0.6666666666666666,
              "#ed7953"
             ],
             [
              0.7777777777777778,
              "#fb9f3a"
             ],
             [
              0.8888888888888888,
              "#fdca26"
             ],
             [
              1,
              "#f0f921"
             ]
            ],
            "type": "histogram2dcontour"
           }
          ],
          "mesh3d": [
           {
            "colorbar": {
             "outlinewidth": 0,
             "ticks": ""
            },
            "type": "mesh3d"
           }
          ],
          "parcoords": [
           {
            "line": {
             "colorbar": {
              "outlinewidth": 0,
              "ticks": ""
             }
            },
            "type": "parcoords"
           }
          ],
          "pie": [
           {
            "automargin": true,
            "type": "pie"
           }
          ],
          "scatter": [
           {
            "fillpattern": {
             "fillmode": "overlay",
             "size": 10,
             "solidity": 0.2
            },
            "type": "scatter"
           }
          ],
          "scatter3d": [
           {
            "line": {
             "colorbar": {
              "outlinewidth": 0,
              "ticks": ""
             }
            },
            "marker": {
             "colorbar": {
              "outlinewidth": 0,
              "ticks": ""
             }
            },
            "type": "scatter3d"
           }
          ],
          "scattercarpet": [
           {
            "marker": {
             "colorbar": {
              "outlinewidth": 0,
              "ticks": ""
             }
            },
            "type": "scattercarpet"
           }
          ],
          "scattergeo": [
           {
            "marker": {
             "colorbar": {
              "outlinewidth": 0,
              "ticks": ""
             }
            },
            "type": "scattergeo"
           }
          ],
          "scattergl": [
           {
            "marker": {
             "colorbar": {
              "outlinewidth": 0,
              "ticks": ""
             }
            },
            "type": "scattergl"
           }
          ],
          "scattermapbox": [
           {
            "marker": {
             "colorbar": {
              "outlinewidth": 0,
              "ticks": ""
             }
            },
            "type": "scattermapbox"
           }
          ],
          "scatterpolar": [
           {
            "marker": {
             "colorbar": {
              "outlinewidth": 0,
              "ticks": ""
             }
            },
            "type": "scatterpolar"
           }
          ],
          "scatterpolargl": [
           {
            "marker": {
             "colorbar": {
              "outlinewidth": 0,
              "ticks": ""
             }
            },
            "type": "scatterpolargl"
           }
          ],
          "scatterternary": [
           {
            "marker": {
             "colorbar": {
              "outlinewidth": 0,
              "ticks": ""
             }
            },
            "type": "scatterternary"
           }
          ],
          "surface": [
           {
            "colorbar": {
             "outlinewidth": 0,
             "ticks": ""
            },
            "colorscale": [
             [
              0,
              "#0d0887"
             ],
             [
              0.1111111111111111,
              "#46039f"
             ],
             [
              0.2222222222222222,
              "#7201a8"
             ],
             [
              0.3333333333333333,
              "#9c179e"
             ],
             [
              0.4444444444444444,
              "#bd3786"
             ],
             [
              0.5555555555555556,
              "#d8576b"
             ],
             [
              0.6666666666666666,
              "#ed7953"
             ],
             [
              0.7777777777777778,
              "#fb9f3a"
             ],
             [
              0.8888888888888888,
              "#fdca26"
             ],
             [
              1,
              "#f0f921"
             ]
            ],
            "type": "surface"
           }
          ],
          "table": [
           {
            "cells": {
             "fill": {
              "color": "#EBF0F8"
             },
             "line": {
              "color": "white"
             }
            },
            "header": {
             "fill": {
              "color": "#C8D4E3"
             },
             "line": {
              "color": "white"
             }
            },
            "type": "table"
           }
          ]
         },
         "layout": {
          "annotationdefaults": {
           "arrowcolor": "#2a3f5f",
           "arrowhead": 0,
           "arrowwidth": 1
          },
          "autotypenumbers": "strict",
          "coloraxis": {
           "colorbar": {
            "outlinewidth": 0,
            "ticks": ""
           }
          },
          "colorscale": {
           "diverging": [
            [
             0,
             "#8e0152"
            ],
            [
             0.1,
             "#c51b7d"
            ],
            [
             0.2,
             "#de77ae"
            ],
            [
             0.3,
             "#f1b6da"
            ],
            [
             0.4,
             "#fde0ef"
            ],
            [
             0.5,
             "#f7f7f7"
            ],
            [
             0.6,
             "#e6f5d0"
            ],
            [
             0.7,
             "#b8e186"
            ],
            [
             0.8,
             "#7fbc41"
            ],
            [
             0.9,
             "#4d9221"
            ],
            [
             1,
             "#276419"
            ]
           ],
           "sequential": [
            [
             0,
             "#0d0887"
            ],
            [
             0.1111111111111111,
             "#46039f"
            ],
            [
             0.2222222222222222,
             "#7201a8"
            ],
            [
             0.3333333333333333,
             "#9c179e"
            ],
            [
             0.4444444444444444,
             "#bd3786"
            ],
            [
             0.5555555555555556,
             "#d8576b"
            ],
            [
             0.6666666666666666,
             "#ed7953"
            ],
            [
             0.7777777777777778,
             "#fb9f3a"
            ],
            [
             0.8888888888888888,
             "#fdca26"
            ],
            [
             1,
             "#f0f921"
            ]
           ],
           "sequentialminus": [
            [
             0,
             "#0d0887"
            ],
            [
             0.1111111111111111,
             "#46039f"
            ],
            [
             0.2222222222222222,
             "#7201a8"
            ],
            [
             0.3333333333333333,
             "#9c179e"
            ],
            [
             0.4444444444444444,
             "#bd3786"
            ],
            [
             0.5555555555555556,
             "#d8576b"
            ],
            [
             0.6666666666666666,
             "#ed7953"
            ],
            [
             0.7777777777777778,
             "#fb9f3a"
            ],
            [
             0.8888888888888888,
             "#fdca26"
            ],
            [
             1,
             "#f0f921"
            ]
           ]
          },
          "colorway": [
           "#636efa",
           "#EF553B",
           "#00cc96",
           "#ab63fa",
           "#FFA15A",
           "#19d3f3",
           "#FF6692",
           "#B6E880",
           "#FF97FF",
           "#FECB52"
          ],
          "font": {
           "color": "#2a3f5f",
           "family": "Times New Roman",
           "size": 14
          },
          "geo": {
           "bgcolor": "white",
           "lakecolor": "white",
           "landcolor": "#E5ECF6",
           "showlakes": true,
           "showland": true,
           "subunitcolor": "white"
          },
          "hoverlabel": {
           "align": "left"
          },
          "hovermode": "closest",
          "mapbox": {
           "style": "light"
          },
          "paper_bgcolor": "white",
          "plot_bgcolor": "#E5ECF6",
          "polar": {
           "angularaxis": {
            "gridcolor": "white",
            "linecolor": "white",
            "ticks": ""
           },
           "bgcolor": "#E5ECF6",
           "radialaxis": {
            "gridcolor": "white",
            "linecolor": "white",
            "ticks": ""
           }
          },
          "scene": {
           "xaxis": {
            "backgroundcolor": "#E5ECF6",
            "gridcolor": "white",
            "gridwidth": 2,
            "linecolor": "white",
            "showbackground": true,
            "ticks": "",
            "zerolinecolor": "white"
           },
           "yaxis": {
            "backgroundcolor": "#E5ECF6",
            "gridcolor": "white",
            "gridwidth": 2,
            "linecolor": "white",
            "showbackground": true,
            "ticks": "",
            "zerolinecolor": "white"
           },
           "zaxis": {
            "backgroundcolor": "#E5ECF6",
            "gridcolor": "white",
            "gridwidth": 2,
            "linecolor": "white",
            "showbackground": true,
            "ticks": "",
            "zerolinecolor": "white"
           }
          },
          "shapedefaults": {
           "line": {
            "color": "#2a3f5f"
           }
          },
          "ternary": {
           "aaxis": {
            "gridcolor": "white",
            "linecolor": "white",
            "ticks": ""
           },
           "baxis": {
            "gridcolor": "white",
            "linecolor": "white",
            "ticks": ""
           },
           "bgcolor": "#E5ECF6",
           "caxis": {
            "gridcolor": "white",
            "linecolor": "white",
            "ticks": ""
           }
          },
          "title": {
           "x": 0.05
          },
          "xaxis": {
           "automargin": true,
           "gridcolor": "white",
           "linecolor": "white",
           "ticks": "",
           "title": {
            "standoff": 15
           },
           "zerolinecolor": "white",
           "zerolinewidth": 2
          },
          "yaxis": {
           "automargin": true,
           "gridcolor": "white",
           "linecolor": "white",
           "ticks": "",
           "title": {
            "standoff": 15
           },
           "zerolinecolor": "white",
           "zerolinewidth": 2
          }
         }
        },
        "title": {
         "text": "Correlation Between Happiness Factors"
        },
        "width": 1200,
        "xaxis": {
         "anchor": "y",
         "constrain": "domain",
         "domain": [
          0,
          1
         ],
         "scaleanchor": "y"
        },
        "yaxis": {
         "anchor": "x",
         "autorange": "reversed",
         "constrain": "domain",
         "domain": [
          0,
          1
         ]
        }
       }
      }
     },
     "metadata": {},
     "output_type": "display_data"
    }
   ],
   "source": [
    "# Correlation Heatmap (larger size)\n",
    "corr_cols = [\"gdp_per_capita\", \"social_support\", \"healthy_life_expectancy\",\n",
    "            \"freedom_to_make_life_choices\", \"generosity\", \"perceptions_of_corruption\", \n",
    "            \"happiness_score\"]\n",
    "if all(col in df_2021.columns for col in corr_cols):\n",
    "    corr = df_2021[corr_cols].corr()\n",
    "    fig6 = px.imshow(\n",
    "        corr,\n",
    "        text_auto=True,\n",
    "        title=\"Correlation Between Happiness Factors\",\n",
    "        width=1200,\n",
    "        height=700\n",
    "    )\n",
    "    fig6.show()"
   ]
  },
  {
   "cell_type": "markdown",
   "id": "a715234a",
   "metadata": {},
   "source": [
    "-----\n",
    "# 3. Compare Regions\n",
    "\n",
    "-----"
   ]
  },
  {
   "cell_type": "markdown",
   "id": "5ca55ad4",
   "metadata": {},
   "source": [
    "This section explores inequality in happiness and its underlying factors across countries and regions. The visualizations here help us understand not just average happiness, but also how it is distributed and how it changes over time.\n",
    "\n",
    "**Key Visualizations:**\n",
    "\n",
    "- **Correlation Heatmap (fig6):**  \n",
    "    This heatmap shows the relationships between key happiness factors such as GDP per capita, social support, healthy life expectancy, freedom, generosity, and perceptions of corruption. Strong positive or negative correlations highlight which factors tend to move together, revealing the interconnected nature of well-being and inequality.\n",
    "\n",
    "- **Rank Change Slope Chart (fig7):**  \n",
    "    This slope chart tracks how the happiness rankings of selected countries have changed from 2005 to 2020. It visually highlights countries that have improved or declined in happiness rank, illustrating dynamic shifts and growing or shrinking inequalities between nations.\n",
    "\n",
    "- **Radar Chart Comparison (fig8):**  \n",
    "    The radar chart compares the profiles of two countries (e.g., United States and South Africa) across multiple happiness factors. This visualization makes it easy to see where countries differ most, and which factors contribute to their relative happiness or inequality.\n",
    "\n",
    "- **Treemap of Regional and Country Contributions (fig9):**  \n",
    "    The treemap displays the hierarchical structure of happiness scores, starting from regions and drilling down to individual countries. The size and color of each box represent the happiness score, making it easy to spot both regional leaders and countries that are outliers within their region.\n",
    "\n",
    "**Why These Visualizations Matter:**\n",
    "\n",
    "- They reveal not just which countries are happiest, but also the spread and drivers of happiness within and between regions.\n",
    "- By examining correlations and changes over time, we can identify persistent inequalities and emerging trends.\n",
    "- Comparing countries side-by-side highlights the multidimensional nature of happiness and the importance of addressing multiple factors to reduce inequality.\n",
    "\n",
    "Together, these visualizations provide a comprehensive overview of global happiness inequality, its drivers, and its evolution over time."
   ]
  },
  {
   "cell_type": "code",
   "execution_count": 99,
   "id": "cf60e6c4",
   "metadata": {},
   "outputs": [
    {
     "data": {
      "application/vnd.plotly.v1+json": {
       "config": {
        "plotlyServerURL": "https://plot.ly"
       },
       "data": [
        {
         "hovertemplate": "social_support=%{r}<br>region=%{theta}<extra></extra>",
         "legendgroup": "",
         "line": {
          "color": "#636efa",
          "dash": "solid"
         },
         "marker": {
          "symbol": "circle"
         },
         "mode": "lines",
         "name": "",
         "r": [
          0.07875815604022954,
          0.10959932167772385,
          0.058761806171174186,
          0.07092002089945727,
          0.09327859158464658,
          0.01976468712484098,
          0.1301138430872652,
          0.07224458098232683,
          0.113433098346156,
          0.050172395159347245,
          0.07875815604022954
         ],
         "showlegend": false,
         "subplot": "polar",
         "theta": [
          "Central and Eastern Europe",
          "Commonwealth of Independent States",
          "East Asia",
          "Latin America and Caribbean",
          "Middle East and North Africa",
          "North America and ANZ",
          "South Asia",
          "Southeast Asia",
          "Sub-Saharan Africa",
          "Western Europe",
          "Central and Eastern Europe"
         ],
         "type": "scatterpolar"
        }
       ],
       "layout": {
        "height": 700,
        "legend": {
         "tracegroupgap": 0
        },
        "polar": {
         "angularaxis": {
          "direction": "clockwise",
          "rotation": 90
         },
         "domain": {
          "x": [
           0,
           1
          ],
          "y": [
           0,
           1
          ]
         }
        },
        "template": {
         "data": {
          "bar": [
           {
            "error_x": {
             "color": "#f2f5fa"
            },
            "error_y": {
             "color": "#f2f5fa"
            },
            "marker": {
             "line": {
              "color": "rgb(17,17,17)",
              "width": 0.5
             },
             "pattern": {
              "fillmode": "overlay",
              "size": 10,
              "solidity": 0.2
             }
            },
            "type": "bar"
           }
          ],
          "barpolar": [
           {
            "marker": {
             "line": {
              "color": "rgb(17,17,17)",
              "width": 0.5
             },
             "pattern": {
              "fillmode": "overlay",
              "size": 10,
              "solidity": 0.2
             }
            },
            "type": "barpolar"
           }
          ],
          "carpet": [
           {
            "aaxis": {
             "endlinecolor": "#A2B1C6",
             "gridcolor": "#506784",
             "linecolor": "#506784",
             "minorgridcolor": "#506784",
             "startlinecolor": "#A2B1C6"
            },
            "baxis": {
             "endlinecolor": "#A2B1C6",
             "gridcolor": "#506784",
             "linecolor": "#506784",
             "minorgridcolor": "#506784",
             "startlinecolor": "#A2B1C6"
            },
            "type": "carpet"
           }
          ],
          "choropleth": [
           {
            "colorbar": {
             "outlinewidth": 0,
             "ticks": ""
            },
            "type": "choropleth"
           }
          ],
          "contour": [
           {
            "colorbar": {
             "outlinewidth": 0,
             "ticks": ""
            },
            "colorscale": [
             [
              0,
              "#0d0887"
             ],
             [
              0.1111111111111111,
              "#46039f"
             ],
             [
              0.2222222222222222,
              "#7201a8"
             ],
             [
              0.3333333333333333,
              "#9c179e"
             ],
             [
              0.4444444444444444,
              "#bd3786"
             ],
             [
              0.5555555555555556,
              "#d8576b"
             ],
             [
              0.6666666666666666,
              "#ed7953"
             ],
             [
              0.7777777777777778,
              "#fb9f3a"
             ],
             [
              0.8888888888888888,
              "#fdca26"
             ],
             [
              1,
              "#f0f921"
             ]
            ],
            "type": "contour"
           }
          ],
          "contourcarpet": [
           {
            "colorbar": {
             "outlinewidth": 0,
             "ticks": ""
            },
            "type": "contourcarpet"
           }
          ],
          "heatmap": [
           {
            "colorbar": {
             "outlinewidth": 0,
             "ticks": ""
            },
            "colorscale": [
             [
              0,
              "#0d0887"
             ],
             [
              0.1111111111111111,
              "#46039f"
             ],
             [
              0.2222222222222222,
              "#7201a8"
             ],
             [
              0.3333333333333333,
              "#9c179e"
             ],
             [
              0.4444444444444444,
              "#bd3786"
             ],
             [
              0.5555555555555556,
              "#d8576b"
             ],
             [
              0.6666666666666666,
              "#ed7953"
             ],
             [
              0.7777777777777778,
              "#fb9f3a"
             ],
             [
              0.8888888888888888,
              "#fdca26"
             ],
             [
              1,
              "#f0f921"
             ]
            ],
            "type": "heatmap"
           }
          ],
          "heatmapgl": [
           {
            "colorbar": {
             "outlinewidth": 0,
             "ticks": ""
            },
            "colorscale": [
             [
              0,
              "#0d0887"
             ],
             [
              0.1111111111111111,
              "#46039f"
             ],
             [
              0.2222222222222222,
              "#7201a8"
             ],
             [
              0.3333333333333333,
              "#9c179e"
             ],
             [
              0.4444444444444444,
              "#bd3786"
             ],
             [
              0.5555555555555556,
              "#d8576b"
             ],
             [
              0.6666666666666666,
              "#ed7953"
             ],
             [
              0.7777777777777778,
              "#fb9f3a"
             ],
             [
              0.8888888888888888,
              "#fdca26"
             ],
             [
              1,
              "#f0f921"
             ]
            ],
            "type": "heatmapgl"
           }
          ],
          "histogram": [
           {
            "marker": {
             "pattern": {
              "fillmode": "overlay",
              "size": 10,
              "solidity": 0.2
             }
            },
            "type": "histogram"
           }
          ],
          "histogram2d": [
           {
            "colorbar": {
             "outlinewidth": 0,
             "ticks": ""
            },
            "colorscale": [
             [
              0,
              "#0d0887"
             ],
             [
              0.1111111111111111,
              "#46039f"
             ],
             [
              0.2222222222222222,
              "#7201a8"
             ],
             [
              0.3333333333333333,
              "#9c179e"
             ],
             [
              0.4444444444444444,
              "#bd3786"
             ],
             [
              0.5555555555555556,
              "#d8576b"
             ],
             [
              0.6666666666666666,
              "#ed7953"
             ],
             [
              0.7777777777777778,
              "#fb9f3a"
             ],
             [
              0.8888888888888888,
              "#fdca26"
             ],
             [
              1,
              "#f0f921"
             ]
            ],
            "type": "histogram2d"
           }
          ],
          "histogram2dcontour": [
           {
            "colorbar": {
             "outlinewidth": 0,
             "ticks": ""
            },
            "colorscale": [
             [
              0,
              "#0d0887"
             ],
             [
              0.1111111111111111,
              "#46039f"
             ],
             [
              0.2222222222222222,
              "#7201a8"
             ],
             [
              0.3333333333333333,
              "#9c179e"
             ],
             [
              0.4444444444444444,
              "#bd3786"
             ],
             [
              0.5555555555555556,
              "#d8576b"
             ],
             [
              0.6666666666666666,
              "#ed7953"
             ],
             [
              0.7777777777777778,
              "#fb9f3a"
             ],
             [
              0.8888888888888888,
              "#fdca26"
             ],
             [
              1,
              "#f0f921"
             ]
            ],
            "type": "histogram2dcontour"
           }
          ],
          "mesh3d": [
           {
            "colorbar": {
             "outlinewidth": 0,
             "ticks": ""
            },
            "type": "mesh3d"
           }
          ],
          "parcoords": [
           {
            "line": {
             "colorbar": {
              "outlinewidth": 0,
              "ticks": ""
             }
            },
            "type": "parcoords"
           }
          ],
          "pie": [
           {
            "automargin": true,
            "type": "pie"
           }
          ],
          "scatter": [
           {
            "marker": {
             "line": {
              "color": "#283442"
             }
            },
            "type": "scatter"
           }
          ],
          "scatter3d": [
           {
            "line": {
             "colorbar": {
              "outlinewidth": 0,
              "ticks": ""
             }
            },
            "marker": {
             "colorbar": {
              "outlinewidth": 0,
              "ticks": ""
             }
            },
            "type": "scatter3d"
           }
          ],
          "scattercarpet": [
           {
            "marker": {
             "colorbar": {
              "outlinewidth": 0,
              "ticks": ""
             }
            },
            "type": "scattercarpet"
           }
          ],
          "scattergeo": [
           {
            "marker": {
             "colorbar": {
              "outlinewidth": 0,
              "ticks": ""
             }
            },
            "type": "scattergeo"
           }
          ],
          "scattergl": [
           {
            "marker": {
             "line": {
              "color": "#283442"
             }
            },
            "type": "scattergl"
           }
          ],
          "scattermapbox": [
           {
            "marker": {
             "colorbar": {
              "outlinewidth": 0,
              "ticks": ""
             }
            },
            "type": "scattermapbox"
           }
          ],
          "scatterpolar": [
           {
            "marker": {
             "colorbar": {
              "outlinewidth": 0,
              "ticks": ""
             }
            },
            "type": "scatterpolar"
           }
          ],
          "scatterpolargl": [
           {
            "marker": {
             "colorbar": {
              "outlinewidth": 0,
              "ticks": ""
             }
            },
            "type": "scatterpolargl"
           }
          ],
          "scatterternary": [
           {
            "marker": {
             "colorbar": {
              "outlinewidth": 0,
              "ticks": ""
             }
            },
            "type": "scatterternary"
           }
          ],
          "surface": [
           {
            "colorbar": {
             "outlinewidth": 0,
             "ticks": ""
            },
            "colorscale": [
             [
              0,
              "#0d0887"
             ],
             [
              0.1111111111111111,
              "#46039f"
             ],
             [
              0.2222222222222222,
              "#7201a8"
             ],
             [
              0.3333333333333333,
              "#9c179e"
             ],
             [
              0.4444444444444444,
              "#bd3786"
             ],
             [
              0.5555555555555556,
              "#d8576b"
             ],
             [
              0.6666666666666666,
              "#ed7953"
             ],
             [
              0.7777777777777778,
              "#fb9f3a"
             ],
             [
              0.8888888888888888,
              "#fdca26"
             ],
             [
              1,
              "#f0f921"
             ]
            ],
            "type": "surface"
           }
          ],
          "table": [
           {
            "cells": {
             "fill": {
              "color": "#506784"
             },
             "line": {
              "color": "rgb(17,17,17)"
             }
            },
            "header": {
             "fill": {
              "color": "#2a3f5f"
             },
             "line": {
              "color": "rgb(17,17,17)"
             }
            },
            "type": "table"
           }
          ]
         },
         "layout": {
          "annotationdefaults": {
           "arrowcolor": "#f2f5fa",
           "arrowhead": 0,
           "arrowwidth": 1
          },
          "autotypenumbers": "strict",
          "coloraxis": {
           "colorbar": {
            "outlinewidth": 0,
            "ticks": ""
           }
          },
          "colorscale": {
           "diverging": [
            [
             0,
             "#8e0152"
            ],
            [
             0.1,
             "#c51b7d"
            ],
            [
             0.2,
             "#de77ae"
            ],
            [
             0.3,
             "#f1b6da"
            ],
            [
             0.4,
             "#fde0ef"
            ],
            [
             0.5,
             "#f7f7f7"
            ],
            [
             0.6,
             "#e6f5d0"
            ],
            [
             0.7,
             "#b8e186"
            ],
            [
             0.8,
             "#7fbc41"
            ],
            [
             0.9,
             "#4d9221"
            ],
            [
             1,
             "#276419"
            ]
           ],
           "sequential": [
            [
             0,
             "#0d0887"
            ],
            [
             0.1111111111111111,
             "#46039f"
            ],
            [
             0.2222222222222222,
             "#7201a8"
            ],
            [
             0.3333333333333333,
             "#9c179e"
            ],
            [
             0.4444444444444444,
             "#bd3786"
            ],
            [
             0.5555555555555556,
             "#d8576b"
            ],
            [
             0.6666666666666666,
             "#ed7953"
            ],
            [
             0.7777777777777778,
             "#fb9f3a"
            ],
            [
             0.8888888888888888,
             "#fdca26"
            ],
            [
             1,
             "#f0f921"
            ]
           ],
           "sequentialminus": [
            [
             0,
             "#0d0887"
            ],
            [
             0.1111111111111111,
             "#46039f"
            ],
            [
             0.2222222222222222,
             "#7201a8"
            ],
            [
             0.3333333333333333,
             "#9c179e"
            ],
            [
             0.4444444444444444,
             "#bd3786"
            ],
            [
             0.5555555555555556,
             "#d8576b"
            ],
            [
             0.6666666666666666,
             "#ed7953"
            ],
            [
             0.7777777777777778,
             "#fb9f3a"
            ],
            [
             0.8888888888888888,
             "#fdca26"
            ],
            [
             1,
             "#f0f921"
            ]
           ]
          },
          "colorway": [
           "#636efa",
           "#EF553B",
           "#00cc96",
           "#ab63fa",
           "#FFA15A",
           "#19d3f3",
           "#FF6692",
           "#B6E880",
           "#FF97FF",
           "#FECB52"
          ],
          "font": {
           "color": "#f2f5fa"
          },
          "geo": {
           "bgcolor": "rgb(17,17,17)",
           "lakecolor": "rgb(17,17,17)",
           "landcolor": "rgb(17,17,17)",
           "showlakes": true,
           "showland": true,
           "subunitcolor": "#506784"
          },
          "hoverlabel": {
           "align": "left"
          },
          "hovermode": "closest",
          "mapbox": {
           "style": "dark"
          },
          "paper_bgcolor": "rgb(17,17,17)",
          "plot_bgcolor": "rgb(17,17,17)",
          "polar": {
           "angularaxis": {
            "gridcolor": "#506784",
            "linecolor": "#506784",
            "ticks": ""
           },
           "bgcolor": "rgb(17,17,17)",
           "radialaxis": {
            "gridcolor": "#506784",
            "linecolor": "#506784",
            "ticks": ""
           }
          },
          "scene": {
           "xaxis": {
            "backgroundcolor": "rgb(17,17,17)",
            "gridcolor": "#506784",
            "gridwidth": 2,
            "linecolor": "#506784",
            "showbackground": true,
            "ticks": "",
            "zerolinecolor": "#C8D4E3"
           },
           "yaxis": {
            "backgroundcolor": "rgb(17,17,17)",
            "gridcolor": "#506784",
            "gridwidth": 2,
            "linecolor": "#506784",
            "showbackground": true,
            "ticks": "",
            "zerolinecolor": "#C8D4E3"
           },
           "zaxis": {
            "backgroundcolor": "rgb(17,17,17)",
            "gridcolor": "#506784",
            "gridwidth": 2,
            "linecolor": "#506784",
            "showbackground": true,
            "ticks": "",
            "zerolinecolor": "#C8D4E3"
           }
          },
          "shapedefaults": {
           "line": {
            "color": "#f2f5fa"
           }
          },
          "sliderdefaults": {
           "bgcolor": "#C8D4E3",
           "bordercolor": "rgb(17,17,17)",
           "borderwidth": 1,
           "tickwidth": 0
          },
          "ternary": {
           "aaxis": {
            "gridcolor": "#506784",
            "linecolor": "#506784",
            "ticks": ""
           },
           "baxis": {
            "gridcolor": "#506784",
            "linecolor": "#506784",
            "ticks": ""
           },
           "bgcolor": "rgb(17,17,17)",
           "caxis": {
            "gridcolor": "#506784",
            "linecolor": "#506784",
            "ticks": ""
           }
          },
          "title": {
           "x": 0.05
          },
          "updatemenudefaults": {
           "bgcolor": "#506784",
           "borderwidth": 0
          },
          "xaxis": {
           "automargin": true,
           "gridcolor": "#283442",
           "linecolor": "#506784",
           "ticks": "",
           "title": {
            "standoff": 15
           },
           "zerolinecolor": "#283442",
           "zerolinewidth": 2
          },
          "yaxis": {
           "automargin": true,
           "gridcolor": "#283442",
           "linecolor": "#506784",
           "ticks": "",
           "title": {
            "standoff": 15
           },
           "zerolinecolor": "#283442",
           "zerolinewidth": 2
          }
         }
        },
        "title": {
         "text": "Regional Inequality in Key Factors"
        },
        "width": 1200
       }
      }
     },
     "metadata": {},
     "output_type": "display_data"
    }
   ],
   "source": [
    "# Happiness Inequality Radar\n",
    "if all(col in df_all.columns for col in ['region', 'social_support', 'freedom_to_make_life_choices']):\n",
    "    try:\n",
    "        factors = ['social_support', 'freedom_to_make_life_choices', 'generosity']\n",
    "        factors = [f for f in factors if f in df_all.columns]\n",
    "        if factors:\n",
    "            regional_std = df_all.groupby('region')[factors].std().reset_index()\n",
    "            \n",
    "            fig18 = px.line_polar(regional_std, \n",
    "                                r=factors[0],\n",
    "                                theta='region',\n",
    "                                line_close=True,\n",
    "                                title='Regional Inequality in Key Factors',\n",
    "                                template='plotly_dark',\n",
    "                                width=1200,\n",
    "        height=700)\n",
    "            fig18.show()\n",
    "    except Exception as e:\n",
    "        print(f\"Visualization [Regional Inequality in Key Factors] failed: {str(e)}\")"
   ]
  },
  {
   "cell_type": "code",
   "execution_count": 100,
   "id": "9aab0981",
   "metadata": {},
   "outputs": [
    {
     "data": {
      "application/vnd.plotly.v1+json": {
       "config": {
        "plotlyServerURL": "https://plot.ly"
       },
       "data": [
        {
         "fill": "toself",
         "name": "United States",
         "r": [
          11.023,
          0.92,
          68.2,
          0.837,
          0.098,
          0.698
         ],
         "theta": [
          "gdp_per_capita",
          "social_support",
          "healthy_life_expectancy",
          "freedom_to_make_life_choices",
          "generosity",
          "perceptions_of_corruption"
         ],
         "type": "scatterpolar"
        },
        {
         "fill": "toself",
         "name": "South Africa",
         "r": [
          9.403,
          0.86,
          56.904,
          0.749,
          -0.067,
          0.86
         ],
         "theta": [
          "gdp_per_capita",
          "social_support",
          "healthy_life_expectancy",
          "freedom_to_make_life_choices",
          "generosity",
          "perceptions_of_corruption"
         ],
         "type": "scatterpolar"
        }
       ],
       "layout": {
        "height": 700,
        "polar": {
         "radialaxis": {
          "visible": true
         }
        },
        "template": {
         "data": {
          "bar": [
           {
            "error_x": {
             "color": "#2a3f5f"
            },
            "error_y": {
             "color": "#2a3f5f"
            },
            "marker": {
             "line": {
              "color": "#E5ECF6",
              "width": 0.5
             },
             "pattern": {
              "fillmode": "overlay",
              "size": 10,
              "solidity": 0.2
             }
            },
            "type": "bar"
           }
          ],
          "barpolar": [
           {
            "marker": {
             "line": {
              "color": "#E5ECF6",
              "width": 0.5
             },
             "pattern": {
              "fillmode": "overlay",
              "size": 10,
              "solidity": 0.2
             }
            },
            "type": "barpolar"
           }
          ],
          "carpet": [
           {
            "aaxis": {
             "endlinecolor": "#2a3f5f",
             "gridcolor": "white",
             "linecolor": "white",
             "minorgridcolor": "white",
             "startlinecolor": "#2a3f5f"
            },
            "baxis": {
             "endlinecolor": "#2a3f5f",
             "gridcolor": "white",
             "linecolor": "white",
             "minorgridcolor": "white",
             "startlinecolor": "#2a3f5f"
            },
            "type": "carpet"
           }
          ],
          "choropleth": [
           {
            "colorbar": {
             "outlinewidth": 0,
             "ticks": ""
            },
            "type": "choropleth"
           }
          ],
          "contour": [
           {
            "colorbar": {
             "outlinewidth": 0,
             "ticks": ""
            },
            "colorscale": [
             [
              0,
              "#0d0887"
             ],
             [
              0.1111111111111111,
              "#46039f"
             ],
             [
              0.2222222222222222,
              "#7201a8"
             ],
             [
              0.3333333333333333,
              "#9c179e"
             ],
             [
              0.4444444444444444,
              "#bd3786"
             ],
             [
              0.5555555555555556,
              "#d8576b"
             ],
             [
              0.6666666666666666,
              "#ed7953"
             ],
             [
              0.7777777777777778,
              "#fb9f3a"
             ],
             [
              0.8888888888888888,
              "#fdca26"
             ],
             [
              1,
              "#f0f921"
             ]
            ],
            "type": "contour"
           }
          ],
          "contourcarpet": [
           {
            "colorbar": {
             "outlinewidth": 0,
             "ticks": ""
            },
            "type": "contourcarpet"
           }
          ],
          "heatmap": [
           {
            "colorbar": {
             "outlinewidth": 0,
             "ticks": ""
            },
            "colorscale": [
             [
              0,
              "#0d0887"
             ],
             [
              0.1111111111111111,
              "#46039f"
             ],
             [
              0.2222222222222222,
              "#7201a8"
             ],
             [
              0.3333333333333333,
              "#9c179e"
             ],
             [
              0.4444444444444444,
              "#bd3786"
             ],
             [
              0.5555555555555556,
              "#d8576b"
             ],
             [
              0.6666666666666666,
              "#ed7953"
             ],
             [
              0.7777777777777778,
              "#fb9f3a"
             ],
             [
              0.8888888888888888,
              "#fdca26"
             ],
             [
              1,
              "#f0f921"
             ]
            ],
            "type": "heatmap"
           }
          ],
          "heatmapgl": [
           {
            "colorbar": {
             "outlinewidth": 0,
             "ticks": ""
            },
            "colorscale": [
             [
              0,
              "#0d0887"
             ],
             [
              0.1111111111111111,
              "#46039f"
             ],
             [
              0.2222222222222222,
              "#7201a8"
             ],
             [
              0.3333333333333333,
              "#9c179e"
             ],
             [
              0.4444444444444444,
              "#bd3786"
             ],
             [
              0.5555555555555556,
              "#d8576b"
             ],
             [
              0.6666666666666666,
              "#ed7953"
             ],
             [
              0.7777777777777778,
              "#fb9f3a"
             ],
             [
              0.8888888888888888,
              "#fdca26"
             ],
             [
              1,
              "#f0f921"
             ]
            ],
            "type": "heatmapgl"
           }
          ],
          "histogram": [
           {
            "marker": {
             "pattern": {
              "fillmode": "overlay",
              "size": 10,
              "solidity": 0.2
             }
            },
            "type": "histogram"
           }
          ],
          "histogram2d": [
           {
            "colorbar": {
             "outlinewidth": 0,
             "ticks": ""
            },
            "colorscale": [
             [
              0,
              "#0d0887"
             ],
             [
              0.1111111111111111,
              "#46039f"
             ],
             [
              0.2222222222222222,
              "#7201a8"
             ],
             [
              0.3333333333333333,
              "#9c179e"
             ],
             [
              0.4444444444444444,
              "#bd3786"
             ],
             [
              0.5555555555555556,
              "#d8576b"
             ],
             [
              0.6666666666666666,
              "#ed7953"
             ],
             [
              0.7777777777777778,
              "#fb9f3a"
             ],
             [
              0.8888888888888888,
              "#fdca26"
             ],
             [
              1,
              "#f0f921"
             ]
            ],
            "type": "histogram2d"
           }
          ],
          "histogram2dcontour": [
           {
            "colorbar": {
             "outlinewidth": 0,
             "ticks": ""
            },
            "colorscale": [
             [
              0,
              "#0d0887"
             ],
             [
              0.1111111111111111,
              "#46039f"
             ],
             [
              0.2222222222222222,
              "#7201a8"
             ],
             [
              0.3333333333333333,
              "#9c179e"
             ],
             [
              0.4444444444444444,
              "#bd3786"
             ],
             [
              0.5555555555555556,
              "#d8576b"
             ],
             [
              0.6666666666666666,
              "#ed7953"
             ],
             [
              0.7777777777777778,
              "#fb9f3a"
             ],
             [
              0.8888888888888888,
              "#fdca26"
             ],
             [
              1,
              "#f0f921"
             ]
            ],
            "type": "histogram2dcontour"
           }
          ],
          "mesh3d": [
           {
            "colorbar": {
             "outlinewidth": 0,
             "ticks": ""
            },
            "type": "mesh3d"
           }
          ],
          "parcoords": [
           {
            "line": {
             "colorbar": {
              "outlinewidth": 0,
              "ticks": ""
             }
            },
            "type": "parcoords"
           }
          ],
          "pie": [
           {
            "automargin": true,
            "type": "pie"
           }
          ],
          "scatter": [
           {
            "fillpattern": {
             "fillmode": "overlay",
             "size": 10,
             "solidity": 0.2
            },
            "type": "scatter"
           }
          ],
          "scatter3d": [
           {
            "line": {
             "colorbar": {
              "outlinewidth": 0,
              "ticks": ""
             }
            },
            "marker": {
             "colorbar": {
              "outlinewidth": 0,
              "ticks": ""
             }
            },
            "type": "scatter3d"
           }
          ],
          "scattercarpet": [
           {
            "marker": {
             "colorbar": {
              "outlinewidth": 0,
              "ticks": ""
             }
            },
            "type": "scattercarpet"
           }
          ],
          "scattergeo": [
           {
            "marker": {
             "colorbar": {
              "outlinewidth": 0,
              "ticks": ""
             }
            },
            "type": "scattergeo"
           }
          ],
          "scattergl": [
           {
            "marker": {
             "colorbar": {
              "outlinewidth": 0,
              "ticks": ""
             }
            },
            "type": "scattergl"
           }
          ],
          "scattermapbox": [
           {
            "marker": {
             "colorbar": {
              "outlinewidth": 0,
              "ticks": ""
             }
            },
            "type": "scattermapbox"
           }
          ],
          "scatterpolar": [
           {
            "marker": {
             "colorbar": {
              "outlinewidth": 0,
              "ticks": ""
             }
            },
            "type": "scatterpolar"
           }
          ],
          "scatterpolargl": [
           {
            "marker": {
             "colorbar": {
              "outlinewidth": 0,
              "ticks": ""
             }
            },
            "type": "scatterpolargl"
           }
          ],
          "scatterternary": [
           {
            "marker": {
             "colorbar": {
              "outlinewidth": 0,
              "ticks": ""
             }
            },
            "type": "scatterternary"
           }
          ],
          "surface": [
           {
            "colorbar": {
             "outlinewidth": 0,
             "ticks": ""
            },
            "colorscale": [
             [
              0,
              "#0d0887"
             ],
             [
              0.1111111111111111,
              "#46039f"
             ],
             [
              0.2222222222222222,
              "#7201a8"
             ],
             [
              0.3333333333333333,
              "#9c179e"
             ],
             [
              0.4444444444444444,
              "#bd3786"
             ],
             [
              0.5555555555555556,
              "#d8576b"
             ],
             [
              0.6666666666666666,
              "#ed7953"
             ],
             [
              0.7777777777777778,
              "#fb9f3a"
             ],
             [
              0.8888888888888888,
              "#fdca26"
             ],
             [
              1,
              "#f0f921"
             ]
            ],
            "type": "surface"
           }
          ],
          "table": [
           {
            "cells": {
             "fill": {
              "color": "#EBF0F8"
             },
             "line": {
              "color": "white"
             }
            },
            "header": {
             "fill": {
              "color": "#C8D4E3"
             },
             "line": {
              "color": "white"
             }
            },
            "type": "table"
           }
          ]
         },
         "layout": {
          "annotationdefaults": {
           "arrowcolor": "#2a3f5f",
           "arrowhead": 0,
           "arrowwidth": 1
          },
          "autotypenumbers": "strict",
          "coloraxis": {
           "colorbar": {
            "outlinewidth": 0,
            "ticks": ""
           }
          },
          "colorscale": {
           "diverging": [
            [
             0,
             "#8e0152"
            ],
            [
             0.1,
             "#c51b7d"
            ],
            [
             0.2,
             "#de77ae"
            ],
            [
             0.3,
             "#f1b6da"
            ],
            [
             0.4,
             "#fde0ef"
            ],
            [
             0.5,
             "#f7f7f7"
            ],
            [
             0.6,
             "#e6f5d0"
            ],
            [
             0.7,
             "#b8e186"
            ],
            [
             0.8,
             "#7fbc41"
            ],
            [
             0.9,
             "#4d9221"
            ],
            [
             1,
             "#276419"
            ]
           ],
           "sequential": [
            [
             0,
             "#0d0887"
            ],
            [
             0.1111111111111111,
             "#46039f"
            ],
            [
             0.2222222222222222,
             "#7201a8"
            ],
            [
             0.3333333333333333,
             "#9c179e"
            ],
            [
             0.4444444444444444,
             "#bd3786"
            ],
            [
             0.5555555555555556,
             "#d8576b"
            ],
            [
             0.6666666666666666,
             "#ed7953"
            ],
            [
             0.7777777777777778,
             "#fb9f3a"
            ],
            [
             0.8888888888888888,
             "#fdca26"
            ],
            [
             1,
             "#f0f921"
            ]
           ],
           "sequentialminus": [
            [
             0,
             "#0d0887"
            ],
            [
             0.1111111111111111,
             "#46039f"
            ],
            [
             0.2222222222222222,
             "#7201a8"
            ],
            [
             0.3333333333333333,
             "#9c179e"
            ],
            [
             0.4444444444444444,
             "#bd3786"
            ],
            [
             0.5555555555555556,
             "#d8576b"
            ],
            [
             0.6666666666666666,
             "#ed7953"
            ],
            [
             0.7777777777777778,
             "#fb9f3a"
            ],
            [
             0.8888888888888888,
             "#fdca26"
            ],
            [
             1,
             "#f0f921"
            ]
           ]
          },
          "colorway": [
           "#636efa",
           "#EF553B",
           "#00cc96",
           "#ab63fa",
           "#FFA15A",
           "#19d3f3",
           "#FF6692",
           "#B6E880",
           "#FF97FF",
           "#FECB52"
          ],
          "font": {
           "color": "#2a3f5f",
           "family": "Times New Roman",
           "size": 14
          },
          "geo": {
           "bgcolor": "white",
           "lakecolor": "white",
           "landcolor": "#E5ECF6",
           "showlakes": true,
           "showland": true,
           "subunitcolor": "white"
          },
          "hoverlabel": {
           "align": "left"
          },
          "hovermode": "closest",
          "mapbox": {
           "style": "light"
          },
          "paper_bgcolor": "white",
          "plot_bgcolor": "#E5ECF6",
          "polar": {
           "angularaxis": {
            "gridcolor": "white",
            "linecolor": "white",
            "ticks": ""
           },
           "bgcolor": "#E5ECF6",
           "radialaxis": {
            "gridcolor": "white",
            "linecolor": "white",
            "ticks": ""
           }
          },
          "scene": {
           "xaxis": {
            "backgroundcolor": "#E5ECF6",
            "gridcolor": "white",
            "gridwidth": 2,
            "linecolor": "white",
            "showbackground": true,
            "ticks": "",
            "zerolinecolor": "white"
           },
           "yaxis": {
            "backgroundcolor": "#E5ECF6",
            "gridcolor": "white",
            "gridwidth": 2,
            "linecolor": "white",
            "showbackground": true,
            "ticks": "",
            "zerolinecolor": "white"
           },
           "zaxis": {
            "backgroundcolor": "#E5ECF6",
            "gridcolor": "white",
            "gridwidth": 2,
            "linecolor": "white",
            "showbackground": true,
            "ticks": "",
            "zerolinecolor": "white"
           }
          },
          "shapedefaults": {
           "line": {
            "color": "#2a3f5f"
           }
          },
          "ternary": {
           "aaxis": {
            "gridcolor": "white",
            "linecolor": "white",
            "ticks": ""
           },
           "baxis": {
            "gridcolor": "white",
            "linecolor": "white",
            "ticks": ""
           },
           "bgcolor": "#E5ECF6",
           "caxis": {
            "gridcolor": "white",
            "linecolor": "white",
            "ticks": ""
           }
          },
          "title": {
           "x": 0.05
          },
          "xaxis": {
           "automargin": true,
           "gridcolor": "white",
           "linecolor": "white",
           "ticks": "",
           "title": {
            "standoff": 15
           },
           "zerolinecolor": "white",
           "zerolinewidth": 2
          },
          "yaxis": {
           "automargin": true,
           "gridcolor": "white",
           "linecolor": "white",
           "ticks": "",
           "title": {
            "standoff": 15
           },
           "zerolinecolor": "white",
           "zerolinewidth": 2
          }
         }
        },
        "title": {
         "text": "Happiness Factor Comparison"
        },
        "width": 1200
       }
      }
     },
     "metadata": {},
     "output_type": "display_data"
    }
   ],
   "source": [
    "\n",
    "# Radar Chart Comparison\n",
    "if all(col in df_2021.columns for col in [\"country\", \"social_support\", \"freedom_to_make_life_choices\"]):\n",
    "    metrics = [\"gdp_per_capita\", \"social_support\", \"healthy_life_expectancy\",\n",
    "              \"freedom_to_make_life_choices\", \"generosity\", \"perceptions_of_corruption\"]\n",
    "    metrics = [m for m in metrics if m in df_2021.columns]\n",
    "    if metrics:\n",
    "        compare = df_2021[df_2021[\"country\"].isin([\"United States\", \"South Africa\"])]\n",
    "        fig8 = go.Figure()\n",
    "        for _, row in compare.iterrows():\n",
    "            fig8.add_trace(go.Scatterpolar(\n",
    "                r=row[metrics], \n",
    "                theta=metrics, \n",
    "                fill='toself', \n",
    "                name=row[\"country\"]\n",
    "            ))\n",
    "        fig8.update_layout(polar=dict(radialaxis=dict(visible=True)), \n",
    "                          title=\"Happiness Factor Comparison\",\n",
    "                          width=1200,\n",
    "        height=700)\n",
    "        fig8.show()"
   ]
  },
  {
   "cell_type": "markdown",
   "id": "968cf2b4",
   "metadata": {},
   "source": [
    "-----\n",
    "# 4. Look into specific Hapiness Factors\n",
    "\n",
    "-----"
   ]
  },
  {
   "cell_type": "markdown",
   "id": "43450c94",
   "metadata": {},
   "source": [
    "## Income Tier Visualizations\n",
    "\n",
    "The income tier visualizations provide a detailed look at how economic status, as measured by GDP per capita, relates to happiness and its underlying factors across countries. Here’s what these visualizations show and how to interpret them:\n",
    "\n",
    "#### 1. **Income Tier Assignment**\n",
    "\n",
    "- Countries are grouped into four income tiers—**Low**, **Medium**, **High**, and **Very High**—using quantile-based binning (`qcut`) on GDP per capita.\n",
    "- This ensures each tier contains a similar number of countries, allowing for fair comparisons.\n",
    "\n",
    "#### 2. **Parallel Categories Plot**\n",
    "\n",
    "- **What it shows:**  \n",
    "    This interactive plot displays the relationships between a country's happiness level (Low, Medium, High), its region, and its income tier.\n",
    "- **How to read it:**  \n",
    "    - Each vertical axis represents a categorical variable (happiness level, region, income tier).\n",
    "    - The colored bands show how countries flow between categories, e.g., which regions have more countries in the \"Very High\" income tier and \"High\" happiness level.\n",
    "    - The color intensity reflects the happiness score, making it easy to spot patterns (e.g., most \"Very High\" income countries cluster in \"High\" happiness).\n",
    "\n",
    "#### 3. **Sunburst Chart**\n",
    "\n",
    "- **What it shows:**  \n",
    "    The sunburst chart visualizes the hierarchical breakdown of happiness scores by region and income tier.\n",
    "- **How to read it:**  \n",
    "    - The center represents regions, with each ring moving outward to income tiers.\n",
    "    - The size of each segment corresponds to the total happiness score for that group.\n",
    "    - The color gradient indicates the average happiness score, highlighting which regions and income tiers are happiest.\n",
    "\n",
    "#### **Key Insights from the Visualizations**\n",
    "\n",
    "- **Economic Status Matters:**  \n",
    "    Higher income tiers generally correspond to higher happiness scores, but there are exceptions—some lower-income countries outperform their peers.\n",
    "- **Regional Variation:**  \n",
    "    The impact of income on happiness varies by region. For example, some regions with lower average GDP still achieve moderate happiness due to strong social support or other factors.\n",
    "- **Intersectionality:**  \n",
    "    By combining region and income tier, these visualizations reveal nuanced patterns—such as regions where income is less predictive of happiness, or where disparities are greatest.\n",
    "\n",
    "#### **Why These Visualizations Are Important**\n",
    "\n",
    "- They move beyond simple country rankings to show how economic and regional contexts interact.\n",
    "- Policymakers can identify which income tiers or regions need targeted interventions.\n",
    "- Researchers can explore why some countries \"punch above their weight\" in happiness despite lower income.\n",
    "\n",
    "---\n",
    "\n",
    "**In summary:**  \n",
    "Income tier visualizations help us understand the complex relationship between wealth, geography, and well-being, highlighting both global trends and unique outliers."
   ]
  },
  {
   "cell_type": "code",
   "execution_count": 101,
   "id": "c67531e3",
   "metadata": {},
   "outputs": [
    {
     "data": {
      "application/vnd.plotly.v1+json": {
       "config": {
        "plotlyServerURL": "https://plot.ly"
       },
       "data": [
        {
         "dimensions": [
          {
           "label": "happiness_level",
           "values": [
            "High",
            "High",
            "High",
            "High",
            "High",
            "High",
            "High",
            "High",
            "High",
            "High",
            "High",
            "High",
            "High",
            "High",
            "High",
            "High",
            "High",
            "High",
            "High",
            "High",
            "High",
            "High",
            "High",
            "High",
            "High",
            "High",
            "High",
            "High",
            "High",
            "High",
            "High",
            "High",
            "High",
            "High",
            "High",
            "High",
            "High",
            "High",
            "High",
            "High",
            "High",
            "High",
            "High",
            "High",
            "High",
            "High",
            "High",
            "High",
            "Medium",
            "Medium",
            "Medium",
            "Medium",
            "Medium",
            "Medium",
            "Medium",
            "Medium",
            "Medium",
            "Medium",
            "Medium",
            "Medium",
            "Medium",
            "Medium",
            "Medium",
            "Medium",
            "Medium",
            "Medium",
            "Medium",
            "Medium",
            "Medium",
            "Medium",
            "Medium",
            "Medium",
            "Medium",
            "Medium",
            "Medium",
            "Medium",
            "Medium",
            "Medium",
            "Medium",
            "Medium",
            "Medium",
            "Medium",
            "Medium",
            "Medium",
            "Medium",
            "Medium",
            "Medium",
            "Medium",
            "Medium",
            "Medium",
            "Medium",
            "Medium",
            "Medium",
            "Medium",
            "Medium",
            "Medium",
            "Medium",
            "Medium",
            "Medium",
            "Medium",
            "Medium",
            "Medium",
            "Medium",
            "Medium",
            "Medium",
            "Medium",
            "Medium",
            "Medium",
            "Medium",
            "Medium",
            "Medium",
            "Medium",
            "Medium",
            "Medium",
            "Medium",
            "Medium",
            "Medium",
            "Medium",
            "Medium",
            "Medium",
            "Medium",
            "Medium",
            "Medium",
            "Medium",
            "Medium",
            "Medium",
            "Medium",
            "Medium",
            "Medium",
            "Medium",
            "Low",
            "Low",
            "Low",
            "Low",
            "Low",
            "Low",
            "Low",
            "Low",
            "Low",
            "Low",
            "Low",
            "Low",
            "Low",
            "Low",
            "Low",
            "Low",
            "Low",
            "Low",
            "Low"
           ]
          },
          {
           "label": "region",
           "values": [
            "Western Europe",
            "Western Europe",
            "Western Europe",
            "Western Europe",
            "Western Europe",
            "Western Europe",
            "Western Europe",
            "Western Europe",
            "North America and ANZ",
            "Western Europe",
            "North America and ANZ",
            "Middle East and North Africa",
            "Western Europe",
            "North America and ANZ",
            "Western Europe",
            "Latin America and Caribbean",
            "Western Europe",
            "Central and Eastern Europe",
            "North America and ANZ",
            "Western Europe",
            "Western Europe",
            "Middle East and North Africa",
            "Western Europe",
            "East Asia",
            "Middle East and North Africa",
            "Middle East and North Africa",
            "Western Europe",
            "Western Europe",
            "Central and Eastern Europe",
            "Latin America and Caribbean",
            "Latin America and Caribbean",
            "Southeast Asia",
            "Central and Eastern Europe",
            "Central and Eastern Europe",
            "Latin America and Caribbean",
            "Latin America and Caribbean",
            "Latin America and Caribbean",
            "Central and Eastern Europe",
            "Western Europe",
            "Central and Eastern Europe",
            "Latin America and Caribbean",
            "Commonwealth of Independent States",
            "Latin America and Caribbean",
            "Central and Eastern Europe",
            "Commonwealth of Independent States",
            "Central and Eastern Europe",
            "Middle East and North Africa",
            "Central and Eastern Europe",
            "Latin America and Caribbean",
            "Sub-Saharan Africa",
            "Central and Eastern Europe",
            "Latin America and Caribbean",
            "Central and Eastern Europe",
            "Southeast Asia",
            "Latin America and Caribbean",
            "East Asia",
            "Latin America and Caribbean",
            "Western Europe",
            "Latin America and Caribbean",
            "Central and Eastern Europe",
            "Southeast Asia",
            "East Asia",
            "Latin America and Caribbean",
            "Central and Eastern Europe",
            "Commonwealth of Independent States",
            "Latin America and Caribbean",
            "Commonwealth of Independent States",
            "Western Europe",
            "Latin America and Caribbean",
            "East Asia",
            "Latin America and Caribbean",
            "Central and Eastern Europe",
            "Latin America and Caribbean",
            "Western Europe",
            "Commonwealth of Independent States",
            "Commonwealth of Independent States",
            "East Asia",
            "Commonwealth of Independent States",
            "Southeast Asia",
            "Middle East and North Africa",
            "Southeast Asia",
            "Southeast Asia",
            "Sub-Saharan Africa",
            "East Asia",
            "Sub-Saharan Africa",
            "Commonwealth of Independent States",
            "South Asia",
            "Central and Eastern Europe",
            "South Asia",
            "Commonwealth of Independent States",
            "Sub-Saharan Africa",
            "Sub-Saharan Africa",
            "Central and Eastern Europe",
            "Central and Eastern Europe",
            "Sub-Saharan Africa",
            "Sub-Saharan Africa",
            "Commonwealth of Independent States",
            "Sub-Saharan Africa",
            "Sub-Saharan Africa",
            "Southeast Asia",
            "South Asia",
            "Sub-Saharan Africa",
            "Sub-Saharan Africa",
            "Middle East and North Africa",
            "South Asia",
            "Middle East and North Africa",
            "Latin America and Caribbean",
            "Commonwealth of Independent States",
            "Middle East and North Africa",
            "Commonwealth of Independent States",
            "Middle East and North Africa",
            "Sub-Saharan Africa",
            "Sub-Saharan Africa",
            "Southeast Asia",
            "Sub-Saharan Africa",
            "Sub-Saharan Africa",
            "Sub-Saharan Africa",
            "Middle East and North Africa",
            "Sub-Saharan Africa",
            "Sub-Saharan Africa",
            "Sub-Saharan Africa",
            "Middle East and North Africa",
            "Middle East and North Africa",
            "Sub-Saharan Africa",
            "Middle East and North Africa",
            "Southeast Asia",
            "Middle East and North Africa",
            "Sub-Saharan Africa",
            "South Asia",
            "Sub-Saharan Africa",
            "Sub-Saharan Africa",
            "Middle East and North Africa",
            "Sub-Saharan Africa",
            "Sub-Saharan Africa",
            "Sub-Saharan Africa",
            "Sub-Saharan Africa",
            "Sub-Saharan Africa",
            "Sub-Saharan Africa",
            "South Asia",
            "Sub-Saharan Africa",
            "Middle East and North Africa",
            "Sub-Saharan Africa",
            "Latin America and Caribbean",
            "Sub-Saharan Africa",
            "Sub-Saharan Africa",
            "Sub-Saharan Africa",
            "Sub-Saharan Africa",
            "Sub-Saharan Africa",
            "South Asia"
           ]
          },
          {
           "label": "income_tier",
           "values": [
            "Very High",
            "Very High",
            "Very High",
            "Very High",
            "Very High",
            "Very High",
            "Very High",
            "Very High",
            "Very High",
            "Very High",
            "Very High",
            "Very High",
            "Very High",
            "Very High",
            "Very High",
            "High",
            "Very High",
            "Very High",
            "Very High",
            "Very High",
            "Very High",
            "Very High",
            "Very High",
            "Very High",
            "Very High",
            "Very High",
            "Very High",
            "Very High",
            "Very High",
            "Medium",
            "High",
            "Very High",
            "Medium",
            "High",
            "High",
            "High",
            "Medium",
            "Very High",
            "Very High",
            "Very High",
            "High",
            "Medium",
            "High",
            "High",
            "High",
            "High",
            "Very High",
            "High",
            "Medium",
            "High",
            "High",
            "Medium",
            "High",
            "High",
            "Medium",
            "Very High",
            "High",
            "High",
            "Medium",
            "High",
            "Medium",
            "Very High",
            "Medium",
            "High",
            "Medium",
            "Medium",
            "Low",
            "High",
            "Medium",
            "Medium",
            "Medium",
            "High",
            "High",
            "Very High",
            "High",
            "High",
            "Very High",
            "Low",
            "Medium",
            "High",
            "High",
            "Medium",
            "Low",
            "High",
            "Medium",
            "Medium",
            "Low",
            "High",
            "High",
            "Medium",
            "Low",
            "Low",
            "Medium",
            "High",
            "Medium",
            "Low",
            "High",
            "Low",
            "Low",
            "Medium",
            "Low",
            "Low",
            "Medium",
            "High",
            "Low",
            "Medium",
            "Medium",
            "High",
            "Medium",
            "Medium",
            "Medium",
            "High",
            "Low",
            "Low",
            "Low",
            "Low",
            "Low",
            "High",
            "Low",
            "Low",
            "Low",
            "Medium",
            "High",
            "Medium",
            "Low",
            "Low",
            "Medium",
            "Low",
            "Medium",
            "Medium",
            "Low",
            "Medium",
            "Low",
            "Medium",
            "Low",
            "Low",
            "Low",
            "Low",
            "Medium",
            "Low",
            "Low",
            "Low",
            "Low",
            "Low",
            "Low",
            "High",
            "Low",
            "Low",
            "Low"
           ]
          }
         ],
         "domain": {
          "x": [
           0,
           1
          ],
          "y": [
           0,
           1
          ]
         },
         "line": {
          "color": [
           7.842,
           7.62,
           7.571,
           7.554,
           7.464,
           7.392,
           7.363,
           7.324,
           7.277,
           7.268,
           7.183,
           7.157,
           7.155,
           7.103,
           7.085,
           7.069,
           7.064,
           6.965,
           6.951,
           6.834,
           6.69,
           6.647,
           6.602,
           6.584,
           6.561,
           6.494,
           6.491,
           6.483,
           6.461,
           6.435,
           6.431,
           6.377,
           6.372,
           6.331,
           6.33,
           6.317,
           6.309,
           6.255,
           6.223,
           6.189,
           6.18,
           6.179,
           6.172,
           6.166,
           6.152,
           6.14,
           6.106,
           6.078,
           6.061,
           6.049,
           6.032,
           6.012,
           5.992,
           5.985,
           5.972,
           5.94,
           5.929,
           5.929,
           5.919,
           5.882,
           5.88,
           5.845,
           5.84,
           5.813,
           5.766,
           5.764,
           5.744,
           5.723,
           5.716,
           5.677,
           5.653,
           5.581,
           5.545,
           5.536,
           5.534,
           5.477,
           5.477,
           5.466,
           5.411,
           5.41,
           5.384,
           5.345,
           5.342,
           5.339,
           5.306,
           5.283,
           5.269,
           5.266,
           5.198,
           5.171,
           5.142,
           5.132,
           5.117,
           5.101,
           5.088,
           5.074,
           5.066,
           5.051,
           5.045,
           5.03,
           5.025,
           4.984,
           4.956,
           4.948,
           4.934,
           4.918,
           4.892,
           4.891,
           4.887,
           4.875,
           4.854,
           4.852,
           4.834,
           4.83,
           4.794,
           4.759,
           4.723,
           4.721,
           4.636,
           4.625,
           4.607,
           4.596,
           4.584,
           4.574,
           4.517,
           4.426,
           4.395,
           4.355,
           4.325,
           4.308,
           4.289,
           4.283,
           4.275,
           4.227,
           4.208,
           4.107,
           4.073,
           3.849,
           3.819,
           3.775,
           3.658,
           3.623,
           3.615,
           3.6,
           3.512,
           3.467,
           3.415,
           3.145,
           2.523
          ],
          "coloraxis": "coloraxis"
         },
         "name": "",
         "type": "parcats"
        }
       ],
       "layout": {
        "coloraxis": {
         "colorbar": {
          "title": {
           "text": "happiness_score"
          }
         },
         "colorscale": [
          [
           0,
           "#0d0887"
          ],
          [
           0.1111111111111111,
           "#46039f"
          ],
          [
           0.2222222222222222,
           "#7201a8"
          ],
          [
           0.3333333333333333,
           "#9c179e"
          ],
          [
           0.4444444444444444,
           "#bd3786"
          ],
          [
           0.5555555555555556,
           "#d8576b"
          ],
          [
           0.6666666666666666,
           "#ed7953"
          ],
          [
           0.7777777777777778,
           "#fb9f3a"
          ],
          [
           0.8888888888888888,
           "#fdca26"
          ],
          [
           1,
           "#f0f921"
          ]
         ]
        },
        "height": 700,
        "legend": {
         "tracegroupgap": 0
        },
        "template": {
         "data": {
          "bar": [
           {
            "error_x": {
             "color": "#2a3f5f"
            },
            "error_y": {
             "color": "#2a3f5f"
            },
            "marker": {
             "line": {
              "color": "#E5ECF6",
              "width": 0.5
             },
             "pattern": {
              "fillmode": "overlay",
              "size": 10,
              "solidity": 0.2
             }
            },
            "type": "bar"
           }
          ],
          "barpolar": [
           {
            "marker": {
             "line": {
              "color": "#E5ECF6",
              "width": 0.5
             },
             "pattern": {
              "fillmode": "overlay",
              "size": 10,
              "solidity": 0.2
             }
            },
            "type": "barpolar"
           }
          ],
          "carpet": [
           {
            "aaxis": {
             "endlinecolor": "#2a3f5f",
             "gridcolor": "white",
             "linecolor": "white",
             "minorgridcolor": "white",
             "startlinecolor": "#2a3f5f"
            },
            "baxis": {
             "endlinecolor": "#2a3f5f",
             "gridcolor": "white",
             "linecolor": "white",
             "minorgridcolor": "white",
             "startlinecolor": "#2a3f5f"
            },
            "type": "carpet"
           }
          ],
          "choropleth": [
           {
            "colorbar": {
             "outlinewidth": 0,
             "ticks": ""
            },
            "type": "choropleth"
           }
          ],
          "contour": [
           {
            "colorbar": {
             "outlinewidth": 0,
             "ticks": ""
            },
            "colorscale": [
             [
              0,
              "#0d0887"
             ],
             [
              0.1111111111111111,
              "#46039f"
             ],
             [
              0.2222222222222222,
              "#7201a8"
             ],
             [
              0.3333333333333333,
              "#9c179e"
             ],
             [
              0.4444444444444444,
              "#bd3786"
             ],
             [
              0.5555555555555556,
              "#d8576b"
             ],
             [
              0.6666666666666666,
              "#ed7953"
             ],
             [
              0.7777777777777778,
              "#fb9f3a"
             ],
             [
              0.8888888888888888,
              "#fdca26"
             ],
             [
              1,
              "#f0f921"
             ]
            ],
            "type": "contour"
           }
          ],
          "contourcarpet": [
           {
            "colorbar": {
             "outlinewidth": 0,
             "ticks": ""
            },
            "type": "contourcarpet"
           }
          ],
          "heatmap": [
           {
            "colorbar": {
             "outlinewidth": 0,
             "ticks": ""
            },
            "colorscale": [
             [
              0,
              "#0d0887"
             ],
             [
              0.1111111111111111,
              "#46039f"
             ],
             [
              0.2222222222222222,
              "#7201a8"
             ],
             [
              0.3333333333333333,
              "#9c179e"
             ],
             [
              0.4444444444444444,
              "#bd3786"
             ],
             [
              0.5555555555555556,
              "#d8576b"
             ],
             [
              0.6666666666666666,
              "#ed7953"
             ],
             [
              0.7777777777777778,
              "#fb9f3a"
             ],
             [
              0.8888888888888888,
              "#fdca26"
             ],
             [
              1,
              "#f0f921"
             ]
            ],
            "type": "heatmap"
           }
          ],
          "heatmapgl": [
           {
            "colorbar": {
             "outlinewidth": 0,
             "ticks": ""
            },
            "colorscale": [
             [
              0,
              "#0d0887"
             ],
             [
              0.1111111111111111,
              "#46039f"
             ],
             [
              0.2222222222222222,
              "#7201a8"
             ],
             [
              0.3333333333333333,
              "#9c179e"
             ],
             [
              0.4444444444444444,
              "#bd3786"
             ],
             [
              0.5555555555555556,
              "#d8576b"
             ],
             [
              0.6666666666666666,
              "#ed7953"
             ],
             [
              0.7777777777777778,
              "#fb9f3a"
             ],
             [
              0.8888888888888888,
              "#fdca26"
             ],
             [
              1,
              "#f0f921"
             ]
            ],
            "type": "heatmapgl"
           }
          ],
          "histogram": [
           {
            "marker": {
             "pattern": {
              "fillmode": "overlay",
              "size": 10,
              "solidity": 0.2
             }
            },
            "type": "histogram"
           }
          ],
          "histogram2d": [
           {
            "colorbar": {
             "outlinewidth": 0,
             "ticks": ""
            },
            "colorscale": [
             [
              0,
              "#0d0887"
             ],
             [
              0.1111111111111111,
              "#46039f"
             ],
             [
              0.2222222222222222,
              "#7201a8"
             ],
             [
              0.3333333333333333,
              "#9c179e"
             ],
             [
              0.4444444444444444,
              "#bd3786"
             ],
             [
              0.5555555555555556,
              "#d8576b"
             ],
             [
              0.6666666666666666,
              "#ed7953"
             ],
             [
              0.7777777777777778,
              "#fb9f3a"
             ],
             [
              0.8888888888888888,
              "#fdca26"
             ],
             [
              1,
              "#f0f921"
             ]
            ],
            "type": "histogram2d"
           }
          ],
          "histogram2dcontour": [
           {
            "colorbar": {
             "outlinewidth": 0,
             "ticks": ""
            },
            "colorscale": [
             [
              0,
              "#0d0887"
             ],
             [
              0.1111111111111111,
              "#46039f"
             ],
             [
              0.2222222222222222,
              "#7201a8"
             ],
             [
              0.3333333333333333,
              "#9c179e"
             ],
             [
              0.4444444444444444,
              "#bd3786"
             ],
             [
              0.5555555555555556,
              "#d8576b"
             ],
             [
              0.6666666666666666,
              "#ed7953"
             ],
             [
              0.7777777777777778,
              "#fb9f3a"
             ],
             [
              0.8888888888888888,
              "#fdca26"
             ],
             [
              1,
              "#f0f921"
             ]
            ],
            "type": "histogram2dcontour"
           }
          ],
          "mesh3d": [
           {
            "colorbar": {
             "outlinewidth": 0,
             "ticks": ""
            },
            "type": "mesh3d"
           }
          ],
          "parcoords": [
           {
            "line": {
             "colorbar": {
              "outlinewidth": 0,
              "ticks": ""
             }
            },
            "type": "parcoords"
           }
          ],
          "pie": [
           {
            "automargin": true,
            "type": "pie"
           }
          ],
          "scatter": [
           {
            "fillpattern": {
             "fillmode": "overlay",
             "size": 10,
             "solidity": 0.2
            },
            "type": "scatter"
           }
          ],
          "scatter3d": [
           {
            "line": {
             "colorbar": {
              "outlinewidth": 0,
              "ticks": ""
             }
            },
            "marker": {
             "colorbar": {
              "outlinewidth": 0,
              "ticks": ""
             }
            },
            "type": "scatter3d"
           }
          ],
          "scattercarpet": [
           {
            "marker": {
             "colorbar": {
              "outlinewidth": 0,
              "ticks": ""
             }
            },
            "type": "scattercarpet"
           }
          ],
          "scattergeo": [
           {
            "marker": {
             "colorbar": {
              "outlinewidth": 0,
              "ticks": ""
             }
            },
            "type": "scattergeo"
           }
          ],
          "scattergl": [
           {
            "marker": {
             "colorbar": {
              "outlinewidth": 0,
              "ticks": ""
             }
            },
            "type": "scattergl"
           }
          ],
          "scattermapbox": [
           {
            "marker": {
             "colorbar": {
              "outlinewidth": 0,
              "ticks": ""
             }
            },
            "type": "scattermapbox"
           }
          ],
          "scatterpolar": [
           {
            "marker": {
             "colorbar": {
              "outlinewidth": 0,
              "ticks": ""
             }
            },
            "type": "scatterpolar"
           }
          ],
          "scatterpolargl": [
           {
            "marker": {
             "colorbar": {
              "outlinewidth": 0,
              "ticks": ""
             }
            },
            "type": "scatterpolargl"
           }
          ],
          "scatterternary": [
           {
            "marker": {
             "colorbar": {
              "outlinewidth": 0,
              "ticks": ""
             }
            },
            "type": "scatterternary"
           }
          ],
          "surface": [
           {
            "colorbar": {
             "outlinewidth": 0,
             "ticks": ""
            },
            "colorscale": [
             [
              0,
              "#0d0887"
             ],
             [
              0.1111111111111111,
              "#46039f"
             ],
             [
              0.2222222222222222,
              "#7201a8"
             ],
             [
              0.3333333333333333,
              "#9c179e"
             ],
             [
              0.4444444444444444,
              "#bd3786"
             ],
             [
              0.5555555555555556,
              "#d8576b"
             ],
             [
              0.6666666666666666,
              "#ed7953"
             ],
             [
              0.7777777777777778,
              "#fb9f3a"
             ],
             [
              0.8888888888888888,
              "#fdca26"
             ],
             [
              1,
              "#f0f921"
             ]
            ],
            "type": "surface"
           }
          ],
          "table": [
           {
            "cells": {
             "fill": {
              "color": "#EBF0F8"
             },
             "line": {
              "color": "white"
             }
            },
            "header": {
             "fill": {
              "color": "#C8D4E3"
             },
             "line": {
              "color": "white"
             }
            },
            "type": "table"
           }
          ]
         },
         "layout": {
          "annotationdefaults": {
           "arrowcolor": "#2a3f5f",
           "arrowhead": 0,
           "arrowwidth": 1
          },
          "autotypenumbers": "strict",
          "coloraxis": {
           "colorbar": {
            "outlinewidth": 0,
            "ticks": ""
           }
          },
          "colorscale": {
           "diverging": [
            [
             0,
             "#8e0152"
            ],
            [
             0.1,
             "#c51b7d"
            ],
            [
             0.2,
             "#de77ae"
            ],
            [
             0.3,
             "#f1b6da"
            ],
            [
             0.4,
             "#fde0ef"
            ],
            [
             0.5,
             "#f7f7f7"
            ],
            [
             0.6,
             "#e6f5d0"
            ],
            [
             0.7,
             "#b8e186"
            ],
            [
             0.8,
             "#7fbc41"
            ],
            [
             0.9,
             "#4d9221"
            ],
            [
             1,
             "#276419"
            ]
           ],
           "sequential": [
            [
             0,
             "#0d0887"
            ],
            [
             0.1111111111111111,
             "#46039f"
            ],
            [
             0.2222222222222222,
             "#7201a8"
            ],
            [
             0.3333333333333333,
             "#9c179e"
            ],
            [
             0.4444444444444444,
             "#bd3786"
            ],
            [
             0.5555555555555556,
             "#d8576b"
            ],
            [
             0.6666666666666666,
             "#ed7953"
            ],
            [
             0.7777777777777778,
             "#fb9f3a"
            ],
            [
             0.8888888888888888,
             "#fdca26"
            ],
            [
             1,
             "#f0f921"
            ]
           ],
           "sequentialminus": [
            [
             0,
             "#0d0887"
            ],
            [
             0.1111111111111111,
             "#46039f"
            ],
            [
             0.2222222222222222,
             "#7201a8"
            ],
            [
             0.3333333333333333,
             "#9c179e"
            ],
            [
             0.4444444444444444,
             "#bd3786"
            ],
            [
             0.5555555555555556,
             "#d8576b"
            ],
            [
             0.6666666666666666,
             "#ed7953"
            ],
            [
             0.7777777777777778,
             "#fb9f3a"
            ],
            [
             0.8888888888888888,
             "#fdca26"
            ],
            [
             1,
             "#f0f921"
            ]
           ]
          },
          "colorway": [
           "#636efa",
           "#EF553B",
           "#00cc96",
           "#ab63fa",
           "#FFA15A",
           "#19d3f3",
           "#FF6692",
           "#B6E880",
           "#FF97FF",
           "#FECB52"
          ],
          "font": {
           "color": "#2a3f5f",
           "family": "Times New Roman",
           "size": 14
          },
          "geo": {
           "bgcolor": "white",
           "lakecolor": "white",
           "landcolor": "#E5ECF6",
           "showlakes": true,
           "showland": true,
           "subunitcolor": "white"
          },
          "hoverlabel": {
           "align": "left"
          },
          "hovermode": "closest",
          "mapbox": {
           "style": "light"
          },
          "paper_bgcolor": "white",
          "plot_bgcolor": "#E5ECF6",
          "polar": {
           "angularaxis": {
            "gridcolor": "white",
            "linecolor": "white",
            "ticks": ""
           },
           "bgcolor": "#E5ECF6",
           "radialaxis": {
            "gridcolor": "white",
            "linecolor": "white",
            "ticks": ""
           }
          },
          "scene": {
           "xaxis": {
            "backgroundcolor": "#E5ECF6",
            "gridcolor": "white",
            "gridwidth": 2,
            "linecolor": "white",
            "showbackground": true,
            "ticks": "",
            "zerolinecolor": "white"
           },
           "yaxis": {
            "backgroundcolor": "#E5ECF6",
            "gridcolor": "white",
            "gridwidth": 2,
            "linecolor": "white",
            "showbackground": true,
            "ticks": "",
            "zerolinecolor": "white"
           },
           "zaxis": {
            "backgroundcolor": "#E5ECF6",
            "gridcolor": "white",
            "gridwidth": 2,
            "linecolor": "white",
            "showbackground": true,
            "ticks": "",
            "zerolinecolor": "white"
           }
          },
          "shapedefaults": {
           "line": {
            "color": "#2a3f5f"
           }
          },
          "ternary": {
           "aaxis": {
            "gridcolor": "white",
            "linecolor": "white",
            "ticks": ""
           },
           "baxis": {
            "gridcolor": "white",
            "linecolor": "white",
            "ticks": ""
           },
           "bgcolor": "#E5ECF6",
           "caxis": {
            "gridcolor": "white",
            "linecolor": "white",
            "ticks": ""
           }
          },
          "title": {
           "x": 0.05
          },
          "xaxis": {
           "automargin": true,
           "gridcolor": "white",
           "linecolor": "white",
           "ticks": "",
           "title": {
            "standoff": 15
           },
           "zerolinecolor": "white",
           "zerolinewidth": 2
          },
          "yaxis": {
           "automargin": true,
           "gridcolor": "white",
           "linecolor": "white",
           "ticks": "",
           "title": {
            "standoff": 15
           },
           "zerolinecolor": "white",
           "zerolinewidth": 2
          }
         }
        },
        "title": {
         "text": "Happiness Profile Explorer"
        },
        "width": 1200
       }
      }
     },
     "metadata": {},
     "output_type": "display_data"
    },
    {
     "name": "stdout",
     "output_type": "stream",
     "text": [
      "Dashboard generation complete\n"
     ]
    }
   ],
   "source": [
    "# Interactive Happiness Diagnostic Tool\n",
    "if all(col in df_2021.columns for col in ['happiness_score', 'region', 'income_tier']):\n",
    "    try:\n",
    "        df_2021['happiness_level'] = pd.cut(df_2021['happiness_score'], bins=3,\n",
    "                                          labels=['Low', 'Medium', 'High'])\n",
    "        fig25 = px.parallel_categories(df_2021,\n",
    "                                     dimensions=['happiness_level', 'region', 'income_tier'],\n",
    "                                     color='happiness_score',\n",
    "                                     title='Happiness Profile Explorer',\n",
    "                                     width=1200,\n",
    "        height=700)\n",
    "        fig25.show()\n",
    "    except Exception as e:\n",
    "        print(f\"Visualization 10b failed: {str(e)}\")\n",
    "\n",
    "print(\"Dashboard generation complete\")"
   ]
  },
  {
   "cell_type": "code",
   "execution_count": 102,
   "id": "d4421539",
   "metadata": {},
   "outputs": [
    {
     "data": {
      "application/vnd.plotly.v1+json": {
       "config": {
        "plotlyServerURL": "https://plot.ly"
       },
       "data": [
        {
         "branchvalues": "total",
         "customdata": [
          [
           null
          ],
          [
           5.608447100802855
          ],
          [
           null
          ],
          [
           3.615
          ],
          [
           4.132630336391438
          ],
          [
           null
          ],
          [
           4.716515745591797
          ],
          [
           4.636816767502161
          ],
          [
           4.489362751525544
          ],
          [
           null
          ],
          [
           5.813044912525024
          ],
          [
           5.49394118941116
          ],
          [
           5.677
          ],
          [
           5.895373313923778
          ],
          [
           4.668819639852504
          ],
          [
           null
          ],
          [
           4.087719302554027
          ],
          [
           5.4335477707006365
          ],
          [
           4.777089321480024
          ],
          [
           null
          ],
          [
           5.876165698487155
          ],
          [
           5.459292994100296
          ],
          [
           5.339
          ],
          [
           6.273146719228384
          ],
          [
           4.935752479275797
          ],
          [
           null
          ],
          [
           5.198
          ],
          [
           5.700385346116633
          ],
          [
           5.021742344097997
          ],
          [
           5.8278209749399235
          ],
          [
           6.481812601468883
          ],
          [
           null
          ],
          [
           5.988182923760798
          ],
          [
           null
          ],
          [
           6.610260913089639
          ],
          [
           7.130505295644244
          ],
          [
           null
          ],
          [
           6.377
          ],
          [
           null
          ],
          [
           7.074285539940551
          ],
          [
           6.0230375659763515
          ],
          [
           5.499184043655874
          ],
          [
           5.838089036773564
          ],
          [
           5.985376960249152
          ],
          [
           5.399807789397764
          ],
          [
           7.130505295644244
          ],
          [
           4.632311484900139
          ],
          [
           5.467975507520342
          ],
          [
           4.587246203669941
          ],
          [
           6.9742682886518415
          ]
         ],
         "domain": {
          "x": [
           0,
           1
          ],
          "y": [
           0,
           1
          ]
         },
         "hovertemplate": "labels=%{label}<br>happiness_score_sum=%{value}<br>parent=%{parent}<br>id=%{id}<br>happiness_score=%{color}<extra></extra>",
         "ids": [
          "Central and Eastern Europe/Low",
          "Commonwealth of Independent States/Low",
          "East Asia/Low",
          "Latin America and Caribbean/Low",
          "Middle East and North Africa/Low",
          "North America and ANZ/Low",
          "South Asia/Low",
          "Southeast Asia/Low",
          "Sub-Saharan Africa/Low",
          "Western Europe/Low",
          "Central and Eastern Europe/Medium",
          "Commonwealth of Independent States/Medium",
          "East Asia/Medium",
          "Latin America and Caribbean/Medium",
          "Middle East and North Africa/Medium",
          "North America and ANZ/Medium",
          "South Asia/Medium",
          "Southeast Asia/Medium",
          "Sub-Saharan Africa/Medium",
          "Western Europe/Medium",
          "Central and Eastern Europe/High",
          "Commonwealth of Independent States/High",
          "East Asia/High",
          "Latin America and Caribbean/High",
          "Middle East and North Africa/High",
          "North America and ANZ/High",
          "South Asia/High",
          "Southeast Asia/High",
          "Sub-Saharan Africa/High",
          "Western Europe/High",
          "Central and Eastern Europe/Very High",
          "Commonwealth of Independent States/Very High",
          "East Asia/Very High",
          "Latin America and Caribbean/Very High",
          "Middle East and North Africa/Very High",
          "North America and ANZ/Very High",
          "South Asia/Very High",
          "Southeast Asia/Very High",
          "Sub-Saharan Africa/Very High",
          "Western Europe/Very High",
          "Central and Eastern Europe",
          "Commonwealth of Independent States",
          "East Asia",
          "Latin America and Caribbean",
          "Middle East and North Africa",
          "North America and ANZ",
          "South Asia",
          "Southeast Asia",
          "Sub-Saharan Africa",
          "Western Europe"
         ],
         "labels": [
          "Low",
          "Low",
          "Low",
          "Low",
          "Low",
          "Low",
          "Low",
          "Low",
          "Low",
          "Low",
          "Medium",
          "Medium",
          "Medium",
          "Medium",
          "Medium",
          "Medium",
          "Medium",
          "Medium",
          "Medium",
          "Medium",
          "High",
          "High",
          "High",
          "High",
          "High",
          "High",
          "High",
          "High",
          "High",
          "High",
          "Very High",
          "Very High",
          "Very High",
          "Very High",
          "Very High",
          "Very High",
          "Very High",
          "Very High",
          "Very High",
          "Very High",
          "Central and Eastern Europe",
          "Commonwealth of Independent States",
          "East Asia",
          "Latin America and Caribbean",
          "Middle East and North Africa",
          "North America and ANZ",
          "South Asia",
          "Southeast Asia",
          "Sub-Saharan Africa",
          "Western Europe"
         ],
         "marker": {
          "coloraxis": "coloraxis",
          "colors": [
           null,
           5.608447100802855,
           null,
           3.615,
           4.132630336391438,
           null,
           4.716515745591797,
           4.636816767502161,
           4.489362751525544,
           null,
           5.813044912525024,
           5.49394118941116,
           5.677,
           5.895373313923778,
           4.668819639852504,
           null,
           4.087719302554027,
           5.4335477707006365,
           4.777089321480024,
           null,
           5.876165698487155,
           5.459292994100296,
           5.339,
           6.273146719228384,
           4.935752479275797,
           null,
           5.198,
           5.700385346116633,
           5.021742344097997,
           5.8278209749399235,
           6.481812601468883,
           null,
           5.988182923760798,
           null,
           6.610260913089639,
           7.130505295644244,
           null,
           6.377,
           null,
           7.074285539940551,
           6.0230375659763515,
           5.499184043655874,
           5.838089036773564,
           5.985376960249152,
           5.399807789397764,
           7.130505295644244,
           4.632311484900139,
           5.467975507520342,
           4.587246203669941,
           6.9742682886518415
          ]
         },
         "name": "",
         "parents": [
          "Central and Eastern Europe",
          "Commonwealth of Independent States",
          "East Asia",
          "Latin America and Caribbean",
          "Middle East and North Africa",
          "North America and ANZ",
          "South Asia",
          "Southeast Asia",
          "Sub-Saharan Africa",
          "Western Europe",
          "Central and Eastern Europe",
          "Commonwealth of Independent States",
          "East Asia",
          "Latin America and Caribbean",
          "Middle East and North Africa",
          "North America and ANZ",
          "South Asia",
          "Southeast Asia",
          "Sub-Saharan Africa",
          "Western Europe",
          "Central and Eastern Europe",
          "Commonwealth of Independent States",
          "East Asia",
          "Latin America and Caribbean",
          "Middle East and North Africa",
          "North America and ANZ",
          "South Asia",
          "Southeast Asia",
          "Sub-Saharan Africa",
          "Western Europe",
          "Central and Eastern Europe",
          "Commonwealth of Independent States",
          "East Asia",
          "Latin America and Caribbean",
          "Middle East and North Africa",
          "North America and ANZ",
          "South Asia",
          "Southeast Asia",
          "Sub-Saharan Africa",
          "Western Europe",
          "",
          "",
          "",
          "",
          "",
          "",
          "",
          "",
          "",
          ""
         ],
         "type": "sunburst",
         "values": [
          0,
          11.21,
          0,
          3.615,
          8.175,
          0,
          17.751,
          9.256,
          118.974,
          0,
          11.489,
          27.274,
          5.677,
          64.573,
          27.933,
          0,
          8.144,
          21.666,
          28.459,
          0,
          64.382,
          27.12,
          5.339,
          49.973,
          19.663,
          0,
          5.198,
          11.369,
          14.368,
          11.652000000000001,
          25.87,
          0,
          23.846,
          0,
          32.965,
          28.514,
          0,
          6.377,
          0,
          133.561,
          101.741,
          65.604,
          34.862,
          118.161,
          88.736,
          28.514,
          31.093,
          48.668,
          161.80100000000002,
          145.213
         ]
        }
       ],
       "layout": {
        "coloraxis": {
         "colorbar": {
          "title": {
           "text": "happiness_score"
          }
         },
         "colorscale": [
          [
           0,
           "#0d0887"
          ],
          [
           0.1111111111111111,
           "#46039f"
          ],
          [
           0.2222222222222222,
           "#7201a8"
          ],
          [
           0.3333333333333333,
           "#9c179e"
          ],
          [
           0.4444444444444444,
           "#bd3786"
          ],
          [
           0.5555555555555556,
           "#d8576b"
          ],
          [
           0.6666666666666666,
           "#ed7953"
          ],
          [
           0.7777777777777778,
           "#fb9f3a"
          ],
          [
           0.8888888888888888,
           "#fdca26"
          ],
          [
           1,
           "#f0f921"
          ]
         ]
        },
        "height": 700,
        "legend": {
         "tracegroupgap": 0
        },
        "template": {
         "data": {
          "bar": [
           {
            "error_x": {
             "color": "#2a3f5f"
            },
            "error_y": {
             "color": "#2a3f5f"
            },
            "marker": {
             "line": {
              "color": "#E5ECF6",
              "width": 0.5
             },
             "pattern": {
              "fillmode": "overlay",
              "size": 10,
              "solidity": 0.2
             }
            },
            "type": "bar"
           }
          ],
          "barpolar": [
           {
            "marker": {
             "line": {
              "color": "#E5ECF6",
              "width": 0.5
             },
             "pattern": {
              "fillmode": "overlay",
              "size": 10,
              "solidity": 0.2
             }
            },
            "type": "barpolar"
           }
          ],
          "carpet": [
           {
            "aaxis": {
             "endlinecolor": "#2a3f5f",
             "gridcolor": "white",
             "linecolor": "white",
             "minorgridcolor": "white",
             "startlinecolor": "#2a3f5f"
            },
            "baxis": {
             "endlinecolor": "#2a3f5f",
             "gridcolor": "white",
             "linecolor": "white",
             "minorgridcolor": "white",
             "startlinecolor": "#2a3f5f"
            },
            "type": "carpet"
           }
          ],
          "choropleth": [
           {
            "colorbar": {
             "outlinewidth": 0,
             "ticks": ""
            },
            "type": "choropleth"
           }
          ],
          "contour": [
           {
            "colorbar": {
             "outlinewidth": 0,
             "ticks": ""
            },
            "colorscale": [
             [
              0,
              "#0d0887"
             ],
             [
              0.1111111111111111,
              "#46039f"
             ],
             [
              0.2222222222222222,
              "#7201a8"
             ],
             [
              0.3333333333333333,
              "#9c179e"
             ],
             [
              0.4444444444444444,
              "#bd3786"
             ],
             [
              0.5555555555555556,
              "#d8576b"
             ],
             [
              0.6666666666666666,
              "#ed7953"
             ],
             [
              0.7777777777777778,
              "#fb9f3a"
             ],
             [
              0.8888888888888888,
              "#fdca26"
             ],
             [
              1,
              "#f0f921"
             ]
            ],
            "type": "contour"
           }
          ],
          "contourcarpet": [
           {
            "colorbar": {
             "outlinewidth": 0,
             "ticks": ""
            },
            "type": "contourcarpet"
           }
          ],
          "heatmap": [
           {
            "colorbar": {
             "outlinewidth": 0,
             "ticks": ""
            },
            "colorscale": [
             [
              0,
              "#0d0887"
             ],
             [
              0.1111111111111111,
              "#46039f"
             ],
             [
              0.2222222222222222,
              "#7201a8"
             ],
             [
              0.3333333333333333,
              "#9c179e"
             ],
             [
              0.4444444444444444,
              "#bd3786"
             ],
             [
              0.5555555555555556,
              "#d8576b"
             ],
             [
              0.6666666666666666,
              "#ed7953"
             ],
             [
              0.7777777777777778,
              "#fb9f3a"
             ],
             [
              0.8888888888888888,
              "#fdca26"
             ],
             [
              1,
              "#f0f921"
             ]
            ],
            "type": "heatmap"
           }
          ],
          "heatmapgl": [
           {
            "colorbar": {
             "outlinewidth": 0,
             "ticks": ""
            },
            "colorscale": [
             [
              0,
              "#0d0887"
             ],
             [
              0.1111111111111111,
              "#46039f"
             ],
             [
              0.2222222222222222,
              "#7201a8"
             ],
             [
              0.3333333333333333,
              "#9c179e"
             ],
             [
              0.4444444444444444,
              "#bd3786"
             ],
             [
              0.5555555555555556,
              "#d8576b"
             ],
             [
              0.6666666666666666,
              "#ed7953"
             ],
             [
              0.7777777777777778,
              "#fb9f3a"
             ],
             [
              0.8888888888888888,
              "#fdca26"
             ],
             [
              1,
              "#f0f921"
             ]
            ],
            "type": "heatmapgl"
           }
          ],
          "histogram": [
           {
            "marker": {
             "pattern": {
              "fillmode": "overlay",
              "size": 10,
              "solidity": 0.2
             }
            },
            "type": "histogram"
           }
          ],
          "histogram2d": [
           {
            "colorbar": {
             "outlinewidth": 0,
             "ticks": ""
            },
            "colorscale": [
             [
              0,
              "#0d0887"
             ],
             [
              0.1111111111111111,
              "#46039f"
             ],
             [
              0.2222222222222222,
              "#7201a8"
             ],
             [
              0.3333333333333333,
              "#9c179e"
             ],
             [
              0.4444444444444444,
              "#bd3786"
             ],
             [
              0.5555555555555556,
              "#d8576b"
             ],
             [
              0.6666666666666666,
              "#ed7953"
             ],
             [
              0.7777777777777778,
              "#fb9f3a"
             ],
             [
              0.8888888888888888,
              "#fdca26"
             ],
             [
              1,
              "#f0f921"
             ]
            ],
            "type": "histogram2d"
           }
          ],
          "histogram2dcontour": [
           {
            "colorbar": {
             "outlinewidth": 0,
             "ticks": ""
            },
            "colorscale": [
             [
              0,
              "#0d0887"
             ],
             [
              0.1111111111111111,
              "#46039f"
             ],
             [
              0.2222222222222222,
              "#7201a8"
             ],
             [
              0.3333333333333333,
              "#9c179e"
             ],
             [
              0.4444444444444444,
              "#bd3786"
             ],
             [
              0.5555555555555556,
              "#d8576b"
             ],
             [
              0.6666666666666666,
              "#ed7953"
             ],
             [
              0.7777777777777778,
              "#fb9f3a"
             ],
             [
              0.8888888888888888,
              "#fdca26"
             ],
             [
              1,
              "#f0f921"
             ]
            ],
            "type": "histogram2dcontour"
           }
          ],
          "mesh3d": [
           {
            "colorbar": {
             "outlinewidth": 0,
             "ticks": ""
            },
            "type": "mesh3d"
           }
          ],
          "parcoords": [
           {
            "line": {
             "colorbar": {
              "outlinewidth": 0,
              "ticks": ""
             }
            },
            "type": "parcoords"
           }
          ],
          "pie": [
           {
            "automargin": true,
            "type": "pie"
           }
          ],
          "scatter": [
           {
            "fillpattern": {
             "fillmode": "overlay",
             "size": 10,
             "solidity": 0.2
            },
            "type": "scatter"
           }
          ],
          "scatter3d": [
           {
            "line": {
             "colorbar": {
              "outlinewidth": 0,
              "ticks": ""
             }
            },
            "marker": {
             "colorbar": {
              "outlinewidth": 0,
              "ticks": ""
             }
            },
            "type": "scatter3d"
           }
          ],
          "scattercarpet": [
           {
            "marker": {
             "colorbar": {
              "outlinewidth": 0,
              "ticks": ""
             }
            },
            "type": "scattercarpet"
           }
          ],
          "scattergeo": [
           {
            "marker": {
             "colorbar": {
              "outlinewidth": 0,
              "ticks": ""
             }
            },
            "type": "scattergeo"
           }
          ],
          "scattergl": [
           {
            "marker": {
             "colorbar": {
              "outlinewidth": 0,
              "ticks": ""
             }
            },
            "type": "scattergl"
           }
          ],
          "scattermapbox": [
           {
            "marker": {
             "colorbar": {
              "outlinewidth": 0,
              "ticks": ""
             }
            },
            "type": "scattermapbox"
           }
          ],
          "scatterpolar": [
           {
            "marker": {
             "colorbar": {
              "outlinewidth": 0,
              "ticks": ""
             }
            },
            "type": "scatterpolar"
           }
          ],
          "scatterpolargl": [
           {
            "marker": {
             "colorbar": {
              "outlinewidth": 0,
              "ticks": ""
             }
            },
            "type": "scatterpolargl"
           }
          ],
          "scatterternary": [
           {
            "marker": {
             "colorbar": {
              "outlinewidth": 0,
              "ticks": ""
             }
            },
            "type": "scatterternary"
           }
          ],
          "surface": [
           {
            "colorbar": {
             "outlinewidth": 0,
             "ticks": ""
            },
            "colorscale": [
             [
              0,
              "#0d0887"
             ],
             [
              0.1111111111111111,
              "#46039f"
             ],
             [
              0.2222222222222222,
              "#7201a8"
             ],
             [
              0.3333333333333333,
              "#9c179e"
             ],
             [
              0.4444444444444444,
              "#bd3786"
             ],
             [
              0.5555555555555556,
              "#d8576b"
             ],
             [
              0.6666666666666666,
              "#ed7953"
             ],
             [
              0.7777777777777778,
              "#fb9f3a"
             ],
             [
              0.8888888888888888,
              "#fdca26"
             ],
             [
              1,
              "#f0f921"
             ]
            ],
            "type": "surface"
           }
          ],
          "table": [
           {
            "cells": {
             "fill": {
              "color": "#EBF0F8"
             },
             "line": {
              "color": "white"
             }
            },
            "header": {
             "fill": {
              "color": "#C8D4E3"
             },
             "line": {
              "color": "white"
             }
            },
            "type": "table"
           }
          ]
         },
         "layout": {
          "annotationdefaults": {
           "arrowcolor": "#2a3f5f",
           "arrowhead": 0,
           "arrowwidth": 1
          },
          "autotypenumbers": "strict",
          "coloraxis": {
           "colorbar": {
            "outlinewidth": 0,
            "ticks": ""
           }
          },
          "colorscale": {
           "diverging": [
            [
             0,
             "#8e0152"
            ],
            [
             0.1,
             "#c51b7d"
            ],
            [
             0.2,
             "#de77ae"
            ],
            [
             0.3,
             "#f1b6da"
            ],
            [
             0.4,
             "#fde0ef"
            ],
            [
             0.5,
             "#f7f7f7"
            ],
            [
             0.6,
             "#e6f5d0"
            ],
            [
             0.7,
             "#b8e186"
            ],
            [
             0.8,
             "#7fbc41"
            ],
            [
             0.9,
             "#4d9221"
            ],
            [
             1,
             "#276419"
            ]
           ],
           "sequential": [
            [
             0,
             "#0d0887"
            ],
            [
             0.1111111111111111,
             "#46039f"
            ],
            [
             0.2222222222222222,
             "#7201a8"
            ],
            [
             0.3333333333333333,
             "#9c179e"
            ],
            [
             0.4444444444444444,
             "#bd3786"
            ],
            [
             0.5555555555555556,
             "#d8576b"
            ],
            [
             0.6666666666666666,
             "#ed7953"
            ],
            [
             0.7777777777777778,
             "#fb9f3a"
            ],
            [
             0.8888888888888888,
             "#fdca26"
            ],
            [
             1,
             "#f0f921"
            ]
           ],
           "sequentialminus": [
            [
             0,
             "#0d0887"
            ],
            [
             0.1111111111111111,
             "#46039f"
            ],
            [
             0.2222222222222222,
             "#7201a8"
            ],
            [
             0.3333333333333333,
             "#9c179e"
            ],
            [
             0.4444444444444444,
             "#bd3786"
            ],
            [
             0.5555555555555556,
             "#d8576b"
            ],
            [
             0.6666666666666666,
             "#ed7953"
            ],
            [
             0.7777777777777778,
             "#fb9f3a"
            ],
            [
             0.8888888888888888,
             "#fdca26"
            ],
            [
             1,
             "#f0f921"
            ]
           ]
          },
          "colorway": [
           "#636efa",
           "#EF553B",
           "#00cc96",
           "#ab63fa",
           "#FFA15A",
           "#19d3f3",
           "#FF6692",
           "#B6E880",
           "#FF97FF",
           "#FECB52"
          ],
          "font": {
           "color": "#2a3f5f",
           "family": "Times New Roman",
           "size": 14
          },
          "geo": {
           "bgcolor": "white",
           "lakecolor": "white",
           "landcolor": "#E5ECF6",
           "showlakes": true,
           "showland": true,
           "subunitcolor": "white"
          },
          "hoverlabel": {
           "align": "left"
          },
          "hovermode": "closest",
          "mapbox": {
           "style": "light"
          },
          "paper_bgcolor": "white",
          "plot_bgcolor": "#E5ECF6",
          "polar": {
           "angularaxis": {
            "gridcolor": "white",
            "linecolor": "white",
            "ticks": ""
           },
           "bgcolor": "#E5ECF6",
           "radialaxis": {
            "gridcolor": "white",
            "linecolor": "white",
            "ticks": ""
           }
          },
          "scene": {
           "xaxis": {
            "backgroundcolor": "#E5ECF6",
            "gridcolor": "white",
            "gridwidth": 2,
            "linecolor": "white",
            "showbackground": true,
            "ticks": "",
            "zerolinecolor": "white"
           },
           "yaxis": {
            "backgroundcolor": "#E5ECF6",
            "gridcolor": "white",
            "gridwidth": 2,
            "linecolor": "white",
            "showbackground": true,
            "ticks": "",
            "zerolinecolor": "white"
           },
           "zaxis": {
            "backgroundcolor": "#E5ECF6",
            "gridcolor": "white",
            "gridwidth": 2,
            "linecolor": "white",
            "showbackground": true,
            "ticks": "",
            "zerolinecolor": "white"
           }
          },
          "shapedefaults": {
           "line": {
            "color": "#2a3f5f"
           }
          },
          "ternary": {
           "aaxis": {
            "gridcolor": "white",
            "linecolor": "white",
            "ticks": ""
           },
           "baxis": {
            "gridcolor": "white",
            "linecolor": "white",
            "ticks": ""
           },
           "bgcolor": "#E5ECF6",
           "caxis": {
            "gridcolor": "white",
            "linecolor": "white",
            "ticks": ""
           }
          },
          "title": {
           "x": 0.05
          },
          "xaxis": {
           "automargin": true,
           "gridcolor": "white",
           "linecolor": "white",
           "ticks": "",
           "title": {
            "standoff": 15
           },
           "zerolinecolor": "white",
           "zerolinewidth": 2
          },
          "yaxis": {
           "automargin": true,
           "gridcolor": "white",
           "linecolor": "white",
           "ticks": "",
           "title": {
            "standoff": 15
           },
           "zerolinecolor": "white",
           "zerolinewidth": 2
          }
         }
        },
        "title": {
         "text": "Happiness by Region & Income Tier"
        },
        "width": 1200
       }
      }
     },
     "metadata": {},
     "output_type": "display_data"
    }
   ],
   "source": [
    "# Happiness Demographic Breakdown\n",
    "if all(col in df_2021.columns for col in ['region', 'income_tier', 'happiness_score']):\n",
    "    try:\n",
    "        fig21 = px.sunburst(df_2021, path=['region', 'income_tier'], \n",
    "                          values='happiness_score', color='happiness_score',\n",
    "                          title='Happiness by Region & Income Tier',\n",
    "                          width=1200,\n",
    "        height=700)\n",
    "        fig21.show()\n",
    "    except Exception as e:\n",
    "        print(f\"Visualization 21 failed: {str(e)}\")"
   ]
  },
  {
   "cell_type": "markdown",
   "id": "f7cdc9ed",
   "metadata": {},
   "source": [
    "---------\n",
    "# 5. Conclussion\n",
    "\n",
    "---------"
   ]
  },
  {
   "cell_type": "markdown",
   "id": "69bf90c7",
   "metadata": {},
   "source": [
    "The analysis of the World Happiness Report 2021 provides a comprehensive view of global well-being, revealing how happiness is shaped by a complex interplay of economic, social, and institutional factors. By leveraging advanced visualizations and statistical techniques, we have uncovered key patterns and insights that can inform both policy and personal understanding.\n",
    "\n",
    "## Key Takeaways\n",
    "\n",
    "- **Happiness is Multidimensional:**  \n",
    "    No single factor determines happiness. Instead, it emerges from a combination of GDP per capita, social support, healthy life expectancy, freedom, generosity, and perceptions of corruption. The correlation heatmap (fig6) highlights strong positive relationships between economic/social factors and happiness, and negative correlations with corruption.\n",
    "\n",
    "- **Regional Disparities Persist:**  \n",
    "    Western Europe and North America & ANZ consistently top the happiness rankings, while regions like Sub-Saharan Africa and South Asia face greater challenges. However, there are outliers—some countries achieve higher happiness than their income or region might predict, often due to strong social support or governance.\n",
    "\n",
    "- **Trends Over Time:**  \n",
    "    The slope chart (fig7) shows that happiness rankings are not static. Some countries have improved significantly, while others have declined, reflecting the impact of policy, economic changes, and global events.\n",
    "\n",
    "- **Income Matters, But Isn't Everything:**  \n",
    "    Higher income tiers generally correspond to higher happiness, but the relationship is not absolute. Social and institutional factors can compensate for lower income in some contexts.\n",
    "\n",
    "- **Inequality Within and Between Regions:**  \n",
    "    Radar and box plots reveal that disparities in happiness and its drivers exist not only between regions but also within them. Addressing these inequalities requires targeted, context-sensitive interventions.\n",
    "\n",
    "## What We Learned\n",
    "\n",
    "- **Policy Implications:**  \n",
    "    Effective policies to boost happiness must address multiple dimensions—improving economic conditions, strengthening social support networks, promoting health, and building trust in institutions.\n",
    "\n",
    "- **Importance of Social Support and Trust:**  \n",
    "    Countries with strong social support and low corruption often outperform their peers, even at similar income levels. Investing in social capital and good governance pays dividends in well-being.\n",
    "\n",
    "- **Dynamic Nature of Happiness:**  \n",
    "    Happiness is not fixed; it responds to changes in society, economy, and governance. Monitoring trends over time is crucial for understanding the impact of interventions and global events.\n",
    "\n",
    "- **Value of Data-Driven Insights:**  \n",
    "    Combining subjective well-being data with objective indicators enables a richer, more actionable understanding of what drives happiness. This approach can guide both national policy and international development efforts.\n",
    "\n",
    "---\n",
    "\n",
    "**In summary:**  \n",
    "The World Happiness Report teaches us that well-being is a holistic, dynamic phenomenon shaped by both material and immaterial factors. By understanding and acting on these insights, societies can make meaningful progress toward greater happiness for all."
   ]
  },
  {
   "cell_type": "code",
   "execution_count": 103,
   "id": "54e661a7",
   "metadata": {},
   "outputs": [
    {
     "data": {
      "application/vnd.plotly.v1+json": {
       "config": {
        "plotlyServerURL": "https://plot.ly"
       },
       "data": [
        {
         "mode": "lines+markers+text",
         "name": "Denmark",
         "text": [
          null,
          "Denmark"
         ],
         "type": "scatter",
         "x": [
          2005,
          2020
         ],
         "y": [
          1,
          3
         ]
        },
        {
         "mode": "lines+markers+text",
         "name": "Netherlands",
         "text": [
          null,
          "Netherlands"
         ],
         "type": "scatter",
         "x": [
          2005,
          2020
         ],
         "y": [
          2,
          5
         ]
        },
        {
         "mode": "lines+markers+text",
         "name": "Sweden",
         "text": [
          null,
          "Sweden"
         ],
         "type": "scatter",
         "x": [
          2005,
          2020
         ],
         "y": [
          4,
          6
         ]
        },
        {
         "mode": "lines+markers+text",
         "name": "Germany",
         "text": [
          null,
          "Germany"
         ],
         "type": "scatter",
         "x": [
          2005,
          2020
         ],
         "y": [
          14,
          7
         ]
        },
        {
         "mode": "lines+markers+text",
         "name": "Australia",
         "text": [
          null,
          "Australia"
         ],
         "type": "scatter",
         "x": [
          2005,
          2020
         ],
         "y": [
          5,
          12
         ]
        },
        {
         "mode": "lines+markers+text",
         "name": "Canada",
         "text": [
          null,
          "Canada"
         ],
         "type": "scatter",
         "x": [
          2005,
          2020
         ],
         "y": [
          3,
          15
         ]
        },
        {
         "mode": "lines+markers+text",
         "name": "Czech Republic",
         "text": [
          null,
          "Czech Republic"
         ],
         "type": "scatter",
         "x": [
          2005,
          2020
         ],
         "y": [
          17,
          16
         ]
        },
        {
         "mode": "lines+markers+text",
         "name": "Belgium",
         "text": [
          null,
          "Belgium"
         ],
         "type": "scatter",
         "x": [
          2005,
          2020
         ],
         "y": [
          6,
          17
         ]
        },
        {
         "mode": "lines+markers+text",
         "name": "United Kingdom",
         "text": [
          null,
          "United Kingdom"
         ],
         "type": "scatter",
         "x": [
          2005,
          2020
         ],
         "y": [
          11,
          18
         ]
        },
        {
         "mode": "lines+markers+text",
         "name": "France",
         "text": [
          null,
          "France"
         ],
         "type": "scatter",
         "x": [
          2005,
          2020
         ],
         "y": [
          9,
          20
         ]
        },
        {
         "mode": "lines+markers+text",
         "name": "Saudi Arabia",
         "text": [
          null,
          "Saudi Arabia"
         ],
         "type": "scatter",
         "x": [
          2005,
          2020
         ],
         "y": [
          10,
          21
         ]
        },
        {
         "mode": "lines+markers+text",
         "name": "Spain",
         "text": [
          null,
          "Spain"
         ],
         "type": "scatter",
         "x": [
          2005,
          2020
         ],
         "y": [
          8,
          24
         ]
        },
        {
         "mode": "lines+markers+text",
         "name": "Italy",
         "text": [
          null,
          "Italy"
         ],
         "type": "scatter",
         "x": [
          2005,
          2020
         ],
         "y": [
          12,
          25
         ]
        },
        {
         "mode": "lines+markers+text",
         "name": "Poland",
         "text": [
          null,
          "Poland"
         ],
         "type": "scatter",
         "x": [
          2005,
          2020
         ],
         "y": [
          20,
          39
         ]
        },
        {
         "mode": "lines+markers+text",
         "name": "Japan",
         "text": [
          null,
          "Japan"
         ],
         "type": "scatter",
         "x": [
          2005,
          2020
         ],
         "y": [
          16,
          40
         ]
        },
        {
         "mode": "lines+markers+text",
         "name": "Brazil",
         "text": [
          null,
          "Brazil"
         ],
         "type": "scatter",
         "x": [
          2005,
          2020
         ],
         "y": [
          13,
          41
         ]
        },
        {
         "mode": "lines+markers+text",
         "name": "Hungary",
         "text": [
          null,
          "Hungary"
         ],
         "type": "scatter",
         "x": [
          2005,
          2020
         ],
         "y": [
          24,
          43
         ]
        },
        {
         "mode": "lines+markers+text",
         "name": "Mexico",
         "text": [
          null,
          "Mexico"
         ],
         "type": "scatter",
         "x": [
          2005,
          2020
         ],
         "y": [
          15,
          46
         ]
        },
        {
         "mode": "lines+markers+text",
         "name": "Greece",
         "text": [
          null,
          "Greece"
         ],
         "type": "scatter",
         "x": [
          2005,
          2020
         ],
         "y": [
          19,
          51
         ]
        },
        {
         "mode": "lines+markers+text",
         "name": "Iran",
         "text": [
          null,
          "Iran"
         ],
         "type": "scatter",
         "x": [
          2005,
          2020
         ],
         "y": [
          22,
          77
         ]
        },
        {
         "mode": "lines+markers+text",
         "name": "Turkey",
         "text": [
          null,
          "Turkey"
         ],
         "type": "scatter",
         "x": [
          2005,
          2020
         ],
         "y": [
          27,
          78
         ]
        },
        {
         "mode": "lines+markers+text",
         "name": "Venezuela",
         "text": [
          null,
          "Venezuela"
         ],
         "type": "scatter",
         "x": [
          2005,
          2020
         ],
         "y": [
          7,
          84
         ]
        },
        {
         "mode": "lines+markers+text",
         "name": "Egypt",
         "text": [
          null,
          "Egypt"
         ],
         "type": "scatter",
         "x": [
          2005,
          2020
         ],
         "y": [
          25,
          87
         ]
        },
        {
         "mode": "lines+markers+text",
         "name": "Jordan",
         "text": [
          null,
          "Jordan"
         ],
         "type": "scatter",
         "x": [
          2005,
          2020
         ],
         "y": [
          18,
          93
         ]
        }
       ],
       "layout": {
        "height": 700,
        "template": {
         "data": {
          "bar": [
           {
            "error_x": {
             "color": "#2a3f5f"
            },
            "error_y": {
             "color": "#2a3f5f"
            },
            "marker": {
             "line": {
              "color": "#E5ECF6",
              "width": 0.5
             },
             "pattern": {
              "fillmode": "overlay",
              "size": 10,
              "solidity": 0.2
             }
            },
            "type": "bar"
           }
          ],
          "barpolar": [
           {
            "marker": {
             "line": {
              "color": "#E5ECF6",
              "width": 0.5
             },
             "pattern": {
              "fillmode": "overlay",
              "size": 10,
              "solidity": 0.2
             }
            },
            "type": "barpolar"
           }
          ],
          "carpet": [
           {
            "aaxis": {
             "endlinecolor": "#2a3f5f",
             "gridcolor": "white",
             "linecolor": "white",
             "minorgridcolor": "white",
             "startlinecolor": "#2a3f5f"
            },
            "baxis": {
             "endlinecolor": "#2a3f5f",
             "gridcolor": "white",
             "linecolor": "white",
             "minorgridcolor": "white",
             "startlinecolor": "#2a3f5f"
            },
            "type": "carpet"
           }
          ],
          "choropleth": [
           {
            "colorbar": {
             "outlinewidth": 0,
             "ticks": ""
            },
            "type": "choropleth"
           }
          ],
          "contour": [
           {
            "colorbar": {
             "outlinewidth": 0,
             "ticks": ""
            },
            "colorscale": [
             [
              0,
              "#0d0887"
             ],
             [
              0.1111111111111111,
              "#46039f"
             ],
             [
              0.2222222222222222,
              "#7201a8"
             ],
             [
              0.3333333333333333,
              "#9c179e"
             ],
             [
              0.4444444444444444,
              "#bd3786"
             ],
             [
              0.5555555555555556,
              "#d8576b"
             ],
             [
              0.6666666666666666,
              "#ed7953"
             ],
             [
              0.7777777777777778,
              "#fb9f3a"
             ],
             [
              0.8888888888888888,
              "#fdca26"
             ],
             [
              1,
              "#f0f921"
             ]
            ],
            "type": "contour"
           }
          ],
          "contourcarpet": [
           {
            "colorbar": {
             "outlinewidth": 0,
             "ticks": ""
            },
            "type": "contourcarpet"
           }
          ],
          "heatmap": [
           {
            "colorbar": {
             "outlinewidth": 0,
             "ticks": ""
            },
            "colorscale": [
             [
              0,
              "#0d0887"
             ],
             [
              0.1111111111111111,
              "#46039f"
             ],
             [
              0.2222222222222222,
              "#7201a8"
             ],
             [
              0.3333333333333333,
              "#9c179e"
             ],
             [
              0.4444444444444444,
              "#bd3786"
             ],
             [
              0.5555555555555556,
              "#d8576b"
             ],
             [
              0.6666666666666666,
              "#ed7953"
             ],
             [
              0.7777777777777778,
              "#fb9f3a"
             ],
             [
              0.8888888888888888,
              "#fdca26"
             ],
             [
              1,
              "#f0f921"
             ]
            ],
            "type": "heatmap"
           }
          ],
          "heatmapgl": [
           {
            "colorbar": {
             "outlinewidth": 0,
             "ticks": ""
            },
            "colorscale": [
             [
              0,
              "#0d0887"
             ],
             [
              0.1111111111111111,
              "#46039f"
             ],
             [
              0.2222222222222222,
              "#7201a8"
             ],
             [
              0.3333333333333333,
              "#9c179e"
             ],
             [
              0.4444444444444444,
              "#bd3786"
             ],
             [
              0.5555555555555556,
              "#d8576b"
             ],
             [
              0.6666666666666666,
              "#ed7953"
             ],
             [
              0.7777777777777778,
              "#fb9f3a"
             ],
             [
              0.8888888888888888,
              "#fdca26"
             ],
             [
              1,
              "#f0f921"
             ]
            ],
            "type": "heatmapgl"
           }
          ],
          "histogram": [
           {
            "marker": {
             "pattern": {
              "fillmode": "overlay",
              "size": 10,
              "solidity": 0.2
             }
            },
            "type": "histogram"
           }
          ],
          "histogram2d": [
           {
            "colorbar": {
             "outlinewidth": 0,
             "ticks": ""
            },
            "colorscale": [
             [
              0,
              "#0d0887"
             ],
             [
              0.1111111111111111,
              "#46039f"
             ],
             [
              0.2222222222222222,
              "#7201a8"
             ],
             [
              0.3333333333333333,
              "#9c179e"
             ],
             [
              0.4444444444444444,
              "#bd3786"
             ],
             [
              0.5555555555555556,
              "#d8576b"
             ],
             [
              0.6666666666666666,
              "#ed7953"
             ],
             [
              0.7777777777777778,
              "#fb9f3a"
             ],
             [
              0.8888888888888888,
              "#fdca26"
             ],
             [
              1,
              "#f0f921"
             ]
            ],
            "type": "histogram2d"
           }
          ],
          "histogram2dcontour": [
           {
            "colorbar": {
             "outlinewidth": 0,
             "ticks": ""
            },
            "colorscale": [
             [
              0,
              "#0d0887"
             ],
             [
              0.1111111111111111,
              "#46039f"
             ],
             [
              0.2222222222222222,
              "#7201a8"
             ],
             [
              0.3333333333333333,
              "#9c179e"
             ],
             [
              0.4444444444444444,
              "#bd3786"
             ],
             [
              0.5555555555555556,
              "#d8576b"
             ],
             [
              0.6666666666666666,
              "#ed7953"
             ],
             [
              0.7777777777777778,
              "#fb9f3a"
             ],
             [
              0.8888888888888888,
              "#fdca26"
             ],
             [
              1,
              "#f0f921"
             ]
            ],
            "type": "histogram2dcontour"
           }
          ],
          "mesh3d": [
           {
            "colorbar": {
             "outlinewidth": 0,
             "ticks": ""
            },
            "type": "mesh3d"
           }
          ],
          "parcoords": [
           {
            "line": {
             "colorbar": {
              "outlinewidth": 0,
              "ticks": ""
             }
            },
            "type": "parcoords"
           }
          ],
          "pie": [
           {
            "automargin": true,
            "type": "pie"
           }
          ],
          "scatter": [
           {
            "fillpattern": {
             "fillmode": "overlay",
             "size": 10,
             "solidity": 0.2
            },
            "type": "scatter"
           }
          ],
          "scatter3d": [
           {
            "line": {
             "colorbar": {
              "outlinewidth": 0,
              "ticks": ""
             }
            },
            "marker": {
             "colorbar": {
              "outlinewidth": 0,
              "ticks": ""
             }
            },
            "type": "scatter3d"
           }
          ],
          "scattercarpet": [
           {
            "marker": {
             "colorbar": {
              "outlinewidth": 0,
              "ticks": ""
             }
            },
            "type": "scattercarpet"
           }
          ],
          "scattergeo": [
           {
            "marker": {
             "colorbar": {
              "outlinewidth": 0,
              "ticks": ""
             }
            },
            "type": "scattergeo"
           }
          ],
          "scattergl": [
           {
            "marker": {
             "colorbar": {
              "outlinewidth": 0,
              "ticks": ""
             }
            },
            "type": "scattergl"
           }
          ],
          "scattermapbox": [
           {
            "marker": {
             "colorbar": {
              "outlinewidth": 0,
              "ticks": ""
             }
            },
            "type": "scattermapbox"
           }
          ],
          "scatterpolar": [
           {
            "marker": {
             "colorbar": {
              "outlinewidth": 0,
              "ticks": ""
             }
            },
            "type": "scatterpolar"
           }
          ],
          "scatterpolargl": [
           {
            "marker": {
             "colorbar": {
              "outlinewidth": 0,
              "ticks": ""
             }
            },
            "type": "scatterpolargl"
           }
          ],
          "scatterternary": [
           {
            "marker": {
             "colorbar": {
              "outlinewidth": 0,
              "ticks": ""
             }
            },
            "type": "scatterternary"
           }
          ],
          "surface": [
           {
            "colorbar": {
             "outlinewidth": 0,
             "ticks": ""
            },
            "colorscale": [
             [
              0,
              "#0d0887"
             ],
             [
              0.1111111111111111,
              "#46039f"
             ],
             [
              0.2222222222222222,
              "#7201a8"
             ],
             [
              0.3333333333333333,
              "#9c179e"
             ],
             [
              0.4444444444444444,
              "#bd3786"
             ],
             [
              0.5555555555555556,
              "#d8576b"
             ],
             [
              0.6666666666666666,
              "#ed7953"
             ],
             [
              0.7777777777777778,
              "#fb9f3a"
             ],
             [
              0.8888888888888888,
              "#fdca26"
             ],
             [
              1,
              "#f0f921"
             ]
            ],
            "type": "surface"
           }
          ],
          "table": [
           {
            "cells": {
             "fill": {
              "color": "#EBF0F8"
             },
             "line": {
              "color": "white"
             }
            },
            "header": {
             "fill": {
              "color": "#C8D4E3"
             },
             "line": {
              "color": "white"
             }
            },
            "type": "table"
           }
          ]
         },
         "layout": {
          "annotationdefaults": {
           "arrowcolor": "#2a3f5f",
           "arrowhead": 0,
           "arrowwidth": 1
          },
          "autotypenumbers": "strict",
          "coloraxis": {
           "colorbar": {
            "outlinewidth": 0,
            "ticks": ""
           }
          },
          "colorscale": {
           "diverging": [
            [
             0,
             "#8e0152"
            ],
            [
             0.1,
             "#c51b7d"
            ],
            [
             0.2,
             "#de77ae"
            ],
            [
             0.3,
             "#f1b6da"
            ],
            [
             0.4,
             "#fde0ef"
            ],
            [
             0.5,
             "#f7f7f7"
            ],
            [
             0.6,
             "#e6f5d0"
            ],
            [
             0.7,
             "#b8e186"
            ],
            [
             0.8,
             "#7fbc41"
            ],
            [
             0.9,
             "#4d9221"
            ],
            [
             1,
             "#276419"
            ]
           ],
           "sequential": [
            [
             0,
             "#0d0887"
            ],
            [
             0.1111111111111111,
             "#46039f"
            ],
            [
             0.2222222222222222,
             "#7201a8"
            ],
            [
             0.3333333333333333,
             "#9c179e"
            ],
            [
             0.4444444444444444,
             "#bd3786"
            ],
            [
             0.5555555555555556,
             "#d8576b"
            ],
            [
             0.6666666666666666,
             "#ed7953"
            ],
            [
             0.7777777777777778,
             "#fb9f3a"
            ],
            [
             0.8888888888888888,
             "#fdca26"
            ],
            [
             1,
             "#f0f921"
            ]
           ],
           "sequentialminus": [
            [
             0,
             "#0d0887"
            ],
            [
             0.1111111111111111,
             "#46039f"
            ],
            [
             0.2222222222222222,
             "#7201a8"
            ],
            [
             0.3333333333333333,
             "#9c179e"
            ],
            [
             0.4444444444444444,
             "#bd3786"
            ],
            [
             0.5555555555555556,
             "#d8576b"
            ],
            [
             0.6666666666666666,
             "#ed7953"
            ],
            [
             0.7777777777777778,
             "#fb9f3a"
            ],
            [
             0.8888888888888888,
             "#fdca26"
            ],
            [
             1,
             "#f0f921"
            ]
           ]
          },
          "colorway": [
           "#636efa",
           "#EF553B",
           "#00cc96",
           "#ab63fa",
           "#FFA15A",
           "#19d3f3",
           "#FF6692",
           "#B6E880",
           "#FF97FF",
           "#FECB52"
          ],
          "font": {
           "color": "#2a3f5f",
           "family": "Times New Roman",
           "size": 14
          },
          "geo": {
           "bgcolor": "white",
           "lakecolor": "white",
           "landcolor": "#E5ECF6",
           "showlakes": true,
           "showland": true,
           "subunitcolor": "white"
          },
          "hoverlabel": {
           "align": "left"
          },
          "hovermode": "closest",
          "mapbox": {
           "style": "light"
          },
          "paper_bgcolor": "white",
          "plot_bgcolor": "#E5ECF6",
          "polar": {
           "angularaxis": {
            "gridcolor": "white",
            "linecolor": "white",
            "ticks": ""
           },
           "bgcolor": "#E5ECF6",
           "radialaxis": {
            "gridcolor": "white",
            "linecolor": "white",
            "ticks": ""
           }
          },
          "scene": {
           "xaxis": {
            "backgroundcolor": "#E5ECF6",
            "gridcolor": "white",
            "gridwidth": 2,
            "linecolor": "white",
            "showbackground": true,
            "ticks": "",
            "zerolinecolor": "white"
           },
           "yaxis": {
            "backgroundcolor": "#E5ECF6",
            "gridcolor": "white",
            "gridwidth": 2,
            "linecolor": "white",
            "showbackground": true,
            "ticks": "",
            "zerolinecolor": "white"
           },
           "zaxis": {
            "backgroundcolor": "#E5ECF6",
            "gridcolor": "white",
            "gridwidth": 2,
            "linecolor": "white",
            "showbackground": true,
            "ticks": "",
            "zerolinecolor": "white"
           }
          },
          "shapedefaults": {
           "line": {
            "color": "#2a3f5f"
           }
          },
          "ternary": {
           "aaxis": {
            "gridcolor": "white",
            "linecolor": "white",
            "ticks": ""
           },
           "baxis": {
            "gridcolor": "white",
            "linecolor": "white",
            "ticks": ""
           },
           "bgcolor": "#E5ECF6",
           "caxis": {
            "gridcolor": "white",
            "linecolor": "white",
            "ticks": ""
           }
          },
          "title": {
           "x": 0.05
          },
          "xaxis": {
           "automargin": true,
           "gridcolor": "white",
           "linecolor": "white",
           "ticks": "",
           "title": {
            "standoff": 15
           },
           "zerolinecolor": "white",
           "zerolinewidth": 2
          },
          "yaxis": {
           "automargin": true,
           "gridcolor": "white",
           "linecolor": "white",
           "ticks": "",
           "title": {
            "standoff": 15
           },
           "zerolinecolor": "white",
           "zerolinewidth": 2
          }
         }
        },
        "title": {
         "text": "Rank Changes from 2005 to 2020"
        },
        "width": 1200,
        "xaxis": {
         "title": {
          "text": "Year"
         }
        },
        "yaxis": {
         "autorange": "reversed",
         "title": {
          "text": "Rank"
         }
        }
       }
      }
     },
     "metadata": {},
     "output_type": "display_data"
    }
   ],
   "source": [
    "# Rank Change Slope Chart (larger size)\n",
    "if all(col in df_all.columns for col in [\"country\", \"year\", \"happiness_score\"]):\n",
    "    years_available = sorted(df_all['year'].unique())\n",
    "    if len(years_available) >= 2:\n",
    "        year1, year2 = years_available[0], years_available[-1]\n",
    "        df_rank = df_all[df_all[\"year\"].isin([year1, year2])].copy()\n",
    "        df_rank[\"rank\"] = df_rank.groupby(\"year\")[\"happiness_score\"].rank(ascending=False)\n",
    "        pivot = df_rank.pivot(index=\"country\", columns=\"year\", values=\"rank\").dropna()\n",
    "        pivot = pivot.reset_index().sort_values(year2)\n",
    "        fig7 = go.Figure()\n",
    "        for _, row in pivot.iterrows():\n",
    "            fig7.add_trace(go.Scatter(\n",
    "                x=[year1, year2], \n",
    "                y=[row[year1], row[year2]], \n",
    "                mode='lines+markers+text',\n",
    "                text=[None, row[\"country\"]], \n",
    "                name=row[\"country\"]\n",
    "            ))\n",
    "        fig7.update_layout(\n",
    "            title=f\"Rank Changes from {year1} to {year2}\", \n",
    "            xaxis_title=\"Year\", \n",
    "            yaxis_title=\"Rank\", \n",
    "            yaxis_autorange=\"reversed\",\n",
    "            width=1200,\n",
    "            height=700\n",
    "        )\n",
    "        fig7.show()"
   ]
  },
  {
   "cell_type": "code",
   "execution_count": 104,
   "id": "36140ad8",
   "metadata": {},
   "outputs": [
    {
     "data": {
      "application/vnd.plotly.v1+json": {
       "config": {
        "plotlyServerURL": "https://plot.ly"
       },
       "data": [
        {
         "hovertemplate": "region=Central and Eastern Europe<br>year=%{x}<br>happiness_score=%{y}<extra></extra>",
         "legendgroup": "Central and Eastern Europe",
         "line": {
          "color": "#636efa",
          "dash": "solid"
         },
         "marker": {
          "symbol": "circle"
         },
         "mode": "lines",
         "name": "Central and Eastern Europe",
         "orientation": "v",
         "showlegend": true,
         "type": "scatter",
         "x": [
          2005,
          2006,
          2007,
          2008,
          2009,
          2010,
          2011,
          2012,
          2013,
          2014,
          2015,
          2016,
          2017,
          2018,
          2019,
          2020
         ],
         "xaxis": "x",
         "y": [
          5.56725,
          5.4222,
          5.152266666666666,
          5.4182500000000005,
          5.18,
          5.1794,
          5.27664705882353,
          5.381235294117647,
          5.378,
          5.461882352941177,
          5.479411764705882,
          5.635941176470588,
          5.774,
          5.927117647058823,
          5.8850625,
          6.0766875
         ],
         "yaxis": "y"
        },
        {
         "hovertemplate": "region=Commonwealth of Independent States<br>year=%{x}<br>happiness_score=%{y}<extra></extra>",
         "legendgroup": "Commonwealth of Independent States",
         "line": {
          "color": "#EF553B",
          "dash": "solid"
         },
         "marker": {
          "symbol": "circle"
         },
         "mode": "lines",
         "name": "Commonwealth of Independent States",
         "orientation": "v",
         "showlegend": true,
         "type": "scatter",
         "x": [
          2006,
          2007,
          2008,
          2009,
          2010,
          2011,
          2012,
          2013,
          2014,
          2015,
          2016,
          2017,
          2018,
          2019,
          2020
         ],
         "xaxis": "x",
         "y": [
          4.834727272727273,
          4.8873,
          5.125454545454546,
          5.070916666666666,
          4.930363636363636,
          5.09025,
          5.235666666666667,
          5.293583333333333,
          5.334166666666667,
          5.254666666666667,
          5.166,
          5.30425,
          5.30075,
          5.53075,
          5.641571428571429
         ],
         "yaxis": "y"
        },
        {
         "hovertemplate": "region=East Asia<br>year=%{x}<br>happiness_score=%{y}<extra></extra>",
         "legendgroup": "East Asia",
         "line": {
          "color": "#00cc96",
          "dash": "solid"
         },
         "marker": {
          "symbol": "circle"
         },
         "mode": "lines",
         "name": "East Asia",
         "orientation": "v",
         "showlegend": true,
         "type": "scatter",
         "x": [
          2005,
          2006,
          2007,
          2008,
          2009,
          2010,
          2011,
          2012,
          2013,
          2014,
          2015,
          2016,
          2017,
          2018,
          2019,
          2020
         ],
         "xaxis": "x",
         "y": [
          6.516,
          5.398,
          5.36925,
          5.220833333333333,
          5.336,
          5.5473333333333334,
          5.8435,
          5.5935,
          5.6823999999999995,
          5.594333333333334,
          5.679399999999999,
          5.719833333333334,
          5.6565,
          5.7394,
          5.785666666666667,
          5.956500000000001
         ],
         "yaxis": "y"
        },
        {
         "hovertemplate": "region=Latin America and Caribbean<br>year=%{x}<br>happiness_score=%{y}<extra></extra>",
         "legendgroup": "Latin America and Caribbean",
         "line": {
          "color": "#ab63fa",
          "dash": "solid"
         },
         "marker": {
          "symbol": "circle"
         },
         "mode": "lines",
         "name": "Latin America and Caribbean",
         "orientation": "v",
         "showlegend": true,
         "type": "scatter",
         "x": [
          2005,
          2006,
          2007,
          2008,
          2009,
          2010,
          2011,
          2012,
          2013,
          2014,
          2015,
          2016,
          2017,
          2018,
          2019,
          2020
         ],
         "xaxis": "x",
         "y": [
          6.795999999999999,
          5.5761111111111115,
          5.801941176470589,
          5.750157894736842,
          6.366666666666667,
          6.179631578947368,
          6.04575,
          6.0895789473684205,
          6.159000000000001,
          6.0653500000000005,
          5.940894736842105,
          5.897,
          5.992649999999999,
          5.9511666666666665,
          6.117578947368421,
          5.660181818181818
         ],
         "yaxis": "y"
        },
        {
         "hovertemplate": "region=Middle East and North Africa<br>year=%{x}<br>happiness_score=%{y}<extra></extra>",
         "legendgroup": "Middle East and North Africa",
         "line": {
          "color": "#FFA15A",
          "dash": "solid"
         },
         "marker": {
          "symbol": "circle"
         },
         "mode": "lines",
         "name": "Middle East and North Africa",
         "orientation": "v",
         "showlegend": true,
         "type": "scatter",
         "x": [
          2005,
          2006,
          2007,
          2008,
          2009,
          2010,
          2011,
          2012,
          2013,
          2014,
          2015,
          2016,
          2017,
          2018,
          2019,
          2020
         ],
         "xaxis": "x",
         "y": [
          5.676833333333334,
          5.8704,
          5.60425,
          5.272444444444444,
          5.632076923076923,
          5.557,
          5.3684375,
          5.291823529411765,
          5.434933333333333,
          5.508533333333333,
          5.364375,
          5.381588235294117,
          5.286823529411765,
          5.055666666666666,
          5.288625,
          5.3634545454545455
         ],
         "yaxis": "y"
        },
        {
         "hovertemplate": "region=North America and ANZ<br>year=%{x}<br>happiness_score=%{y}<extra></extra>",
         "legendgroup": "North America and ANZ",
         "line": {
          "color": "#19d3f3",
          "dash": "solid"
         },
         "marker": {
          "symbol": "circle"
         },
         "mode": "lines",
         "name": "North America and ANZ",
         "orientation": "v",
         "showlegend": true,
         "type": "scatter",
         "x": [
          2005,
          2006,
          2007,
          2008,
          2009,
          2010,
          2011,
          2012,
          2013,
          2014,
          2015,
          2016,
          2017,
          2018,
          2019,
          2020
         ],
         "xaxis": "x",
         "y": [
          7.3795,
          7.2435,
          7.471,
          7.35025,
          7.323,
          7.372,
          7.2844999999999995,
          7.22175,
          7.3717500000000005,
          7.2625,
          7.251,
          7.13125,
          7.24775,
          7.15125,
          7.123,
          7.11175
         ],
         "yaxis": "y"
        },
        {
         "hovertemplate": "region=South Asia<br>year=%{x}<br>happiness_score=%{y}<extra></extra>",
         "legendgroup": "South Asia",
         "line": {
          "color": "#FF6692",
          "dash": "solid"
         },
         "marker": {
          "symbol": "circle"
         },
         "mode": "lines",
         "name": "South Asia",
         "orientation": "v",
         "showlegend": true,
         "type": "scatter",
         "x": [
          2005,
          2006,
          2007,
          2008,
          2009,
          2010,
          2011,
          2012,
          2013,
          2014,
          2015,
          2016,
          2017,
          2018,
          2019,
          2020
         ],
         "xaxis": "x",
         "y": [
          5.225,
          4.64475,
          4.8936,
          4.534666666666666,
          4.724,
          4.786333333333333,
          4.451666666666667,
          4.4695,
          4.461333333333333,
          4.4783333333333335,
          4.534166666666667,
          4.7208,
          4.319500000000001,
          4.432285714285714,
          4.1405,
          4.7524999999999995
         ],
         "yaxis": "y"
        },
        {
         "hovertemplate": "region=Southeast Asia<br>year=%{x}<br>happiness_score=%{y}<extra></extra>",
         "legendgroup": "Southeast Asia",
         "line": {
          "color": "#B6E880",
          "dash": "solid"
         },
         "marker": {
          "symbol": "circle"
         },
         "mode": "lines",
         "name": "Southeast Asia",
         "orientation": "v",
         "showlegend": true,
         "type": "scatter",
         "x": [
          2006,
          2007,
          2008,
          2009,
          2010,
          2011,
          2012,
          2013,
          2014,
          2015,
          2016,
          2017,
          2018,
          2019,
          2020
         ],
         "xaxis": "x",
         "y": [
          5.2395,
          5.49675,
          5.309375,
          5.253285714285714,
          5.452,
          5.47625,
          5.166625,
          5.2095,
          5.58425,
          5.3995,
          5.26,
          5.193375,
          5.402555555555555,
          5.504333333333333,
          5.0114
         ],
         "yaxis": "y"
        },
        {
         "hovertemplate": "region=Sub-Saharan Africa<br>year=%{x}<br>happiness_score=%{y}<extra></extra>",
         "legendgroup": "Sub-Saharan Africa",
         "line": {
          "color": "#FF97FF",
          "dash": "solid"
         },
         "marker": {
          "symbol": "circle"
         },
         "mode": "lines",
         "name": "Sub-Saharan Africa",
         "orientation": "v",
         "showlegend": true,
         "type": "scatter",
         "x": [
          2006,
          2007,
          2008,
          2009,
          2010,
          2011,
          2012,
          2013,
          2014,
          2015,
          2016,
          2017,
          2018,
          2019,
          2020
         ],
         "xaxis": "x",
         "y": [
          4.074181818181819,
          4.39221052631579,
          4.25436,
          4.3212631578947365,
          4.189611111111111,
          4.432066666666667,
          4.25812,
          4.0137307692307695,
          4.043466666666666,
          4.183344827586207,
          4.1748666666666665,
          4.42769696969697,
          4.533799999999999,
          4.499314285714286,
          4.761571428571429
         ],
         "yaxis": "y"
        },
        {
         "hovertemplate": "region=Western Europe<br>year=%{x}<br>happiness_score=%{y}<extra></extra>",
         "legendgroup": "Western Europe",
         "line": {
          "color": "#FECB52",
          "dash": "solid"
         },
         "marker": {
          "symbol": "circle"
         },
         "mode": "lines",
         "name": "Western Europe",
         "orientation": "v",
         "showlegend": true,
         "type": "scatter",
         "x": [
          2005,
          2006,
          2007,
          2008,
          2009,
          2010,
          2011,
          2012,
          2013,
          2014,
          2015,
          2016,
          2017,
          2018,
          2019,
          2020
         ],
         "xaxis": "x",
         "y": [
          7.0831,
          6.881625,
          7.0201111111111105,
          7.165466666666666,
          6.772461538461538,
          6.756647058823529,
          6.778764705882353,
          6.730476190476191,
          6.6233157894736845,
          6.6272,
          6.690380952380952,
          6.767047619047619,
          6.8919,
          6.8980500000000005,
          6.940904761904761,
          6.919421052631579
         ],
         "yaxis": "y"
        }
       ],
       "layout": {
        "height": 700,
        "legend": {
         "title": {
          "text": "region"
         },
         "tracegroupgap": 0
        },
        "template": {
         "data": {
          "bar": [
           {
            "error_x": {
             "color": "#2a3f5f"
            },
            "error_y": {
             "color": "#2a3f5f"
            },
            "marker": {
             "line": {
              "color": "#E5ECF6",
              "width": 0.5
             },
             "pattern": {
              "fillmode": "overlay",
              "size": 10,
              "solidity": 0.2
             }
            },
            "type": "bar"
           }
          ],
          "barpolar": [
           {
            "marker": {
             "line": {
              "color": "#E5ECF6",
              "width": 0.5
             },
             "pattern": {
              "fillmode": "overlay",
              "size": 10,
              "solidity": 0.2
             }
            },
            "type": "barpolar"
           }
          ],
          "carpet": [
           {
            "aaxis": {
             "endlinecolor": "#2a3f5f",
             "gridcolor": "white",
             "linecolor": "white",
             "minorgridcolor": "white",
             "startlinecolor": "#2a3f5f"
            },
            "baxis": {
             "endlinecolor": "#2a3f5f",
             "gridcolor": "white",
             "linecolor": "white",
             "minorgridcolor": "white",
             "startlinecolor": "#2a3f5f"
            },
            "type": "carpet"
           }
          ],
          "choropleth": [
           {
            "colorbar": {
             "outlinewidth": 0,
             "ticks": ""
            },
            "type": "choropleth"
           }
          ],
          "contour": [
           {
            "colorbar": {
             "outlinewidth": 0,
             "ticks": ""
            },
            "colorscale": [
             [
              0,
              "#0d0887"
             ],
             [
              0.1111111111111111,
              "#46039f"
             ],
             [
              0.2222222222222222,
              "#7201a8"
             ],
             [
              0.3333333333333333,
              "#9c179e"
             ],
             [
              0.4444444444444444,
              "#bd3786"
             ],
             [
              0.5555555555555556,
              "#d8576b"
             ],
             [
              0.6666666666666666,
              "#ed7953"
             ],
             [
              0.7777777777777778,
              "#fb9f3a"
             ],
             [
              0.8888888888888888,
              "#fdca26"
             ],
             [
              1,
              "#f0f921"
             ]
            ],
            "type": "contour"
           }
          ],
          "contourcarpet": [
           {
            "colorbar": {
             "outlinewidth": 0,
             "ticks": ""
            },
            "type": "contourcarpet"
           }
          ],
          "heatmap": [
           {
            "colorbar": {
             "outlinewidth": 0,
             "ticks": ""
            },
            "colorscale": [
             [
              0,
              "#0d0887"
             ],
             [
              0.1111111111111111,
              "#46039f"
             ],
             [
              0.2222222222222222,
              "#7201a8"
             ],
             [
              0.3333333333333333,
              "#9c179e"
             ],
             [
              0.4444444444444444,
              "#bd3786"
             ],
             [
              0.5555555555555556,
              "#d8576b"
             ],
             [
              0.6666666666666666,
              "#ed7953"
             ],
             [
              0.7777777777777778,
              "#fb9f3a"
             ],
             [
              0.8888888888888888,
              "#fdca26"
             ],
             [
              1,
              "#f0f921"
             ]
            ],
            "type": "heatmap"
           }
          ],
          "heatmapgl": [
           {
            "colorbar": {
             "outlinewidth": 0,
             "ticks": ""
            },
            "colorscale": [
             [
              0,
              "#0d0887"
             ],
             [
              0.1111111111111111,
              "#46039f"
             ],
             [
              0.2222222222222222,
              "#7201a8"
             ],
             [
              0.3333333333333333,
              "#9c179e"
             ],
             [
              0.4444444444444444,
              "#bd3786"
             ],
             [
              0.5555555555555556,
              "#d8576b"
             ],
             [
              0.6666666666666666,
              "#ed7953"
             ],
             [
              0.7777777777777778,
              "#fb9f3a"
             ],
             [
              0.8888888888888888,
              "#fdca26"
             ],
             [
              1,
              "#f0f921"
             ]
            ],
            "type": "heatmapgl"
           }
          ],
          "histogram": [
           {
            "marker": {
             "pattern": {
              "fillmode": "overlay",
              "size": 10,
              "solidity": 0.2
             }
            },
            "type": "histogram"
           }
          ],
          "histogram2d": [
           {
            "colorbar": {
             "outlinewidth": 0,
             "ticks": ""
            },
            "colorscale": [
             [
              0,
              "#0d0887"
             ],
             [
              0.1111111111111111,
              "#46039f"
             ],
             [
              0.2222222222222222,
              "#7201a8"
             ],
             [
              0.3333333333333333,
              "#9c179e"
             ],
             [
              0.4444444444444444,
              "#bd3786"
             ],
             [
              0.5555555555555556,
              "#d8576b"
             ],
             [
              0.6666666666666666,
              "#ed7953"
             ],
             [
              0.7777777777777778,
              "#fb9f3a"
             ],
             [
              0.8888888888888888,
              "#fdca26"
             ],
             [
              1,
              "#f0f921"
             ]
            ],
            "type": "histogram2d"
           }
          ],
          "histogram2dcontour": [
           {
            "colorbar": {
             "outlinewidth": 0,
             "ticks": ""
            },
            "colorscale": [
             [
              0,
              "#0d0887"
             ],
             [
              0.1111111111111111,
              "#46039f"
             ],
             [
              0.2222222222222222,
              "#7201a8"
             ],
             [
              0.3333333333333333,
              "#9c179e"
             ],
             [
              0.4444444444444444,
              "#bd3786"
             ],
             [
              0.5555555555555556,
              "#d8576b"
             ],
             [
              0.6666666666666666,
              "#ed7953"
             ],
             [
              0.7777777777777778,
              "#fb9f3a"
             ],
             [
              0.8888888888888888,
              "#fdca26"
             ],
             [
              1,
              "#f0f921"
             ]
            ],
            "type": "histogram2dcontour"
           }
          ],
          "mesh3d": [
           {
            "colorbar": {
             "outlinewidth": 0,
             "ticks": ""
            },
            "type": "mesh3d"
           }
          ],
          "parcoords": [
           {
            "line": {
             "colorbar": {
              "outlinewidth": 0,
              "ticks": ""
             }
            },
            "type": "parcoords"
           }
          ],
          "pie": [
           {
            "automargin": true,
            "type": "pie"
           }
          ],
          "scatter": [
           {
            "fillpattern": {
             "fillmode": "overlay",
             "size": 10,
             "solidity": 0.2
            },
            "type": "scatter"
           }
          ],
          "scatter3d": [
           {
            "line": {
             "colorbar": {
              "outlinewidth": 0,
              "ticks": ""
             }
            },
            "marker": {
             "colorbar": {
              "outlinewidth": 0,
              "ticks": ""
             }
            },
            "type": "scatter3d"
           }
          ],
          "scattercarpet": [
           {
            "marker": {
             "colorbar": {
              "outlinewidth": 0,
              "ticks": ""
             }
            },
            "type": "scattercarpet"
           }
          ],
          "scattergeo": [
           {
            "marker": {
             "colorbar": {
              "outlinewidth": 0,
              "ticks": ""
             }
            },
            "type": "scattergeo"
           }
          ],
          "scattergl": [
           {
            "marker": {
             "colorbar": {
              "outlinewidth": 0,
              "ticks": ""
             }
            },
            "type": "scattergl"
           }
          ],
          "scattermapbox": [
           {
            "marker": {
             "colorbar": {
              "outlinewidth": 0,
              "ticks": ""
             }
            },
            "type": "scattermapbox"
           }
          ],
          "scatterpolar": [
           {
            "marker": {
             "colorbar": {
              "outlinewidth": 0,
              "ticks": ""
             }
            },
            "type": "scatterpolar"
           }
          ],
          "scatterpolargl": [
           {
            "marker": {
             "colorbar": {
              "outlinewidth": 0,
              "ticks": ""
             }
            },
            "type": "scatterpolargl"
           }
          ],
          "scatterternary": [
           {
            "marker": {
             "colorbar": {
              "outlinewidth": 0,
              "ticks": ""
             }
            },
            "type": "scatterternary"
           }
          ],
          "surface": [
           {
            "colorbar": {
             "outlinewidth": 0,
             "ticks": ""
            },
            "colorscale": [
             [
              0,
              "#0d0887"
             ],
             [
              0.1111111111111111,
              "#46039f"
             ],
             [
              0.2222222222222222,
              "#7201a8"
             ],
             [
              0.3333333333333333,
              "#9c179e"
             ],
             [
              0.4444444444444444,
              "#bd3786"
             ],
             [
              0.5555555555555556,
              "#d8576b"
             ],
             [
              0.6666666666666666,
              "#ed7953"
             ],
             [
              0.7777777777777778,
              "#fb9f3a"
             ],
             [
              0.8888888888888888,
              "#fdca26"
             ],
             [
              1,
              "#f0f921"
             ]
            ],
            "type": "surface"
           }
          ],
          "table": [
           {
            "cells": {
             "fill": {
              "color": "#EBF0F8"
             },
             "line": {
              "color": "white"
             }
            },
            "header": {
             "fill": {
              "color": "#C8D4E3"
             },
             "line": {
              "color": "white"
             }
            },
            "type": "table"
           }
          ]
         },
         "layout": {
          "annotationdefaults": {
           "arrowcolor": "#2a3f5f",
           "arrowhead": 0,
           "arrowwidth": 1
          },
          "autotypenumbers": "strict",
          "coloraxis": {
           "colorbar": {
            "outlinewidth": 0,
            "ticks": ""
           }
          },
          "colorscale": {
           "diverging": [
            [
             0,
             "#8e0152"
            ],
            [
             0.1,
             "#c51b7d"
            ],
            [
             0.2,
             "#de77ae"
            ],
            [
             0.3,
             "#f1b6da"
            ],
            [
             0.4,
             "#fde0ef"
            ],
            [
             0.5,
             "#f7f7f7"
            ],
            [
             0.6,
             "#e6f5d0"
            ],
            [
             0.7,
             "#b8e186"
            ],
            [
             0.8,
             "#7fbc41"
            ],
            [
             0.9,
             "#4d9221"
            ],
            [
             1,
             "#276419"
            ]
           ],
           "sequential": [
            [
             0,
             "#0d0887"
            ],
            [
             0.1111111111111111,
             "#46039f"
            ],
            [
             0.2222222222222222,
             "#7201a8"
            ],
            [
             0.3333333333333333,
             "#9c179e"
            ],
            [
             0.4444444444444444,
             "#bd3786"
            ],
            [
             0.5555555555555556,
             "#d8576b"
            ],
            [
             0.6666666666666666,
             "#ed7953"
            ],
            [
             0.7777777777777778,
             "#fb9f3a"
            ],
            [
             0.8888888888888888,
             "#fdca26"
            ],
            [
             1,
             "#f0f921"
            ]
           ],
           "sequentialminus": [
            [
             0,
             "#0d0887"
            ],
            [
             0.1111111111111111,
             "#46039f"
            ],
            [
             0.2222222222222222,
             "#7201a8"
            ],
            [
             0.3333333333333333,
             "#9c179e"
            ],
            [
             0.4444444444444444,
             "#bd3786"
            ],
            [
             0.5555555555555556,
             "#d8576b"
            ],
            [
             0.6666666666666666,
             "#ed7953"
            ],
            [
             0.7777777777777778,
             "#fb9f3a"
            ],
            [
             0.8888888888888888,
             "#fdca26"
            ],
            [
             1,
             "#f0f921"
            ]
           ]
          },
          "colorway": [
           "#636efa",
           "#EF553B",
           "#00cc96",
           "#ab63fa",
           "#FFA15A",
           "#19d3f3",
           "#FF6692",
           "#B6E880",
           "#FF97FF",
           "#FECB52"
          ],
          "font": {
           "color": "#2a3f5f",
           "family": "Times New Roman",
           "size": 14
          },
          "geo": {
           "bgcolor": "white",
           "lakecolor": "white",
           "landcolor": "#E5ECF6",
           "showlakes": true,
           "showland": true,
           "subunitcolor": "white"
          },
          "hoverlabel": {
           "align": "left"
          },
          "hovermode": "closest",
          "mapbox": {
           "style": "light"
          },
          "paper_bgcolor": "white",
          "plot_bgcolor": "#E5ECF6",
          "polar": {
           "angularaxis": {
            "gridcolor": "white",
            "linecolor": "white",
            "ticks": ""
           },
           "bgcolor": "#E5ECF6",
           "radialaxis": {
            "gridcolor": "white",
            "linecolor": "white",
            "ticks": ""
           }
          },
          "scene": {
           "xaxis": {
            "backgroundcolor": "#E5ECF6",
            "gridcolor": "white",
            "gridwidth": 2,
            "linecolor": "white",
            "showbackground": true,
            "ticks": "",
            "zerolinecolor": "white"
           },
           "yaxis": {
            "backgroundcolor": "#E5ECF6",
            "gridcolor": "white",
            "gridwidth": 2,
            "linecolor": "white",
            "showbackground": true,
            "ticks": "",
            "zerolinecolor": "white"
           },
           "zaxis": {
            "backgroundcolor": "#E5ECF6",
            "gridcolor": "white",
            "gridwidth": 2,
            "linecolor": "white",
            "showbackground": true,
            "ticks": "",
            "zerolinecolor": "white"
           }
          },
          "shapedefaults": {
           "line": {
            "color": "#2a3f5f"
           }
          },
          "ternary": {
           "aaxis": {
            "gridcolor": "white",
            "linecolor": "white",
            "ticks": ""
           },
           "baxis": {
            "gridcolor": "white",
            "linecolor": "white",
            "ticks": ""
           },
           "bgcolor": "#E5ECF6",
           "caxis": {
            "gridcolor": "white",
            "linecolor": "white",
            "ticks": ""
           }
          },
          "title": {
           "x": 0.05
          },
          "xaxis": {
           "automargin": true,
           "gridcolor": "white",
           "linecolor": "white",
           "ticks": "",
           "title": {
            "standoff": 15
           },
           "zerolinecolor": "white",
           "zerolinewidth": 2
          },
          "yaxis": {
           "automargin": true,
           "gridcolor": "white",
           "linecolor": "white",
           "ticks": "",
           "title": {
            "standoff": 15
           },
           "zerolinecolor": "white",
           "zerolinewidth": 2
          }
         }
        },
        "title": {
         "text": "Regional Happiness Trends"
        },
        "width": 1200,
        "xaxis": {
         "anchor": "y",
         "domain": [
          0,
          1
         ],
         "title": {
          "text": "year"
         }
        },
        "yaxis": {
         "anchor": "x",
         "domain": [
          0,
          1
         ],
         "title": {
          "text": "happiness_score"
         }
        }
       }
      }
     },
     "metadata": {},
     "output_type": "display_data"
    }
   ],
   "source": [
    "# Regional Happiness Trends (larger size)\n",
    "if all(col in df_all.columns for col in [\"region\", \"year\", \"happiness_score\"]):\n",
    "    regional_avg = df_all.groupby([\"region\", \"year\"])[\"happiness_score\"].mean().reset_index()\n",
    "    fig4 = px.line(\n",
    "        regional_avg,\n",
    "        x=\"year\",\n",
    "        y=\"happiness_score\",\n",
    "        color=\"region\",\n",
    "        title=\"Regional Happiness Trends\",\n",
    "        width=1200,\n",
    "        height=700\n",
    "    )\n",
    "    fig4.show()"
   ]
  },
  {
   "cell_type": "code",
   "execution_count": 105,
   "id": "12193076",
   "metadata": {},
   "outputs": [
    {
     "data": {
      "application/vnd.plotly.v1+json": {
       "config": {
        "plotlyServerURL": "https://plot.ly"
       },
       "data": [
        {
         "hovertemplate": "country=Afghanistan<br>type=historical<br>year=%{x}<br>happiness_score=%{y}<extra></extra>",
         "legendgroup": "Afghanistan, historical",
         "line": {
          "color": "#636efa",
          "dash": "solid"
         },
         "marker": {
          "symbol": "circle"
         },
         "mode": "lines",
         "name": "Afghanistan, historical",
         "orientation": "v",
         "showlegend": true,
         "type": "scatter",
         "x": [
          2008,
          2009,
          2010,
          2011,
          2012,
          2013,
          2014,
          2015,
          2016,
          2017,
          2018,
          2019
         ],
         "xaxis": "x",
         "y": [
          3.724,
          4.402,
          4.758,
          3.832,
          3.783,
          3.572,
          3.131,
          3.983,
          4.22,
          2.662,
          2.694,
          2.375
         ],
         "yaxis": "y"
        },
        {
         "hovertemplate": "country=Afghanistan<br>type=projected<br>year=%{x}<br>happiness_score=%{y}<extra></extra>",
         "legendgroup": "Afghanistan, projected",
         "line": {
          "color": "#636efa",
          "dash": "dot"
         },
         "marker": {
          "symbol": "circle"
         },
         "mode": "lines",
         "name": "Afghanistan, projected",
         "orientation": "v",
         "showlegend": true,
         "type": "scatter",
         "x": [
          2022,
          2025,
          2030
         ],
         "xaxis": "x",
         "y": [
          2.3231142191142453,
          1.8743310023310187,
          1.1263589743589932
         ],
         "yaxis": "y"
        },
        {
         "hovertemplate": "country=Canada<br>type=historical<br>year=%{x}<br>happiness_score=%{y}<extra></extra>",
         "legendgroup": "Canada, historical",
         "line": {
          "color": "#EF553B",
          "dash": "solid"
         },
         "marker": {
          "symbol": "circle"
         },
         "mode": "lines",
         "name": "Canada, historical",
         "orientation": "v",
         "showlegend": true,
         "type": "scatter",
         "x": [
          2005,
          2007,
          2008,
          2009,
          2010,
          2011,
          2012,
          2013,
          2014,
          2015,
          2016,
          2017,
          2018,
          2019,
          2020
         ],
         "xaxis": "x",
         "y": [
          7.418,
          7.482,
          7.486,
          7.488,
          7.65,
          7.426,
          7.415,
          7.594,
          7.304,
          7.413,
          7.245,
          7.415,
          7.175,
          7.109,
          7.025
         ],
         "yaxis": "y"
        },
        {
         "hovertemplate": "country=Canada<br>type=projected<br>year=%{x}<br>happiness_score=%{y}<extra></extra>",
         "legendgroup": "Canada, projected",
         "line": {
          "color": "#EF553B",
          "dash": "dot"
         },
         "marker": {
          "symbol": "circle"
         },
         "mode": "lines",
         "name": "Canada, projected",
         "orientation": "v",
         "showlegend": true,
         "type": "scatter",
         "x": [
          2022,
          2025,
          2030
         ],
         "xaxis": "x",
         "y": [
          7.123341772151903,
          7.039631329113924,
          6.900113924050636
         ],
         "yaxis": "y"
        },
        {
         "hovertemplate": "country=Denmark<br>type=historical<br>year=%{x}<br>happiness_score=%{y}<extra></extra>",
         "legendgroup": "Denmark, historical",
         "line": {
          "color": "#00cc96",
          "dash": "solid"
         },
         "marker": {
          "symbol": "circle"
         },
         "mode": "lines",
         "name": "Denmark, historical",
         "orientation": "v",
         "showlegend": true,
         "type": "scatter",
         "x": [
          2005,
          2007,
          2008,
          2009,
          2010,
          2011,
          2012,
          2013,
          2014,
          2015,
          2016,
          2017,
          2018,
          2019,
          2020
         ],
         "xaxis": "x",
         "y": [
          8.019,
          7.834,
          7.971,
          7.683,
          7.771,
          7.788,
          7.52,
          7.589,
          7.508,
          7.514,
          7.558,
          7.594,
          7.649,
          7.693,
          7.515
         ],
         "yaxis": "y"
        },
        {
         "hovertemplate": "country=Denmark<br>type=projected<br>year=%{x}<br>happiness_score=%{y}<extra></extra>",
         "legendgroup": "Denmark, projected",
         "line": {
          "color": "#00cc96",
          "dash": "dot"
         },
         "marker": {
          "symbol": "circle"
         },
         "mode": "lines",
         "name": "Denmark, projected",
         "orientation": "v",
         "showlegend": true,
         "type": "scatter",
         "x": [
          2022,
          2025,
          2030
         ],
         "xaxis": "x",
         "y": [
          7.43823146473779,
          7.358102169981919,
          7.2245533453887845
         ],
         "yaxis": "y"
        },
        {
         "hovertemplate": "country=Finland<br>type=historical<br>year=%{x}<br>happiness_score=%{y}<extra></extra>",
         "legendgroup": "Finland, historical",
         "line": {
          "color": "#ab63fa",
          "dash": "solid"
         },
         "marker": {
          "symbol": "circle"
         },
         "mode": "lines",
         "name": "Finland, historical",
         "orientation": "v",
         "showlegend": true,
         "type": "scatter",
         "x": [
          2006,
          2008,
          2010,
          2011,
          2012,
          2013,
          2014,
          2015,
          2016,
          2017,
          2018,
          2019,
          2020
         ],
         "xaxis": "x",
         "y": [
          7.672,
          7.671,
          7.393,
          7.354,
          7.42,
          7.445,
          7.385,
          7.448,
          7.66,
          7.788,
          7.858,
          7.78,
          7.889
         ],
         "yaxis": "y"
        },
        {
         "hovertemplate": "country=Finland<br>type=projected<br>year=%{x}<br>happiness_score=%{y}<extra></extra>",
         "legendgroup": "Finland, projected",
         "line": {
          "color": "#ab63fa",
          "dash": "dot"
         },
         "marker": {
          "symbol": "circle"
         },
         "mode": "lines",
         "name": "Finland, projected",
         "orientation": "v",
         "showlegend": true,
         "type": "scatter",
         "x": [
          2022,
          2025,
          2030
         ],
         "xaxis": "x",
         "y": [
          7.793985335195536,
          7.865727653631289,
          7.985298184357546
         ],
         "yaxis": "y"
        },
        {
         "hovertemplate": "country=South Africa<br>type=historical<br>year=%{x}<br>happiness_score=%{y}<extra></extra>",
         "legendgroup": "South Africa, historical",
         "line": {
          "color": "#FFA15A",
          "dash": "solid"
         },
         "marker": {
          "symbol": "circle"
         },
         "mode": "lines",
         "name": "South Africa, historical",
         "orientation": "v",
         "showlegend": true,
         "type": "scatter",
         "x": [
          2006,
          2007,
          2008,
          2009,
          2010,
          2011,
          2012,
          2013,
          2014,
          2015,
          2016,
          2017,
          2018,
          2019,
          2020
         ],
         "xaxis": "x",
         "y": [
          5.084,
          5.204,
          5.346,
          5.218,
          4.652,
          4.931,
          5.134,
          3.661,
          4.828,
          4.887,
          4.77,
          4.514,
          4.884,
          5.035,
          4.947
         ],
         "yaxis": "y"
        },
        {
         "hovertemplate": "country=South Africa<br>type=projected<br>year=%{x}<br>happiness_score=%{y}<extra></extra>",
         "legendgroup": "South Africa, projected",
         "line": {
          "color": "#FFA15A",
          "dash": "dot"
         },
         "marker": {
          "symbol": "circle"
         },
         "mode": "lines",
         "name": "South Africa, projected",
         "orientation": "v",
         "showlegend": true,
         "type": "scatter",
         "x": [
          2022,
          2025,
          2030
         ],
         "xaxis": "x",
         "y": [
          4.643532142857147,
          4.567042857142859,
          4.439560714285719
         ],
         "yaxis": "y"
        },
        {
         "hovertemplate": "country=United States<br>type=historical<br>year=%{x}<br>happiness_score=%{y}<extra></extra>",
         "legendgroup": "United States, historical",
         "line": {
          "color": "#19d3f3",
          "dash": "solid"
         },
         "marker": {
          "symbol": "circle"
         },
         "mode": "lines",
         "name": "United States, historical",
         "orientation": "v",
         "showlegend": true,
         "type": "scatter",
         "x": [
          2006,
          2007,
          2008,
          2009,
          2010,
          2011,
          2012,
          2013,
          2014,
          2015,
          2016,
          2017,
          2018,
          2019,
          2020
         ],
         "xaxis": "x",
         "y": [
          7.182,
          7.513,
          7.28,
          7.158,
          7.164,
          7.115,
          7.026,
          7.249,
          7.151,
          6.864,
          6.804,
          6.992,
          6.883,
          6.944,
          7.028
         ],
         "yaxis": "y"
        },
        {
         "hovertemplate": "country=United States<br>type=projected<br>year=%{x}<br>happiness_score=%{y}<extra></extra>",
         "legendgroup": "United States, projected",
         "line": {
          "color": "#19d3f3",
          "dash": "dot"
         },
         "marker": {
          "symbol": "circle"
         },
         "mode": "lines",
         "name": "United States, projected",
         "orientation": "v",
         "showlegend": true,
         "type": "scatter",
         "x": [
          2022,
          2025,
          2030
         ],
         "xaxis": "x",
         "y": [
          6.813835714285716,
          6.721714285714285,
          6.568178571428575
         ],
         "yaxis": "y"
        },
        {
         "hovertemplate": "country=Zimbabwe<br>type=historical<br>year=%{x}<br>happiness_score=%{y}<extra></extra>",
         "legendgroup": "Zimbabwe, historical",
         "line": {
          "color": "#FF6692",
          "dash": "solid"
         },
         "marker": {
          "symbol": "circle"
         },
         "mode": "lines",
         "name": "Zimbabwe, historical",
         "orientation": "v",
         "showlegend": true,
         "type": "scatter",
         "x": [
          2006,
          2007,
          2008,
          2009,
          2010,
          2011,
          2012,
          2013,
          2014,
          2015,
          2016,
          2017,
          2018,
          2019,
          2020
         ],
         "xaxis": "x",
         "y": [
          3.826,
          3.28,
          3.174,
          4.056,
          4.682,
          4.846,
          4.955,
          4.69,
          4.184,
          3.703,
          3.735,
          3.638,
          3.616,
          2.694,
          3.16
         ],
         "yaxis": "y"
        },
        {
         "hovertemplate": "country=Zimbabwe<br>type=projected<br>year=%{x}<br>happiness_score=%{y}<extra></extra>",
         "legendgroup": "Zimbabwe, projected",
         "line": {
          "color": "#FF6692",
          "dash": "dot"
         },
         "marker": {
          "symbol": "circle"
         },
         "mode": "lines",
         "name": "Zimbabwe, projected",
         "orientation": "v",
         "showlegend": true,
         "type": "scatter",
         "x": [
          2022,
          2025,
          2030
         ],
         "xaxis": "x",
         "y": [
          3.4474499999999892,
          3.3023999999999916,
          3.0606499999999954
         ],
         "yaxis": "y"
        }
       ],
       "layout": {
        "height": 700,
        "legend": {
         "title": {
          "text": "country, type"
         },
         "tracegroupgap": 0
        },
        "template": {
         "data": {
          "bar": [
           {
            "error_x": {
             "color": "#2a3f5f"
            },
            "error_y": {
             "color": "#2a3f5f"
            },
            "marker": {
             "line": {
              "color": "#E5ECF6",
              "width": 0.5
             },
             "pattern": {
              "fillmode": "overlay",
              "size": 10,
              "solidity": 0.2
             }
            },
            "type": "bar"
           }
          ],
          "barpolar": [
           {
            "marker": {
             "line": {
              "color": "#E5ECF6",
              "width": 0.5
             },
             "pattern": {
              "fillmode": "overlay",
              "size": 10,
              "solidity": 0.2
             }
            },
            "type": "barpolar"
           }
          ],
          "carpet": [
           {
            "aaxis": {
             "endlinecolor": "#2a3f5f",
             "gridcolor": "white",
             "linecolor": "white",
             "minorgridcolor": "white",
             "startlinecolor": "#2a3f5f"
            },
            "baxis": {
             "endlinecolor": "#2a3f5f",
             "gridcolor": "white",
             "linecolor": "white",
             "minorgridcolor": "white",
             "startlinecolor": "#2a3f5f"
            },
            "type": "carpet"
           }
          ],
          "choropleth": [
           {
            "colorbar": {
             "outlinewidth": 0,
             "ticks": ""
            },
            "type": "choropleth"
           }
          ],
          "contour": [
           {
            "colorbar": {
             "outlinewidth": 0,
             "ticks": ""
            },
            "colorscale": [
             [
              0,
              "#0d0887"
             ],
             [
              0.1111111111111111,
              "#46039f"
             ],
             [
              0.2222222222222222,
              "#7201a8"
             ],
             [
              0.3333333333333333,
              "#9c179e"
             ],
             [
              0.4444444444444444,
              "#bd3786"
             ],
             [
              0.5555555555555556,
              "#d8576b"
             ],
             [
              0.6666666666666666,
              "#ed7953"
             ],
             [
              0.7777777777777778,
              "#fb9f3a"
             ],
             [
              0.8888888888888888,
              "#fdca26"
             ],
             [
              1,
              "#f0f921"
             ]
            ],
            "type": "contour"
           }
          ],
          "contourcarpet": [
           {
            "colorbar": {
             "outlinewidth": 0,
             "ticks": ""
            },
            "type": "contourcarpet"
           }
          ],
          "heatmap": [
           {
            "colorbar": {
             "outlinewidth": 0,
             "ticks": ""
            },
            "colorscale": [
             [
              0,
              "#0d0887"
             ],
             [
              0.1111111111111111,
              "#46039f"
             ],
             [
              0.2222222222222222,
              "#7201a8"
             ],
             [
              0.3333333333333333,
              "#9c179e"
             ],
             [
              0.4444444444444444,
              "#bd3786"
             ],
             [
              0.5555555555555556,
              "#d8576b"
             ],
             [
              0.6666666666666666,
              "#ed7953"
             ],
             [
              0.7777777777777778,
              "#fb9f3a"
             ],
             [
              0.8888888888888888,
              "#fdca26"
             ],
             [
              1,
              "#f0f921"
             ]
            ],
            "type": "heatmap"
           }
          ],
          "heatmapgl": [
           {
            "colorbar": {
             "outlinewidth": 0,
             "ticks": ""
            },
            "colorscale": [
             [
              0,
              "#0d0887"
             ],
             [
              0.1111111111111111,
              "#46039f"
             ],
             [
              0.2222222222222222,
              "#7201a8"
             ],
             [
              0.3333333333333333,
              "#9c179e"
             ],
             [
              0.4444444444444444,
              "#bd3786"
             ],
             [
              0.5555555555555556,
              "#d8576b"
             ],
             [
              0.6666666666666666,
              "#ed7953"
             ],
             [
              0.7777777777777778,
              "#fb9f3a"
             ],
             [
              0.8888888888888888,
              "#fdca26"
             ],
             [
              1,
              "#f0f921"
             ]
            ],
            "type": "heatmapgl"
           }
          ],
          "histogram": [
           {
            "marker": {
             "pattern": {
              "fillmode": "overlay",
              "size": 10,
              "solidity": 0.2
             }
            },
            "type": "histogram"
           }
          ],
          "histogram2d": [
           {
            "colorbar": {
             "outlinewidth": 0,
             "ticks": ""
            },
            "colorscale": [
             [
              0,
              "#0d0887"
             ],
             [
              0.1111111111111111,
              "#46039f"
             ],
             [
              0.2222222222222222,
              "#7201a8"
             ],
             [
              0.3333333333333333,
              "#9c179e"
             ],
             [
              0.4444444444444444,
              "#bd3786"
             ],
             [
              0.5555555555555556,
              "#d8576b"
             ],
             [
              0.6666666666666666,
              "#ed7953"
             ],
             [
              0.7777777777777778,
              "#fb9f3a"
             ],
             [
              0.8888888888888888,
              "#fdca26"
             ],
             [
              1,
              "#f0f921"
             ]
            ],
            "type": "histogram2d"
           }
          ],
          "histogram2dcontour": [
           {
            "colorbar": {
             "outlinewidth": 0,
             "ticks": ""
            },
            "colorscale": [
             [
              0,
              "#0d0887"
             ],
             [
              0.1111111111111111,
              "#46039f"
             ],
             [
              0.2222222222222222,
              "#7201a8"
             ],
             [
              0.3333333333333333,
              "#9c179e"
             ],
             [
              0.4444444444444444,
              "#bd3786"
             ],
             [
              0.5555555555555556,
              "#d8576b"
             ],
             [
              0.6666666666666666,
              "#ed7953"
             ],
             [
              0.7777777777777778,
              "#fb9f3a"
             ],
             [
              0.8888888888888888,
              "#fdca26"
             ],
             [
              1,
              "#f0f921"
             ]
            ],
            "type": "histogram2dcontour"
           }
          ],
          "mesh3d": [
           {
            "colorbar": {
             "outlinewidth": 0,
             "ticks": ""
            },
            "type": "mesh3d"
           }
          ],
          "parcoords": [
           {
            "line": {
             "colorbar": {
              "outlinewidth": 0,
              "ticks": ""
             }
            },
            "type": "parcoords"
           }
          ],
          "pie": [
           {
            "automargin": true,
            "type": "pie"
           }
          ],
          "scatter": [
           {
            "fillpattern": {
             "fillmode": "overlay",
             "size": 10,
             "solidity": 0.2
            },
            "type": "scatter"
           }
          ],
          "scatter3d": [
           {
            "line": {
             "colorbar": {
              "outlinewidth": 0,
              "ticks": ""
             }
            },
            "marker": {
             "colorbar": {
              "outlinewidth": 0,
              "ticks": ""
             }
            },
            "type": "scatter3d"
           }
          ],
          "scattercarpet": [
           {
            "marker": {
             "colorbar": {
              "outlinewidth": 0,
              "ticks": ""
             }
            },
            "type": "scattercarpet"
           }
          ],
          "scattergeo": [
           {
            "marker": {
             "colorbar": {
              "outlinewidth": 0,
              "ticks": ""
             }
            },
            "type": "scattergeo"
           }
          ],
          "scattergl": [
           {
            "marker": {
             "colorbar": {
              "outlinewidth": 0,
              "ticks": ""
             }
            },
            "type": "scattergl"
           }
          ],
          "scattermapbox": [
           {
            "marker": {
             "colorbar": {
              "outlinewidth": 0,
              "ticks": ""
             }
            },
            "type": "scattermapbox"
           }
          ],
          "scatterpolar": [
           {
            "marker": {
             "colorbar": {
              "outlinewidth": 0,
              "ticks": ""
             }
            },
            "type": "scatterpolar"
           }
          ],
          "scatterpolargl": [
           {
            "marker": {
             "colorbar": {
              "outlinewidth": 0,
              "ticks": ""
             }
            },
            "type": "scatterpolargl"
           }
          ],
          "scatterternary": [
           {
            "marker": {
             "colorbar": {
              "outlinewidth": 0,
              "ticks": ""
             }
            },
            "type": "scatterternary"
           }
          ],
          "surface": [
           {
            "colorbar": {
             "outlinewidth": 0,
             "ticks": ""
            },
            "colorscale": [
             [
              0,
              "#0d0887"
             ],
             [
              0.1111111111111111,
              "#46039f"
             ],
             [
              0.2222222222222222,
              "#7201a8"
             ],
             [
              0.3333333333333333,
              "#9c179e"
             ],
             [
              0.4444444444444444,
              "#bd3786"
             ],
             [
              0.5555555555555556,
              "#d8576b"
             ],
             [
              0.6666666666666666,
              "#ed7953"
             ],
             [
              0.7777777777777778,
              "#fb9f3a"
             ],
             [
              0.8888888888888888,
              "#fdca26"
             ],
             [
              1,
              "#f0f921"
             ]
            ],
            "type": "surface"
           }
          ],
          "table": [
           {
            "cells": {
             "fill": {
              "color": "#EBF0F8"
             },
             "line": {
              "color": "white"
             }
            },
            "header": {
             "fill": {
              "color": "#C8D4E3"
             },
             "line": {
              "color": "white"
             }
            },
            "type": "table"
           }
          ]
         },
         "layout": {
          "annotationdefaults": {
           "arrowcolor": "#2a3f5f",
           "arrowhead": 0,
           "arrowwidth": 1
          },
          "autotypenumbers": "strict",
          "coloraxis": {
           "colorbar": {
            "outlinewidth": 0,
            "ticks": ""
           }
          },
          "colorscale": {
           "diverging": [
            [
             0,
             "#8e0152"
            ],
            [
             0.1,
             "#c51b7d"
            ],
            [
             0.2,
             "#de77ae"
            ],
            [
             0.3,
             "#f1b6da"
            ],
            [
             0.4,
             "#fde0ef"
            ],
            [
             0.5,
             "#f7f7f7"
            ],
            [
             0.6,
             "#e6f5d0"
            ],
            [
             0.7,
             "#b8e186"
            ],
            [
             0.8,
             "#7fbc41"
            ],
            [
             0.9,
             "#4d9221"
            ],
            [
             1,
             "#276419"
            ]
           ],
           "sequential": [
            [
             0,
             "#0d0887"
            ],
            [
             0.1111111111111111,
             "#46039f"
            ],
            [
             0.2222222222222222,
             "#7201a8"
            ],
            [
             0.3333333333333333,
             "#9c179e"
            ],
            [
             0.4444444444444444,
             "#bd3786"
            ],
            [
             0.5555555555555556,
             "#d8576b"
            ],
            [
             0.6666666666666666,
             "#ed7953"
            ],
            [
             0.7777777777777778,
             "#fb9f3a"
            ],
            [
             0.8888888888888888,
             "#fdca26"
            ],
            [
             1,
             "#f0f921"
            ]
           ],
           "sequentialminus": [
            [
             0,
             "#0d0887"
            ],
            [
             0.1111111111111111,
             "#46039f"
            ],
            [
             0.2222222222222222,
             "#7201a8"
            ],
            [
             0.3333333333333333,
             "#9c179e"
            ],
            [
             0.4444444444444444,
             "#bd3786"
            ],
            [
             0.5555555555555556,
             "#d8576b"
            ],
            [
             0.6666666666666666,
             "#ed7953"
            ],
            [
             0.7777777777777778,
             "#fb9f3a"
            ],
            [
             0.8888888888888888,
             "#fdca26"
            ],
            [
             1,
             "#f0f921"
            ]
           ]
          },
          "colorway": [
           "#636efa",
           "#EF553B",
           "#00cc96",
           "#ab63fa",
           "#FFA15A",
           "#19d3f3",
           "#FF6692",
           "#B6E880",
           "#FF97FF",
           "#FECB52"
          ],
          "font": {
           "color": "#2a3f5f",
           "family": "Times New Roman",
           "size": 14
          },
          "geo": {
           "bgcolor": "white",
           "lakecolor": "white",
           "landcolor": "#E5ECF6",
           "showlakes": true,
           "showland": true,
           "subunitcolor": "white"
          },
          "hoverlabel": {
           "align": "left"
          },
          "hovermode": "closest",
          "mapbox": {
           "style": "light"
          },
          "paper_bgcolor": "white",
          "plot_bgcolor": "#E5ECF6",
          "polar": {
           "angularaxis": {
            "gridcolor": "white",
            "linecolor": "white",
            "ticks": ""
           },
           "bgcolor": "#E5ECF6",
           "radialaxis": {
            "gridcolor": "white",
            "linecolor": "white",
            "ticks": ""
           }
          },
          "scene": {
           "xaxis": {
            "backgroundcolor": "#E5ECF6",
            "gridcolor": "white",
            "gridwidth": 2,
            "linecolor": "white",
            "showbackground": true,
            "ticks": "",
            "zerolinecolor": "white"
           },
           "yaxis": {
            "backgroundcolor": "#E5ECF6",
            "gridcolor": "white",
            "gridwidth": 2,
            "linecolor": "white",
            "showbackground": true,
            "ticks": "",
            "zerolinecolor": "white"
           },
           "zaxis": {
            "backgroundcolor": "#E5ECF6",
            "gridcolor": "white",
            "gridwidth": 2,
            "linecolor": "white",
            "showbackground": true,
            "ticks": "",
            "zerolinecolor": "white"
           }
          },
          "shapedefaults": {
           "line": {
            "color": "#2a3f5f"
           }
          },
          "ternary": {
           "aaxis": {
            "gridcolor": "white",
            "linecolor": "white",
            "ticks": ""
           },
           "baxis": {
            "gridcolor": "white",
            "linecolor": "white",
            "ticks": ""
           },
           "bgcolor": "#E5ECF6",
           "caxis": {
            "gridcolor": "white",
            "linecolor": "white",
            "ticks": ""
           }
          },
          "title": {
           "x": 0.05
          },
          "xaxis": {
           "automargin": true,
           "gridcolor": "white",
           "linecolor": "white",
           "ticks": "",
           "title": {
            "standoff": 15
           },
           "zerolinecolor": "white",
           "zerolinewidth": 2
          },
          "yaxis": {
           "automargin": true,
           "gridcolor": "white",
           "linecolor": "white",
           "ticks": "",
           "title": {
            "standoff": 15
           },
           "zerolinecolor": "white",
           "zerolinewidth": 2
          }
         }
        },
        "title": {
         "text": "Happiness Projections for Selected Countries"
        },
        "width": 1200,
        "xaxis": {
         "anchor": "y",
         "domain": [
          0,
          1
         ],
         "title": {
          "text": "year"
         }
        },
        "yaxis": {
         "anchor": "x",
         "domain": [
          0,
          1
         ],
         "title": {
          "text": "happiness_score"
         }
        }
       }
      }
     },
     "metadata": {},
     "output_type": "display_data"
    }
   ],
   "source": [
    "# Predictive Happiness Trajectories (larger size)\n",
    "if all(col in df_all.columns for col in ['country', 'year', 'happiness_score']):\n",
    "    try:\n",
    "        countries = [\n",
    "            'Finland', 'Denmark', 'Afghanistan', 'Zimbabwe', 'North America and ANZ',\n",
    "            'United States', 'Canada', 'South Africa'\n",
    "        ]\n",
    "        projections = []\n",
    "        \n",
    "        for country in countries:\n",
    "            country_data = df_all[df_all['country'] == country][['year', 'happiness_score']].dropna()\n",
    "            if len(country_data) >= 3:\n",
    "                model = LinearRegression()\n",
    "                X = country_data['year'].values.reshape(-1, 1)\n",
    "                y = country_data['happiness_score'].values\n",
    "                model.fit(X, y)\n",
    "                \n",
    "                for future_year in [2022, 2025, 2030]:\n",
    "                    pred = model.predict([[future_year]])\n",
    "                    projections.append({\n",
    "                        'country': country,\n",
    "                        'year': future_year,\n",
    "                        'happiness_score': pred[0],\n",
    "                        'type': 'projected'\n",
    "                    })\n",
    "        \n",
    "        if projections:\n",
    "            historical = df_all[df_all['country'].isin(countries)][['country', 'year', 'happiness_score']]\n",
    "            historical['type'] = 'historical'\n",
    "            combined = pd.concat([historical, pd.DataFrame(projections)])\n",
    "            \n",
    "            fig19 = px.line(\n",
    "                combined,\n",
    "                x='year',\n",
    "                y='happiness_score',\n",
    "                color='country',\n",
    "                line_dash='type',\n",
    "                title='Happiness Projections for Selected Countries',\n",
    "                width=1200,\n",
    "                height=700\n",
    "            )\n",
    "            fig19.show()\n",
    "    except Exception as e:\n",
    "        print(f\"Visualization 19 failed: {str(e)}\")"
   ]
  }
 ],
 "metadata": {
  "kernelspec": {
   "display_name": "base",
   "language": "python",
   "name": "python3"
  },
  "language_info": {
   "codemirror_mode": {
    "name": "ipython",
    "version": 3
   },
   "file_extension": ".py",
   "mimetype": "text/x-python",
   "name": "python",
   "nbconvert_exporter": "python",
   "pygments_lexer": "ipython3",
   "version": "3.12.7"
  }
 },
 "nbformat": 4,
 "nbformat_minor": 5
}
